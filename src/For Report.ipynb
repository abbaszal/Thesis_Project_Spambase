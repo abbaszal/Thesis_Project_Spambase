{
 "cells": [
  {
   "cell_type": "code",
   "execution_count": 1,
   "metadata": {},
   "outputs": [],
   "source": [
    "import os\n",
    "import math\n",
    "import random\n",
    "import copy\n",
    "import ast\n",
    "import numpy as np\n",
    "import pandas as pd\n",
    "import matplotlib.pyplot as plt\n",
    "import seaborn as sns\n",
    "from tqdm import tqdm\n",
    "from collections import Counter, defaultdict\n",
    "from itertools import chain, combinations\n",
    "from sklearn.model_selection import train_test_split, GridSearchCV\n",
    "from sklearn.preprocessing import StandardScaler, LabelEncoder\n",
    "from sklearn.metrics import (\n",
    "    accuracy_score, \n",
    "    confusion_matrix, \n",
    "    ConfusionMatrixDisplay, \n",
    "    classification_report\n",
    ")\n",
    "from sklearn.linear_model import LogisticRegression\n",
    "from sklearn.ensemble import RandomForestClassifier\n",
    "from sklearn.tree import DecisionTreeClassifier\n",
    "from typing import Optional\n",
    "import matplotlib.cm as cm"
   ]
  },
  {
   "cell_type": "code",
   "execution_count": 2,
   "metadata": {},
   "outputs": [],
   "source": [
    "from Nash import find_nash_equilibria_v2\n",
    "from Functions import compute_and_visualize_shapley_values"
   ]
  },
  {
   "cell_type": "code",
   "execution_count": 3,
   "metadata": {},
   "outputs": [],
   "source": [
    "# disable ConvergenceWarnings\n",
    "import warnings\n",
    "from sklearn.exceptions import ConvergenceWarning\n",
    "warnings.filterwarnings(\"ignore\", category=ConvergenceWarning)"
   ]
  },
  {
   "cell_type": "code",
   "execution_count": 4,
   "metadata": {},
   "outputs": [],
   "source": [
    "def aggregate_lr_models(models: list):\n",
    "    aggregated_model = LogisticRegression()\n",
    "    aggregated_model.coef_ = np.mean([model.coef_ for model in models], axis=0)\n",
    "    noise = np.random.normal(0, 0.05, aggregated_model.coef_.shape)\n",
    "    aggregated_model.coef_ += noise\n",
    "    aggregated_model.intercept_ = np.mean([model.intercept_ for model in models], axis=0)\n",
    "    aggregated_model.classes_ = models[0].classes_\n",
    "    return aggregated_model"
   ]
  },
  {
   "cell_type": "code",
   "execution_count": 5,
   "metadata": {},
   "outputs": [],
   "source": [
    "file_path = '/Users/abbaszal/Documents/Thesis_Project_Spambase/data/spambase.data'  # Adjust the path as needed\n",
    "df = pd.read_csv(file_path, header=None)"
   ]
  },
  {
   "cell_type": "code",
   "execution_count": 6,
   "metadata": {},
   "outputs": [],
   "source": [
    "# PRNG seed for reproducibility\n",
    "random_seed = 42\n",
    "np.random.seed(random_seed)\n",
    "X = df.iloc[:, :-1].to_numpy()\n",
    "y = df.iloc[:, -1].to_numpy()\n",
    "\n",
    "X_train, X_test, y_train, y_test = train_test_split(X, y, test_size=0.2, random_state=random_seed)\n",
    "\n",
    "scaler = StandardScaler()\n",
    "\n",
    "X_train = scaler.fit_transform(X_train)\n",
    "X_test = scaler.transform(X_test)"
   ]
  },
  {
   "cell_type": "code",
   "execution_count": 7,
   "metadata": {},
   "outputs": [],
   "source": [
    "def split_data_equal(X: np.ndarray, y: np.ndarray, n_clients: int, shuffle: bool=False, random_seed: int = None):\n",
    "    if shuffle:\n",
    "        if random_seed is not None:\n",
    "            np.random.seed(random_seed)\n",
    "        idx = np.random.permutation(X.shape[0])\n",
    "        X = X[idx]\n",
    "        y = y[idx]\n",
    "\n",
    "    n_entries_per_client = X.shape[0] // n_clients\n",
    "    partitions = []\n",
    "    for i in range(n_clients):\n",
    "        start = i * n_entries_per_client\n",
    "        end = (i + 1) * n_entries_per_client\n",
    "        X_i = X[start:end]\n",
    "        y_i = y[start:end]\n",
    "        partitions.append((X_i, y_i))\n",
    "    # Ensure the last partition gets all remaining data.\n",
    "    partitions[-1] = (X[start:], y[start:])\n",
    "\n",
    "    return partitions\n"
   ]
  },
  {
   "cell_type": "code",
   "execution_count": 8,
   "metadata": {},
   "outputs": [],
   "source": [
    "def corrupt_data(X: np.ndarray, y: np.ndarray, corruption_prob: float = 0.8, nan_prob: float = 0.5, noise_std: Optional[float] = None):\n",
    "    if noise_std is None:\n",
    "        noise_std = 0.1\n",
    "        \n",
    "    X = X.copy()\n",
    "\n",
    "    mask = np.random.rand(X.shape[0]) < corruption_prob\n",
    "    mask_nan = mask & (np.random.rand(X.shape[0]) < nan_prob)\n",
    "    mask_noise = mask & (~mask_nan)\n",
    "\n",
    "    X += mask_noise[:, None] * np.random.randn(X.shape[0], X.shape[1]) * noise_std\n",
    "    X[np.argwhere(mask_nan)] = np.nan\n",
    "    \n",
    "    return X, y\n",
    "\n",
    "\n",
    "\n",
    "# Function to corrupt data for specific clients, keeping the same corruption indices across trials\n",
    "def corrupt_clients(f, partitions, corrupt_client_indices):\n",
    "\n",
    "    for idx in corrupt_client_indices:\n",
    "        X_i, y_i = partitions[idx]\n",
    "        X_i_corrupted, y_i_corrupted = f(X_i.copy(), y_i.copy())\n",
    "        partitions[idx] = (X_i_corrupted, y_i_corrupted)\n",
    "    \n",
    "    return partitions, corrupt_client_indices"
   ]
  },
  {
   "cell_type": "code",
   "execution_count": 9,
   "metadata": {},
   "outputs": [],
   "source": [
    "def train_client_models(partitions, random_seed, X_test, y_test, max_iter):\n",
    "    client_models = []\n",
    "    client_global_accuracies = []\n",
    "    client_local_accuracies = []\n",
    "    for X_i, y_i in partitions:\n",
    "        # Remove rows with NaN values\n",
    "        nan_mask = ~np.isnan(X_i).any(axis=1)\n",
    "        X_i_clean = X_i[nan_mask]\n",
    "        y_i_clean = y_i[nan_mask]\n",
    "        if len(y_i_clean) == 0:\n",
    "            # No data to train on after cleaning\n",
    "            client_models.append(None)\n",
    "            client_global_accuracies.append(None)\n",
    "            client_local_accuracies.append(None)\n",
    "            continue\n",
    "        model = LogisticRegression(random_state=random_seed, max_iter=max_iter)\n",
    "        try:\n",
    "            model.fit(X_i_clean, y_i_clean)\n",
    "            client_models.append(model)\n",
    "\n",
    "            acc_local = model.score(X_i_clean, y_i_clean)\n",
    "            client_local_accuracies.append(acc_local)\n",
    "\n",
    "            # Compute local accuracy on global test set\n",
    "            local_acc = model.score(X_test, y_test)\n",
    "            client_global_accuracies.append(local_acc)\n",
    "\n",
    "        except Exception as e:\n",
    "            # Model training failed\n",
    "            client_models.append(None)\n",
    "            client_global_accuracies.append(None)\n",
    "            client_local_accuracies.append(None)\n",
    "    return client_models, client_local_accuracies, client_global_accuracies\n",
    "\n",
    "def run_federated_learning(\n",
    "    partitions_corrupted,  # Precomputed corrupted partitions\n",
    "    corrupt_client_indices,\n",
    "    n_clients=10,\n",
    "    random_seed=None,\n",
    "    shuffle=True,\n",
    "    max_iter=10,\n",
    "):\n",
    "\n",
    "\n",
    "    # Train models for each client and compute accuracies\n",
    "    client_models, client_local_accuracies, client_global_accuracies = train_client_models(\n",
    "        partitions_corrupted, random_seed, X_test, y_test, max_iter\n",
    "    )\n",
    "\n",
    "    # Generate all possible combinations of clients represented as binary strings\n",
    "    results = []\n",
    "    n_combinations = 2 ** n_clients\n",
    "    for i in range(1, n_combinations):\n",
    "        bin_str = format(i, f'0{n_clients}b')\n",
    "        # Determine which clients are included in this combination\n",
    "        client_indices = [j for j in range(n_clients) if bin_str[n_clients - 1 - j] == '1']\n",
    "        included_models = [client_models[j] for j in client_indices if client_models[j] is not None]\n",
    "\n",
    "        if not included_models:\n",
    "            # Skip combinations where no valid models are available\n",
    "            continue\n",
    "\n",
    "        # Aggregate models\n",
    "        federated_model = aggregate_lr_models(included_models)\n",
    "        agg_acc = federated_model.score(X_test, y_test)\n",
    "\n",
    "        # Prepare the row data\n",
    "        row = {'Combination': bin_str, 'Clients': [client + 1 for client in client_indices], 'Global Accuracy': agg_acc}\n",
    "\n",
    "        # Add global accuracies for each client\n",
    "        for j in range(n_clients):\n",
    "            acc = client_global_accuracies[j] if client_global_accuracies[j] is not None else np.nan\n",
    "            column_name = f\"Client {j + 1} Accuracy\"\n",
    "            if j in corrupt_client_indices:\n",
    "                column_name += \" (corrupted client)\"\n",
    "            row[column_name] = acc\n",
    "\n",
    "        results.append(row)\n",
    "\n",
    "    df_results = pd.DataFrame(results)\n",
    "\n",
    "    print(f\"Corrupted client indices: {np.array(corrupt_client_indices) + 1}\")\n",
    "\n",
    "    return df_results, corrupt_client_indices, client_local_accuracies, client_global_accuracies\n"
   ]
  },
  {
   "cell_type": "code",
   "execution_count": null,
   "metadata": {},
   "outputs": [],
   "source": [
    "# Modified run_experiment that accepts a custom corruption function\n",
    "def run_experiment_modified(n_trials, n_clients, max_iters, partitions_corrupted, corrupt_client_indices, df, save_dir, corrupt_function=corrupt_data):\n",
    "    os.makedirs(save_dir, exist_ok=True)  \n",
    "    all_nash_details = []\n",
    "\n",
    "    for max_iter in max_iters:\n",
    "        print(f\"\\nRunning experiment for max_iter = {max_iter}\")\n",
    "        nash_counts = Counter()\n",
    "        details_for_this_max_iter = []\n",
    "\n",
    "        # Fix corruption indices across trials if not provided\n",
    "        if corrupt_client_indices is None or len(corrupt_client_indices) == 0:\n",
    "            corrupt_client_indices = np.random.choice(n_clients, size=partitions_corrupted, replace=False)\n",
    "\n",
    "        for trial in range(n_trials):\n",
    "            print(f\"  Running trial {trial + 1}/{n_trials} for max_iter = {max_iter}\")\n",
    "\n",
    "            base_random_seed = 42\n",
    "            trial_seed = base_random_seed + trial + max_iter\n",
    "            random.seed(trial_seed)\n",
    "            np.random.seed(trial_seed)\n",
    "\n",
    "            # Split and prepare data\n",
    "            X = df.iloc[:, :-1].to_numpy()\n",
    "            y = df.iloc[:, -1].to_numpy()\n",
    "            X_train, X_test, y_train, y_test = train_test_split(X, y, test_size=0.2, random_state=trial_seed)\n",
    "\n",
    "            # Normalize data\n",
    "            scaler = StandardScaler()\n",
    "            X_train = scaler.fit_transform(X_train)\n",
    "            X_test = scaler.transform(X_test)\n",
    "\n",
    "            # Split data into client partitions\n",
    "            partitions = split_data_equal(X_train, y_train, n_clients=n_clients, shuffle=True, random_seed=trial_seed)\n",
    "            \n",
    "            # Apply corruption using fixed corrupt client indices and the provided corruption function\n",
    "            corrupted_partitions, _ = corrupt_clients(corrupt_function, partitions, corrupt_client_indices)\n",
    "\n",
    "            # Run federated learning with the corrupted partitions\n",
    "            df_results, _, client_local_accuracies, client_global_accuracies = run_federated_learning(\n",
    "                partitions_corrupted=corrupted_partitions,\n",
    "                corrupt_client_indices=corrupt_client_indices,\n",
    "                n_clients=n_clients,\n",
    "                random_seed=trial_seed,\n",
    "                max_iter=max_iter,\n",
    "            )\n",
    "\n",
    "            # Find Nash equilibria\n",
    "            df_nash = find_nash_equilibria_v2(df_results)\n",
    "\n",
    "            # Count Nash equilibrium occurrences\n",
    "            for coalition in df_nash['Combination']:\n",
    "                nash_counts[coalition] += 1\n",
    "\n",
    "            details_for_this_max_iter.append(df_nash)\n",
    "\n",
    "        # Optionally save counts per max_iter\n",
    "        df_nash_counts = pd.DataFrame(nash_counts.items(), columns=['Nash Equilibrium', 'Occurrences'])\n",
    "        df_nash_counts['Max Iter'] = max_iter\n",
    "        counts_filename = os.path.join(save_dir, f\"Nash_Equilibrium_Counts_maxiter_{max_iter}.csv\")\n",
    "        df_nash_counts.to_csv(counts_filename, index=False)\n",
    "        print(f\"Nash equilibrium counts saved to {counts_filename}\")\n",
    "\n",
    "        df_details = pd.concat(details_for_this_max_iter, ignore_index=True)\n",
    "        all_nash_details.append(df_details)\n",
    "\n",
    "    final_details_df = pd.concat(all_nash_details, ignore_index=True)\n",
    "    details_path = os.path.join(save_dir, \"Nash_Equilibrium_Details.csv\")\n",
    "    final_details_df.to_csv(details_path, index=False)\n",
    "    print(f\"Nash equilibrium details saved to {details_path}\")\n",
    "    \n",
    "    return final_details_df\n",
    "\n",
    "# --- Parameters for the experiment ---\n",
    "noise_std_values = [0.1, 0.3, 0.5, 0.7, 1,2, 3]\n",
    "corrupted_clients_counts = [3,4, 6, 8, 9]        \n",
    "n_trials = 10\n",
    "n_clients = 10\n",
    "max_iters = [10,100]  \n",
    "save_dir = \"/Users/abbaszal/Documents/Thesis_Project_Spambase\"\n",
    "\n",
    "\n",
    "# Dictionary to store results: for each noise_std, store a list of occurrence counts indexed by number of bad clients.\n",
    "results = {noise: [] for noise in noise_std_values}\n",
    "\n",
    "for noise in noise_std_values:\n",
    "    for cc in corrupted_clients_counts:\n",
    "        client_indices = list(range(cc))\n",
    "        custom_corrupt_data = lambda X, y, corruption_prob=0.8, nan_prob=0.5, noise_std_local=noise: corrupt_data(X, y, corruption_prob, nan_prob, noise_std_local)\n",
    "        \n",
    "        final_details_df = run_experiment_modified(\n",
    "            n_trials=n_trials,\n",
    "            n_clients=n_clients,\n",
    "            max_iters=max_iters,\n",
    "            partitions_corrupted=cc,          \n",
    "            corrupt_client_indices=client_indices,      \n",
    "            df=df,\n",
    "            save_dir=save_dir,\n",
    "            corrupt_function=custom_corrupt_data\n",
    "        )\n",
    "        \n",
    "        # Count occurrences of the Nash equilibrium \"1111111111\"\n",
    "        occurrence_count = (final_details_df['Combination'] == '1111111111').sum()\n",
    "        results[noise].append(occurrence_count)\n",
    "        print(f\"Noise Std: {noise}, Bad Clients: {cc}, Occurrences: {occurrence_count}\")\n",
    "\n",
    "results_df = pd.DataFrame(results, index=corrupted_clients_counts)\n",
    "results_df.index.name = \"Number of Bad Clients\"\n",
    "results_csv_path = os.path.join(save_dir, \"nash_occurrence_results.csv\")\n",
    "results_df.to_csv(results_csv_path)\n",
    "print(f\"Results saved to {results_csv_path}\")\n",
    "\n",
    "\n",
    "cmap = cm.get_cmap('PuRd', len(noise_std_values))\n",
    "markers = ['x','o','s','d', '*','v', '^', '<', '>','h', 'D']\n",
    "linestyles = ['-',  '-.', ':']\n",
    "\n",
    "plt.figure(figsize=(10, 6))\n",
    "for i, noise in enumerate(noise_std_values):\n",
    "    color = cmap(i) \n",
    "    marker = markers[i % len(markers)]\n",
    "    linestyle = linestyles[i % len(linestyles)]\n",
    "    \n",
    "    plt.plot(corrupted_clients_counts, results[noise],\n",
    "             marker=marker, linestyle=linestyle, color=color,\n",
    "             label=f'Noise Std = {noise}')\n",
    "\n",
    "plt.xlabel(\"Number of Low Quality Clients\")\n",
    "plt.ylabel(\"Occurrences of '1111111111'\")\n",
    "plt.legend(title=\"Noise Std\")\n",
    "plt.grid(True)\n",
    "plt.show()\n",
    "\n"
   ]
  },
  {
   "cell_type": "code",
   "execution_count": 34,
   "metadata": {},
   "outputs": [
    {
     "name": "stderr",
     "output_type": "stream",
     "text": [
      "/var/folders/hn/l1bxr6v97478sfly3rj76my40000gn/T/ipykernel_14863/2204300064.py:1: MatplotlibDeprecationWarning: The get_cmap function was deprecated in Matplotlib 3.7 and will be removed in 3.11. Use ``matplotlib.colormaps[name]`` or ``matplotlib.colormaps.get_cmap()`` or ``pyplot.get_cmap()`` instead.\n",
      "  cmap = cm.get_cmap('tab10', len(noise_std_values))\n"
     ]
    },
    {
     "data": {
      "image/png": "[encoded data removed]",
      "text/plain": [
       "<Figure size 1000x600 with 1 Axes>"
      ]
     },
     "metadata": {},
     "output_type": "display_data"
    }
   ],
   "source": [
    "cmap = cm.get_cmap('tab10', len(noise_std_values))\n",
    "markers = ['x','o','s','d', '*','v', '^', '<', '>','h', 'D']\n",
    "linestyles = ['-',  '-.', ':']\n",
    "\n",
    "plt.figure(figsize=(10, 6))\n",
    "for i, noise in enumerate(noise_std_values):\n",
    "    color = cmap(i) \n",
    "    marker = markers[i % len(markers)]\n",
    "    linestyle = linestyles[i % len(linestyles)]\n",
    "    \n",
    "    plt.plot(corrupted_clients_counts, results[noise],\n",
    "             marker=marker, linestyle=linestyle, color=color,\n",
    "             label=f'Noise Std = {noise}')\n",
    "\n",
    "plt.xlabel(\"Number of Low Quality Clients\")\n",
    "plt.ylabel(\"Occurrences of '1111111111'\")\n",
    "plt.legend(title=\"Noise Std\")\n",
    "# Set y-axis to only show integer values\n",
    "y_min, y_max = plt.ylim()\n",
    "plt.yticks(np.arange(np.ceil(y_min), np.floor(y_max) + 5, 5))\n",
    "plt.grid(True)\n",
    "plt.show()\n"
   ]
  },
  {
   "cell_type": "markdown",
   "metadata": {},
   "source": [
    "### FL"
   ]
  },
  {
   "cell_type": "code",
   "execution_count": 23,
   "metadata": {},
   "outputs": [],
   "source": [
    "# Define the DecisionTree class\n",
    "class DecisionTree:\n",
    "    def __init__(self, max_depth=None, random_state=None):\n",
    "        self.max_depth = max_depth\n",
    "        self.tree_ = None\n",
    "        self.random_state = random_state\n",
    "\n",
    "    def fit(self, X, y):\n",
    "        self.tree_ = DecisionTreeClassifier(max_depth=self.max_depth, random_state=self.random_state)\n",
    "        self.tree_.fit(X, y)\n",
    "\n",
    "    def predict(self, X):\n",
    "        return self.tree_.predict(X)\n",
    "\n",
    "# Define the FederatedForest class\n",
    "class FederatedForest:\n",
    "    def __init__(self):\n",
    "        self.models = []\n",
    "\n",
    "    def add_model(self, model):\n",
    "        self.models.append(model)\n",
    "\n",
    "    def predict(self, X):\n",
    "        predictions = [model.predict(X) for model in self.models]\n",
    "        predictions = np.array(predictions).T\n",
    "        y = [np.bincount(row).argmax() for row in predictions]\n",
    "        return np.array(y)\n",
    "    "
   ]
  },
  {
   "cell_type": "code",
   "execution_count": 26,
   "metadata": {},
   "outputs": [
    {
     "name": "stderr",
     "output_type": "stream",
     "text": [
      "                                                                                            \r"
     ]
    },
    {
     "name": "stdout",
     "output_type": "stream",
     "text": [
      "Noise Std: 0.1, Corrupted Clients: [0, 1, 2], Occurrences: 20\n"
     ]
    },
    {
     "name": "stderr",
     "output_type": "stream",
     "text": [
      "                                                                                            \r"
     ]
    },
    {
     "name": "stdout",
     "output_type": "stream",
     "text": [
      "Noise Std: 0.1, Corrupted Clients: [0, 1, 2, 3], Occurrences: 20\n"
     ]
    },
    {
     "name": "stderr",
     "output_type": "stream",
     "text": [
      "                                                                                            \r"
     ]
    },
    {
     "name": "stdout",
     "output_type": "stream",
     "text": [
      "Noise Std: 0.1, Corrupted Clients: [0, 1, 2, 3, 4, 5], Occurrences: 20\n"
     ]
    },
    {
     "name": "stderr",
     "output_type": "stream",
     "text": [
      "                                                                                            \r"
     ]
    },
    {
     "name": "stdout",
     "output_type": "stream",
     "text": [
      "Noise Std: 0.1, Corrupted Clients: [0, 1, 2, 3, 4, 5, 6, 7], Occurrences: 20\n"
     ]
    },
    {
     "name": "stderr",
     "output_type": "stream",
     "text": [
      "                                                                                            \r"
     ]
    },
    {
     "name": "stdout",
     "output_type": "stream",
     "text": [
      "Noise Std: 0.1, Corrupted Clients: [0, 1, 2, 3, 4, 5, 6, 7, 8], Occurrences: 20\n"
     ]
    },
    {
     "name": "stderr",
     "output_type": "stream",
     "text": [
      "                                                                                            \r"
     ]
    },
    {
     "name": "stdout",
     "output_type": "stream",
     "text": [
      "Noise Std: 0.3, Corrupted Clients: [0, 1, 2], Occurrences: 20\n"
     ]
    },
    {
     "name": "stderr",
     "output_type": "stream",
     "text": [
      "                                                                                            \r"
     ]
    },
    {
     "name": "stdout",
     "output_type": "stream",
     "text": [
      "Noise Std: 0.3, Corrupted Clients: [0, 1, 2, 3], Occurrences: 20\n"
     ]
    },
    {
     "name": "stderr",
     "output_type": "stream",
     "text": [
      "                                                                                            \r"
     ]
    },
    {
     "name": "stdout",
     "output_type": "stream",
     "text": [
      "Noise Std: 0.3, Corrupted Clients: [0, 1, 2, 3, 4, 5], Occurrences: 20\n"
     ]
    },
    {
     "name": "stderr",
     "output_type": "stream",
     "text": [
      "                                                                                            \r"
     ]
    },
    {
     "name": "stdout",
     "output_type": "stream",
     "text": [
      "Noise Std: 0.3, Corrupted Clients: [0, 1, 2, 3, 4, 5, 6, 7], Occurrences: 20\n"
     ]
    },
    {
     "name": "stderr",
     "output_type": "stream",
     "text": [
      "                                                                                            \r"
     ]
    },
    {
     "name": "stdout",
     "output_type": "stream",
     "text": [
      "Noise Std: 0.3, Corrupted Clients: [0, 1, 2, 3, 4, 5, 6, 7, 8], Occurrences: 20\n"
     ]
    },
    {
     "name": "stderr",
     "output_type": "stream",
     "text": [
      "                                                                                            \r"
     ]
    },
    {
     "name": "stdout",
     "output_type": "stream",
     "text": [
      "Noise Std: 0.5, Corrupted Clients: [0, 1, 2], Occurrences: 20\n"
     ]
    },
    {
     "name": "stderr",
     "output_type": "stream",
     "text": [
      "                                                                                            \r"
     ]
    },
    {
     "name": "stdout",
     "output_type": "stream",
     "text": [
      "Noise Std: 0.5, Corrupted Clients: [0, 1, 2, 3], Occurrences: 20\n"
     ]
    },
    {
     "name": "stderr",
     "output_type": "stream",
     "text": [
      "                                                                                            \r"
     ]
    },
    {
     "name": "stdout",
     "output_type": "stream",
     "text": [
      "Noise Std: 0.5, Corrupted Clients: [0, 1, 2, 3, 4, 5], Occurrences: 20\n"
     ]
    },
    {
     "name": "stderr",
     "output_type": "stream",
     "text": [
      "                                                                                            \r"
     ]
    },
    {
     "name": "stdout",
     "output_type": "stream",
     "text": [
      "Noise Std: 0.5, Corrupted Clients: [0, 1, 2, 3, 4, 5, 6, 7], Occurrences: 20\n"
     ]
    },
    {
     "name": "stderr",
     "output_type": "stream",
     "text": [
      "                                                                                            \r"
     ]
    },
    {
     "name": "stdout",
     "output_type": "stream",
     "text": [
      "Noise Std: 0.5, Corrupted Clients: [0, 1, 2, 3, 4, 5, 6, 7, 8], Occurrences: 20\n"
     ]
    },
    {
     "name": "stderr",
     "output_type": "stream",
     "text": [
      "                                                                                            \r"
     ]
    },
    {
     "name": "stdout",
     "output_type": "stream",
     "text": [
      "Noise Std: 0.7, Corrupted Clients: [0, 1, 2], Occurrences: 20\n"
     ]
    },
    {
     "name": "stderr",
     "output_type": "stream",
     "text": [
      "                                                                                            \r"
     ]
    },
    {
     "name": "stdout",
     "output_type": "stream",
     "text": [
      "Noise Std: 0.7, Corrupted Clients: [0, 1, 2, 3], Occurrences: 20\n"
     ]
    },
    {
     "name": "stderr",
     "output_type": "stream",
     "text": [
      "                                                                                            \r"
     ]
    },
    {
     "name": "stdout",
     "output_type": "stream",
     "text": [
      "Noise Std: 0.7, Corrupted Clients: [0, 1, 2, 3, 4, 5], Occurrences: 19\n"
     ]
    },
    {
     "name": "stderr",
     "output_type": "stream",
     "text": [
      "                                                                                            \r"
     ]
    },
    {
     "name": "stdout",
     "output_type": "stream",
     "text": [
      "Noise Std: 0.7, Corrupted Clients: [0, 1, 2, 3, 4, 5, 6, 7], Occurrences: 18\n"
     ]
    },
    {
     "name": "stderr",
     "output_type": "stream",
     "text": [
      "                                                                                            \r"
     ]
    },
    {
     "name": "stdout",
     "output_type": "stream",
     "text": [
      "Noise Std: 0.7, Corrupted Clients: [0, 1, 2, 3, 4, 5, 6, 7, 8], Occurrences: 18\n"
     ]
    },
    {
     "name": "stderr",
     "output_type": "stream",
     "text": [
      "                                                                                            \r"
     ]
    },
    {
     "name": "stdout",
     "output_type": "stream",
     "text": [
      "Noise Std: 1, Corrupted Clients: [0, 1, 2], Occurrences: 20\n"
     ]
    },
    {
     "name": "stderr",
     "output_type": "stream",
     "text": [
      "                                                                                            \r"
     ]
    },
    {
     "name": "stdout",
     "output_type": "stream",
     "text": [
      "Noise Std: 1, Corrupted Clients: [0, 1, 2, 3], Occurrences: 20\n"
     ]
    },
    {
     "name": "stderr",
     "output_type": "stream",
     "text": [
      "                                                                                            \r"
     ]
    },
    {
     "name": "stdout",
     "output_type": "stream",
     "text": [
      "Noise Std: 1, Corrupted Clients: [0, 1, 2, 3, 4, 5], Occurrences: 20\n"
     ]
    },
    {
     "name": "stderr",
     "output_type": "stream",
     "text": [
      "                                                                                            \r"
     ]
    },
    {
     "name": "stdout",
     "output_type": "stream",
     "text": [
      "Noise Std: 1, Corrupted Clients: [0, 1, 2, 3, 4, 5, 6, 7], Occurrences: 17\n"
     ]
    },
    {
     "name": "stderr",
     "output_type": "stream",
     "text": [
      "                                                                                            \r"
     ]
    },
    {
     "name": "stdout",
     "output_type": "stream",
     "text": [
      "Noise Std: 1, Corrupted Clients: [0, 1, 2, 3, 4, 5, 6, 7, 8], Occurrences: 17\n"
     ]
    },
    {
     "name": "stderr",
     "output_type": "stream",
     "text": [
      "                                                                                            \r"
     ]
    },
    {
     "name": "stdout",
     "output_type": "stream",
     "text": [
      "Noise Std: 2, Corrupted Clients: [0, 1, 2], Occurrences: 20\n"
     ]
    },
    {
     "name": "stderr",
     "output_type": "stream",
     "text": [
      "                                                                                            \r"
     ]
    },
    {
     "name": "stdout",
     "output_type": "stream",
     "text": [
      "Noise Std: 2, Corrupted Clients: [0, 1, 2, 3], Occurrences: 20\n"
     ]
    },
    {
     "name": "stderr",
     "output_type": "stream",
     "text": [
      "                                                                                            \r"
     ]
    },
    {
     "name": "stdout",
     "output_type": "stream",
     "text": [
      "Noise Std: 2, Corrupted Clients: [0, 1, 2, 3, 4, 5], Occurrences: 20\n"
     ]
    },
    {
     "name": "stderr",
     "output_type": "stream",
     "text": [
      "                                                                                            \r"
     ]
    },
    {
     "name": "stdout",
     "output_type": "stream",
     "text": [
      "Noise Std: 2, Corrupted Clients: [0, 1, 2, 3, 4, 5, 6, 7], Occurrences: 19\n"
     ]
    },
    {
     "name": "stderr",
     "output_type": "stream",
     "text": [
      "                                                                                            \r"
     ]
    },
    {
     "name": "stdout",
     "output_type": "stream",
     "text": [
      "Noise Std: 2, Corrupted Clients: [0, 1, 2, 3, 4, 5, 6, 7, 8], Occurrences: 19\n"
     ]
    },
    {
     "name": "stderr",
     "output_type": "stream",
     "text": [
      "                                                                                            \r"
     ]
    },
    {
     "name": "stdout",
     "output_type": "stream",
     "text": [
      "Noise Std: 3, Corrupted Clients: [0, 1, 2], Occurrences: 20\n"
     ]
    },
    {
     "name": "stderr",
     "output_type": "stream",
     "text": [
      "                                                                                            \r"
     ]
    },
    {
     "name": "stdout",
     "output_type": "stream",
     "text": [
      "Noise Std: 3, Corrupted Clients: [0, 1, 2, 3], Occurrences: 20\n"
     ]
    },
    {
     "name": "stderr",
     "output_type": "stream",
     "text": [
      "                                                                                            \r"
     ]
    },
    {
     "name": "stdout",
     "output_type": "stream",
     "text": [
      "Noise Std: 3, Corrupted Clients: [0, 1, 2, 3, 4, 5], Occurrences: 19\n"
     ]
    },
    {
     "name": "stderr",
     "output_type": "stream",
     "text": [
      "                                                                                            \r"
     ]
    },
    {
     "name": "stdout",
     "output_type": "stream",
     "text": [
      "Noise Std: 3, Corrupted Clients: [0, 1, 2, 3, 4, 5, 6, 7], Occurrences: 20\n"
     ]
    },
    {
     "name": "stderr",
     "output_type": "stream",
     "text": [
      "/var/folders/hn/l1bxr6v97478sfly3rj76my40000gn/T/ipykernel_14863/3548008992.py:161: MatplotlibDeprecationWarning: The get_cmap function was deprecated in Matplotlib 3.7 and will be removed in 3.11. Use ``matplotlib.colormaps[name]`` or ``matplotlib.colormaps.get_cmap()`` or ``pyplot.get_cmap()`` instead.\n",
      "  cmap = cm.get_cmap('tab10', len(noise_std_values))\n"
     ]
    },
    {
     "name": "stdout",
     "output_type": "stream",
     "text": [
      "Noise Std: 3, Corrupted Clients: [0, 1, 2, 3, 4, 5, 6, 7, 8], Occurrences: 17\n",
      "Results saved to /Users/abbaszal/Documents/Thesis_Project_Spambase/nash_occurrence_results_run_experiment_2.csv\n"
     ]
    },
    {
     "data": {
      "image/png": "[encoded data removed]",
      "text/plain": [
       "<Figure size 1000x600 with 1 Axes>"
      ]
     },
     "metadata": {},
     "output_type": "display_data"
    }
   ],
   "source": [
    "def run_experiment_2_modified(n_trials, n_clients, max_depths, partitions_corrupted, corrupt_client_indices, df, \n",
    "                              save_dir=\"results\", base_random_seed=42, corrupt_function=corrupt_data, verbose=False):\n",
    "    os.makedirs(save_dir, exist_ok=True)\n",
    "    all_nash_details = []\n",
    "\n",
    "    # Loop over provided max_depths. (For plotting, you might use a single value.)\n",
    "    for max_depth in max_depths:\n",
    "        if verbose:\n",
    "            print(f\"\\nRunning experiment with max_depth = {max_depth}\")\n",
    "        nash_equilibrium_counts = Counter()\n",
    "        details_for_this_max_depth = []\n",
    "\n",
    "        # Use provided corrupt_client_indices or select randomly if not given.\n",
    "        if corrupt_client_indices is None or len(corrupt_client_indices) == 0:\n",
    "            corrupt_client_indices = list(np.random.choice(n_clients, size=partitions_corrupted, replace=False))\n",
    "\n",
    "        for trial in range(n_trials):\n",
    "            if verbose:\n",
    "                print(f\"  Trial {trial + 1}/{n_trials} for max_depth = {max_depth}\")\n",
    "            trial_seed = base_random_seed + trial + max_depth\n",
    "            random.seed(trial_seed)\n",
    "            np.random.seed(trial_seed)\n",
    "\n",
    "            if verbose:\n",
    "                print(f\"    Corrupted client indices: {np.array(corrupt_client_indices) + 1}\")\n",
    "\n",
    "            # Split data (assuming the target is the last column)\n",
    "            target_column = df.columns[-1]\n",
    "            X = df.drop(target_column, axis=1).to_numpy()\n",
    "            y = df[target_column].to_numpy()\n",
    "            X_train, X_test, y_train, y_test = train_test_split(X, y, test_size=0.2, random_state=trial_seed)\n",
    "\n",
    "            # Normalize data\n",
    "            scaler = StandardScaler()\n",
    "            X_train = scaler.fit_transform(X_train)\n",
    "            X_test = scaler.transform(X_test)\n",
    "\n",
    "            # Partition data among clients\n",
    "            partitions = split_data_equal(X_train, y_train, n_clients=n_clients, shuffle=True, random_seed=trial_seed)\n",
    "\n",
    "            # Apply corruption using the provided corruption function.\n",
    "            corrupted_partitions, _ = corrupt_clients(corrupt_function, partitions, corrupt_client_indices)\n",
    "\n",
    "            # Train a decision tree for each client's (corrupted) data.\n",
    "            client_models = []\n",
    "            client_global_accuracies = {}\n",
    "            for i, (X_i, y_i) in enumerate(corrupted_partitions):\n",
    "                model = DecisionTreeClassifier(max_depth=max_depth, random_state=np.random.randint(0, 100000))\n",
    "                model.fit(X_i, y_i)\n",
    "                client_models.append(model)\n",
    "                y_pred = model.predict(X_test)\n",
    "                acc_global = accuracy_score(y_test, y_pred)\n",
    "                client_global_accuracies[i] = acc_global\n",
    "\n",
    "            # Evaluate all possible coalitions\n",
    "            trial_results = []\n",
    "            n_combinations = 2 ** n_clients\n",
    "            for i in tqdm(range(1, n_combinations), desc=f\"    Evaluating coalitions for trial {trial + 1}\", leave=False):\n",
    "                bin_str = format(i, f'0{n_clients}b')\n",
    "                coalition_indices = [j for j in range(n_clients) if bin_str[n_clients - 1 - j] == '1']\n",
    "                included_models = [client_models[j] for j in coalition_indices]\n",
    "                if not included_models:\n",
    "                    continue\n",
    "\n",
    "                # Federated aggregation using a FederatedForest\n",
    "                forest = FederatedForest()\n",
    "                for model in included_models:\n",
    "                    forest.add_model(model)\n",
    "                y_pred_global = forest.predict(X_test)\n",
    "                coalition_acc_global = accuracy_score(y_test, y_pred_global)\n",
    "\n",
    "                row = {\n",
    "                    'Trial': trial + 1,\n",
    "                    'Combination': bin_str,\n",
    "                    'Clients': \",\".join(str(j + 1) for j in coalition_indices),\n",
    "                    'Global Accuracy': coalition_acc_global\n",
    "                }\n",
    "                for j in range(n_clients):\n",
    "                    row[f'Client {j + 1} Accuracy'] = client_global_accuracies.get(j, np.nan)\n",
    "                trial_results.append(row)\n",
    "\n",
    "            df_trial_results = pd.DataFrame(trial_results)\n",
    "            df_trial_results.set_index('Combination', inplace=True)\n",
    "            # Convert 'Clients' column from comma-separated string to list of ints.\n",
    "            df_trial_results['Clients'] = df_trial_results['Clients'].apply(\n",
    "                lambda x: list(map(int, x.split(','))) if isinstance(x, str) else x\n",
    "            )\n",
    "\n",
    "            # Find Nash equilibria for this trial.\n",
    "            nash_df = find_nash_equilibria_v2(df_trial_results.reset_index())\n",
    "            for combination in nash_df['Combination']:\n",
    "                nash_equilibrium_counts[combination] += 1\n",
    "\n",
    "            details_for_this_max_depth.append(nash_df)\n",
    "\n",
    "        # Save Nash equilibrium counts for the current max_depth.\n",
    "        df_nash_counts = pd.DataFrame(nash_equilibrium_counts.items(), columns=['Nash Equilibrium', 'Occurrences'])\n",
    "        df_nash_counts['Max Depth'] = max_depth\n",
    "        counts_filename = os.path.join(save_dir, f\"Nash_Equilibrium_Counts_max_depth_{max_depth}.csv\")\n",
    "        df_nash_counts.to_csv(counts_filename, index=False)\n",
    "        if verbose:\n",
    "            print(f\"Nash equilibrium counts saved to {counts_filename}\")\n",
    "\n",
    "        df_details = pd.concat(details_for_this_max_depth, ignore_index=True)\n",
    "        all_nash_details.append(df_details)\n",
    "\n",
    "    final_details_df = pd.concat(all_nash_details, ignore_index=True)\n",
    "    details_path = os.path.join(save_dir, \"Nash_Equilibrium_Details_run_experiment_2.csv\")\n",
    "    final_details_df.to_csv(details_path, index=False)\n",
    "    if verbose:\n",
    "        print(f\"Nash equilibrium details saved to {details_path}\")\n",
    "    \n",
    "    return final_details_df\n",
    "\n",
    "\n",
    "noise_std_values = [0.1, 0.3, 0.5, 0.7, 1,2, 3]\n",
    "corrupted_clients_counts = [3, 4, 6, 8, 9] \n",
    "n_trials = 10\n",
    "n_clients = 10\n",
    "max_depths = [10, 100]    \n",
    "save_dir = \"/Users/abbaszal/Documents/Thesis_Project_Spambase\"\n",
    "\n",
    "results = {noise: [] for noise in noise_std_values}\n",
    "\n",
    "# Loop over each noise_std value and each number of corrupted clients.\n",
    "for noise in noise_std_values:\n",
    "    for cc in corrupted_clients_counts:\n",
    "        # For cc corrupted clients, manually set the indices as [0, 1, ..., cc-1]\n",
    "        client_indices = list(range(cc))\n",
    "        # Create a custom corruption function that sets noise_std to the current value.\n",
    "        custom_corrupt_data = lambda X, y, corruption_prob=0.8, nan_prob=0.5, noise_std_local=noise: \\\n",
    "            corrupt_data(X, y, corruption_prob, nan_prob, noise_std_local)\n",
    "        \n",
    "        # Run experiment_2_modified with the current noise_std and client indices.\n",
    "        final_details_df = run_experiment_2_modified(\n",
    "            n_trials=n_trials,\n",
    "            n_clients=n_clients,\n",
    "            max_depths=max_depths,\n",
    "            partitions_corrupted=cc,\n",
    "            corrupt_client_indices=client_indices,\n",
    "            df=df,\n",
    "            save_dir=save_dir,\n",
    "            base_random_seed=42,\n",
    "            corrupt_function=custom_corrupt_data,\n",
    "            verbose=False  \n",
    "        )\n",
    "        \n",
    "        # Count occurrences of the Nash equilibrium \"1111111111\"\n",
    "        occurrence_count = (final_details_df['Combination'] == '1111111111').sum()\n",
    "        results[noise].append(occurrence_count)\n",
    "        print(f\"Noise Std: {noise}, Corrupted Clients: {client_indices}, Occurrences: {occurrence_count}\")\n",
    "\n",
    "\n",
    "results_df = pd.DataFrame(results, index=corrupted_clients_counts)\n",
    "results_df.index.name = \"Number of Bad Clients\"\n",
    "results_csv_path = os.path.join(save_dir, \"nash_occurrence_results_run_experiment_2.csv\")\n",
    "results_df.to_csv(results_csv_path)\n",
    "print(f\"Results saved to {results_csv_path}\")\n",
    "\n",
    "\n",
    "cmap = cm.get_cmap('tab10', len(noise_std_values))\n",
    "markers = ['x', 'o', 's', 'd', '*', 'v', '^', '<', '>', 'h', 'D']\n",
    "linestyles = ['-', '-.', ':']\n",
    "\n",
    "plt.figure(figsize=(10, 6))\n",
    "for i, noise in enumerate(noise_std_values):\n",
    "    color = cmap(i)\n",
    "    marker = markers[i % len(markers)]\n",
    "    linestyle = linestyles[i % len(linestyles)]\n",
    "    \n",
    "    plt.plot(corrupted_clients_counts, results[noise],\n",
    "             marker=marker, linestyle=linestyle, color=color,\n",
    "             label=f'Noise Std = {noise}')\n",
    "\n",
    "plt.xlabel(\"Number of Low Quality Clients\")\n",
    "plt.ylabel(\"Occurrences of '1111111111'\")\n",
    "plt.legend(title=\"Noise Std\")\n",
    "plt.grid(True)\n",
    "plt.show()\n"
   ]
  },
  {
   "cell_type": "code",
   "execution_count": null,
   "metadata": {},
   "outputs": [],
   "source": []
  }
 ],
 "metadata": {
  "kernelspec": {
   "display_name": "Python 3",
   "language": "python",
   "name": "python3"
  },
  "language_info": {
   "codemirror_mode": {
    "name": "ipython",
    "version": 3
   },
   "file_extension": ".py",
   "mimetype": "text/x-python",
   "name": "python",
   "nbconvert_exporter": "python",
   "pygments_lexer": "ipython3",
   "version": "3.9.6"
  }
 },
 "nbformat": 4,
 "nbformat_minor": 2
}

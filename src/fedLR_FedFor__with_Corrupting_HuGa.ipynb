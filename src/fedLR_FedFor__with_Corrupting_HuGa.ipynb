{
 "cells": [
  {
   "cell_type": "code",
   "execution_count": 4,
   "metadata": {},
   "outputs": [],
   "source": [
    "import os\n",
    "import math\n",
    "import random\n",
    "import argparse\n",
    "import copy\n",
    "import ast\n",
    "from collections import Counter, defaultdict\n",
    "from itertools import chain, combinations\n",
    "\n",
    "import numpy as np\n",
    "import pandas as pd\n",
    "import matplotlib.pyplot as plt\n",
    "import seaborn as sns\n",
    "from tqdm import tqdm\n",
    "\n",
    "from sklearn.model_selection import train_test_split\n",
    "from sklearn.preprocessing import StandardScaler, LabelEncoder\n",
    "from sklearn.metrics import accuracy_score\n",
    "from sklearn.ensemble import RandomForestClassifier\n",
    "from sklearn.tree import DecisionTreeClassifier\n",
    "from sklearn.linear_model import LogisticRegression\n"
   ]
  },
  {
   "cell_type": "code",
   "execution_count": 5,
   "metadata": {},
   "outputs": [],
   "source": [
    "from Nash import find_nash_equilibria_v2\n",
    "from Functions import compute_and_visualize_shapley_values"
   ]
  },
  {
   "cell_type": "code",
   "execution_count": 6,
   "metadata": {},
   "outputs": [],
   "source": [
    "# disable ConvergenceWarnings\n",
    "import warnings\n",
    "from sklearn.exceptions import ConvergenceWarning\n",
    "warnings.filterwarnings(\"ignore\", category=ConvergenceWarning)"
   ]
  },
  {
   "cell_type": "markdown",
   "metadata": {},
   "source": [
    "### C2"
   ]
  },
  {
   "cell_type": "code",
   "execution_count": 20,
   "metadata": {},
   "outputs": [],
   "source": [
    "def corrupt_data(X: np.ndarray, corruption_prob: float = 0.8, nan_prob: float = 0.5,\n",
    "                 noise_std: Optional[float] = None):\n",
    "    if noise_std is None:\n",
    "        noise_std = 0.1\n",
    "    \n",
    "    X = X.copy()\n",
    "    n_samples, n_features = X.shape\n",
    "    mask = np.random.rand(n_samples) < corruption_prob\n",
    "    mask_nan = mask & (np.random.rand(n_samples) < nan_prob)\n",
    "    mask_noise = mask & (~mask_nan)\n",
    "    \n",
    "    corrupt_features = range(n_features)\n",
    "\n",
    "    # Apply corruption\n",
    "    for feature in corrupt_features:\n",
    "        X[mask_noise, feature] += np.random.randn(mask_noise.sum()) * noise_std\n",
    "\n",
    "    X[np.argwhere(mask_nan)] = np.nan\n",
    "    \n",
    "    return X, mask_nan  # Return the `mask_nan` for label corruption\n",
    "\n",
    "def corrupt_labels(y: np.ndarray, mask_nan: np.ndarray, corruption_prob: float = 0.2):\n",
    "    y = y.copy()\n",
    "    valid_mask = ~mask_nan  # Only consider rows not marked as NaN\n",
    "    corruption_mask = (np.random.rand(len(y)) < corruption_prob) & valid_mask\n",
    "\n",
    "    unique_labels = np.unique(y)\n",
    "\n",
    "    # Generate corrupted labels ensuring no unchanged labels\n",
    "    corrupted_labels = []\n",
    "    for original_label in y[corruption_mask]:\n",
    "        # Exclude the original label from the choices\n",
    "        possible_labels = unique_labels[unique_labels != original_label]\n",
    "        corrupted_label = np.random.choice(possible_labels)\n",
    "        corrupted_labels.append(corrupted_label)\n",
    "    \n",
    "    y[corruption_mask] = corrupted_labels\n",
    "    return y\n",
    "\n",
    "\n",
    "def corrupt_and_save_clients_data(input_dir, output_dir, corrupt_client_indices, corruption_params, label_corruption_prob=0.2):\n",
    "    os.makedirs(output_dir, exist_ok=True)\n",
    "\n",
    "    for i in range(1, 11):  # Assuming 10 clients\n",
    "        train_file = f\"{input_dir}/train_{i:02d}.csv\"\n",
    "        df_train = pd.read_csv(train_file).dropna(subset=['act'])\n",
    "        X_train = df_train.drop('act', axis=1).values\n",
    "        y_train = df_train['act'].values\n",
    "\n",
    "        test_file = f\"{input_dir}/test_{i:02d}.csv\"\n",
    "        df_test = pd.read_csv(test_file).dropna(subset=['act'])\n",
    "        X_test = df_test.drop('act', axis=1).values\n",
    "        y_test = df_test['act'].values\n",
    "\n",
    "        if i in corrupt_client_indices:\n",
    "            # Corrupt features and get the mask of NaN rows\n",
    "            X_train, mask_nan = corrupt_data(X_train, **corruption_params)\n",
    "            # Corrupt labels, excluding rows marked as NaN\n",
    "            y_train = corrupt_labels(y_train, mask_nan, corruption_prob=label_corruption_prob)\n",
    "\n",
    "        pd.DataFrame(X_train).assign(act=y_train).to_csv(\n",
    "            os.path.join(output_dir, f\"train_{i:02d}.csv\"), index=False\n",
    "        )\n",
    "        pd.DataFrame(X_test).assign(act=y_test).to_csv(\n",
    "            os.path.join(output_dir, f\"test_{i:02d}.csv\"), index=False\n",
    "        )"
   ]
  },
  {
   "cell_type": "code",
   "execution_count": 21,
   "metadata": {},
   "outputs": [
    {
     "name": "stdout",
     "output_type": "stream",
     "text": [
      "Corrupted data for 3 clients (clients [1, 2, 3]) saved in '/Users/abbaszal/Documents/Thesis_Project_Spambase/data/corrupted_data/c3'.\n",
      "Corrupted data for 4 clients (clients [1, 2, 3, 4]) saved in '/Users/abbaszal/Documents/Thesis_Project_Spambase/data/corrupted_data/c4'.\n",
      "Corrupted data for 5 clients (clients [1, 2, 3, 4, 5]) saved in '/Users/abbaszal/Documents/Thesis_Project_Spambase/data/corrupted_data/c5'.\n",
      "Corrupted data for 6 clients (clients [1, 2, 3, 4, 5, 6]) saved in '/Users/abbaszal/Documents/Thesis_Project_Spambase/data/corrupted_data/c6'.\n",
      "Corrupted data for 8 clients (clients [1, 2, 3, 4, 5, 6, 7, 8]) saved in '/Users/abbaszal/Documents/Thesis_Project_Spambase/data/corrupted_data/c8'.\n",
      "Corrupted data for 9 clients (clients [1, 2, 3, 4, 5, 6, 7, 8, 9]) saved in '/Users/abbaszal/Documents/Thesis_Project_Spambase/data/corrupted_data/c9'.\n"
     ]
    }
   ],
   "source": [
    "input_directory = \"/Users/abbaszal/Documents/Thesis_Project_Spambase/data/metadata\"  # Path to input data\n",
    "base_output_directory = \"/Users/abbaszal/Documents/Thesis_Project_Spambase/data/corrupted_data\"  # Base directory to save results\n",
    "corruption_sets = [\n",
    "    [1, 2, 3],\n",
    "    [1, 2, 3, 4],\n",
    "    [1, 2, 3, 4, 5],\n",
    "    [1, 2, 3, 4, 5, 6],\n",
    "    [1, 2, 3, 4, 5, 6, 7, 8],\n",
    "    [1, 2, 3, 4, 5, 6, 7, 8, 9]\n",
    "]\n",
    "corruption_params = {\n",
    "    'corruption_prob': 0.3,\n",
    "    'nan_prob': 0.5,\n",
    "    'noise_std': 1\n",
    "}\n",
    "\n",
    "label_corruption_prob = 0.4  # Probability of corrupting labels\n",
    "\n",
    "for corrupt_clients in corruption_sets:\n",
    "    output_directory = os.path.join(base_output_directory, f\"c{len(corrupt_clients)}\")\n",
    "    os.makedirs(output_directory, exist_ok=True)\n",
    "\n",
    "    corrupt_and_save_clients_data(input_directory, output_directory, corrupt_clients, corruption_params, label_corruption_prob)\n",
    "    print(f\"Corrupted data for {len(corrupt_clients)} clients (clients {corrupt_clients}) saved in '{output_directory}'.\")"
   ]
  },
  {
   "cell_type": "markdown",
   "metadata": {},
   "source": [
    "# FedLR in HuGaDB with Different number of Corrupted Clients"
   ]
  },
  {
   "cell_type": "code",
   "execution_count": 37,
   "metadata": {},
   "outputs": [],
   "source": [
    "def run_experiment(n_clients=10, n_trials=10, base_random_seed=42, subsample_ratios=[0.5, 0.6, 0.7, 0.8], max_iters=[10, 100], train_files_pattern='', test_files_pattern=''):\n",
    "    all_results = []\n",
    "    all_nash_equilibrium_counts = []\n",
    "    all_nash_details = []\n",
    "\n",
    "    for subsample_ratio in subsample_ratios:\n",
    "        for max_iter in max_iters:\n",
    "            print(f\"\\nRunning experiment with subsample_ratio = {subsample_ratio}, max_iter = {max_iter}\")\n",
    "            results = []\n",
    "            nash_equilibrium_counts = Counter()\n",
    "            nash_details_all = []\n",
    "\n",
    "            for trial in range(n_trials):\n",
    "                print(f\"  Trial {trial + 1}/{n_trials} for subsample_ratio={subsample_ratio}, max_iter={max_iter}\")\n",
    "                trial_seed = base_random_seed + trial\n",
    "                random.seed(trial_seed)\n",
    "                np.random.seed(trial_seed)\n",
    "\n",
    "                df_train_global = pd.concat([\n",
    "                    pd.read_csv(train_files_pattern.format(i=i)) for i in range(1, 11)\n",
    "                ]).dropna().sample(frac=subsample_ratio, random_state=trial_seed).reset_index(drop=True)\n",
    "                X_train_global, y_train_global = df_train_global.drop('act', axis=1), df_train_global['act']\n",
    "\n",
    "                df_test_global = pd.concat([\n",
    "                    pd.read_csv(test_files_pattern.format(i=i)) for i in range(1, 11)\n",
    "                ]).dropna().sample(frac=subsample_ratio, random_state=trial_seed).reset_index(drop=True)\n",
    "                X_test_global, y_test_global = df_test_global.drop('act', axis=1), df_test_global['act']\n",
    "\n",
    "                label_encoder = LabelEncoder()\n",
    "                y_train_global = label_encoder.fit_transform(y_train_global)\n",
    "                y_test_global = label_encoder.transform(y_test_global)\n",
    "\n",
    "                scaler = StandardScaler()\n",
    "                X_train_global_scaled = scaler.fit_transform(X_train_global)\n",
    "                X_test_global_scaled = scaler.transform(X_test_global)\n",
    "\n",
    "                def aggregate_lr_models(models):\n",
    "                    aggregated_model = LogisticRegression()\n",
    "                    aggregated_model.coef_ = np.mean([model.coef_ for model in models], axis=0) + np.random.normal(0, 0.05, models[0].coef_.shape)\n",
    "                    aggregated_model.intercept_ = np.mean([model.intercept_ for model in models], axis=0)\n",
    "                    aggregated_model.classes_ = models[0].classes_\n",
    "                    return aggregated_model\n",
    "\n",
    "                client_models = []\n",
    "                client_global_accuracies = {}\n",
    "\n",
    "                for i in range(n_clients):\n",
    "                    df_train_i = pd.read_csv(train_files_pattern.format(i=i+1)).dropna(subset=['act']).sample(frac=subsample_ratio, random_state=trial_seed).reset_index(drop=True).dropna()\n",
    "                    X_train, y_train = df_train_i.drop('act', axis=1), label_encoder.transform(df_train_i['act'])\n",
    "                    model = LogisticRegression(random_state=np.random.randint(0, 100000), max_iter=max_iter)\n",
    "                    model.fit(scaler.fit_transform(X_train), y_train)\n",
    "                    client_models.append(model)\n",
    "                    client_global_accuracies[i] = accuracy_score(y_test_global, model.predict(X_test_global_scaled))\n",
    "                    \n",
    "                trial_results = []\n",
    "                n_combinations = 2 ** n_clients\n",
    "                \n",
    "                for i in tqdm(range(1, n_combinations), desc=f\"    Evaluating coalitions for trial {trial+1}\"):\n",
    "                    bin_str = format(i, f'0{n_clients}b')\n",
    "                    client_indices = [j for j in range(n_clients) if bin_str[n_clients - 1 - j] == '1']\n",
    "                    included_models = [client_models[j] for j in client_indices]\n",
    "                    if not included_models:\n",
    "                        continue\n",
    "                    \n",
    "                    aggregated_model = aggregate_lr_models(included_models)\n",
    "                    y_pred_global = aggregated_model.predict(X_test_global_scaled)\n",
    "                    acc_global = accuracy_score(y_test_global, y_pred_global)\n",
    "                    \n",
    "                    row = {\n",
    "                        'Trial': trial + 1,\n",
    "                        'Combination': bin_str,\n",
    "                        'Clients': [j + 1 for j in client_indices],\n",
    "                        'Global Accuracy': acc_global\n",
    "                    }\n",
    "                    for j in range(n_clients):\n",
    "                        row[f'Client {j + 1} Accuracy'] = client_global_accuracies[j]\n",
    "                    trial_results.append(row)\n",
    "                \n",
    "                df_trial_results = pd.DataFrame(trial_results)\n",
    "                df_trial_results.set_index('Combination', inplace=True)\n",
    "                \n",
    "                nash_df = find_nash_equilibria_v2(df_trial_results.reset_index())\n",
    "                for combination in nash_df['Combination']:\n",
    "                    nash_equilibrium_counts[combination] += 1\n",
    "                \n",
    "                shapley_df = compute_and_visualize_shapley_values(\n",
    "                    df_trial_results.reset_index(), client_global_accuracies, n_clients=n_clients, plot=False, print_df=False\n",
    "                )\n",
    "                shapley_df['Trial'] = trial + 1\n",
    "                \n",
    "                for idx, nash_row in nash_df.iterrows():\n",
    "                    combination_bin = nash_row['Combination']\n",
    "                    client_indices = [j for j in range(n_clients) if combination_bin[n_clients - 1 - j] == '1']\n",
    "                    clients_list = [j + 1 for j in client_indices]\n",
    "                    nash_details_all.append({\n",
    "                        'Trial': trial + 1,\n",
    "                        'Combination': combination_bin,\n",
    "                        'Clients': \",\".join(map(str, clients_list)),\n",
    "                        'Global Accuracy': nash_row['Global Accuracy'],\n",
    "                        'Subsample Ratio': subsample_ratio,\n",
    "                        'Max Iter': max_iter,\n",
    "                    })\n",
    "                \n",
    "                results.extend(trial_results)\n",
    "                \n",
    "            all_results.append(pd.DataFrame(results))\n",
    "            df_nash_counts = pd.DataFrame(nash_equilibrium_counts.items(), columns=['Nash Equilibrium', 'Occurrences'])\n",
    "            df_nash_counts['Subsample Ratio'] = subsample_ratio\n",
    "            df_nash_counts['Max Iter'] = max_iter\n",
    "            all_nash_equilibrium_counts.append(df_nash_counts)\n",
    "            \n",
    "            df_nash_counts.to_csv(f\"Nash_Equilibrium_Counts_HuGaLR_subsample_{subsample_ratio}_maxiter_{max_iter}.csv\", index=False)\n",
    "            all_nash_details.append(pd.DataFrame(nash_details_all))\n",
    "    \n",
    "    pd.concat(all_results, ignore_index=True).to_csv(\"Final_Results.csv\", index=False)\n",
    "    pd.concat(all_nash_equilibrium_counts, ignore_index=True).to_csv(\"Final_Nash_Equilibrium_Counts.csv\", index=False)\n",
    "    pd.concat(all_nash_details, ignore_index=True).to_csv(\"Nash_Equilibrium_Details_HuGaLR.csv\", index=False)\n",
    "    \n",
    "    print(\"Process complete. Results saved.\")\n"
   ]
  },
  {
   "cell_type": "code",
   "execution_count": 38,
   "metadata": {},
   "outputs": [
    {
     "name": "stdout",
     "output_type": "stream",
     "text": [
      "\n",
      "Running experiment with subsample_ratio = 0.5, max_iter = 10\n",
      "  Trial 1/10 for subsample_ratio=0.5, max_iter=10\n"
     ]
    },
    {
     "name": "stderr",
     "output_type": "stream",
     "text": [
      "    Evaluating coalitions for trial 1: 100%|██████████| 1023/1023 [00:03<00:00, 312.19it/s]\n"
     ]
    },
    {
     "name": "stdout",
     "output_type": "stream",
     "text": [
      "  Trial 2/10 for subsample_ratio=0.5, max_iter=10\n"
     ]
    },
    {
     "name": "stderr",
     "output_type": "stream",
     "text": [
      "    Evaluating coalitions for trial 2: 100%|██████████| 1023/1023 [00:03<00:00, 311.39it/s]\n"
     ]
    },
    {
     "name": "stdout",
     "output_type": "stream",
     "text": [
      "  Trial 3/10 for subsample_ratio=0.5, max_iter=10\n"
     ]
    },
    {
     "name": "stderr",
     "output_type": "stream",
     "text": [
      "    Evaluating coalitions for trial 3: 100%|██████████| 1023/1023 [00:03<00:00, 296.29it/s]\n"
     ]
    },
    {
     "name": "stdout",
     "output_type": "stream",
     "text": [
      "  Trial 4/10 for subsample_ratio=0.5, max_iter=10\n"
     ]
    },
    {
     "name": "stderr",
     "output_type": "stream",
     "text": [
      "    Evaluating coalitions for trial 4: 100%|██████████| 1023/1023 [00:03<00:00, 301.91it/s]\n"
     ]
    },
    {
     "name": "stdout",
     "output_type": "stream",
     "text": [
      "  Trial 5/10 for subsample_ratio=0.5, max_iter=10\n"
     ]
    },
    {
     "name": "stderr",
     "output_type": "stream",
     "text": [
      "    Evaluating coalitions for trial 5: 100%|██████████| 1023/1023 [00:03<00:00, 305.50it/s]\n"
     ]
    },
    {
     "name": "stdout",
     "output_type": "stream",
     "text": [
      "  Trial 6/10 for subsample_ratio=0.5, max_iter=10\n"
     ]
    },
    {
     "name": "stderr",
     "output_type": "stream",
     "text": [
      "    Evaluating coalitions for trial 6: 100%|██████████| 1023/1023 [00:03<00:00, 308.97it/s]\n"
     ]
    },
    {
     "name": "stdout",
     "output_type": "stream",
     "text": [
      "  Trial 7/10 for subsample_ratio=0.5, max_iter=10\n"
     ]
    },
    {
     "name": "stderr",
     "output_type": "stream",
     "text": [
      "    Evaluating coalitions for trial 7: 100%|██████████| 1023/1023 [00:03<00:00, 303.49it/s]\n"
     ]
    },
    {
     "name": "stdout",
     "output_type": "stream",
     "text": [
      "  Trial 8/10 for subsample_ratio=0.5, max_iter=10\n"
     ]
    },
    {
     "name": "stderr",
     "output_type": "stream",
     "text": [
      "    Evaluating coalitions for trial 8: 100%|██████████| 1023/1023 [00:03<00:00, 300.30it/s]\n"
     ]
    },
    {
     "name": "stdout",
     "output_type": "stream",
     "text": [
      "  Trial 9/10 for subsample_ratio=0.5, max_iter=10\n"
     ]
    },
    {
     "name": "stderr",
     "output_type": "stream",
     "text": [
      "    Evaluating coalitions for trial 9: 100%|██████████| 1023/1023 [00:03<00:00, 308.21it/s]\n"
     ]
    },
    {
     "name": "stdout",
     "output_type": "stream",
     "text": [
      "  Trial 10/10 for subsample_ratio=0.5, max_iter=10\n"
     ]
    },
    {
     "name": "stderr",
     "output_type": "stream",
     "text": [
      "    Evaluating coalitions for trial 10: 100%|██████████| 1023/1023 [00:03<00:00, 313.83it/s]\n"
     ]
    },
    {
     "name": "stdout",
     "output_type": "stream",
     "text": [
      "\n",
      "Running experiment with subsample_ratio = 0.5, max_iter = 100\n",
      "  Trial 1/10 for subsample_ratio=0.5, max_iter=100\n"
     ]
    },
    {
     "name": "stderr",
     "output_type": "stream",
     "text": [
      "    Evaluating coalitions for trial 1: 100%|██████████| 1023/1023 [00:03<00:00, 314.87it/s]\n"
     ]
    },
    {
     "name": "stdout",
     "output_type": "stream",
     "text": [
      "  Trial 2/10 for subsample_ratio=0.5, max_iter=100\n"
     ]
    },
    {
     "name": "stderr",
     "output_type": "stream",
     "text": [
      "    Evaluating coalitions for trial 2: 100%|██████████| 1023/1023 [00:03<00:00, 300.11it/s]\n"
     ]
    },
    {
     "name": "stdout",
     "output_type": "stream",
     "text": [
      "  Trial 3/10 for subsample_ratio=0.5, max_iter=100\n"
     ]
    },
    {
     "name": "stderr",
     "output_type": "stream",
     "text": [
      "    Evaluating coalitions for trial 3: 100%|██████████| 1023/1023 [00:03<00:00, 308.48it/s]\n"
     ]
    },
    {
     "name": "stdout",
     "output_type": "stream",
     "text": [
      "  Trial 4/10 for subsample_ratio=0.5, max_iter=100\n"
     ]
    },
    {
     "name": "stderr",
     "output_type": "stream",
     "text": [
      "    Evaluating coalitions for trial 4: 100%|██████████| 1023/1023 [00:03<00:00, 304.59it/s]\n"
     ]
    },
    {
     "name": "stdout",
     "output_type": "stream",
     "text": [
      "  Trial 5/10 for subsample_ratio=0.5, max_iter=100\n"
     ]
    },
    {
     "name": "stderr",
     "output_type": "stream",
     "text": [
      "    Evaluating coalitions for trial 5: 100%|██████████| 1023/1023 [00:03<00:00, 312.74it/s]\n"
     ]
    },
    {
     "name": "stdout",
     "output_type": "stream",
     "text": [
      "  Trial 6/10 for subsample_ratio=0.5, max_iter=100\n"
     ]
    },
    {
     "name": "stderr",
     "output_type": "stream",
     "text": [
      "    Evaluating coalitions for trial 6: 100%|██████████| 1023/1023 [00:03<00:00, 301.70it/s]\n"
     ]
    },
    {
     "name": "stdout",
     "output_type": "stream",
     "text": [
      "  Trial 7/10 for subsample_ratio=0.5, max_iter=100\n"
     ]
    },
    {
     "name": "stderr",
     "output_type": "stream",
     "text": [
      "    Evaluating coalitions for trial 7: 100%|██████████| 1023/1023 [00:03<00:00, 319.01it/s]\n"
     ]
    },
    {
     "name": "stdout",
     "output_type": "stream",
     "text": [
      "  Trial 8/10 for subsample_ratio=0.5, max_iter=100\n"
     ]
    },
    {
     "name": "stderr",
     "output_type": "stream",
     "text": [
      "    Evaluating coalitions for trial 8: 100%|██████████| 1023/1023 [00:03<00:00, 311.55it/s]\n"
     ]
    },
    {
     "name": "stdout",
     "output_type": "stream",
     "text": [
      "  Trial 9/10 for subsample_ratio=0.5, max_iter=100\n"
     ]
    },
    {
     "name": "stderr",
     "output_type": "stream",
     "text": [
      "    Evaluating coalitions for trial 9: 100%|██████████| 1023/1023 [00:03<00:00, 302.65it/s]\n"
     ]
    },
    {
     "name": "stdout",
     "output_type": "stream",
     "text": [
      "  Trial 10/10 for subsample_ratio=0.5, max_iter=100\n"
     ]
    },
    {
     "name": "stderr",
     "output_type": "stream",
     "text": [
      "    Evaluating coalitions for trial 10: 100%|██████████| 1023/1023 [00:03<00:00, 304.12it/s]\n"
     ]
    },
    {
     "name": "stdout",
     "output_type": "stream",
     "text": [
      "\n",
      "Running experiment with subsample_ratio = 0.6, max_iter = 10\n",
      "  Trial 1/10 for subsample_ratio=0.6, max_iter=10\n"
     ]
    },
    {
     "name": "stderr",
     "output_type": "stream",
     "text": [
      "    Evaluating coalitions for trial 1: 100%|██████████| 1023/1023 [00:03<00:00, 258.04it/s]\n"
     ]
    },
    {
     "name": "stdout",
     "output_type": "stream",
     "text": [
      "  Trial 2/10 for subsample_ratio=0.6, max_iter=10\n"
     ]
    },
    {
     "name": "stderr",
     "output_type": "stream",
     "text": [
      "    Evaluating coalitions for trial 2: 100%|██████████| 1023/1023 [00:04<00:00, 251.01it/s]\n"
     ]
    },
    {
     "name": "stdout",
     "output_type": "stream",
     "text": [
      "  Trial 3/10 for subsample_ratio=0.6, max_iter=10\n"
     ]
    },
    {
     "name": "stderr",
     "output_type": "stream",
     "text": [
      "    Evaluating coalitions for trial 3: 100%|██████████| 1023/1023 [00:04<00:00, 254.87it/s]\n"
     ]
    },
    {
     "name": "stdout",
     "output_type": "stream",
     "text": [
      "  Trial 4/10 for subsample_ratio=0.6, max_iter=10\n"
     ]
    },
    {
     "name": "stderr",
     "output_type": "stream",
     "text": [
      "    Evaluating coalitions for trial 4: 100%|██████████| 1023/1023 [00:04<00:00, 254.59it/s]\n"
     ]
    },
    {
     "name": "stdout",
     "output_type": "stream",
     "text": [
      "  Trial 5/10 for subsample_ratio=0.6, max_iter=10\n"
     ]
    },
    {
     "name": "stderr",
     "output_type": "stream",
     "text": [
      "    Evaluating coalitions for trial 5: 100%|██████████| 1023/1023 [00:03<00:00, 263.44it/s]\n"
     ]
    },
    {
     "name": "stdout",
     "output_type": "stream",
     "text": [
      "  Trial 6/10 for subsample_ratio=0.6, max_iter=10\n"
     ]
    },
    {
     "name": "stderr",
     "output_type": "stream",
     "text": [
      "    Evaluating coalitions for trial 6: 100%|██████████| 1023/1023 [00:04<00:00, 247.84it/s]\n"
     ]
    },
    {
     "name": "stdout",
     "output_type": "stream",
     "text": [
      "  Trial 7/10 for subsample_ratio=0.6, max_iter=10\n"
     ]
    },
    {
     "name": "stderr",
     "output_type": "stream",
     "text": [
      "    Evaluating coalitions for trial 7: 100%|██████████| 1023/1023 [00:04<00:00, 255.36it/s]\n"
     ]
    },
    {
     "name": "stdout",
     "output_type": "stream",
     "text": [
      "  Trial 8/10 for subsample_ratio=0.6, max_iter=10\n"
     ]
    },
    {
     "name": "stderr",
     "output_type": "stream",
     "text": [
      "    Evaluating coalitions for trial 8: 100%|██████████| 1023/1023 [00:04<00:00, 253.69it/s]\n"
     ]
    },
    {
     "name": "stdout",
     "output_type": "stream",
     "text": [
      "  Trial 9/10 for subsample_ratio=0.6, max_iter=10\n"
     ]
    },
    {
     "name": "stderr",
     "output_type": "stream",
     "text": [
      "    Evaluating coalitions for trial 9: 100%|██████████| 1023/1023 [00:04<00:00, 250.25it/s]\n"
     ]
    },
    {
     "name": "stdout",
     "output_type": "stream",
     "text": [
      "  Trial 10/10 for subsample_ratio=0.6, max_iter=10\n"
     ]
    },
    {
     "name": "stderr",
     "output_type": "stream",
     "text": [
      "    Evaluating coalitions for trial 10: 100%|██████████| 1023/1023 [00:04<00:00, 250.18it/s]\n"
     ]
    },
    {
     "name": "stdout",
     "output_type": "stream",
     "text": [
      "\n",
      "Running experiment with subsample_ratio = 0.6, max_iter = 100\n",
      "  Trial 1/10 for subsample_ratio=0.6, max_iter=100\n"
     ]
    },
    {
     "name": "stderr",
     "output_type": "stream",
     "text": [
      "    Evaluating coalitions for trial 1: 100%|██████████| 1023/1023 [00:03<00:00, 268.52it/s]\n"
     ]
    },
    {
     "name": "stdout",
     "output_type": "stream",
     "text": [
      "  Trial 2/10 for subsample_ratio=0.6, max_iter=100\n"
     ]
    },
    {
     "name": "stderr",
     "output_type": "stream",
     "text": [
      "    Evaluating coalitions for trial 2: 100%|██████████| 1023/1023 [00:04<00:00, 253.67it/s]\n"
     ]
    },
    {
     "name": "stdout",
     "output_type": "stream",
     "text": [
      "  Trial 3/10 for subsample_ratio=0.6, max_iter=100\n"
     ]
    },
    {
     "name": "stderr",
     "output_type": "stream",
     "text": [
      "    Evaluating coalitions for trial 3: 100%|██████████| 1023/1023 [00:04<00:00, 242.62it/s]\n"
     ]
    },
    {
     "name": "stdout",
     "output_type": "stream",
     "text": [
      "  Trial 4/10 for subsample_ratio=0.6, max_iter=100\n"
     ]
    },
    {
     "name": "stderr",
     "output_type": "stream",
     "text": [
      "    Evaluating coalitions for trial 4: 100%|██████████| 1023/1023 [00:03<00:00, 256.49it/s]\n"
     ]
    },
    {
     "name": "stdout",
     "output_type": "stream",
     "text": [
      "  Trial 5/10 for subsample_ratio=0.6, max_iter=100\n"
     ]
    },
    {
     "name": "stderr",
     "output_type": "stream",
     "text": [
      "    Evaluating coalitions for trial 5: 100%|██████████| 1023/1023 [00:04<00:00, 255.04it/s]\n"
     ]
    },
    {
     "name": "stdout",
     "output_type": "stream",
     "text": [
      "  Trial 6/10 for subsample_ratio=0.6, max_iter=100\n"
     ]
    },
    {
     "name": "stderr",
     "output_type": "stream",
     "text": [
      "    Evaluating coalitions for trial 6: 100%|██████████| 1023/1023 [00:04<00:00, 249.64it/s]\n"
     ]
    },
    {
     "name": "stdout",
     "output_type": "stream",
     "text": [
      "  Trial 7/10 for subsample_ratio=0.6, max_iter=100\n"
     ]
    },
    {
     "name": "stderr",
     "output_type": "stream",
     "text": [
      "    Evaluating coalitions for trial 7: 100%|██████████| 1023/1023 [00:04<00:00, 247.37it/s]\n"
     ]
    },
    {
     "name": "stdout",
     "output_type": "stream",
     "text": [
      "  Trial 8/10 for subsample_ratio=0.6, max_iter=100\n"
     ]
    },
    {
     "name": "stderr",
     "output_type": "stream",
     "text": [
      "    Evaluating coalitions for trial 8: 100%|██████████| 1023/1023 [00:04<00:00, 249.79it/s]\n"
     ]
    },
    {
     "name": "stdout",
     "output_type": "stream",
     "text": [
      "  Trial 9/10 for subsample_ratio=0.6, max_iter=100\n"
     ]
    },
    {
     "name": "stderr",
     "output_type": "stream",
     "text": [
      "    Evaluating coalitions for trial 9: 100%|██████████| 1023/1023 [00:03<00:00, 258.65it/s]\n"
     ]
    },
    {
     "name": "stdout",
     "output_type": "stream",
     "text": [
      "  Trial 10/10 for subsample_ratio=0.6, max_iter=100\n"
     ]
    },
    {
     "name": "stderr",
     "output_type": "stream",
     "text": [
      "    Evaluating coalitions for trial 10: 100%|██████████| 1023/1023 [00:04<00:00, 255.15it/s]\n"
     ]
    },
    {
     "name": "stdout",
     "output_type": "stream",
     "text": [
      "\n",
      "Running experiment with subsample_ratio = 0.7, max_iter = 10\n",
      "  Trial 1/10 for subsample_ratio=0.7, max_iter=10\n"
     ]
    },
    {
     "name": "stderr",
     "output_type": "stream",
     "text": [
      "    Evaluating coalitions for trial 1: 100%|██████████| 1023/1023 [00:04<00:00, 229.80it/s]\n"
     ]
    },
    {
     "name": "stdout",
     "output_type": "stream",
     "text": [
      "  Trial 2/10 for subsample_ratio=0.7, max_iter=10\n"
     ]
    },
    {
     "name": "stderr",
     "output_type": "stream",
     "text": [
      "    Evaluating coalitions for trial 2: 100%|██████████| 1023/1023 [00:04<00:00, 219.19it/s]\n"
     ]
    },
    {
     "name": "stdout",
     "output_type": "stream",
     "text": [
      "  Trial 3/10 for subsample_ratio=0.7, max_iter=10\n"
     ]
    },
    {
     "name": "stderr",
     "output_type": "stream",
     "text": [
      "    Evaluating coalitions for trial 3: 100%|██████████| 1023/1023 [00:04<00:00, 224.55it/s]\n"
     ]
    },
    {
     "name": "stdout",
     "output_type": "stream",
     "text": [
      "  Trial 4/10 for subsample_ratio=0.7, max_iter=10\n"
     ]
    },
    {
     "name": "stderr",
     "output_type": "stream",
     "text": [
      "    Evaluating coalitions for trial 4: 100%|██████████| 1023/1023 [00:04<00:00, 216.99it/s]\n"
     ]
    },
    {
     "name": "stdout",
     "output_type": "stream",
     "text": [
      "  Trial 5/10 for subsample_ratio=0.7, max_iter=10\n"
     ]
    },
    {
     "name": "stderr",
     "output_type": "stream",
     "text": [
      "    Evaluating coalitions for trial 5: 100%|██████████| 1023/1023 [00:04<00:00, 217.17it/s]\n"
     ]
    },
    {
     "name": "stdout",
     "output_type": "stream",
     "text": [
      "  Trial 6/10 for subsample_ratio=0.7, max_iter=10\n"
     ]
    },
    {
     "name": "stderr",
     "output_type": "stream",
     "text": [
      "    Evaluating coalitions for trial 6: 100%|██████████| 1023/1023 [00:04<00:00, 219.67it/s]\n"
     ]
    },
    {
     "name": "stdout",
     "output_type": "stream",
     "text": [
      "  Trial 7/10 for subsample_ratio=0.7, max_iter=10\n"
     ]
    },
    {
     "name": "stderr",
     "output_type": "stream",
     "text": [
      "    Evaluating coalitions for trial 7: 100%|██████████| 1023/1023 [00:04<00:00, 224.11it/s]\n"
     ]
    },
    {
     "name": "stdout",
     "output_type": "stream",
     "text": [
      "  Trial 8/10 for subsample_ratio=0.7, max_iter=10\n"
     ]
    },
    {
     "name": "stderr",
     "output_type": "stream",
     "text": [
      "    Evaluating coalitions for trial 8: 100%|██████████| 1023/1023 [00:04<00:00, 217.90it/s]\n"
     ]
    },
    {
     "name": "stdout",
     "output_type": "stream",
     "text": [
      "  Trial 9/10 for subsample_ratio=0.7, max_iter=10\n"
     ]
    },
    {
     "name": "stderr",
     "output_type": "stream",
     "text": [
      "    Evaluating coalitions for trial 9: 100%|██████████| 1023/1023 [00:04<00:00, 219.80it/s]\n"
     ]
    },
    {
     "name": "stdout",
     "output_type": "stream",
     "text": [
      "  Trial 10/10 for subsample_ratio=0.7, max_iter=10\n"
     ]
    },
    {
     "name": "stderr",
     "output_type": "stream",
     "text": [
      "    Evaluating coalitions for trial 10: 100%|██████████| 1023/1023 [00:04<00:00, 218.80it/s]\n"
     ]
    },
    {
     "name": "stdout",
     "output_type": "stream",
     "text": [
      "\n",
      "Running experiment with subsample_ratio = 0.7, max_iter = 100\n",
      "  Trial 1/10 for subsample_ratio=0.7, max_iter=100\n"
     ]
    },
    {
     "name": "stderr",
     "output_type": "stream",
     "text": [
      "    Evaluating coalitions for trial 1: 100%|██████████| 1023/1023 [00:04<00:00, 226.60it/s]\n"
     ]
    },
    {
     "name": "stdout",
     "output_type": "stream",
     "text": [
      "  Trial 2/10 for subsample_ratio=0.7, max_iter=100\n"
     ]
    },
    {
     "name": "stderr",
     "output_type": "stream",
     "text": [
      "    Evaluating coalitions for trial 2: 100%|██████████| 1023/1023 [00:04<00:00, 223.53it/s]\n"
     ]
    },
    {
     "name": "stdout",
     "output_type": "stream",
     "text": [
      "  Trial 3/10 for subsample_ratio=0.7, max_iter=100\n"
     ]
    },
    {
     "name": "stderr",
     "output_type": "stream",
     "text": [
      "    Evaluating coalitions for trial 3: 100%|██████████| 1023/1023 [00:04<00:00, 212.10it/s]\n"
     ]
    },
    {
     "name": "stdout",
     "output_type": "stream",
     "text": [
      "  Trial 4/10 for subsample_ratio=0.7, max_iter=100\n"
     ]
    },
    {
     "name": "stderr",
     "output_type": "stream",
     "text": [
      "    Evaluating coalitions for trial 4: 100%|██████████| 1023/1023 [00:04<00:00, 224.44it/s]\n"
     ]
    },
    {
     "name": "stdout",
     "output_type": "stream",
     "text": [
      "  Trial 5/10 for subsample_ratio=0.7, max_iter=100\n"
     ]
    },
    {
     "name": "stderr",
     "output_type": "stream",
     "text": [
      "    Evaluating coalitions for trial 5: 100%|██████████| 1023/1023 [00:04<00:00, 221.72it/s]\n"
     ]
    },
    {
     "name": "stdout",
     "output_type": "stream",
     "text": [
      "  Trial 6/10 for subsample_ratio=0.7, max_iter=100\n"
     ]
    },
    {
     "name": "stderr",
     "output_type": "stream",
     "text": [
      "    Evaluating coalitions for trial 6: 100%|██████████| 1023/1023 [00:04<00:00, 219.48it/s]\n"
     ]
    },
    {
     "name": "stdout",
     "output_type": "stream",
     "text": [
      "  Trial 7/10 for subsample_ratio=0.7, max_iter=100\n"
     ]
    },
    {
     "name": "stderr",
     "output_type": "stream",
     "text": [
      "    Evaluating coalitions for trial 7: 100%|██████████| 1023/1023 [00:04<00:00, 223.25it/s]\n"
     ]
    },
    {
     "name": "stdout",
     "output_type": "stream",
     "text": [
      "  Trial 8/10 for subsample_ratio=0.7, max_iter=100\n"
     ]
    },
    {
     "name": "stderr",
     "output_type": "stream",
     "text": [
      "    Evaluating coalitions for trial 8: 100%|██████████| 1023/1023 [00:04<00:00, 220.85it/s]\n"
     ]
    },
    {
     "name": "stdout",
     "output_type": "stream",
     "text": [
      "  Trial 9/10 for subsample_ratio=0.7, max_iter=100\n"
     ]
    },
    {
     "name": "stderr",
     "output_type": "stream",
     "text": [
      "    Evaluating coalitions for trial 9: 100%|██████████| 1023/1023 [00:04<00:00, 222.68it/s]\n"
     ]
    },
    {
     "name": "stdout",
     "output_type": "stream",
     "text": [
      "  Trial 10/10 for subsample_ratio=0.7, max_iter=100\n"
     ]
    },
    {
     "name": "stderr",
     "output_type": "stream",
     "text": [
      "    Evaluating coalitions for trial 10: 100%|██████████| 1023/1023 [00:04<00:00, 216.10it/s]\n"
     ]
    },
    {
     "name": "stdout",
     "output_type": "stream",
     "text": [
      "\n",
      "Running experiment with subsample_ratio = 0.8, max_iter = 10\n",
      "  Trial 1/10 for subsample_ratio=0.8, max_iter=10\n"
     ]
    },
    {
     "name": "stderr",
     "output_type": "stream",
     "text": [
      "    Evaluating coalitions for trial 1: 100%|██████████| 1023/1023 [00:05<00:00, 194.60it/s]\n"
     ]
    },
    {
     "name": "stdout",
     "output_type": "stream",
     "text": [
      "  Trial 2/10 for subsample_ratio=0.8, max_iter=10\n"
     ]
    },
    {
     "name": "stderr",
     "output_type": "stream",
     "text": [
      "    Evaluating coalitions for trial 2: 100%|██████████| 1023/1023 [00:05<00:00, 195.69it/s]\n"
     ]
    },
    {
     "name": "stdout",
     "output_type": "stream",
     "text": [
      "  Trial 3/10 for subsample_ratio=0.8, max_iter=10\n"
     ]
    },
    {
     "name": "stderr",
     "output_type": "stream",
     "text": [
      "    Evaluating coalitions for trial 3: 100%|██████████| 1023/1023 [00:05<00:00, 191.72it/s]\n"
     ]
    },
    {
     "name": "stdout",
     "output_type": "stream",
     "text": [
      "  Trial 4/10 for subsample_ratio=0.8, max_iter=10\n"
     ]
    },
    {
     "name": "stderr",
     "output_type": "stream",
     "text": [
      "    Evaluating coalitions for trial 4: 100%|██████████| 1023/1023 [00:05<00:00, 191.20it/s]\n"
     ]
    },
    {
     "name": "stdout",
     "output_type": "stream",
     "text": [
      "  Trial 5/10 for subsample_ratio=0.8, max_iter=10\n"
     ]
    },
    {
     "name": "stderr",
     "output_type": "stream",
     "text": [
      "    Evaluating coalitions for trial 5: 100%|██████████| 1023/1023 [00:05<00:00, 195.74it/s]\n"
     ]
    },
    {
     "name": "stdout",
     "output_type": "stream",
     "text": [
      "  Trial 6/10 for subsample_ratio=0.8, max_iter=10\n"
     ]
    },
    {
     "name": "stderr",
     "output_type": "stream",
     "text": [
      "    Evaluating coalitions for trial 6: 100%|██████████| 1023/1023 [00:05<00:00, 193.06it/s]\n"
     ]
    },
    {
     "name": "stdout",
     "output_type": "stream",
     "text": [
      "  Trial 7/10 for subsample_ratio=0.8, max_iter=10\n"
     ]
    },
    {
     "name": "stderr",
     "output_type": "stream",
     "text": [
      "    Evaluating coalitions for trial 7: 100%|██████████| 1023/1023 [00:05<00:00, 194.18it/s]\n"
     ]
    },
    {
     "name": "stdout",
     "output_type": "stream",
     "text": [
      "  Trial 8/10 for subsample_ratio=0.8, max_iter=10\n"
     ]
    },
    {
     "name": "stderr",
     "output_type": "stream",
     "text": [
      "    Evaluating coalitions for trial 8: 100%|██████████| 1023/1023 [00:05<00:00, 196.59it/s]\n"
     ]
    },
    {
     "name": "stdout",
     "output_type": "stream",
     "text": [
      "  Trial 9/10 for subsample_ratio=0.8, max_iter=10\n"
     ]
    },
    {
     "name": "stderr",
     "output_type": "stream",
     "text": [
      "    Evaluating coalitions for trial 9: 100%|██████████| 1023/1023 [00:05<00:00, 188.67it/s]\n"
     ]
    },
    {
     "name": "stdout",
     "output_type": "stream",
     "text": [
      "  Trial 10/10 for subsample_ratio=0.8, max_iter=10\n"
     ]
    },
    {
     "name": "stderr",
     "output_type": "stream",
     "text": [
      "    Evaluating coalitions for trial 10: 100%|██████████| 1023/1023 [00:05<00:00, 195.38it/s]\n"
     ]
    },
    {
     "name": "stdout",
     "output_type": "stream",
     "text": [
      "\n",
      "Running experiment with subsample_ratio = 0.8, max_iter = 100\n",
      "  Trial 1/10 for subsample_ratio=0.8, max_iter=100\n"
     ]
    },
    {
     "name": "stderr",
     "output_type": "stream",
     "text": [
      "    Evaluating coalitions for trial 1: 100%|██████████| 1023/1023 [00:05<00:00, 194.08it/s]\n"
     ]
    },
    {
     "name": "stdout",
     "output_type": "stream",
     "text": [
      "  Trial 2/10 for subsample_ratio=0.8, max_iter=100\n"
     ]
    },
    {
     "name": "stderr",
     "output_type": "stream",
     "text": [
      "    Evaluating coalitions for trial 2: 100%|██████████| 1023/1023 [00:05<00:00, 192.84it/s]\n"
     ]
    },
    {
     "name": "stdout",
     "output_type": "stream",
     "text": [
      "  Trial 3/10 for subsample_ratio=0.8, max_iter=100\n"
     ]
    },
    {
     "name": "stderr",
     "output_type": "stream",
     "text": [
      "    Evaluating coalitions for trial 3: 100%|██████████| 1023/1023 [00:05<00:00, 196.56it/s]\n"
     ]
    },
    {
     "name": "stdout",
     "output_type": "stream",
     "text": [
      "  Trial 4/10 for subsample_ratio=0.8, max_iter=100\n"
     ]
    },
    {
     "name": "stderr",
     "output_type": "stream",
     "text": [
      "    Evaluating coalitions for trial 4: 100%|██████████| 1023/1023 [00:05<00:00, 198.76it/s]\n"
     ]
    },
    {
     "name": "stdout",
     "output_type": "stream",
     "text": [
      "  Trial 5/10 for subsample_ratio=0.8, max_iter=100\n"
     ]
    },
    {
     "name": "stderr",
     "output_type": "stream",
     "text": [
      "    Evaluating coalitions for trial 5: 100%|██████████| 1023/1023 [00:05<00:00, 193.64it/s]\n"
     ]
    },
    {
     "name": "stdout",
     "output_type": "stream",
     "text": [
      "  Trial 6/10 for subsample_ratio=0.8, max_iter=100\n"
     ]
    },
    {
     "name": "stderr",
     "output_type": "stream",
     "text": [
      "    Evaluating coalitions for trial 6: 100%|██████████| 1023/1023 [00:05<00:00, 190.47it/s]\n"
     ]
    },
    {
     "name": "stdout",
     "output_type": "stream",
     "text": [
      "  Trial 7/10 for subsample_ratio=0.8, max_iter=100\n"
     ]
    },
    {
     "name": "stderr",
     "output_type": "stream",
     "text": [
      "    Evaluating coalitions for trial 7: 100%|██████████| 1023/1023 [00:05<00:00, 195.67it/s]\n"
     ]
    },
    {
     "name": "stdout",
     "output_type": "stream",
     "text": [
      "  Trial 8/10 for subsample_ratio=0.8, max_iter=100\n"
     ]
    },
    {
     "name": "stderr",
     "output_type": "stream",
     "text": [
      "    Evaluating coalitions for trial 8: 100%|██████████| 1023/1023 [00:05<00:00, 195.19it/s]\n"
     ]
    },
    {
     "name": "stdout",
     "output_type": "stream",
     "text": [
      "  Trial 9/10 for subsample_ratio=0.8, max_iter=100\n"
     ]
    },
    {
     "name": "stderr",
     "output_type": "stream",
     "text": [
      "    Evaluating coalitions for trial 9: 100%|██████████| 1023/1023 [00:05<00:00, 195.03it/s]\n"
     ]
    },
    {
     "name": "stdout",
     "output_type": "stream",
     "text": [
      "  Trial 10/10 for subsample_ratio=0.8, max_iter=100\n"
     ]
    },
    {
     "name": "stderr",
     "output_type": "stream",
     "text": [
      "    Evaluating coalitions for trial 10: 100%|██████████| 1023/1023 [00:05<00:00, 200.04it/s]\n"
     ]
    },
    {
     "name": "stdout",
     "output_type": "stream",
     "text": [
      "Process complete. Results saved.\n"
     ]
    }
   ],
   "source": [
    "train_files_pattern = \"/Users/abbaszal/Documents/Thesis_Project_Spambase/data/corrupted_data/c3/train_{i:02d}.csv\" \n",
    "test_files_pattern = \"/Users/abbaszal/Documents/Thesis_Project_Spambase/data/corrupted_data/c3/test_{i:02d}.csv\" \n",
    "run_experiment(n_clients=10, n_trials=10, base_random_seed=42,  subsample_ratios=[0.5, 0.6, 0.7, 0.8],  max_iters=[10, 100], train_files_pattern=train_files_pattern, test_files_pattern=test_files_pattern)\n"
   ]
  },
  {
   "cell_type": "code",
   "execution_count": 41,
   "metadata": {},
   "outputs": [
    {
     "name": "stdout",
     "output_type": "stream",
     "text": [
      "\n",
      "Running experiment with subsample_ratio = 0.5, max_iter = 10\n",
      "  Trial 1/10 for subsample_ratio=0.5, max_iter=10\n"
     ]
    },
    {
     "name": "stderr",
     "output_type": "stream",
     "text": [
      "    Evaluating coalitions for trial 1: 100%|██████████| 1023/1023 [00:03<00:00, 309.11it/s]\n"
     ]
    },
    {
     "name": "stdout",
     "output_type": "stream",
     "text": [
      "  Trial 2/10 for subsample_ratio=0.5, max_iter=10\n"
     ]
    },
    {
     "name": "stderr",
     "output_type": "stream",
     "text": [
      "    Evaluating coalitions for trial 2: 100%|██████████| 1023/1023 [00:03<00:00, 300.76it/s]\n"
     ]
    },
    {
     "name": "stdout",
     "output_type": "stream",
     "text": [
      "  Trial 3/10 for subsample_ratio=0.5, max_iter=10\n"
     ]
    },
    {
     "name": "stderr",
     "output_type": "stream",
     "text": [
      "    Evaluating coalitions for trial 3: 100%|██████████| 1023/1023 [00:03<00:00, 308.72it/s]\n"
     ]
    },
    {
     "name": "stdout",
     "output_type": "stream",
     "text": [
      "  Trial 4/10 for subsample_ratio=0.5, max_iter=10\n"
     ]
    },
    {
     "name": "stderr",
     "output_type": "stream",
     "text": [
      "    Evaluating coalitions for trial 4: 100%|██████████| 1023/1023 [00:03<00:00, 307.11it/s]\n"
     ]
    },
    {
     "name": "stdout",
     "output_type": "stream",
     "text": [
      "  Trial 5/10 for subsample_ratio=0.5, max_iter=10\n"
     ]
    },
    {
     "name": "stderr",
     "output_type": "stream",
     "text": [
      "    Evaluating coalitions for trial 5: 100%|██████████| 1023/1023 [00:03<00:00, 300.66it/s]\n"
     ]
    },
    {
     "name": "stdout",
     "output_type": "stream",
     "text": [
      "  Trial 6/10 for subsample_ratio=0.5, max_iter=10\n"
     ]
    },
    {
     "name": "stderr",
     "output_type": "stream",
     "text": [
      "    Evaluating coalitions for trial 6: 100%|██████████| 1023/1023 [00:03<00:00, 325.74it/s]\n"
     ]
    },
    {
     "name": "stdout",
     "output_type": "stream",
     "text": [
      "  Trial 7/10 for subsample_ratio=0.5, max_iter=10\n"
     ]
    },
    {
     "name": "stderr",
     "output_type": "stream",
     "text": [
      "    Evaluating coalitions for trial 7: 100%|██████████| 1023/1023 [00:03<00:00, 314.54it/s]\n"
     ]
    },
    {
     "name": "stdout",
     "output_type": "stream",
     "text": [
      "  Trial 8/10 for subsample_ratio=0.5, max_iter=10\n"
     ]
    },
    {
     "name": "stderr",
     "output_type": "stream",
     "text": [
      "    Evaluating coalitions for trial 8: 100%|██████████| 1023/1023 [00:03<00:00, 323.41it/s]\n"
     ]
    },
    {
     "name": "stdout",
     "output_type": "stream",
     "text": [
      "  Trial 9/10 for subsample_ratio=0.5, max_iter=10\n"
     ]
    },
    {
     "name": "stderr",
     "output_type": "stream",
     "text": [
      "    Evaluating coalitions for trial 9: 100%|██████████| 1023/1023 [00:03<00:00, 312.80it/s]\n"
     ]
    },
    {
     "name": "stdout",
     "output_type": "stream",
     "text": [
      "  Trial 10/10 for subsample_ratio=0.5, max_iter=10\n"
     ]
    },
    {
     "name": "stderr",
     "output_type": "stream",
     "text": [
      "    Evaluating coalitions for trial 10: 100%|██████████| 1023/1023 [00:03<00:00, 306.88it/s]\n"
     ]
    },
    {
     "name": "stdout",
     "output_type": "stream",
     "text": [
      "\n",
      "Running experiment with subsample_ratio = 0.5, max_iter = 100\n",
      "  Trial 1/10 for subsample_ratio=0.5, max_iter=100\n"
     ]
    },
    {
     "name": "stderr",
     "output_type": "stream",
     "text": [
      "    Evaluating coalitions for trial 1: 100%|██████████| 1023/1023 [00:02<00:00, 341.88it/s]\n"
     ]
    },
    {
     "name": "stdout",
     "output_type": "stream",
     "text": [
      "  Trial 2/10 for subsample_ratio=0.5, max_iter=100\n"
     ]
    },
    {
     "name": "stderr",
     "output_type": "stream",
     "text": [
      "    Evaluating coalitions for trial 2: 100%|██████████| 1023/1023 [00:03<00:00, 320.82it/s]\n"
     ]
    },
    {
     "name": "stdout",
     "output_type": "stream",
     "text": [
      "  Trial 3/10 for subsample_ratio=0.5, max_iter=100\n"
     ]
    },
    {
     "name": "stderr",
     "output_type": "stream",
     "text": [
      "    Evaluating coalitions for trial 3: 100%|██████████| 1023/1023 [00:03<00:00, 320.80it/s]\n"
     ]
    },
    {
     "name": "stdout",
     "output_type": "stream",
     "text": [
      "  Trial 4/10 for subsample_ratio=0.5, max_iter=100\n"
     ]
    },
    {
     "name": "stderr",
     "output_type": "stream",
     "text": [
      "    Evaluating coalitions for trial 4: 100%|██████████| 1023/1023 [00:04<00:00, 225.30it/s]\n"
     ]
    },
    {
     "name": "stdout",
     "output_type": "stream",
     "text": [
      "  Trial 5/10 for subsample_ratio=0.5, max_iter=100\n"
     ]
    },
    {
     "name": "stderr",
     "output_type": "stream",
     "text": [
      "    Evaluating coalitions for trial 5: 100%|██████████| 1023/1023 [00:03<00:00, 316.70it/s]\n"
     ]
    },
    {
     "name": "stdout",
     "output_type": "stream",
     "text": [
      "  Trial 6/10 for subsample_ratio=0.5, max_iter=100\n"
     ]
    },
    {
     "name": "stderr",
     "output_type": "stream",
     "text": [
      "    Evaluating coalitions for trial 6: 100%|██████████| 1023/1023 [00:03<00:00, 319.77it/s]\n"
     ]
    },
    {
     "name": "stdout",
     "output_type": "stream",
     "text": [
      "  Trial 7/10 for subsample_ratio=0.5, max_iter=100\n"
     ]
    },
    {
     "name": "stderr",
     "output_type": "stream",
     "text": [
      "    Evaluating coalitions for trial 7: 100%|██████████| 1023/1023 [00:03<00:00, 321.73it/s]\n"
     ]
    },
    {
     "name": "stdout",
     "output_type": "stream",
     "text": [
      "  Trial 8/10 for subsample_ratio=0.5, max_iter=100\n"
     ]
    },
    {
     "name": "stderr",
     "output_type": "stream",
     "text": [
      "    Evaluating coalitions for trial 8: 100%|██████████| 1023/1023 [00:03<00:00, 308.64it/s]\n"
     ]
    },
    {
     "name": "stdout",
     "output_type": "stream",
     "text": [
      "  Trial 9/10 for subsample_ratio=0.5, max_iter=100\n"
     ]
    },
    {
     "name": "stderr",
     "output_type": "stream",
     "text": [
      "    Evaluating coalitions for trial 9: 100%|██████████| 1023/1023 [00:03<00:00, 319.39it/s]\n"
     ]
    },
    {
     "name": "stdout",
     "output_type": "stream",
     "text": [
      "  Trial 10/10 for subsample_ratio=0.5, max_iter=100\n"
     ]
    },
    {
     "name": "stderr",
     "output_type": "stream",
     "text": [
      "    Evaluating coalitions for trial 10: 100%|██████████| 1023/1023 [00:03<00:00, 314.82it/s]\n"
     ]
    },
    {
     "name": "stdout",
     "output_type": "stream",
     "text": [
      "\n",
      "Running experiment with subsample_ratio = 0.6, max_iter = 10\n",
      "  Trial 1/10 for subsample_ratio=0.6, max_iter=10\n"
     ]
    },
    {
     "name": "stderr",
     "output_type": "stream",
     "text": [
      "    Evaluating coalitions for trial 1: 100%|██████████| 1023/1023 [00:03<00:00, 266.86it/s]\n"
     ]
    },
    {
     "name": "stdout",
     "output_type": "stream",
     "text": [
      "  Trial 2/10 for subsample_ratio=0.6, max_iter=10\n"
     ]
    },
    {
     "name": "stderr",
     "output_type": "stream",
     "text": [
      "    Evaluating coalitions for trial 2: 100%|██████████| 1023/1023 [00:03<00:00, 272.15it/s]\n"
     ]
    },
    {
     "name": "stdout",
     "output_type": "stream",
     "text": [
      "  Trial 3/10 for subsample_ratio=0.6, max_iter=10\n"
     ]
    },
    {
     "name": "stderr",
     "output_type": "stream",
     "text": [
      "    Evaluating coalitions for trial 3: 100%|██████████| 1023/1023 [00:03<00:00, 264.72it/s]\n"
     ]
    },
    {
     "name": "stdout",
     "output_type": "stream",
     "text": [
      "  Trial 4/10 for subsample_ratio=0.6, max_iter=10\n"
     ]
    },
    {
     "name": "stderr",
     "output_type": "stream",
     "text": [
      "    Evaluating coalitions for trial 4: 100%|██████████| 1023/1023 [00:03<00:00, 262.75it/s]\n"
     ]
    },
    {
     "name": "stdout",
     "output_type": "stream",
     "text": [
      "  Trial 5/10 for subsample_ratio=0.6, max_iter=10\n"
     ]
    },
    {
     "name": "stderr",
     "output_type": "stream",
     "text": [
      "    Evaluating coalitions for trial 5: 100%|██████████| 1023/1023 [00:04<00:00, 254.64it/s]\n"
     ]
    },
    {
     "name": "stdout",
     "output_type": "stream",
     "text": [
      "  Trial 6/10 for subsample_ratio=0.6, max_iter=10\n"
     ]
    },
    {
     "name": "stderr",
     "output_type": "stream",
     "text": [
      "    Evaluating coalitions for trial 6: 100%|██████████| 1023/1023 [00:03<00:00, 260.57it/s]\n"
     ]
    },
    {
     "name": "stdout",
     "output_type": "stream",
     "text": [
      "  Trial 7/10 for subsample_ratio=0.6, max_iter=10\n"
     ]
    },
    {
     "name": "stderr",
     "output_type": "stream",
     "text": [
      "    Evaluating coalitions for trial 7: 100%|██████████| 1023/1023 [00:03<00:00, 261.33it/s]\n"
     ]
    },
    {
     "name": "stdout",
     "output_type": "stream",
     "text": [
      "  Trial 8/10 for subsample_ratio=0.6, max_iter=10\n"
     ]
    },
    {
     "name": "stderr",
     "output_type": "stream",
     "text": [
      "    Evaluating coalitions for trial 8: 100%|██████████| 1023/1023 [00:03<00:00, 264.55it/s]\n"
     ]
    },
    {
     "name": "stdout",
     "output_type": "stream",
     "text": [
      "  Trial 9/10 for subsample_ratio=0.6, max_iter=10\n"
     ]
    },
    {
     "name": "stderr",
     "output_type": "stream",
     "text": [
      "    Evaluating coalitions for trial 9: 100%|██████████| 1023/1023 [00:03<00:00, 261.45it/s]\n"
     ]
    },
    {
     "name": "stdout",
     "output_type": "stream",
     "text": [
      "  Trial 10/10 for subsample_ratio=0.6, max_iter=10\n"
     ]
    },
    {
     "name": "stderr",
     "output_type": "stream",
     "text": [
      "    Evaluating coalitions for trial 10: 100%|██████████| 1023/1023 [00:04<00:00, 255.29it/s]\n"
     ]
    },
    {
     "name": "stdout",
     "output_type": "stream",
     "text": [
      "\n",
      "Running experiment with subsample_ratio = 0.6, max_iter = 100\n",
      "  Trial 1/10 for subsample_ratio=0.6, max_iter=100\n"
     ]
    },
    {
     "name": "stderr",
     "output_type": "stream",
     "text": [
      "    Evaluating coalitions for trial 1: 100%|██████████| 1023/1023 [00:03<00:00, 262.38it/s]\n"
     ]
    },
    {
     "name": "stdout",
     "output_type": "stream",
     "text": [
      "  Trial 2/10 for subsample_ratio=0.6, max_iter=100\n"
     ]
    },
    {
     "name": "stderr",
     "output_type": "stream",
     "text": [
      "    Evaluating coalitions for trial 2: 100%|██████████| 1023/1023 [00:03<00:00, 261.83it/s]\n"
     ]
    },
    {
     "name": "stdout",
     "output_type": "stream",
     "text": [
      "  Trial 3/10 for subsample_ratio=0.6, max_iter=100\n"
     ]
    },
    {
     "name": "stderr",
     "output_type": "stream",
     "text": [
      "    Evaluating coalitions for trial 3: 100%|██████████| 1023/1023 [00:03<00:00, 261.47it/s]\n"
     ]
    },
    {
     "name": "stdout",
     "output_type": "stream",
     "text": [
      "  Trial 4/10 for subsample_ratio=0.6, max_iter=100\n"
     ]
    },
    {
     "name": "stderr",
     "output_type": "stream",
     "text": [
      "    Evaluating coalitions for trial 4: 100%|██████████| 1023/1023 [00:03<00:00, 261.32it/s]\n"
     ]
    },
    {
     "name": "stdout",
     "output_type": "stream",
     "text": [
      "  Trial 5/10 for subsample_ratio=0.6, max_iter=100\n"
     ]
    },
    {
     "name": "stderr",
     "output_type": "stream",
     "text": [
      "    Evaluating coalitions for trial 5: 100%|██████████| 1023/1023 [00:03<00:00, 257.58it/s]\n"
     ]
    },
    {
     "name": "stdout",
     "output_type": "stream",
     "text": [
      "  Trial 6/10 for subsample_ratio=0.6, max_iter=100\n"
     ]
    },
    {
     "name": "stderr",
     "output_type": "stream",
     "text": [
      "    Evaluating coalitions for trial 6: 100%|██████████| 1023/1023 [00:03<00:00, 269.01it/s]\n"
     ]
    },
    {
     "name": "stdout",
     "output_type": "stream",
     "text": [
      "  Trial 7/10 for subsample_ratio=0.6, max_iter=100\n"
     ]
    },
    {
     "name": "stderr",
     "output_type": "stream",
     "text": [
      "    Evaluating coalitions for trial 7: 100%|██████████| 1023/1023 [00:03<00:00, 259.52it/s]\n"
     ]
    },
    {
     "name": "stdout",
     "output_type": "stream",
     "text": [
      "  Trial 8/10 for subsample_ratio=0.6, max_iter=100\n"
     ]
    },
    {
     "name": "stderr",
     "output_type": "stream",
     "text": [
      "    Evaluating coalitions for trial 8: 100%|██████████| 1023/1023 [00:03<00:00, 257.02it/s]\n"
     ]
    },
    {
     "name": "stdout",
     "output_type": "stream",
     "text": [
      "  Trial 9/10 for subsample_ratio=0.6, max_iter=100\n"
     ]
    },
    {
     "name": "stderr",
     "output_type": "stream",
     "text": [
      "    Evaluating coalitions for trial 9: 100%|██████████| 1023/1023 [00:03<00:00, 258.36it/s]\n"
     ]
    },
    {
     "name": "stdout",
     "output_type": "stream",
     "text": [
      "  Trial 10/10 for subsample_ratio=0.6, max_iter=100\n"
     ]
    },
    {
     "name": "stderr",
     "output_type": "stream",
     "text": [
      "    Evaluating coalitions for trial 10: 100%|██████████| 1023/1023 [00:03<00:00, 268.27it/s]\n"
     ]
    },
    {
     "name": "stdout",
     "output_type": "stream",
     "text": [
      "\n",
      "Running experiment with subsample_ratio = 0.7, max_iter = 10\n",
      "  Trial 1/10 for subsample_ratio=0.7, max_iter=10\n"
     ]
    },
    {
     "name": "stderr",
     "output_type": "stream",
     "text": [
      "    Evaluating coalitions for trial 1: 100%|██████████| 1023/1023 [00:04<00:00, 231.38it/s]\n"
     ]
    },
    {
     "name": "stdout",
     "output_type": "stream",
     "text": [
      "  Trial 2/10 for subsample_ratio=0.7, max_iter=10\n"
     ]
    },
    {
     "name": "stderr",
     "output_type": "stream",
     "text": [
      "    Evaluating coalitions for trial 2: 100%|██████████| 1023/1023 [00:04<00:00, 229.46it/s]\n"
     ]
    },
    {
     "name": "stdout",
     "output_type": "stream",
     "text": [
      "  Trial 3/10 for subsample_ratio=0.7, max_iter=10\n"
     ]
    },
    {
     "name": "stderr",
     "output_type": "stream",
     "text": [
      "    Evaluating coalitions for trial 3: 100%|██████████| 1023/1023 [00:04<00:00, 223.77it/s]\n"
     ]
    },
    {
     "name": "stdout",
     "output_type": "stream",
     "text": [
      "  Trial 4/10 for subsample_ratio=0.7, max_iter=10\n"
     ]
    },
    {
     "name": "stderr",
     "output_type": "stream",
     "text": [
      "    Evaluating coalitions for trial 4: 100%|██████████| 1023/1023 [00:04<00:00, 222.23it/s]\n"
     ]
    },
    {
     "name": "stdout",
     "output_type": "stream",
     "text": [
      "  Trial 5/10 for subsample_ratio=0.7, max_iter=10\n"
     ]
    },
    {
     "name": "stderr",
     "output_type": "stream",
     "text": [
      "    Evaluating coalitions for trial 5: 100%|██████████| 1023/1023 [00:04<00:00, 226.84it/s]\n"
     ]
    },
    {
     "name": "stdout",
     "output_type": "stream",
     "text": [
      "  Trial 6/10 for subsample_ratio=0.7, max_iter=10\n"
     ]
    },
    {
     "name": "stderr",
     "output_type": "stream",
     "text": [
      "    Evaluating coalitions for trial 6: 100%|██████████| 1023/1023 [00:04<00:00, 224.34it/s]\n"
     ]
    },
    {
     "name": "stdout",
     "output_type": "stream",
     "text": [
      "  Trial 7/10 for subsample_ratio=0.7, max_iter=10\n"
     ]
    },
    {
     "name": "stderr",
     "output_type": "stream",
     "text": [
      "    Evaluating coalitions for trial 7: 100%|██████████| 1023/1023 [00:04<00:00, 226.79it/s]\n"
     ]
    },
    {
     "name": "stdout",
     "output_type": "stream",
     "text": [
      "  Trial 8/10 for subsample_ratio=0.7, max_iter=10\n"
     ]
    },
    {
     "name": "stderr",
     "output_type": "stream",
     "text": [
      "    Evaluating coalitions for trial 8: 100%|██████████| 1023/1023 [00:04<00:00, 228.19it/s]\n"
     ]
    },
    {
     "name": "stdout",
     "output_type": "stream",
     "text": [
      "  Trial 9/10 for subsample_ratio=0.7, max_iter=10\n"
     ]
    },
    {
     "name": "stderr",
     "output_type": "stream",
     "text": [
      "    Evaluating coalitions for trial 9: 100%|██████████| 1023/1023 [00:04<00:00, 225.91it/s]\n"
     ]
    },
    {
     "name": "stdout",
     "output_type": "stream",
     "text": [
      "  Trial 10/10 for subsample_ratio=0.7, max_iter=10\n"
     ]
    },
    {
     "name": "stderr",
     "output_type": "stream",
     "text": [
      "    Evaluating coalitions for trial 10: 100%|██████████| 1023/1023 [00:04<00:00, 228.90it/s]\n"
     ]
    },
    {
     "name": "stdout",
     "output_type": "stream",
     "text": [
      "\n",
      "Running experiment with subsample_ratio = 0.7, max_iter = 100\n",
      "  Trial 1/10 for subsample_ratio=0.7, max_iter=100\n"
     ]
    },
    {
     "name": "stderr",
     "output_type": "stream",
     "text": [
      "    Evaluating coalitions for trial 1: 100%|██████████| 1023/1023 [00:04<00:00, 238.21it/s]\n"
     ]
    },
    {
     "name": "stdout",
     "output_type": "stream",
     "text": [
      "  Trial 2/10 for subsample_ratio=0.7, max_iter=100\n"
     ]
    },
    {
     "name": "stderr",
     "output_type": "stream",
     "text": [
      "    Evaluating coalitions for trial 2: 100%|██████████| 1023/1023 [00:04<00:00, 227.61it/s]\n"
     ]
    },
    {
     "name": "stdout",
     "output_type": "stream",
     "text": [
      "  Trial 3/10 for subsample_ratio=0.7, max_iter=100\n"
     ]
    },
    {
     "name": "stderr",
     "output_type": "stream",
     "text": [
      "    Evaluating coalitions for trial 3: 100%|██████████| 1023/1023 [00:04<00:00, 230.30it/s]\n"
     ]
    },
    {
     "name": "stdout",
     "output_type": "stream",
     "text": [
      "  Trial 4/10 for subsample_ratio=0.7, max_iter=100\n"
     ]
    },
    {
     "name": "stderr",
     "output_type": "stream",
     "text": [
      "    Evaluating coalitions for trial 4: 100%|██████████| 1023/1023 [00:04<00:00, 226.55it/s]\n"
     ]
    },
    {
     "name": "stdout",
     "output_type": "stream",
     "text": [
      "  Trial 5/10 for subsample_ratio=0.7, max_iter=100\n"
     ]
    },
    {
     "name": "stderr",
     "output_type": "stream",
     "text": [
      "    Evaluating coalitions for trial 5: 100%|██████████| 1023/1023 [00:04<00:00, 226.47it/s]\n"
     ]
    },
    {
     "name": "stdout",
     "output_type": "stream",
     "text": [
      "  Trial 6/10 for subsample_ratio=0.7, max_iter=100\n"
     ]
    },
    {
     "name": "stderr",
     "output_type": "stream",
     "text": [
      "    Evaluating coalitions for trial 6: 100%|██████████| 1023/1023 [00:04<00:00, 235.33it/s]\n"
     ]
    },
    {
     "name": "stdout",
     "output_type": "stream",
     "text": [
      "  Trial 7/10 for subsample_ratio=0.7, max_iter=100\n"
     ]
    },
    {
     "name": "stderr",
     "output_type": "stream",
     "text": [
      "    Evaluating coalitions for trial 7: 100%|██████████| 1023/1023 [00:04<00:00, 221.94it/s]\n"
     ]
    },
    {
     "name": "stdout",
     "output_type": "stream",
     "text": [
      "  Trial 8/10 for subsample_ratio=0.7, max_iter=100\n"
     ]
    },
    {
     "name": "stderr",
     "output_type": "stream",
     "text": [
      "    Evaluating coalitions for trial 8: 100%|██████████| 1023/1023 [00:04<00:00, 227.24it/s]\n"
     ]
    },
    {
     "name": "stdout",
     "output_type": "stream",
     "text": [
      "  Trial 9/10 for subsample_ratio=0.7, max_iter=100\n"
     ]
    },
    {
     "name": "stderr",
     "output_type": "stream",
     "text": [
      "    Evaluating coalitions for trial 9: 100%|██████████| 1023/1023 [00:04<00:00, 237.54it/s]\n"
     ]
    },
    {
     "name": "stdout",
     "output_type": "stream",
     "text": [
      "  Trial 10/10 for subsample_ratio=0.7, max_iter=100\n"
     ]
    },
    {
     "name": "stderr",
     "output_type": "stream",
     "text": [
      "    Evaluating coalitions for trial 10: 100%|██████████| 1023/1023 [00:04<00:00, 235.13it/s]\n"
     ]
    },
    {
     "name": "stdout",
     "output_type": "stream",
     "text": [
      "\n",
      "Running experiment with subsample_ratio = 0.8, max_iter = 10\n",
      "  Trial 1/10 for subsample_ratio=0.8, max_iter=10\n"
     ]
    },
    {
     "name": "stderr",
     "output_type": "stream",
     "text": [
      "    Evaluating coalitions for trial 1: 100%|██████████| 1023/1023 [00:05<00:00, 198.18it/s]\n"
     ]
    },
    {
     "name": "stdout",
     "output_type": "stream",
     "text": [
      "  Trial 2/10 for subsample_ratio=0.8, max_iter=10\n"
     ]
    },
    {
     "name": "stderr",
     "output_type": "stream",
     "text": [
      "    Evaluating coalitions for trial 2: 100%|██████████| 1023/1023 [00:05<00:00, 198.08it/s]\n"
     ]
    },
    {
     "name": "stdout",
     "output_type": "stream",
     "text": [
      "  Trial 3/10 for subsample_ratio=0.8, max_iter=10\n"
     ]
    },
    {
     "name": "stderr",
     "output_type": "stream",
     "text": [
      "    Evaluating coalitions for trial 3: 100%|██████████| 1023/1023 [00:05<00:00, 196.53it/s]\n"
     ]
    },
    {
     "name": "stdout",
     "output_type": "stream",
     "text": [
      "  Trial 4/10 for subsample_ratio=0.8, max_iter=10\n"
     ]
    },
    {
     "name": "stderr",
     "output_type": "stream",
     "text": [
      "    Evaluating coalitions for trial 4: 100%|██████████| 1023/1023 [00:05<00:00, 195.52it/s]\n"
     ]
    },
    {
     "name": "stdout",
     "output_type": "stream",
     "text": [
      "  Trial 5/10 for subsample_ratio=0.8, max_iter=10\n"
     ]
    },
    {
     "name": "stderr",
     "output_type": "stream",
     "text": [
      "    Evaluating coalitions for trial 5: 100%|██████████| 1023/1023 [00:05<00:00, 194.00it/s]\n"
     ]
    },
    {
     "name": "stdout",
     "output_type": "stream",
     "text": [
      "  Trial 6/10 for subsample_ratio=0.8, max_iter=10\n"
     ]
    },
    {
     "name": "stderr",
     "output_type": "stream",
     "text": [
      "    Evaluating coalitions for trial 6: 100%|██████████| 1023/1023 [00:05<00:00, 196.81it/s]\n"
     ]
    },
    {
     "name": "stdout",
     "output_type": "stream",
     "text": [
      "  Trial 7/10 for subsample_ratio=0.8, max_iter=10\n"
     ]
    },
    {
     "name": "stderr",
     "output_type": "stream",
     "text": [
      "    Evaluating coalitions for trial 7: 100%|██████████| 1023/1023 [00:05<00:00, 196.85it/s]\n"
     ]
    },
    {
     "name": "stdout",
     "output_type": "stream",
     "text": [
      "  Trial 8/10 for subsample_ratio=0.8, max_iter=10\n"
     ]
    },
    {
     "name": "stderr",
     "output_type": "stream",
     "text": [
      "    Evaluating coalitions for trial 8: 100%|██████████| 1023/1023 [00:05<00:00, 195.33it/s]\n"
     ]
    },
    {
     "name": "stdout",
     "output_type": "stream",
     "text": [
      "  Trial 9/10 for subsample_ratio=0.8, max_iter=10\n"
     ]
    },
    {
     "name": "stderr",
     "output_type": "stream",
     "text": [
      "    Evaluating coalitions for trial 9: 100%|██████████| 1023/1023 [00:05<00:00, 196.95it/s]\n"
     ]
    },
    {
     "name": "stdout",
     "output_type": "stream",
     "text": [
      "  Trial 10/10 for subsample_ratio=0.8, max_iter=10\n"
     ]
    },
    {
     "name": "stderr",
     "output_type": "stream",
     "text": [
      "    Evaluating coalitions for trial 10: 100%|██████████| 1023/1023 [00:05<00:00, 196.22it/s]\n"
     ]
    },
    {
     "name": "stdout",
     "output_type": "stream",
     "text": [
      "\n",
      "Running experiment with subsample_ratio = 0.8, max_iter = 100\n",
      "  Trial 1/10 for subsample_ratio=0.8, max_iter=100\n"
     ]
    },
    {
     "name": "stderr",
     "output_type": "stream",
     "text": [
      "    Evaluating coalitions for trial 1: 100%|██████████| 1023/1023 [00:05<00:00, 202.40it/s]\n"
     ]
    },
    {
     "name": "stdout",
     "output_type": "stream",
     "text": [
      "  Trial 2/10 for subsample_ratio=0.8, max_iter=100\n"
     ]
    },
    {
     "name": "stderr",
     "output_type": "stream",
     "text": [
      "    Evaluating coalitions for trial 2: 100%|██████████| 1023/1023 [00:05<00:00, 196.30it/s]\n"
     ]
    },
    {
     "name": "stdout",
     "output_type": "stream",
     "text": [
      "  Trial 3/10 for subsample_ratio=0.8, max_iter=100\n"
     ]
    },
    {
     "name": "stderr",
     "output_type": "stream",
     "text": [
      "    Evaluating coalitions for trial 3: 100%|██████████| 1023/1023 [00:05<00:00, 193.85it/s]\n"
     ]
    },
    {
     "name": "stdout",
     "output_type": "stream",
     "text": [
      "  Trial 4/10 for subsample_ratio=0.8, max_iter=100\n"
     ]
    },
    {
     "name": "stderr",
     "output_type": "stream",
     "text": [
      "    Evaluating coalitions for trial 4: 100%|██████████| 1023/1023 [00:05<00:00, 198.45it/s]\n"
     ]
    },
    {
     "name": "stdout",
     "output_type": "stream",
     "text": [
      "  Trial 5/10 for subsample_ratio=0.8, max_iter=100\n"
     ]
    },
    {
     "name": "stderr",
     "output_type": "stream",
     "text": [
      "    Evaluating coalitions for trial 5: 100%|██████████| 1023/1023 [00:05<00:00, 195.58it/s]\n"
     ]
    },
    {
     "name": "stdout",
     "output_type": "stream",
     "text": [
      "  Trial 6/10 for subsample_ratio=0.8, max_iter=100\n"
     ]
    },
    {
     "name": "stderr",
     "output_type": "stream",
     "text": [
      "    Evaluating coalitions for trial 6: 100%|██████████| 1023/1023 [00:05<00:00, 199.86it/s]\n"
     ]
    },
    {
     "name": "stdout",
     "output_type": "stream",
     "text": [
      "  Trial 7/10 for subsample_ratio=0.8, max_iter=100\n"
     ]
    },
    {
     "name": "stderr",
     "output_type": "stream",
     "text": [
      "    Evaluating coalitions for trial 7: 100%|██████████| 1023/1023 [00:05<00:00, 197.71it/s]\n"
     ]
    },
    {
     "name": "stdout",
     "output_type": "stream",
     "text": [
      "  Trial 8/10 for subsample_ratio=0.8, max_iter=100\n"
     ]
    },
    {
     "name": "stderr",
     "output_type": "stream",
     "text": [
      "    Evaluating coalitions for trial 8: 100%|██████████| 1023/1023 [00:05<00:00, 197.28it/s]\n"
     ]
    },
    {
     "name": "stdout",
     "output_type": "stream",
     "text": [
      "  Trial 9/10 for subsample_ratio=0.8, max_iter=100\n"
     ]
    },
    {
     "name": "stderr",
     "output_type": "stream",
     "text": [
      "    Evaluating coalitions for trial 9: 100%|██████████| 1023/1023 [00:05<00:00, 194.28it/s]\n"
     ]
    },
    {
     "name": "stdout",
     "output_type": "stream",
     "text": [
      "  Trial 10/10 for subsample_ratio=0.8, max_iter=100\n"
     ]
    },
    {
     "name": "stderr",
     "output_type": "stream",
     "text": [
      "    Evaluating coalitions for trial 10: 100%|██████████| 1023/1023 [00:05<00:00, 199.68it/s]\n"
     ]
    },
    {
     "name": "stdout",
     "output_type": "stream",
     "text": [
      "Process complete. Results saved.\n"
     ]
    }
   ],
   "source": [
    "train_files_pattern = \"/Users/abbaszal/Documents/Thesis_Project_Spambase/data/corrupted_data/c4/train_{i:02d}.csv\" \n",
    "test_files_pattern = \"/Users/abbaszal/Documents/Thesis_Project_Spambase/data/corrupted_data/c4/test_{i:02d}.csv\" \n",
    "run_experiment(n_clients=10, n_trials=10, base_random_seed=42,  subsample_ratios=[0.5, 0.6, 0.7, 0.8],  max_iters=[10, 100], train_files_pattern=train_files_pattern, test_files_pattern=test_files_pattern)\n"
   ]
  },
  {
   "cell_type": "code",
   "execution_count": 39,
   "metadata": {},
   "outputs": [
    {
     "name": "stdout",
     "output_type": "stream",
     "text": [
      "\n",
      "Running experiment with subsample_ratio = 0.5, max_iter = 10\n",
      "  Trial 1/10 for subsample_ratio=0.5, max_iter=10\n"
     ]
    },
    {
     "name": "stderr",
     "output_type": "stream",
     "text": [
      "    Evaluating coalitions for trial 1: 100%|██████████| 1023/1023 [00:03<00:00, 308.51it/s]\n"
     ]
    },
    {
     "name": "stdout",
     "output_type": "stream",
     "text": [
      "  Trial 2/10 for subsample_ratio=0.5, max_iter=10\n"
     ]
    },
    {
     "name": "stderr",
     "output_type": "stream",
     "text": [
      "    Evaluating coalitions for trial 2: 100%|██████████| 1023/1023 [00:03<00:00, 322.37it/s]\n"
     ]
    },
    {
     "name": "stdout",
     "output_type": "stream",
     "text": [
      "  Trial 3/10 for subsample_ratio=0.5, max_iter=10\n"
     ]
    },
    {
     "name": "stderr",
     "output_type": "stream",
     "text": [
      "    Evaluating coalitions for trial 3: 100%|██████████| 1023/1023 [00:03<00:00, 321.42it/s]\n"
     ]
    },
    {
     "name": "stdout",
     "output_type": "stream",
     "text": [
      "  Trial 4/10 for subsample_ratio=0.5, max_iter=10\n"
     ]
    },
    {
     "name": "stderr",
     "output_type": "stream",
     "text": [
      "    Evaluating coalitions for trial 4: 100%|██████████| 1023/1023 [00:03<00:00, 308.08it/s]\n"
     ]
    },
    {
     "name": "stdout",
     "output_type": "stream",
     "text": [
      "  Trial 5/10 for subsample_ratio=0.5, max_iter=10\n"
     ]
    },
    {
     "name": "stderr",
     "output_type": "stream",
     "text": [
      "    Evaluating coalitions for trial 5: 100%|██████████| 1023/1023 [00:03<00:00, 332.21it/s]\n"
     ]
    },
    {
     "name": "stdout",
     "output_type": "stream",
     "text": [
      "  Trial 6/10 for subsample_ratio=0.5, max_iter=10\n"
     ]
    },
    {
     "name": "stderr",
     "output_type": "stream",
     "text": [
      "    Evaluating coalitions for trial 6: 100%|██████████| 1023/1023 [00:03<00:00, 306.12it/s]\n"
     ]
    },
    {
     "name": "stdout",
     "output_type": "stream",
     "text": [
      "  Trial 7/10 for subsample_ratio=0.5, max_iter=10\n"
     ]
    },
    {
     "name": "stderr",
     "output_type": "stream",
     "text": [
      "    Evaluating coalitions for trial 7: 100%|██████████| 1023/1023 [00:03<00:00, 322.06it/s]\n"
     ]
    },
    {
     "name": "stdout",
     "output_type": "stream",
     "text": [
      "  Trial 8/10 for subsample_ratio=0.5, max_iter=10\n"
     ]
    },
    {
     "name": "stderr",
     "output_type": "stream",
     "text": [
      "    Evaluating coalitions for trial 8: 100%|██████████| 1023/1023 [00:03<00:00, 285.78it/s]\n"
     ]
    },
    {
     "name": "stdout",
     "output_type": "stream",
     "text": [
      "  Trial 9/10 for subsample_ratio=0.5, max_iter=10\n"
     ]
    },
    {
     "name": "stderr",
     "output_type": "stream",
     "text": [
      "    Evaluating coalitions for trial 9: 100%|██████████| 1023/1023 [00:03<00:00, 311.43it/s]\n"
     ]
    },
    {
     "name": "stdout",
     "output_type": "stream",
     "text": [
      "  Trial 10/10 for subsample_ratio=0.5, max_iter=10\n"
     ]
    },
    {
     "name": "stderr",
     "output_type": "stream",
     "text": [
      "    Evaluating coalitions for trial 10: 100%|██████████| 1023/1023 [00:03<00:00, 303.99it/s]\n"
     ]
    },
    {
     "name": "stdout",
     "output_type": "stream",
     "text": [
      "\n",
      "Running experiment with subsample_ratio = 0.5, max_iter = 100\n",
      "  Trial 1/10 for subsample_ratio=0.5, max_iter=100\n"
     ]
    },
    {
     "name": "stderr",
     "output_type": "stream",
     "text": [
      "    Evaluating coalitions for trial 1: 100%|██████████| 1023/1023 [00:03<00:00, 327.29it/s]\n"
     ]
    },
    {
     "name": "stdout",
     "output_type": "stream",
     "text": [
      "  Trial 2/10 for subsample_ratio=0.5, max_iter=100\n"
     ]
    },
    {
     "name": "stderr",
     "output_type": "stream",
     "text": [
      "    Evaluating coalitions for trial 2: 100%|██████████| 1023/1023 [00:03<00:00, 331.70it/s]\n"
     ]
    },
    {
     "name": "stdout",
     "output_type": "stream",
     "text": [
      "  Trial 3/10 for subsample_ratio=0.5, max_iter=100\n"
     ]
    },
    {
     "name": "stderr",
     "output_type": "stream",
     "text": [
      "    Evaluating coalitions for trial 3: 100%|██████████| 1023/1023 [00:03<00:00, 304.89it/s]\n"
     ]
    },
    {
     "name": "stdout",
     "output_type": "stream",
     "text": [
      "  Trial 4/10 for subsample_ratio=0.5, max_iter=100\n"
     ]
    },
    {
     "name": "stderr",
     "output_type": "stream",
     "text": [
      "    Evaluating coalitions for trial 4: 100%|██████████| 1023/1023 [00:03<00:00, 309.54it/s]\n"
     ]
    },
    {
     "name": "stdout",
     "output_type": "stream",
     "text": [
      "  Trial 5/10 for subsample_ratio=0.5, max_iter=100\n"
     ]
    },
    {
     "name": "stderr",
     "output_type": "stream",
     "text": [
      "    Evaluating coalitions for trial 5: 100%|██████████| 1023/1023 [00:03<00:00, 313.51it/s]\n"
     ]
    },
    {
     "name": "stdout",
     "output_type": "stream",
     "text": [
      "  Trial 6/10 for subsample_ratio=0.5, max_iter=100\n"
     ]
    },
    {
     "name": "stderr",
     "output_type": "stream",
     "text": [
      "    Evaluating coalitions for trial 6: 100%|██████████| 1023/1023 [00:03<00:00, 315.27it/s]\n"
     ]
    },
    {
     "name": "stdout",
     "output_type": "stream",
     "text": [
      "  Trial 7/10 for subsample_ratio=0.5, max_iter=100\n"
     ]
    },
    {
     "name": "stderr",
     "output_type": "stream",
     "text": [
      "    Evaluating coalitions for trial 7: 100%|██████████| 1023/1023 [00:03<00:00, 307.65it/s]\n"
     ]
    },
    {
     "name": "stdout",
     "output_type": "stream",
     "text": [
      "  Trial 8/10 for subsample_ratio=0.5, max_iter=100\n"
     ]
    },
    {
     "name": "stderr",
     "output_type": "stream",
     "text": [
      "    Evaluating coalitions for trial 8: 100%|██████████| 1023/1023 [00:03<00:00, 307.31it/s]\n"
     ]
    },
    {
     "name": "stdout",
     "output_type": "stream",
     "text": [
      "  Trial 9/10 for subsample_ratio=0.5, max_iter=100\n"
     ]
    },
    {
     "name": "stderr",
     "output_type": "stream",
     "text": [
      "    Evaluating coalitions for trial 9: 100%|██████████| 1023/1023 [00:03<00:00, 301.03it/s]\n"
     ]
    },
    {
     "name": "stdout",
     "output_type": "stream",
     "text": [
      "  Trial 10/10 for subsample_ratio=0.5, max_iter=100\n"
     ]
    },
    {
     "name": "stderr",
     "output_type": "stream",
     "text": [
      "    Evaluating coalitions for trial 10: 100%|██████████| 1023/1023 [00:03<00:00, 306.71it/s]\n"
     ]
    },
    {
     "name": "stdout",
     "output_type": "stream",
     "text": [
      "\n",
      "Running experiment with subsample_ratio = 0.6, max_iter = 10\n",
      "  Trial 1/10 for subsample_ratio=0.6, max_iter=10\n"
     ]
    },
    {
     "name": "stderr",
     "output_type": "stream",
     "text": [
      "    Evaluating coalitions for trial 1: 100%|██████████| 1023/1023 [00:03<00:00, 263.76it/s]\n"
     ]
    },
    {
     "name": "stdout",
     "output_type": "stream",
     "text": [
      "  Trial 2/10 for subsample_ratio=0.6, max_iter=10\n"
     ]
    },
    {
     "name": "stderr",
     "output_type": "stream",
     "text": [
      "    Evaluating coalitions for trial 2: 100%|██████████| 1023/1023 [00:04<00:00, 255.46it/s]\n"
     ]
    },
    {
     "name": "stdout",
     "output_type": "stream",
     "text": [
      "  Trial 3/10 for subsample_ratio=0.6, max_iter=10\n"
     ]
    },
    {
     "name": "stderr",
     "output_type": "stream",
     "text": [
      "    Evaluating coalitions for trial 3: 100%|██████████| 1023/1023 [00:04<00:00, 254.43it/s]\n"
     ]
    },
    {
     "name": "stdout",
     "output_type": "stream",
     "text": [
      "  Trial 4/10 for subsample_ratio=0.6, max_iter=10\n"
     ]
    },
    {
     "name": "stderr",
     "output_type": "stream",
     "text": [
      "    Evaluating coalitions for trial 4: 100%|██████████| 1023/1023 [00:04<00:00, 252.44it/s]\n"
     ]
    },
    {
     "name": "stdout",
     "output_type": "stream",
     "text": [
      "  Trial 5/10 for subsample_ratio=0.6, max_iter=10\n"
     ]
    },
    {
     "name": "stderr",
     "output_type": "stream",
     "text": [
      "    Evaluating coalitions for trial 5: 100%|██████████| 1023/1023 [00:03<00:00, 261.76it/s]\n"
     ]
    },
    {
     "name": "stdout",
     "output_type": "stream",
     "text": [
      "  Trial 6/10 for subsample_ratio=0.6, max_iter=10\n"
     ]
    },
    {
     "name": "stderr",
     "output_type": "stream",
     "text": [
      "    Evaluating coalitions for trial 6: 100%|██████████| 1023/1023 [00:03<00:00, 256.94it/s]\n"
     ]
    },
    {
     "name": "stdout",
     "output_type": "stream",
     "text": [
      "  Trial 7/10 for subsample_ratio=0.6, max_iter=10\n"
     ]
    },
    {
     "name": "stderr",
     "output_type": "stream",
     "text": [
      "    Evaluating coalitions for trial 7: 100%|██████████| 1023/1023 [00:04<00:00, 254.96it/s]\n"
     ]
    },
    {
     "name": "stdout",
     "output_type": "stream",
     "text": [
      "  Trial 8/10 for subsample_ratio=0.6, max_iter=10\n"
     ]
    },
    {
     "name": "stderr",
     "output_type": "stream",
     "text": [
      "    Evaluating coalitions for trial 8: 100%|██████████| 1023/1023 [00:03<00:00, 264.01it/s]\n"
     ]
    },
    {
     "name": "stdout",
     "output_type": "stream",
     "text": [
      "  Trial 9/10 for subsample_ratio=0.6, max_iter=10\n"
     ]
    },
    {
     "name": "stderr",
     "output_type": "stream",
     "text": [
      "    Evaluating coalitions for trial 9: 100%|██████████| 1023/1023 [00:04<00:00, 255.73it/s]\n"
     ]
    },
    {
     "name": "stdout",
     "output_type": "stream",
     "text": [
      "  Trial 10/10 for subsample_ratio=0.6, max_iter=10\n"
     ]
    },
    {
     "name": "stderr",
     "output_type": "stream",
     "text": [
      "    Evaluating coalitions for trial 10: 100%|██████████| 1023/1023 [00:03<00:00, 262.76it/s]\n"
     ]
    },
    {
     "name": "stdout",
     "output_type": "stream",
     "text": [
      "\n",
      "Running experiment with subsample_ratio = 0.6, max_iter = 100\n",
      "  Trial 1/10 for subsample_ratio=0.6, max_iter=100\n"
     ]
    },
    {
     "name": "stderr",
     "output_type": "stream",
     "text": [
      "    Evaluating coalitions for trial 1: 100%|██████████| 1023/1023 [00:03<00:00, 269.07it/s]\n"
     ]
    },
    {
     "name": "stdout",
     "output_type": "stream",
     "text": [
      "  Trial 2/10 for subsample_ratio=0.6, max_iter=100\n"
     ]
    },
    {
     "name": "stderr",
     "output_type": "stream",
     "text": [
      "    Evaluating coalitions for trial 2: 100%|██████████| 1023/1023 [00:04<00:00, 252.44it/s]\n"
     ]
    },
    {
     "name": "stdout",
     "output_type": "stream",
     "text": [
      "  Trial 3/10 for subsample_ratio=0.6, max_iter=100\n"
     ]
    },
    {
     "name": "stderr",
     "output_type": "stream",
     "text": [
      "    Evaluating coalitions for trial 3: 100%|██████████| 1023/1023 [00:03<00:00, 263.23it/s]\n"
     ]
    },
    {
     "name": "stdout",
     "output_type": "stream",
     "text": [
      "  Trial 4/10 for subsample_ratio=0.6, max_iter=100\n"
     ]
    },
    {
     "name": "stderr",
     "output_type": "stream",
     "text": [
      "    Evaluating coalitions for trial 4: 100%|██████████| 1023/1023 [00:03<00:00, 256.86it/s]\n"
     ]
    },
    {
     "name": "stdout",
     "output_type": "stream",
     "text": [
      "  Trial 5/10 for subsample_ratio=0.6, max_iter=100\n"
     ]
    },
    {
     "name": "stderr",
     "output_type": "stream",
     "text": [
      "    Evaluating coalitions for trial 5: 100%|██████████| 1023/1023 [00:03<00:00, 263.88it/s]\n"
     ]
    },
    {
     "name": "stdout",
     "output_type": "stream",
     "text": [
      "  Trial 6/10 for subsample_ratio=0.6, max_iter=100\n"
     ]
    },
    {
     "name": "stderr",
     "output_type": "stream",
     "text": [
      "    Evaluating coalitions for trial 6: 100%|██████████| 1023/1023 [00:03<00:00, 256.01it/s]\n"
     ]
    },
    {
     "name": "stdout",
     "output_type": "stream",
     "text": [
      "  Trial 7/10 for subsample_ratio=0.6, max_iter=100\n"
     ]
    },
    {
     "name": "stderr",
     "output_type": "stream",
     "text": [
      "    Evaluating coalitions for trial 7: 100%|██████████| 1023/1023 [00:03<00:00, 261.55it/s]\n"
     ]
    },
    {
     "name": "stdout",
     "output_type": "stream",
     "text": [
      "  Trial 8/10 for subsample_ratio=0.6, max_iter=100\n"
     ]
    },
    {
     "name": "stderr",
     "output_type": "stream",
     "text": [
      "    Evaluating coalitions for trial 8: 100%|██████████| 1023/1023 [00:03<00:00, 262.37it/s]\n"
     ]
    },
    {
     "name": "stdout",
     "output_type": "stream",
     "text": [
      "  Trial 9/10 for subsample_ratio=0.6, max_iter=100\n"
     ]
    },
    {
     "name": "stderr",
     "output_type": "stream",
     "text": [
      "    Evaluating coalitions for trial 9: 100%|██████████| 1023/1023 [00:04<00:00, 254.28it/s]\n"
     ]
    },
    {
     "name": "stdout",
     "output_type": "stream",
     "text": [
      "  Trial 10/10 for subsample_ratio=0.6, max_iter=100\n"
     ]
    },
    {
     "name": "stderr",
     "output_type": "stream",
     "text": [
      "    Evaluating coalitions for trial 10: 100%|██████████| 1023/1023 [00:03<00:00, 264.80it/s]\n"
     ]
    },
    {
     "name": "stdout",
     "output_type": "stream",
     "text": [
      "\n",
      "Running experiment with subsample_ratio = 0.7, max_iter = 10\n",
      "  Trial 1/10 for subsample_ratio=0.7, max_iter=10\n"
     ]
    },
    {
     "name": "stderr",
     "output_type": "stream",
     "text": [
      "    Evaluating coalitions for trial 1: 100%|██████████| 1023/1023 [00:04<00:00, 230.80it/s]\n"
     ]
    },
    {
     "name": "stdout",
     "output_type": "stream",
     "text": [
      "  Trial 2/10 for subsample_ratio=0.7, max_iter=10\n"
     ]
    },
    {
     "name": "stderr",
     "output_type": "stream",
     "text": [
      "    Evaluating coalitions for trial 2: 100%|██████████| 1023/1023 [00:04<00:00, 228.58it/s]\n"
     ]
    },
    {
     "name": "stdout",
     "output_type": "stream",
     "text": [
      "  Trial 3/10 for subsample_ratio=0.7, max_iter=10\n"
     ]
    },
    {
     "name": "stderr",
     "output_type": "stream",
     "text": [
      "    Evaluating coalitions for trial 3: 100%|██████████| 1023/1023 [00:04<00:00, 227.83it/s]\n"
     ]
    },
    {
     "name": "stdout",
     "output_type": "stream",
     "text": [
      "  Trial 4/10 for subsample_ratio=0.7, max_iter=10\n"
     ]
    },
    {
     "name": "stderr",
     "output_type": "stream",
     "text": [
      "    Evaluating coalitions for trial 4: 100%|██████████| 1023/1023 [00:04<00:00, 226.26it/s]\n"
     ]
    },
    {
     "name": "stdout",
     "output_type": "stream",
     "text": [
      "  Trial 5/10 for subsample_ratio=0.7, max_iter=10\n"
     ]
    },
    {
     "name": "stderr",
     "output_type": "stream",
     "text": [
      "    Evaluating coalitions for trial 5: 100%|██████████| 1023/1023 [00:04<00:00, 221.47it/s]\n"
     ]
    },
    {
     "name": "stdout",
     "output_type": "stream",
     "text": [
      "  Trial 6/10 for subsample_ratio=0.7, max_iter=10\n"
     ]
    },
    {
     "name": "stderr",
     "output_type": "stream",
     "text": [
      "    Evaluating coalitions for trial 6: 100%|██████████| 1023/1023 [00:04<00:00, 223.16it/s]\n"
     ]
    },
    {
     "name": "stdout",
     "output_type": "stream",
     "text": [
      "  Trial 7/10 for subsample_ratio=0.7, max_iter=10\n"
     ]
    },
    {
     "name": "stderr",
     "output_type": "stream",
     "text": [
      "    Evaluating coalitions for trial 7: 100%|██████████| 1023/1023 [00:04<00:00, 223.48it/s]\n"
     ]
    },
    {
     "name": "stdout",
     "output_type": "stream",
     "text": [
      "  Trial 8/10 for subsample_ratio=0.7, max_iter=10\n"
     ]
    },
    {
     "name": "stderr",
     "output_type": "stream",
     "text": [
      "    Evaluating coalitions for trial 8: 100%|██████████| 1023/1023 [00:04<00:00, 226.46it/s]\n"
     ]
    },
    {
     "name": "stdout",
     "output_type": "stream",
     "text": [
      "  Trial 9/10 for subsample_ratio=0.7, max_iter=10\n"
     ]
    },
    {
     "name": "stderr",
     "output_type": "stream",
     "text": [
      "    Evaluating coalitions for trial 9: 100%|██████████| 1023/1023 [00:04<00:00, 220.91it/s]\n"
     ]
    },
    {
     "name": "stdout",
     "output_type": "stream",
     "text": [
      "  Trial 10/10 for subsample_ratio=0.7, max_iter=10\n"
     ]
    },
    {
     "name": "stderr",
     "output_type": "stream",
     "text": [
      "    Evaluating coalitions for trial 10: 100%|██████████| 1023/1023 [00:04<00:00, 225.58it/s]\n"
     ]
    },
    {
     "name": "stdout",
     "output_type": "stream",
     "text": [
      "\n",
      "Running experiment with subsample_ratio = 0.7, max_iter = 100\n",
      "  Trial 1/10 for subsample_ratio=0.7, max_iter=100\n"
     ]
    },
    {
     "name": "stderr",
     "output_type": "stream",
     "text": [
      "    Evaluating coalitions for trial 1: 100%|██████████| 1023/1023 [00:04<00:00, 226.65it/s]\n"
     ]
    },
    {
     "name": "stdout",
     "output_type": "stream",
     "text": [
      "  Trial 2/10 for subsample_ratio=0.7, max_iter=100\n"
     ]
    },
    {
     "name": "stderr",
     "output_type": "stream",
     "text": [
      "    Evaluating coalitions for trial 2: 100%|██████████| 1023/1023 [00:04<00:00, 220.66it/s]\n"
     ]
    },
    {
     "name": "stdout",
     "output_type": "stream",
     "text": [
      "  Trial 3/10 for subsample_ratio=0.7, max_iter=100\n"
     ]
    },
    {
     "name": "stderr",
     "output_type": "stream",
     "text": [
      "    Evaluating coalitions for trial 3: 100%|██████████| 1023/1023 [00:04<00:00, 228.19it/s]\n"
     ]
    },
    {
     "name": "stdout",
     "output_type": "stream",
     "text": [
      "  Trial 4/10 for subsample_ratio=0.7, max_iter=100\n"
     ]
    },
    {
     "name": "stderr",
     "output_type": "stream",
     "text": [
      "    Evaluating coalitions for trial 4: 100%|██████████| 1023/1023 [00:04<00:00, 224.68it/s]\n"
     ]
    },
    {
     "name": "stdout",
     "output_type": "stream",
     "text": [
      "  Trial 5/10 for subsample_ratio=0.7, max_iter=100\n"
     ]
    },
    {
     "name": "stderr",
     "output_type": "stream",
     "text": [
      "    Evaluating coalitions for trial 5: 100%|██████████| 1023/1023 [00:04<00:00, 227.35it/s]\n"
     ]
    },
    {
     "name": "stdout",
     "output_type": "stream",
     "text": [
      "  Trial 6/10 for subsample_ratio=0.7, max_iter=100\n"
     ]
    },
    {
     "name": "stderr",
     "output_type": "stream",
     "text": [
      "    Evaluating coalitions for trial 6: 100%|██████████| 1023/1023 [00:04<00:00, 224.14it/s]\n"
     ]
    },
    {
     "name": "stdout",
     "output_type": "stream",
     "text": [
      "  Trial 7/10 for subsample_ratio=0.7, max_iter=100\n"
     ]
    },
    {
     "name": "stderr",
     "output_type": "stream",
     "text": [
      "    Evaluating coalitions for trial 7: 100%|██████████| 1023/1023 [00:04<00:00, 222.81it/s]\n"
     ]
    },
    {
     "name": "stdout",
     "output_type": "stream",
     "text": [
      "  Trial 8/10 for subsample_ratio=0.7, max_iter=100\n"
     ]
    },
    {
     "name": "stderr",
     "output_type": "stream",
     "text": [
      "    Evaluating coalitions for trial 8: 100%|██████████| 1023/1023 [00:04<00:00, 221.14it/s]\n"
     ]
    },
    {
     "name": "stdout",
     "output_type": "stream",
     "text": [
      "  Trial 9/10 for subsample_ratio=0.7, max_iter=100\n"
     ]
    },
    {
     "name": "stderr",
     "output_type": "stream",
     "text": [
      "    Evaluating coalitions for trial 9: 100%|██████████| 1023/1023 [00:04<00:00, 219.92it/s]\n"
     ]
    },
    {
     "name": "stdout",
     "output_type": "stream",
     "text": [
      "  Trial 10/10 for subsample_ratio=0.7, max_iter=100\n"
     ]
    },
    {
     "name": "stderr",
     "output_type": "stream",
     "text": [
      "    Evaluating coalitions for trial 10: 100%|██████████| 1023/1023 [00:04<00:00, 229.73it/s]\n"
     ]
    },
    {
     "name": "stdout",
     "output_type": "stream",
     "text": [
      "\n",
      "Running experiment with subsample_ratio = 0.8, max_iter = 10\n",
      "  Trial 1/10 for subsample_ratio=0.8, max_iter=10\n"
     ]
    },
    {
     "name": "stderr",
     "output_type": "stream",
     "text": [
      "    Evaluating coalitions for trial 1: 100%|██████████| 1023/1023 [00:05<00:00, 197.39it/s]\n"
     ]
    },
    {
     "name": "stdout",
     "output_type": "stream",
     "text": [
      "  Trial 2/10 for subsample_ratio=0.8, max_iter=10\n"
     ]
    },
    {
     "name": "stderr",
     "output_type": "stream",
     "text": [
      "    Evaluating coalitions for trial 2: 100%|██████████| 1023/1023 [00:05<00:00, 197.74it/s]\n"
     ]
    },
    {
     "name": "stdout",
     "output_type": "stream",
     "text": [
      "  Trial 3/10 for subsample_ratio=0.8, max_iter=10\n"
     ]
    },
    {
     "name": "stderr",
     "output_type": "stream",
     "text": [
      "    Evaluating coalitions for trial 3: 100%|██████████| 1023/1023 [00:05<00:00, 195.99it/s]\n"
     ]
    },
    {
     "name": "stdout",
     "output_type": "stream",
     "text": [
      "  Trial 4/10 for subsample_ratio=0.8, max_iter=10\n"
     ]
    },
    {
     "name": "stderr",
     "output_type": "stream",
     "text": [
      "    Evaluating coalitions for trial 4: 100%|██████████| 1023/1023 [00:05<00:00, 198.92it/s]\n"
     ]
    },
    {
     "name": "stdout",
     "output_type": "stream",
     "text": [
      "  Trial 5/10 for subsample_ratio=0.8, max_iter=10\n"
     ]
    },
    {
     "name": "stderr",
     "output_type": "stream",
     "text": [
      "    Evaluating coalitions for trial 5: 100%|██████████| 1023/1023 [00:05<00:00, 198.94it/s]\n"
     ]
    },
    {
     "name": "stdout",
     "output_type": "stream",
     "text": [
      "  Trial 6/10 for subsample_ratio=0.8, max_iter=10\n"
     ]
    },
    {
     "name": "stderr",
     "output_type": "stream",
     "text": [
      "    Evaluating coalitions for trial 6: 100%|██████████| 1023/1023 [00:05<00:00, 199.49it/s]\n"
     ]
    },
    {
     "name": "stdout",
     "output_type": "stream",
     "text": [
      "  Trial 7/10 for subsample_ratio=0.8, max_iter=10\n"
     ]
    },
    {
     "name": "stderr",
     "output_type": "stream",
     "text": [
      "    Evaluating coalitions for trial 7: 100%|██████████| 1023/1023 [00:05<00:00, 194.68it/s]\n"
     ]
    },
    {
     "name": "stdout",
     "output_type": "stream",
     "text": [
      "  Trial 8/10 for subsample_ratio=0.8, max_iter=10\n"
     ]
    },
    {
     "name": "stderr",
     "output_type": "stream",
     "text": [
      "    Evaluating coalitions for trial 8: 100%|██████████| 1023/1023 [00:05<00:00, 197.82it/s]\n"
     ]
    },
    {
     "name": "stdout",
     "output_type": "stream",
     "text": [
      "  Trial 9/10 for subsample_ratio=0.8, max_iter=10\n"
     ]
    },
    {
     "name": "stderr",
     "output_type": "stream",
     "text": [
      "    Evaluating coalitions for trial 9: 100%|██████████| 1023/1023 [00:05<00:00, 195.02it/s]\n"
     ]
    },
    {
     "name": "stdout",
     "output_type": "stream",
     "text": [
      "  Trial 10/10 for subsample_ratio=0.8, max_iter=10\n"
     ]
    },
    {
     "name": "stderr",
     "output_type": "stream",
     "text": [
      "    Evaluating coalitions for trial 10: 100%|██████████| 1023/1023 [00:05<00:00, 198.48it/s]\n"
     ]
    },
    {
     "name": "stdout",
     "output_type": "stream",
     "text": [
      "\n",
      "Running experiment with subsample_ratio = 0.8, max_iter = 100\n",
      "  Trial 1/10 for subsample_ratio=0.8, max_iter=100\n"
     ]
    },
    {
     "name": "stderr",
     "output_type": "stream",
     "text": [
      "    Evaluating coalitions for trial 1: 100%|██████████| 1023/1023 [00:05<00:00, 198.08it/s]\n"
     ]
    },
    {
     "name": "stdout",
     "output_type": "stream",
     "text": [
      "  Trial 2/10 for subsample_ratio=0.8, max_iter=100\n"
     ]
    },
    {
     "name": "stderr",
     "output_type": "stream",
     "text": [
      "    Evaluating coalitions for trial 2: 100%|██████████| 1023/1023 [00:05<00:00, 195.45it/s]\n"
     ]
    },
    {
     "name": "stdout",
     "output_type": "stream",
     "text": [
      "  Trial 3/10 for subsample_ratio=0.8, max_iter=100\n"
     ]
    },
    {
     "name": "stderr",
     "output_type": "stream",
     "text": [
      "    Evaluating coalitions for trial 3: 100%|██████████| 1023/1023 [00:05<00:00, 192.78it/s]\n"
     ]
    },
    {
     "name": "stdout",
     "output_type": "stream",
     "text": [
      "  Trial 4/10 for subsample_ratio=0.8, max_iter=100\n"
     ]
    },
    {
     "name": "stderr",
     "output_type": "stream",
     "text": [
      "    Evaluating coalitions for trial 4: 100%|██████████| 1023/1023 [00:05<00:00, 196.45it/s]\n"
     ]
    },
    {
     "name": "stdout",
     "output_type": "stream",
     "text": [
      "  Trial 5/10 for subsample_ratio=0.8, max_iter=100\n"
     ]
    },
    {
     "name": "stderr",
     "output_type": "stream",
     "text": [
      "    Evaluating coalitions for trial 5: 100%|██████████| 1023/1023 [00:05<00:00, 196.79it/s]\n"
     ]
    },
    {
     "name": "stdout",
     "output_type": "stream",
     "text": [
      "  Trial 6/10 for subsample_ratio=0.8, max_iter=100\n"
     ]
    },
    {
     "name": "stderr",
     "output_type": "stream",
     "text": [
      "    Evaluating coalitions for trial 6: 100%|██████████| 1023/1023 [00:05<00:00, 193.61it/s]\n"
     ]
    },
    {
     "name": "stdout",
     "output_type": "stream",
     "text": [
      "  Trial 7/10 for subsample_ratio=0.8, max_iter=100\n"
     ]
    },
    {
     "name": "stderr",
     "output_type": "stream",
     "text": [
      "    Evaluating coalitions for trial 7: 100%|██████████| 1023/1023 [00:05<00:00, 197.15it/s]\n"
     ]
    },
    {
     "name": "stdout",
     "output_type": "stream",
     "text": [
      "  Trial 8/10 for subsample_ratio=0.8, max_iter=100\n"
     ]
    },
    {
     "name": "stderr",
     "output_type": "stream",
     "text": [
      "    Evaluating coalitions for trial 8: 100%|██████████| 1023/1023 [00:05<00:00, 195.86it/s]\n"
     ]
    },
    {
     "name": "stdout",
     "output_type": "stream",
     "text": [
      "  Trial 9/10 for subsample_ratio=0.8, max_iter=100\n"
     ]
    },
    {
     "name": "stderr",
     "output_type": "stream",
     "text": [
      "    Evaluating coalitions for trial 9: 100%|██████████| 1023/1023 [00:05<00:00, 197.24it/s]\n"
     ]
    },
    {
     "name": "stdout",
     "output_type": "stream",
     "text": [
      "  Trial 10/10 for subsample_ratio=0.8, max_iter=100\n"
     ]
    },
    {
     "name": "stderr",
     "output_type": "stream",
     "text": [
      "    Evaluating coalitions for trial 10: 100%|██████████| 1023/1023 [00:05<00:00, 196.95it/s]\n"
     ]
    },
    {
     "name": "stdout",
     "output_type": "stream",
     "text": [
      "Process complete. Results saved.\n"
     ]
    }
   ],
   "source": [
    "train_files_pattern = \"/Users/abbaszal/Documents/Thesis_Project_Spambase/data/corrupted_data/c6/train_{i:02d}.csv\" \n",
    "test_files_pattern = \"/Users/abbaszal/Documents/Thesis_Project_Spambase/data/corrupted_data/c6/test_{i:02d}.csv\" \n",
    "run_experiment(n_clients=10, n_trials=10, base_random_seed=42,  subsample_ratios=[0.5, 0.6, 0.7, 0.8],  max_iters=[10, 100], train_files_pattern=train_files_pattern, test_files_pattern=test_files_pattern)"
   ]
  },
  {
   "cell_type": "code",
   "execution_count": 40,
   "metadata": {},
   "outputs": [
    {
     "name": "stdout",
     "output_type": "stream",
     "text": [
      "\n",
      "Running experiment with subsample_ratio = 0.5, max_iter = 10\n",
      "  Trial 1/10 for subsample_ratio=0.5, max_iter=10\n"
     ]
    },
    {
     "name": "stderr",
     "output_type": "stream",
     "text": [
      "    Evaluating coalitions for trial 1: 100%|██████████| 1023/1023 [00:03<00:00, 313.62it/s]\n"
     ]
    },
    {
     "name": "stdout",
     "output_type": "stream",
     "text": [
      "  Trial 2/10 for subsample_ratio=0.5, max_iter=10\n"
     ]
    },
    {
     "name": "stderr",
     "output_type": "stream",
     "text": [
      "    Evaluating coalitions for trial 2: 100%|██████████| 1023/1023 [00:03<00:00, 318.80it/s]\n"
     ]
    },
    {
     "name": "stdout",
     "output_type": "stream",
     "text": [
      "  Trial 3/10 for subsample_ratio=0.5, max_iter=10\n"
     ]
    },
    {
     "name": "stderr",
     "output_type": "stream",
     "text": [
      "    Evaluating coalitions for trial 3: 100%|██████████| 1023/1023 [00:03<00:00, 321.17it/s]\n"
     ]
    },
    {
     "name": "stdout",
     "output_type": "stream",
     "text": [
      "  Trial 4/10 for subsample_ratio=0.5, max_iter=10\n"
     ]
    },
    {
     "name": "stderr",
     "output_type": "stream",
     "text": [
      "    Evaluating coalitions for trial 4: 100%|██████████| 1023/1023 [00:03<00:00, 307.20it/s]\n"
     ]
    },
    {
     "name": "stdout",
     "output_type": "stream",
     "text": [
      "  Trial 5/10 for subsample_ratio=0.5, max_iter=10\n"
     ]
    },
    {
     "name": "stderr",
     "output_type": "stream",
     "text": [
      "    Evaluating coalitions for trial 5: 100%|██████████| 1023/1023 [00:03<00:00, 304.61it/s]\n"
     ]
    },
    {
     "name": "stdout",
     "output_type": "stream",
     "text": [
      "  Trial 6/10 for subsample_ratio=0.5, max_iter=10\n"
     ]
    },
    {
     "name": "stderr",
     "output_type": "stream",
     "text": [
      "    Evaluating coalitions for trial 6: 100%|██████████| 1023/1023 [00:03<00:00, 303.07it/s]\n"
     ]
    },
    {
     "name": "stdout",
     "output_type": "stream",
     "text": [
      "  Trial 7/10 for subsample_ratio=0.5, max_iter=10\n"
     ]
    },
    {
     "name": "stderr",
     "output_type": "stream",
     "text": [
      "    Evaluating coalitions for trial 7: 100%|██████████| 1023/1023 [00:03<00:00, 332.91it/s]\n"
     ]
    },
    {
     "name": "stdout",
     "output_type": "stream",
     "text": [
      "  Trial 8/10 for subsample_ratio=0.5, max_iter=10\n"
     ]
    },
    {
     "name": "stderr",
     "output_type": "stream",
     "text": [
      "    Evaluating coalitions for trial 8: 100%|██████████| 1023/1023 [00:03<00:00, 321.63it/s]\n"
     ]
    },
    {
     "name": "stdout",
     "output_type": "stream",
     "text": [
      "  Trial 9/10 for subsample_ratio=0.5, max_iter=10\n"
     ]
    },
    {
     "name": "stderr",
     "output_type": "stream",
     "text": [
      "    Evaluating coalitions for trial 9: 100%|██████████| 1023/1023 [00:03<00:00, 330.24it/s]\n"
     ]
    },
    {
     "name": "stdout",
     "output_type": "stream",
     "text": [
      "  Trial 10/10 for subsample_ratio=0.5, max_iter=10\n"
     ]
    },
    {
     "name": "stderr",
     "output_type": "stream",
     "text": [
      "    Evaluating coalitions for trial 10: 100%|██████████| 1023/1023 [00:03<00:00, 319.75it/s]\n"
     ]
    },
    {
     "name": "stdout",
     "output_type": "stream",
     "text": [
      "\n",
      "Running experiment with subsample_ratio = 0.5, max_iter = 100\n",
      "  Trial 1/10 for subsample_ratio=0.5, max_iter=100\n"
     ]
    },
    {
     "name": "stderr",
     "output_type": "stream",
     "text": [
      "    Evaluating coalitions for trial 1: 100%|██████████| 1023/1023 [00:03<00:00, 316.97it/s]\n"
     ]
    },
    {
     "name": "stdout",
     "output_type": "stream",
     "text": [
      "  Trial 2/10 for subsample_ratio=0.5, max_iter=100\n"
     ]
    },
    {
     "name": "stderr",
     "output_type": "stream",
     "text": [
      "    Evaluating coalitions for trial 2: 100%|██████████| 1023/1023 [00:03<00:00, 319.21it/s]\n"
     ]
    },
    {
     "name": "stdout",
     "output_type": "stream",
     "text": [
      "  Trial 3/10 for subsample_ratio=0.5, max_iter=100\n"
     ]
    },
    {
     "name": "stderr",
     "output_type": "stream",
     "text": [
      "    Evaluating coalitions for trial 3: 100%|██████████| 1023/1023 [00:03<00:00, 327.30it/s]\n"
     ]
    },
    {
     "name": "stdout",
     "output_type": "stream",
     "text": [
      "  Trial 4/10 for subsample_ratio=0.5, max_iter=100\n"
     ]
    },
    {
     "name": "stderr",
     "output_type": "stream",
     "text": [
      "    Evaluating coalitions for trial 4: 100%|██████████| 1023/1023 [00:03<00:00, 301.15it/s]\n"
     ]
    },
    {
     "name": "stdout",
     "output_type": "stream",
     "text": [
      "  Trial 5/10 for subsample_ratio=0.5, max_iter=100\n"
     ]
    },
    {
     "name": "stderr",
     "output_type": "stream",
     "text": [
      "    Evaluating coalitions for trial 5: 100%|██████████| 1023/1023 [00:03<00:00, 324.46it/s]\n"
     ]
    },
    {
     "name": "stdout",
     "output_type": "stream",
     "text": [
      "  Trial 6/10 for subsample_ratio=0.5, max_iter=100\n"
     ]
    },
    {
     "name": "stderr",
     "output_type": "stream",
     "text": [
      "    Evaluating coalitions for trial 6: 100%|██████████| 1023/1023 [00:03<00:00, 316.05it/s]\n"
     ]
    },
    {
     "name": "stdout",
     "output_type": "stream",
     "text": [
      "  Trial 7/10 for subsample_ratio=0.5, max_iter=100\n"
     ]
    },
    {
     "name": "stderr",
     "output_type": "stream",
     "text": [
      "    Evaluating coalitions for trial 7: 100%|██████████| 1023/1023 [00:03<00:00, 333.00it/s]\n"
     ]
    },
    {
     "name": "stdout",
     "output_type": "stream",
     "text": [
      "  Trial 8/10 for subsample_ratio=0.5, max_iter=100\n"
     ]
    },
    {
     "name": "stderr",
     "output_type": "stream",
     "text": [
      "    Evaluating coalitions for trial 8: 100%|██████████| 1023/1023 [00:03<00:00, 316.63it/s]\n"
     ]
    },
    {
     "name": "stdout",
     "output_type": "stream",
     "text": [
      "  Trial 9/10 for subsample_ratio=0.5, max_iter=100\n"
     ]
    },
    {
     "name": "stderr",
     "output_type": "stream",
     "text": [
      "    Evaluating coalitions for trial 9: 100%|██████████| 1023/1023 [00:03<00:00, 319.35it/s]\n"
     ]
    },
    {
     "name": "stdout",
     "output_type": "stream",
     "text": [
      "  Trial 10/10 for subsample_ratio=0.5, max_iter=100\n"
     ]
    },
    {
     "name": "stderr",
     "output_type": "stream",
     "text": [
      "    Evaluating coalitions for trial 10: 100%|██████████| 1023/1023 [00:03<00:00, 325.47it/s]\n"
     ]
    },
    {
     "name": "stdout",
     "output_type": "stream",
     "text": [
      "\n",
      "Running experiment with subsample_ratio = 0.6, max_iter = 10\n",
      "  Trial 1/10 for subsample_ratio=0.6, max_iter=10\n"
     ]
    },
    {
     "name": "stderr",
     "output_type": "stream",
     "text": [
      "    Evaluating coalitions for trial 1: 100%|██████████| 1023/1023 [00:03<00:00, 272.32it/s]\n"
     ]
    },
    {
     "name": "stdout",
     "output_type": "stream",
     "text": [
      "  Trial 2/10 for subsample_ratio=0.6, max_iter=10\n"
     ]
    },
    {
     "name": "stderr",
     "output_type": "stream",
     "text": [
      "    Evaluating coalitions for trial 2: 100%|██████████| 1023/1023 [00:03<00:00, 269.68it/s]\n"
     ]
    },
    {
     "name": "stdout",
     "output_type": "stream",
     "text": [
      "  Trial 3/10 for subsample_ratio=0.6, max_iter=10\n"
     ]
    },
    {
     "name": "stderr",
     "output_type": "stream",
     "text": [
      "    Evaluating coalitions for trial 3: 100%|██████████| 1023/1023 [00:03<00:00, 268.46it/s]\n"
     ]
    },
    {
     "name": "stdout",
     "output_type": "stream",
     "text": [
      "  Trial 4/10 for subsample_ratio=0.6, max_iter=10\n"
     ]
    },
    {
     "name": "stderr",
     "output_type": "stream",
     "text": [
      "    Evaluating coalitions for trial 4: 100%|██████████| 1023/1023 [00:03<00:00, 267.56it/s]\n"
     ]
    },
    {
     "name": "stdout",
     "output_type": "stream",
     "text": [
      "  Trial 5/10 for subsample_ratio=0.6, max_iter=10\n"
     ]
    },
    {
     "name": "stderr",
     "output_type": "stream",
     "text": [
      "    Evaluating coalitions for trial 5: 100%|██████████| 1023/1023 [00:03<00:00, 263.56it/s]\n"
     ]
    },
    {
     "name": "stdout",
     "output_type": "stream",
     "text": [
      "  Trial 6/10 for subsample_ratio=0.6, max_iter=10\n"
     ]
    },
    {
     "name": "stderr",
     "output_type": "stream",
     "text": [
      "    Evaluating coalitions for trial 6: 100%|██████████| 1023/1023 [00:03<00:00, 268.54it/s]\n"
     ]
    },
    {
     "name": "stdout",
     "output_type": "stream",
     "text": [
      "  Trial 7/10 for subsample_ratio=0.6, max_iter=10\n"
     ]
    },
    {
     "name": "stderr",
     "output_type": "stream",
     "text": [
      "    Evaluating coalitions for trial 7: 100%|██████████| 1023/1023 [00:03<00:00, 271.86it/s]\n"
     ]
    },
    {
     "name": "stdout",
     "output_type": "stream",
     "text": [
      "  Trial 8/10 for subsample_ratio=0.6, max_iter=10\n"
     ]
    },
    {
     "name": "stderr",
     "output_type": "stream",
     "text": [
      "    Evaluating coalitions for trial 8: 100%|██████████| 1023/1023 [00:03<00:00, 261.62it/s]\n"
     ]
    },
    {
     "name": "stdout",
     "output_type": "stream",
     "text": [
      "  Trial 9/10 for subsample_ratio=0.6, max_iter=10\n"
     ]
    },
    {
     "name": "stderr",
     "output_type": "stream",
     "text": [
      "    Evaluating coalitions for trial 9: 100%|██████████| 1023/1023 [00:03<00:00, 263.90it/s]\n"
     ]
    },
    {
     "name": "stdout",
     "output_type": "stream",
     "text": [
      "  Trial 10/10 for subsample_ratio=0.6, max_iter=10\n"
     ]
    },
    {
     "name": "stderr",
     "output_type": "stream",
     "text": [
      "    Evaluating coalitions for trial 10: 100%|██████████| 1023/1023 [00:03<00:00, 265.20it/s]\n"
     ]
    },
    {
     "name": "stdout",
     "output_type": "stream",
     "text": [
      "\n",
      "Running experiment with subsample_ratio = 0.6, max_iter = 100\n",
      "  Trial 1/10 for subsample_ratio=0.6, max_iter=100\n"
     ]
    },
    {
     "name": "stderr",
     "output_type": "stream",
     "text": [
      "    Evaluating coalitions for trial 1: 100%|██████████| 1023/1023 [00:03<00:00, 276.05it/s]\n"
     ]
    },
    {
     "name": "stdout",
     "output_type": "stream",
     "text": [
      "  Trial 2/10 for subsample_ratio=0.6, max_iter=100\n"
     ]
    },
    {
     "name": "stderr",
     "output_type": "stream",
     "text": [
      "    Evaluating coalitions for trial 2: 100%|██████████| 1023/1023 [00:03<00:00, 268.30it/s]\n"
     ]
    },
    {
     "name": "stdout",
     "output_type": "stream",
     "text": [
      "  Trial 3/10 for subsample_ratio=0.6, max_iter=100\n"
     ]
    },
    {
     "name": "stderr",
     "output_type": "stream",
     "text": [
      "    Evaluating coalitions for trial 3: 100%|██████████| 1023/1023 [00:03<00:00, 265.64it/s]\n"
     ]
    },
    {
     "name": "stdout",
     "output_type": "stream",
     "text": [
      "  Trial 4/10 for subsample_ratio=0.6, max_iter=100\n"
     ]
    },
    {
     "name": "stderr",
     "output_type": "stream",
     "text": [
      "    Evaluating coalitions for trial 4: 100%|██████████| 1023/1023 [00:03<00:00, 256.42it/s]\n"
     ]
    },
    {
     "name": "stdout",
     "output_type": "stream",
     "text": [
      "  Trial 5/10 for subsample_ratio=0.6, max_iter=100\n"
     ]
    },
    {
     "name": "stderr",
     "output_type": "stream",
     "text": [
      "    Evaluating coalitions for trial 5: 100%|██████████| 1023/1023 [00:04<00:00, 250.11it/s]\n"
     ]
    },
    {
     "name": "stdout",
     "output_type": "stream",
     "text": [
      "  Trial 6/10 for subsample_ratio=0.6, max_iter=100\n"
     ]
    },
    {
     "name": "stderr",
     "output_type": "stream",
     "text": [
      "    Evaluating coalitions for trial 6: 100%|██████████| 1023/1023 [00:03<00:00, 273.88it/s]\n"
     ]
    },
    {
     "name": "stdout",
     "output_type": "stream",
     "text": [
      "  Trial 7/10 for subsample_ratio=0.6, max_iter=100\n"
     ]
    },
    {
     "name": "stderr",
     "output_type": "stream",
     "text": [
      "    Evaluating coalitions for trial 7: 100%|██████████| 1023/1023 [00:03<00:00, 256.41it/s]\n"
     ]
    },
    {
     "name": "stdout",
     "output_type": "stream",
     "text": [
      "  Trial 8/10 for subsample_ratio=0.6, max_iter=100\n"
     ]
    },
    {
     "name": "stderr",
     "output_type": "stream",
     "text": [
      "    Evaluating coalitions for trial 8: 100%|██████████| 1023/1023 [00:03<00:00, 257.63it/s]\n"
     ]
    },
    {
     "name": "stdout",
     "output_type": "stream",
     "text": [
      "  Trial 9/10 for subsample_ratio=0.6, max_iter=100\n"
     ]
    },
    {
     "name": "stderr",
     "output_type": "stream",
     "text": [
      "    Evaluating coalitions for trial 9: 100%|██████████| 1023/1023 [00:03<00:00, 266.57it/s]\n"
     ]
    },
    {
     "name": "stdout",
     "output_type": "stream",
     "text": [
      "  Trial 10/10 for subsample_ratio=0.6, max_iter=100\n"
     ]
    },
    {
     "name": "stderr",
     "output_type": "stream",
     "text": [
      "    Evaluating coalitions for trial 10: 100%|██████████| 1023/1023 [00:03<00:00, 269.47it/s]\n"
     ]
    },
    {
     "name": "stdout",
     "output_type": "stream",
     "text": [
      "\n",
      "Running experiment with subsample_ratio = 0.7, max_iter = 10\n",
      "  Trial 1/10 for subsample_ratio=0.7, max_iter=10\n"
     ]
    },
    {
     "name": "stderr",
     "output_type": "stream",
     "text": [
      "    Evaluating coalitions for trial 1: 100%|██████████| 1023/1023 [00:04<00:00, 226.43it/s]\n"
     ]
    },
    {
     "name": "stdout",
     "output_type": "stream",
     "text": [
      "  Trial 2/10 for subsample_ratio=0.7, max_iter=10\n"
     ]
    },
    {
     "name": "stderr",
     "output_type": "stream",
     "text": [
      "    Evaluating coalitions for trial 2: 100%|██████████| 1023/1023 [00:04<00:00, 227.92it/s]\n"
     ]
    },
    {
     "name": "stdout",
     "output_type": "stream",
     "text": [
      "  Trial 3/10 for subsample_ratio=0.7, max_iter=10\n"
     ]
    },
    {
     "name": "stderr",
     "output_type": "stream",
     "text": [
      "    Evaluating coalitions for trial 3: 100%|██████████| 1023/1023 [00:04<00:00, 232.61it/s]\n"
     ]
    },
    {
     "name": "stdout",
     "output_type": "stream",
     "text": [
      "  Trial 4/10 for subsample_ratio=0.7, max_iter=10\n"
     ]
    },
    {
     "name": "stderr",
     "output_type": "stream",
     "text": [
      "    Evaluating coalitions for trial 4: 100%|██████████| 1023/1023 [00:04<00:00, 219.65it/s]\n"
     ]
    },
    {
     "name": "stdout",
     "output_type": "stream",
     "text": [
      "  Trial 5/10 for subsample_ratio=0.7, max_iter=10\n"
     ]
    },
    {
     "name": "stderr",
     "output_type": "stream",
     "text": [
      "    Evaluating coalitions for trial 5: 100%|██████████| 1023/1023 [00:04<00:00, 225.67it/s]\n"
     ]
    },
    {
     "name": "stdout",
     "output_type": "stream",
     "text": [
      "  Trial 6/10 for subsample_ratio=0.7, max_iter=10\n"
     ]
    },
    {
     "name": "stderr",
     "output_type": "stream",
     "text": [
      "    Evaluating coalitions for trial 6: 100%|██████████| 1023/1023 [00:04<00:00, 226.25it/s]\n"
     ]
    },
    {
     "name": "stdout",
     "output_type": "stream",
     "text": [
      "  Trial 7/10 for subsample_ratio=0.7, max_iter=10\n"
     ]
    },
    {
     "name": "stderr",
     "output_type": "stream",
     "text": [
      "    Evaluating coalitions for trial 7: 100%|██████████| 1023/1023 [00:04<00:00, 220.34it/s]\n"
     ]
    },
    {
     "name": "stdout",
     "output_type": "stream",
     "text": [
      "  Trial 8/10 for subsample_ratio=0.7, max_iter=10\n"
     ]
    },
    {
     "name": "stderr",
     "output_type": "stream",
     "text": [
      "    Evaluating coalitions for trial 8: 100%|██████████| 1023/1023 [00:04<00:00, 217.41it/s]\n"
     ]
    },
    {
     "name": "stdout",
     "output_type": "stream",
     "text": [
      "  Trial 9/10 for subsample_ratio=0.7, max_iter=10\n"
     ]
    },
    {
     "name": "stderr",
     "output_type": "stream",
     "text": [
      "    Evaluating coalitions for trial 9: 100%|██████████| 1023/1023 [00:04<00:00, 222.79it/s]\n"
     ]
    },
    {
     "name": "stdout",
     "output_type": "stream",
     "text": [
      "  Trial 10/10 for subsample_ratio=0.7, max_iter=10\n"
     ]
    },
    {
     "name": "stderr",
     "output_type": "stream",
     "text": [
      "    Evaluating coalitions for trial 10: 100%|██████████| 1023/1023 [00:04<00:00, 209.32it/s]\n"
     ]
    },
    {
     "name": "stdout",
     "output_type": "stream",
     "text": [
      "\n",
      "Running experiment with subsample_ratio = 0.7, max_iter = 100\n",
      "  Trial 1/10 for subsample_ratio=0.7, max_iter=100\n"
     ]
    },
    {
     "name": "stderr",
     "output_type": "stream",
     "text": [
      "    Evaluating coalitions for trial 1: 100%|██████████| 1023/1023 [00:04<00:00, 223.70it/s]\n"
     ]
    },
    {
     "name": "stdout",
     "output_type": "stream",
     "text": [
      "  Trial 2/10 for subsample_ratio=0.7, max_iter=100\n"
     ]
    },
    {
     "name": "stderr",
     "output_type": "stream",
     "text": [
      "    Evaluating coalitions for trial 2: 100%|██████████| 1023/1023 [00:04<00:00, 225.03it/s]\n"
     ]
    },
    {
     "name": "stdout",
     "output_type": "stream",
     "text": [
      "  Trial 3/10 for subsample_ratio=0.7, max_iter=100\n"
     ]
    },
    {
     "name": "stderr",
     "output_type": "stream",
     "text": [
      "    Evaluating coalitions for trial 3: 100%|██████████| 1023/1023 [00:04<00:00, 221.53it/s]\n"
     ]
    },
    {
     "name": "stdout",
     "output_type": "stream",
     "text": [
      "  Trial 4/10 for subsample_ratio=0.7, max_iter=100\n"
     ]
    },
    {
     "name": "stderr",
     "output_type": "stream",
     "text": [
      "    Evaluating coalitions for trial 4: 100%|██████████| 1023/1023 [00:04<00:00, 219.68it/s]\n"
     ]
    },
    {
     "name": "stdout",
     "output_type": "stream",
     "text": [
      "  Trial 5/10 for subsample_ratio=0.7, max_iter=100\n"
     ]
    },
    {
     "name": "stderr",
     "output_type": "stream",
     "text": [
      "    Evaluating coalitions for trial 5: 100%|██████████| 1023/1023 [00:04<00:00, 224.92it/s]\n"
     ]
    },
    {
     "name": "stdout",
     "output_type": "stream",
     "text": [
      "  Trial 6/10 for subsample_ratio=0.7, max_iter=100\n"
     ]
    },
    {
     "name": "stderr",
     "output_type": "stream",
     "text": [
      "    Evaluating coalitions for trial 6: 100%|██████████| 1023/1023 [00:04<00:00, 221.93it/s]\n"
     ]
    },
    {
     "name": "stdout",
     "output_type": "stream",
     "text": [
      "  Trial 7/10 for subsample_ratio=0.7, max_iter=100\n"
     ]
    },
    {
     "name": "stderr",
     "output_type": "stream",
     "text": [
      "    Evaluating coalitions for trial 7: 100%|██████████| 1023/1023 [00:04<00:00, 221.77it/s]\n"
     ]
    },
    {
     "name": "stdout",
     "output_type": "stream",
     "text": [
      "  Trial 8/10 for subsample_ratio=0.7, max_iter=100\n"
     ]
    },
    {
     "name": "stderr",
     "output_type": "stream",
     "text": [
      "    Evaluating coalitions for trial 8: 100%|██████████| 1023/1023 [00:04<00:00, 217.08it/s]\n"
     ]
    },
    {
     "name": "stdout",
     "output_type": "stream",
     "text": [
      "  Trial 9/10 for subsample_ratio=0.7, max_iter=100\n"
     ]
    },
    {
     "name": "stderr",
     "output_type": "stream",
     "text": [
      "    Evaluating coalitions for trial 9: 100%|██████████| 1023/1023 [00:04<00:00, 217.37it/s]\n"
     ]
    },
    {
     "name": "stdout",
     "output_type": "stream",
     "text": [
      "  Trial 10/10 for subsample_ratio=0.7, max_iter=100\n"
     ]
    },
    {
     "name": "stderr",
     "output_type": "stream",
     "text": [
      "    Evaluating coalitions for trial 10: 100%|██████████| 1023/1023 [00:04<00:00, 221.53it/s]\n"
     ]
    },
    {
     "name": "stdout",
     "output_type": "stream",
     "text": [
      "\n",
      "Running experiment with subsample_ratio = 0.8, max_iter = 10\n",
      "  Trial 1/10 for subsample_ratio=0.8, max_iter=10\n"
     ]
    },
    {
     "name": "stderr",
     "output_type": "stream",
     "text": [
      "    Evaluating coalitions for trial 1: 100%|██████████| 1023/1023 [00:05<00:00, 180.66it/s]\n"
     ]
    },
    {
     "name": "stdout",
     "output_type": "stream",
     "text": [
      "  Trial 2/10 for subsample_ratio=0.8, max_iter=10\n"
     ]
    },
    {
     "name": "stderr",
     "output_type": "stream",
     "text": [
      "    Evaluating coalitions for trial 2: 100%|██████████| 1023/1023 [00:05<00:00, 175.12it/s]\n"
     ]
    },
    {
     "name": "stdout",
     "output_type": "stream",
     "text": [
      "  Trial 3/10 for subsample_ratio=0.8, max_iter=10\n"
     ]
    },
    {
     "name": "stderr",
     "output_type": "stream",
     "text": [
      "    Evaluating coalitions for trial 3: 100%|██████████| 1023/1023 [00:06<00:00, 169.95it/s]\n"
     ]
    },
    {
     "name": "stdout",
     "output_type": "stream",
     "text": [
      "  Trial 4/10 for subsample_ratio=0.8, max_iter=10\n"
     ]
    },
    {
     "name": "stderr",
     "output_type": "stream",
     "text": [
      "    Evaluating coalitions for trial 4: 100%|██████████| 1023/1023 [00:06<00:00, 168.35it/s]\n"
     ]
    },
    {
     "name": "stdout",
     "output_type": "stream",
     "text": [
      "  Trial 5/10 for subsample_ratio=0.8, max_iter=10\n"
     ]
    },
    {
     "name": "stderr",
     "output_type": "stream",
     "text": [
      "    Evaluating coalitions for trial 5: 100%|██████████| 1023/1023 [00:06<00:00, 157.97it/s]\n"
     ]
    },
    {
     "name": "stdout",
     "output_type": "stream",
     "text": [
      "  Trial 6/10 for subsample_ratio=0.8, max_iter=10\n"
     ]
    },
    {
     "name": "stderr",
     "output_type": "stream",
     "text": [
      "    Evaluating coalitions for trial 6: 100%|██████████| 1023/1023 [00:06<00:00, 161.84it/s]\n"
     ]
    },
    {
     "name": "stdout",
     "output_type": "stream",
     "text": [
      "  Trial 7/10 for subsample_ratio=0.8, max_iter=10\n"
     ]
    },
    {
     "name": "stderr",
     "output_type": "stream",
     "text": [
      "    Evaluating coalitions for trial 7: 100%|██████████| 1023/1023 [00:06<00:00, 158.39it/s]\n"
     ]
    },
    {
     "name": "stdout",
     "output_type": "stream",
     "text": [
      "  Trial 8/10 for subsample_ratio=0.8, max_iter=10\n"
     ]
    },
    {
     "name": "stderr",
     "output_type": "stream",
     "text": [
      "    Evaluating coalitions for trial 8: 100%|██████████| 1023/1023 [00:06<00:00, 158.65it/s]\n"
     ]
    },
    {
     "name": "stdout",
     "output_type": "stream",
     "text": [
      "  Trial 9/10 for subsample_ratio=0.8, max_iter=10\n"
     ]
    },
    {
     "name": "stderr",
     "output_type": "stream",
     "text": [
      "    Evaluating coalitions for trial 9: 100%|██████████| 1023/1023 [00:06<00:00, 163.64it/s]\n"
     ]
    },
    {
     "name": "stdout",
     "output_type": "stream",
     "text": [
      "  Trial 10/10 for subsample_ratio=0.8, max_iter=10\n"
     ]
    },
    {
     "name": "stderr",
     "output_type": "stream",
     "text": [
      "    Evaluating coalitions for trial 10: 100%|██████████| 1023/1023 [00:06<00:00, 160.66it/s]\n"
     ]
    },
    {
     "name": "stdout",
     "output_type": "stream",
     "text": [
      "\n",
      "Running experiment with subsample_ratio = 0.8, max_iter = 100\n",
      "  Trial 1/10 for subsample_ratio=0.8, max_iter=100\n"
     ]
    },
    {
     "name": "stderr",
     "output_type": "stream",
     "text": [
      "    Evaluating coalitions for trial 1: 100%|██████████| 1023/1023 [00:06<00:00, 165.37it/s]\n"
     ]
    },
    {
     "name": "stdout",
     "output_type": "stream",
     "text": [
      "  Trial 2/10 for subsample_ratio=0.8, max_iter=100\n"
     ]
    },
    {
     "name": "stderr",
     "output_type": "stream",
     "text": [
      "    Evaluating coalitions for trial 2: 100%|██████████| 1023/1023 [00:06<00:00, 165.59it/s]\n"
     ]
    },
    {
     "name": "stdout",
     "output_type": "stream",
     "text": [
      "  Trial 3/10 for subsample_ratio=0.8, max_iter=100\n"
     ]
    },
    {
     "name": "stderr",
     "output_type": "stream",
     "text": [
      "    Evaluating coalitions for trial 3: 100%|██████████| 1023/1023 [00:06<00:00, 165.36it/s]\n"
     ]
    },
    {
     "name": "stdout",
     "output_type": "stream",
     "text": [
      "  Trial 4/10 for subsample_ratio=0.8, max_iter=100\n"
     ]
    },
    {
     "name": "stderr",
     "output_type": "stream",
     "text": [
      "    Evaluating coalitions for trial 4: 100%|██████████| 1023/1023 [00:06<00:00, 166.79it/s]\n"
     ]
    },
    {
     "name": "stdout",
     "output_type": "stream",
     "text": [
      "  Trial 5/10 for subsample_ratio=0.8, max_iter=100\n"
     ]
    },
    {
     "name": "stderr",
     "output_type": "stream",
     "text": [
      "    Evaluating coalitions for trial 5: 100%|██████████| 1023/1023 [00:05<00:00, 170.52it/s]\n"
     ]
    },
    {
     "name": "stdout",
     "output_type": "stream",
     "text": [
      "  Trial 6/10 for subsample_ratio=0.8, max_iter=100\n"
     ]
    },
    {
     "name": "stderr",
     "output_type": "stream",
     "text": [
      "    Evaluating coalitions for trial 6: 100%|██████████| 1023/1023 [00:05<00:00, 173.80it/s]\n"
     ]
    },
    {
     "name": "stdout",
     "output_type": "stream",
     "text": [
      "  Trial 7/10 for subsample_ratio=0.8, max_iter=100\n"
     ]
    },
    {
     "name": "stderr",
     "output_type": "stream",
     "text": [
      "    Evaluating coalitions for trial 7: 100%|██████████| 1023/1023 [00:06<00:00, 168.03it/s]\n"
     ]
    },
    {
     "name": "stdout",
     "output_type": "stream",
     "text": [
      "  Trial 8/10 for subsample_ratio=0.8, max_iter=100\n"
     ]
    },
    {
     "name": "stderr",
     "output_type": "stream",
     "text": [
      "    Evaluating coalitions for trial 8: 100%|██████████| 1023/1023 [00:05<00:00, 174.15it/s]\n"
     ]
    },
    {
     "name": "stdout",
     "output_type": "stream",
     "text": [
      "  Trial 9/10 for subsample_ratio=0.8, max_iter=100\n"
     ]
    },
    {
     "name": "stderr",
     "output_type": "stream",
     "text": [
      "    Evaluating coalitions for trial 9: 100%|██████████| 1023/1023 [00:06<00:00, 165.28it/s]\n"
     ]
    },
    {
     "name": "stdout",
     "output_type": "stream",
     "text": [
      "  Trial 10/10 for subsample_ratio=0.8, max_iter=100\n"
     ]
    },
    {
     "name": "stderr",
     "output_type": "stream",
     "text": [
      "    Evaluating coalitions for trial 10: 100%|██████████| 1023/1023 [00:06<00:00, 167.64it/s]\n"
     ]
    },
    {
     "name": "stdout",
     "output_type": "stream",
     "text": [
      "Process complete. Results saved.\n"
     ]
    }
   ],
   "source": [
    "train_files_pattern = \"/Users/abbaszal/Documents/Thesis_Project_Spambase/data/corrupted_data/c8/train_{i:02d}.csv\" \n",
    "test_files_pattern = \"/Users/abbaszal/Documents/Thesis_Project_Spambase/data/corrupted_data/c8/test_{i:02d}.csv\" \n",
    "run_experiment(n_clients=10, n_trials=10, base_random_seed=42,  subsample_ratios=[0.5, 0.6, 0.7, 0.8],  max_iters=[10, 100], train_files_pattern=train_files_pattern, test_files_pattern=test_files_pattern)\n"
   ]
  },
  {
   "cell_type": "code",
   "execution_count": 36,
   "metadata": {},
   "outputs": [
    {
     "name": "stdout",
     "output_type": "stream",
     "text": [
      "\n",
      "Running experiment with subsample_ratio = 0.5, max_iter = 10\n",
      "  Trial 1/10 for subsample_ratio=0.5, max_iter=10\n"
     ]
    },
    {
     "name": "stderr",
     "output_type": "stream",
     "text": [
      "    Evaluating coalitions for trial 1: 100%|██████████| 1023/1023 [00:03<00:00, 289.35it/s]\n"
     ]
    },
    {
     "name": "stdout",
     "output_type": "stream",
     "text": [
      "  Trial 2/10 for subsample_ratio=0.5, max_iter=10\n"
     ]
    },
    {
     "name": "stderr",
     "output_type": "stream",
     "text": [
      "    Evaluating coalitions for trial 2: 100%|██████████| 1023/1023 [00:03<00:00, 309.77it/s]\n"
     ]
    },
    {
     "name": "stdout",
     "output_type": "stream",
     "text": [
      "  Trial 3/10 for subsample_ratio=0.5, max_iter=10\n"
     ]
    },
    {
     "name": "stderr",
     "output_type": "stream",
     "text": [
      "    Evaluating coalitions for trial 3: 100%|██████████| 1023/1023 [00:03<00:00, 286.84it/s]\n"
     ]
    },
    {
     "name": "stdout",
     "output_type": "stream",
     "text": [
      "  Trial 4/10 for subsample_ratio=0.5, max_iter=10\n"
     ]
    },
    {
     "name": "stderr",
     "output_type": "stream",
     "text": [
      "    Evaluating coalitions for trial 4: 100%|██████████| 1023/1023 [00:03<00:00, 310.20it/s]\n"
     ]
    },
    {
     "name": "stdout",
     "output_type": "stream",
     "text": [
      "  Trial 5/10 for subsample_ratio=0.5, max_iter=10\n"
     ]
    },
    {
     "name": "stderr",
     "output_type": "stream",
     "text": [
      "    Evaluating coalitions for trial 5: 100%|██████████| 1023/1023 [00:03<00:00, 283.25it/s]\n"
     ]
    },
    {
     "name": "stdout",
     "output_type": "stream",
     "text": [
      "  Trial 6/10 for subsample_ratio=0.5, max_iter=10\n"
     ]
    },
    {
     "name": "stderr",
     "output_type": "stream",
     "text": [
      "    Evaluating coalitions for trial 6: 100%|██████████| 1023/1023 [00:03<00:00, 316.00it/s]\n"
     ]
    },
    {
     "name": "stdout",
     "output_type": "stream",
     "text": [
      "  Trial 7/10 for subsample_ratio=0.5, max_iter=10\n"
     ]
    },
    {
     "name": "stderr",
     "output_type": "stream",
     "text": [
      "    Evaluating coalitions for trial 7: 100%|██████████| 1023/1023 [00:03<00:00, 330.45it/s]\n"
     ]
    },
    {
     "name": "stdout",
     "output_type": "stream",
     "text": [
      "  Trial 8/10 for subsample_ratio=0.5, max_iter=10\n"
     ]
    },
    {
     "name": "stderr",
     "output_type": "stream",
     "text": [
      "    Evaluating coalitions for trial 8: 100%|██████████| 1023/1023 [00:03<00:00, 333.70it/s]\n"
     ]
    },
    {
     "name": "stdout",
     "output_type": "stream",
     "text": [
      "  Trial 9/10 for subsample_ratio=0.5, max_iter=10\n"
     ]
    },
    {
     "name": "stderr",
     "output_type": "stream",
     "text": [
      "    Evaluating coalitions for trial 9: 100%|██████████| 1023/1023 [00:03<00:00, 322.68it/s]\n"
     ]
    },
    {
     "name": "stdout",
     "output_type": "stream",
     "text": [
      "  Trial 10/10 for subsample_ratio=0.5, max_iter=10\n"
     ]
    },
    {
     "name": "stderr",
     "output_type": "stream",
     "text": [
      "    Evaluating coalitions for trial 10: 100%|██████████| 1023/1023 [00:03<00:00, 317.19it/s]\n"
     ]
    },
    {
     "name": "stdout",
     "output_type": "stream",
     "text": [
      "\n",
      "Running experiment with subsample_ratio = 0.5, max_iter = 100\n",
      "  Trial 1/10 for subsample_ratio=0.5, max_iter=100\n"
     ]
    },
    {
     "name": "stderr",
     "output_type": "stream",
     "text": [
      "    Evaluating coalitions for trial 1: 100%|██████████| 1023/1023 [00:03<00:00, 304.29it/s]\n"
     ]
    },
    {
     "name": "stdout",
     "output_type": "stream",
     "text": [
      "  Trial 2/10 for subsample_ratio=0.5, max_iter=100\n"
     ]
    },
    {
     "name": "stderr",
     "output_type": "stream",
     "text": [
      "    Evaluating coalitions for trial 2: 100%|██████████| 1023/1023 [00:03<00:00, 324.20it/s]\n"
     ]
    },
    {
     "name": "stdout",
     "output_type": "stream",
     "text": [
      "  Trial 3/10 for subsample_ratio=0.5, max_iter=100\n"
     ]
    },
    {
     "name": "stderr",
     "output_type": "stream",
     "text": [
      "    Evaluating coalitions for trial 3: 100%|██████████| 1023/1023 [00:03<00:00, 320.44it/s]\n"
     ]
    },
    {
     "name": "stdout",
     "output_type": "stream",
     "text": [
      "  Trial 4/10 for subsample_ratio=0.5, max_iter=100\n"
     ]
    },
    {
     "name": "stderr",
     "output_type": "stream",
     "text": [
      "    Evaluating coalitions for trial 4: 100%|██████████| 1023/1023 [00:03<00:00, 319.96it/s]\n"
     ]
    },
    {
     "name": "stdout",
     "output_type": "stream",
     "text": [
      "  Trial 5/10 for subsample_ratio=0.5, max_iter=100\n"
     ]
    },
    {
     "name": "stderr",
     "output_type": "stream",
     "text": [
      "    Evaluating coalitions for trial 5: 100%|██████████| 1023/1023 [00:03<00:00, 321.06it/s]\n"
     ]
    },
    {
     "name": "stdout",
     "output_type": "stream",
     "text": [
      "  Trial 6/10 for subsample_ratio=0.5, max_iter=100\n"
     ]
    },
    {
     "name": "stderr",
     "output_type": "stream",
     "text": [
      "    Evaluating coalitions for trial 6: 100%|██████████| 1023/1023 [00:03<00:00, 312.00it/s]\n"
     ]
    },
    {
     "name": "stdout",
     "output_type": "stream",
     "text": [
      "  Trial 7/10 for subsample_ratio=0.5, max_iter=100\n"
     ]
    },
    {
     "name": "stderr",
     "output_type": "stream",
     "text": [
      "    Evaluating coalitions for trial 7: 100%|██████████| 1023/1023 [00:03<00:00, 314.27it/s]\n"
     ]
    },
    {
     "name": "stdout",
     "output_type": "stream",
     "text": [
      "  Trial 8/10 for subsample_ratio=0.5, max_iter=100\n"
     ]
    },
    {
     "name": "stderr",
     "output_type": "stream",
     "text": [
      "    Evaluating coalitions for trial 8: 100%|██████████| 1023/1023 [00:03<00:00, 333.30it/s]\n"
     ]
    },
    {
     "name": "stdout",
     "output_type": "stream",
     "text": [
      "  Trial 9/10 for subsample_ratio=0.5, max_iter=100\n"
     ]
    },
    {
     "name": "stderr",
     "output_type": "stream",
     "text": [
      "    Evaluating coalitions for trial 9: 100%|██████████| 1023/1023 [00:03<00:00, 319.90it/s]\n"
     ]
    },
    {
     "name": "stdout",
     "output_type": "stream",
     "text": [
      "  Trial 10/10 for subsample_ratio=0.5, max_iter=100\n"
     ]
    },
    {
     "name": "stderr",
     "output_type": "stream",
     "text": [
      "    Evaluating coalitions for trial 10: 100%|██████████| 1023/1023 [00:03<00:00, 327.68it/s]\n"
     ]
    },
    {
     "name": "stdout",
     "output_type": "stream",
     "text": [
      "\n",
      "Running experiment with subsample_ratio = 0.6, max_iter = 10\n",
      "  Trial 1/10 for subsample_ratio=0.6, max_iter=10\n"
     ]
    },
    {
     "name": "stderr",
     "output_type": "stream",
     "text": [
      "    Evaluating coalitions for trial 1: 100%|██████████| 1023/1023 [00:03<00:00, 261.84it/s]\n"
     ]
    },
    {
     "name": "stdout",
     "output_type": "stream",
     "text": [
      "  Trial 2/10 for subsample_ratio=0.6, max_iter=10\n"
     ]
    },
    {
     "name": "stderr",
     "output_type": "stream",
     "text": [
      "    Evaluating coalitions for trial 2: 100%|██████████| 1023/1023 [00:03<00:00, 259.31it/s]\n"
     ]
    },
    {
     "name": "stdout",
     "output_type": "stream",
     "text": [
      "  Trial 3/10 for subsample_ratio=0.6, max_iter=10\n"
     ]
    },
    {
     "name": "stderr",
     "output_type": "stream",
     "text": [
      "    Evaluating coalitions for trial 3: 100%|██████████| 1023/1023 [00:03<00:00, 267.35it/s]\n"
     ]
    },
    {
     "name": "stdout",
     "output_type": "stream",
     "text": [
      "  Trial 4/10 for subsample_ratio=0.6, max_iter=10\n"
     ]
    },
    {
     "name": "stderr",
     "output_type": "stream",
     "text": [
      "    Evaluating coalitions for trial 4: 100%|██████████| 1023/1023 [00:03<00:00, 257.86it/s]\n"
     ]
    },
    {
     "name": "stdout",
     "output_type": "stream",
     "text": [
      "  Trial 5/10 for subsample_ratio=0.6, max_iter=10\n"
     ]
    },
    {
     "name": "stderr",
     "output_type": "stream",
     "text": [
      "    Evaluating coalitions for trial 5: 100%|██████████| 1023/1023 [00:03<00:00, 263.03it/s]\n"
     ]
    },
    {
     "name": "stdout",
     "output_type": "stream",
     "text": [
      "  Trial 6/10 for subsample_ratio=0.6, max_iter=10\n"
     ]
    },
    {
     "name": "stderr",
     "output_type": "stream",
     "text": [
      "    Evaluating coalitions for trial 6: 100%|██████████| 1023/1023 [00:04<00:00, 253.80it/s]\n"
     ]
    },
    {
     "name": "stdout",
     "output_type": "stream",
     "text": [
      "  Trial 7/10 for subsample_ratio=0.6, max_iter=10\n"
     ]
    },
    {
     "name": "stderr",
     "output_type": "stream",
     "text": [
      "    Evaluating coalitions for trial 7: 100%|██████████| 1023/1023 [00:04<00:00, 244.53it/s]\n"
     ]
    },
    {
     "name": "stdout",
     "output_type": "stream",
     "text": [
      "  Trial 8/10 for subsample_ratio=0.6, max_iter=10\n"
     ]
    },
    {
     "name": "stderr",
     "output_type": "stream",
     "text": [
      "    Evaluating coalitions for trial 8: 100%|██████████| 1023/1023 [00:04<00:00, 239.32it/s]\n"
     ]
    },
    {
     "name": "stdout",
     "output_type": "stream",
     "text": [
      "  Trial 9/10 for subsample_ratio=0.6, max_iter=10\n"
     ]
    },
    {
     "name": "stderr",
     "output_type": "stream",
     "text": [
      "    Evaluating coalitions for trial 9: 100%|██████████| 1023/1023 [00:04<00:00, 251.82it/s]\n"
     ]
    },
    {
     "name": "stdout",
     "output_type": "stream",
     "text": [
      "  Trial 10/10 for subsample_ratio=0.6, max_iter=10\n"
     ]
    },
    {
     "name": "stderr",
     "output_type": "stream",
     "text": [
      "    Evaluating coalitions for trial 10: 100%|██████████| 1023/1023 [00:03<00:00, 258.81it/s]\n"
     ]
    },
    {
     "name": "stdout",
     "output_type": "stream",
     "text": [
      "\n",
      "Running experiment with subsample_ratio = 0.6, max_iter = 100\n",
      "  Trial 1/10 for subsample_ratio=0.6, max_iter=100\n"
     ]
    },
    {
     "name": "stderr",
     "output_type": "stream",
     "text": [
      "    Evaluating coalitions for trial 1: 100%|██████████| 1023/1023 [00:03<00:00, 269.24it/s]\n"
     ]
    },
    {
     "name": "stdout",
     "output_type": "stream",
     "text": [
      "  Trial 2/10 for subsample_ratio=0.6, max_iter=100\n"
     ]
    },
    {
     "name": "stderr",
     "output_type": "stream",
     "text": [
      "    Evaluating coalitions for trial 2: 100%|██████████| 1023/1023 [00:04<00:00, 245.45it/s]\n"
     ]
    },
    {
     "name": "stdout",
     "output_type": "stream",
     "text": [
      "  Trial 3/10 for subsample_ratio=0.6, max_iter=100\n"
     ]
    },
    {
     "name": "stderr",
     "output_type": "stream",
     "text": [
      "    Evaluating coalitions for trial 3: 100%|██████████| 1023/1023 [00:04<00:00, 255.53it/s]\n"
     ]
    },
    {
     "name": "stdout",
     "output_type": "stream",
     "text": [
      "  Trial 4/10 for subsample_ratio=0.6, max_iter=100\n"
     ]
    },
    {
     "name": "stderr",
     "output_type": "stream",
     "text": [
      "    Evaluating coalitions for trial 4: 100%|██████████| 1023/1023 [00:04<00:00, 254.74it/s]\n"
     ]
    },
    {
     "name": "stdout",
     "output_type": "stream",
     "text": [
      "  Trial 5/10 for subsample_ratio=0.6, max_iter=100\n"
     ]
    },
    {
     "name": "stderr",
     "output_type": "stream",
     "text": [
      "    Evaluating coalitions for trial 5: 100%|██████████| 1023/1023 [00:03<00:00, 257.91it/s]\n"
     ]
    },
    {
     "name": "stdout",
     "output_type": "stream",
     "text": [
      "  Trial 6/10 for subsample_ratio=0.6, max_iter=100\n"
     ]
    },
    {
     "name": "stderr",
     "output_type": "stream",
     "text": [
      "    Evaluating coalitions for trial 6: 100%|██████████| 1023/1023 [00:03<00:00, 256.88it/s]\n"
     ]
    },
    {
     "name": "stdout",
     "output_type": "stream",
     "text": [
      "  Trial 7/10 for subsample_ratio=0.6, max_iter=100\n"
     ]
    },
    {
     "name": "stderr",
     "output_type": "stream",
     "text": [
      "    Evaluating coalitions for trial 7: 100%|██████████| 1023/1023 [00:04<00:00, 241.18it/s]\n"
     ]
    },
    {
     "name": "stdout",
     "output_type": "stream",
     "text": [
      "  Trial 8/10 for subsample_ratio=0.6, max_iter=100\n"
     ]
    },
    {
     "name": "stderr",
     "output_type": "stream",
     "text": [
      "    Evaluating coalitions for trial 8: 100%|██████████| 1023/1023 [00:04<00:00, 246.05it/s]\n"
     ]
    },
    {
     "name": "stdout",
     "output_type": "stream",
     "text": [
      "  Trial 9/10 for subsample_ratio=0.6, max_iter=100\n"
     ]
    },
    {
     "name": "stderr",
     "output_type": "stream",
     "text": [
      "    Evaluating coalitions for trial 9: 100%|██████████| 1023/1023 [00:04<00:00, 255.70it/s]\n"
     ]
    },
    {
     "name": "stdout",
     "output_type": "stream",
     "text": [
      "  Trial 10/10 for subsample_ratio=0.6, max_iter=100\n"
     ]
    },
    {
     "name": "stderr",
     "output_type": "stream",
     "text": [
      "    Evaluating coalitions for trial 10: 100%|██████████| 1023/1023 [00:04<00:00, 237.90it/s]\n"
     ]
    },
    {
     "name": "stdout",
     "output_type": "stream",
     "text": [
      "\n",
      "Running experiment with subsample_ratio = 0.7, max_iter = 10\n",
      "  Trial 1/10 for subsample_ratio=0.7, max_iter=10\n"
     ]
    },
    {
     "name": "stderr",
     "output_type": "stream",
     "text": [
      "    Evaluating coalitions for trial 1: 100%|██████████| 1023/1023 [00:04<00:00, 227.44it/s]\n"
     ]
    },
    {
     "name": "stdout",
     "output_type": "stream",
     "text": [
      "  Trial 2/10 for subsample_ratio=0.7, max_iter=10\n"
     ]
    },
    {
     "name": "stderr",
     "output_type": "stream",
     "text": [
      "    Evaluating coalitions for trial 2: 100%|██████████| 1023/1023 [00:04<00:00, 218.50it/s]\n"
     ]
    },
    {
     "name": "stdout",
     "output_type": "stream",
     "text": [
      "  Trial 3/10 for subsample_ratio=0.7, max_iter=10\n"
     ]
    },
    {
     "name": "stderr",
     "output_type": "stream",
     "text": [
      "    Evaluating coalitions for trial 3: 100%|██████████| 1023/1023 [00:04<00:00, 224.38it/s]\n"
     ]
    },
    {
     "name": "stdout",
     "output_type": "stream",
     "text": [
      "  Trial 4/10 for subsample_ratio=0.7, max_iter=10\n"
     ]
    },
    {
     "name": "stderr",
     "output_type": "stream",
     "text": [
      "    Evaluating coalitions for trial 4: 100%|██████████| 1023/1023 [00:04<00:00, 223.21it/s]\n"
     ]
    },
    {
     "name": "stdout",
     "output_type": "stream",
     "text": [
      "  Trial 5/10 for subsample_ratio=0.7, max_iter=10\n"
     ]
    },
    {
     "name": "stderr",
     "output_type": "stream",
     "text": [
      "    Evaluating coalitions for trial 5: 100%|██████████| 1023/1023 [00:04<00:00, 224.37it/s]\n"
     ]
    },
    {
     "name": "stdout",
     "output_type": "stream",
     "text": [
      "  Trial 6/10 for subsample_ratio=0.7, max_iter=10\n"
     ]
    },
    {
     "name": "stderr",
     "output_type": "stream",
     "text": [
      "    Evaluating coalitions for trial 6: 100%|██████████| 1023/1023 [00:04<00:00, 216.26it/s]\n"
     ]
    },
    {
     "name": "stdout",
     "output_type": "stream",
     "text": [
      "  Trial 7/10 for subsample_ratio=0.7, max_iter=10\n"
     ]
    },
    {
     "name": "stderr",
     "output_type": "stream",
     "text": [
      "    Evaluating coalitions for trial 7: 100%|██████████| 1023/1023 [00:04<00:00, 220.34it/s]\n"
     ]
    },
    {
     "name": "stdout",
     "output_type": "stream",
     "text": [
      "  Trial 8/10 for subsample_ratio=0.7, max_iter=10\n"
     ]
    },
    {
     "name": "stderr",
     "output_type": "stream",
     "text": [
      "    Evaluating coalitions for trial 8: 100%|██████████| 1023/1023 [00:04<00:00, 220.23it/s]\n"
     ]
    },
    {
     "name": "stdout",
     "output_type": "stream",
     "text": [
      "  Trial 9/10 for subsample_ratio=0.7, max_iter=10\n"
     ]
    },
    {
     "name": "stderr",
     "output_type": "stream",
     "text": [
      "    Evaluating coalitions for trial 9: 100%|██████████| 1023/1023 [00:04<00:00, 221.17it/s]\n"
     ]
    },
    {
     "name": "stdout",
     "output_type": "stream",
     "text": [
      "  Trial 10/10 for subsample_ratio=0.7, max_iter=10\n"
     ]
    },
    {
     "name": "stderr",
     "output_type": "stream",
     "text": [
      "    Evaluating coalitions for trial 10: 100%|██████████| 1023/1023 [00:04<00:00, 222.40it/s]\n"
     ]
    },
    {
     "name": "stdout",
     "output_type": "stream",
     "text": [
      "\n",
      "Running experiment with subsample_ratio = 0.7, max_iter = 100\n",
      "  Trial 1/10 for subsample_ratio=0.7, max_iter=100\n"
     ]
    },
    {
     "name": "stderr",
     "output_type": "stream",
     "text": [
      "    Evaluating coalitions for trial 1: 100%|██████████| 1023/1023 [00:04<00:00, 226.08it/s]\n"
     ]
    },
    {
     "name": "stdout",
     "output_type": "stream",
     "text": [
      "  Trial 2/10 for subsample_ratio=0.7, max_iter=100\n"
     ]
    },
    {
     "name": "stderr",
     "output_type": "stream",
     "text": [
      "    Evaluating coalitions for trial 2: 100%|██████████| 1023/1023 [00:04<00:00, 219.72it/s]\n"
     ]
    },
    {
     "name": "stdout",
     "output_type": "stream",
     "text": [
      "  Trial 3/10 for subsample_ratio=0.7, max_iter=100\n"
     ]
    },
    {
     "name": "stderr",
     "output_type": "stream",
     "text": [
      "    Evaluating coalitions for trial 3: 100%|██████████| 1023/1023 [00:04<00:00, 223.72it/s]\n"
     ]
    },
    {
     "name": "stdout",
     "output_type": "stream",
     "text": [
      "  Trial 4/10 for subsample_ratio=0.7, max_iter=100\n"
     ]
    },
    {
     "name": "stderr",
     "output_type": "stream",
     "text": [
      "    Evaluating coalitions for trial 4: 100%|██████████| 1023/1023 [00:04<00:00, 215.93it/s]\n"
     ]
    },
    {
     "name": "stdout",
     "output_type": "stream",
     "text": [
      "  Trial 5/10 for subsample_ratio=0.7, max_iter=100\n"
     ]
    },
    {
     "name": "stderr",
     "output_type": "stream",
     "text": [
      "    Evaluating coalitions for trial 5: 100%|██████████| 1023/1023 [00:04<00:00, 218.51it/s]\n"
     ]
    },
    {
     "name": "stdout",
     "output_type": "stream",
     "text": [
      "  Trial 6/10 for subsample_ratio=0.7, max_iter=100\n"
     ]
    },
    {
     "name": "stderr",
     "output_type": "stream",
     "text": [
      "    Evaluating coalitions for trial 6: 100%|██████████| 1023/1023 [00:04<00:00, 221.65it/s]\n"
     ]
    },
    {
     "name": "stdout",
     "output_type": "stream",
     "text": [
      "  Trial 7/10 for subsample_ratio=0.7, max_iter=100\n"
     ]
    },
    {
     "name": "stderr",
     "output_type": "stream",
     "text": [
      "    Evaluating coalitions for trial 7: 100%|██████████| 1023/1023 [00:04<00:00, 225.76it/s]\n"
     ]
    },
    {
     "name": "stdout",
     "output_type": "stream",
     "text": [
      "  Trial 8/10 for subsample_ratio=0.7, max_iter=100\n"
     ]
    },
    {
     "name": "stderr",
     "output_type": "stream",
     "text": [
      "    Evaluating coalitions for trial 8: 100%|██████████| 1023/1023 [00:04<00:00, 225.94it/s]\n"
     ]
    },
    {
     "name": "stdout",
     "output_type": "stream",
     "text": [
      "  Trial 9/10 for subsample_ratio=0.7, max_iter=100\n"
     ]
    },
    {
     "name": "stderr",
     "output_type": "stream",
     "text": [
      "    Evaluating coalitions for trial 9: 100%|██████████| 1023/1023 [00:04<00:00, 219.62it/s]\n"
     ]
    },
    {
     "name": "stdout",
     "output_type": "stream",
     "text": [
      "  Trial 10/10 for subsample_ratio=0.7, max_iter=100\n"
     ]
    },
    {
     "name": "stderr",
     "output_type": "stream",
     "text": [
      "    Evaluating coalitions for trial 10: 100%|██████████| 1023/1023 [00:04<00:00, 223.31it/s]\n"
     ]
    },
    {
     "name": "stdout",
     "output_type": "stream",
     "text": [
      "\n",
      "Running experiment with subsample_ratio = 0.8, max_iter = 10\n",
      "  Trial 1/10 for subsample_ratio=0.8, max_iter=10\n"
     ]
    },
    {
     "name": "stderr",
     "output_type": "stream",
     "text": [
      "    Evaluating coalitions for trial 1: 100%|██████████| 1023/1023 [00:05<00:00, 194.64it/s]\n"
     ]
    },
    {
     "name": "stdout",
     "output_type": "stream",
     "text": [
      "  Trial 2/10 for subsample_ratio=0.8, max_iter=10\n"
     ]
    },
    {
     "name": "stderr",
     "output_type": "stream",
     "text": [
      "    Evaluating coalitions for trial 2: 100%|██████████| 1023/1023 [00:05<00:00, 190.23it/s]\n"
     ]
    },
    {
     "name": "stdout",
     "output_type": "stream",
     "text": [
      "  Trial 3/10 for subsample_ratio=0.8, max_iter=10\n"
     ]
    },
    {
     "name": "stderr",
     "output_type": "stream",
     "text": [
      "    Evaluating coalitions for trial 3: 100%|██████████| 1023/1023 [00:05<00:00, 190.99it/s]\n"
     ]
    },
    {
     "name": "stdout",
     "output_type": "stream",
     "text": [
      "  Trial 4/10 for subsample_ratio=0.8, max_iter=10\n"
     ]
    },
    {
     "name": "stderr",
     "output_type": "stream",
     "text": [
      "    Evaluating coalitions for trial 4: 100%|██████████| 1023/1023 [00:05<00:00, 192.74it/s]\n"
     ]
    },
    {
     "name": "stdout",
     "output_type": "stream",
     "text": [
      "  Trial 5/10 for subsample_ratio=0.8, max_iter=10\n"
     ]
    },
    {
     "name": "stderr",
     "output_type": "stream",
     "text": [
      "    Evaluating coalitions for trial 5: 100%|██████████| 1023/1023 [00:05<00:00, 186.66it/s]\n"
     ]
    },
    {
     "name": "stdout",
     "output_type": "stream",
     "text": [
      "  Trial 6/10 for subsample_ratio=0.8, max_iter=10\n"
     ]
    },
    {
     "name": "stderr",
     "output_type": "stream",
     "text": [
      "    Evaluating coalitions for trial 6: 100%|██████████| 1023/1023 [00:05<00:00, 191.01it/s]\n"
     ]
    },
    {
     "name": "stdout",
     "output_type": "stream",
     "text": [
      "  Trial 7/10 for subsample_ratio=0.8, max_iter=10\n"
     ]
    },
    {
     "name": "stderr",
     "output_type": "stream",
     "text": [
      "    Evaluating coalitions for trial 7: 100%|██████████| 1023/1023 [00:05<00:00, 188.25it/s]\n"
     ]
    },
    {
     "name": "stdout",
     "output_type": "stream",
     "text": [
      "  Trial 8/10 for subsample_ratio=0.8, max_iter=10\n"
     ]
    },
    {
     "name": "stderr",
     "output_type": "stream",
     "text": [
      "    Evaluating coalitions for trial 8: 100%|██████████| 1023/1023 [00:05<00:00, 189.61it/s]\n"
     ]
    },
    {
     "name": "stdout",
     "output_type": "stream",
     "text": [
      "  Trial 9/10 for subsample_ratio=0.8, max_iter=10\n"
     ]
    },
    {
     "name": "stderr",
     "output_type": "stream",
     "text": [
      "    Evaluating coalitions for trial 9: 100%|██████████| 1023/1023 [00:05<00:00, 194.97it/s]\n"
     ]
    },
    {
     "name": "stdout",
     "output_type": "stream",
     "text": [
      "  Trial 10/10 for subsample_ratio=0.8, max_iter=10\n"
     ]
    },
    {
     "name": "stderr",
     "output_type": "stream",
     "text": [
      "    Evaluating coalitions for trial 10: 100%|██████████| 1023/1023 [00:05<00:00, 195.86it/s]\n"
     ]
    },
    {
     "name": "stdout",
     "output_type": "stream",
     "text": [
      "\n",
      "Running experiment with subsample_ratio = 0.8, max_iter = 100\n",
      "  Trial 1/10 for subsample_ratio=0.8, max_iter=100\n"
     ]
    },
    {
     "name": "stderr",
     "output_type": "stream",
     "text": [
      "    Evaluating coalitions for trial 1: 100%|██████████| 1023/1023 [00:05<00:00, 195.82it/s]\n"
     ]
    },
    {
     "name": "stdout",
     "output_type": "stream",
     "text": [
      "  Trial 2/10 for subsample_ratio=0.8, max_iter=100\n"
     ]
    },
    {
     "name": "stderr",
     "output_type": "stream",
     "text": [
      "    Evaluating coalitions for trial 2: 100%|██████████| 1023/1023 [00:05<00:00, 189.81it/s]\n"
     ]
    },
    {
     "name": "stdout",
     "output_type": "stream",
     "text": [
      "  Trial 3/10 for subsample_ratio=0.8, max_iter=100\n"
     ]
    },
    {
     "name": "stderr",
     "output_type": "stream",
     "text": [
      "    Evaluating coalitions for trial 3: 100%|██████████| 1023/1023 [00:05<00:00, 193.34it/s]\n"
     ]
    },
    {
     "name": "stdout",
     "output_type": "stream",
     "text": [
      "  Trial 4/10 for subsample_ratio=0.8, max_iter=100\n"
     ]
    },
    {
     "name": "stderr",
     "output_type": "stream",
     "text": [
      "    Evaluating coalitions for trial 4: 100%|██████████| 1023/1023 [00:05<00:00, 192.07it/s]\n"
     ]
    },
    {
     "name": "stdout",
     "output_type": "stream",
     "text": [
      "  Trial 5/10 for subsample_ratio=0.8, max_iter=100\n"
     ]
    },
    {
     "name": "stderr",
     "output_type": "stream",
     "text": [
      "    Evaluating coalitions for trial 5: 100%|██████████| 1023/1023 [00:05<00:00, 191.70it/s]\n"
     ]
    },
    {
     "name": "stdout",
     "output_type": "stream",
     "text": [
      "  Trial 6/10 for subsample_ratio=0.8, max_iter=100\n"
     ]
    },
    {
     "name": "stderr",
     "output_type": "stream",
     "text": [
      "    Evaluating coalitions for trial 6: 100%|██████████| 1023/1023 [00:05<00:00, 191.79it/s]\n"
     ]
    },
    {
     "name": "stdout",
     "output_type": "stream",
     "text": [
      "  Trial 7/10 for subsample_ratio=0.8, max_iter=100\n"
     ]
    },
    {
     "name": "stderr",
     "output_type": "stream",
     "text": [
      "    Evaluating coalitions for trial 7: 100%|██████████| 1023/1023 [00:05<00:00, 192.91it/s]\n"
     ]
    },
    {
     "name": "stdout",
     "output_type": "stream",
     "text": [
      "  Trial 8/10 for subsample_ratio=0.8, max_iter=100\n"
     ]
    },
    {
     "name": "stderr",
     "output_type": "stream",
     "text": [
      "    Evaluating coalitions for trial 8: 100%|██████████| 1023/1023 [00:05<00:00, 191.35it/s]\n"
     ]
    },
    {
     "name": "stdout",
     "output_type": "stream",
     "text": [
      "  Trial 9/10 for subsample_ratio=0.8, max_iter=100\n"
     ]
    },
    {
     "name": "stderr",
     "output_type": "stream",
     "text": [
      "    Evaluating coalitions for trial 9: 100%|██████████| 1023/1023 [00:05<00:00, 193.50it/s]\n"
     ]
    },
    {
     "name": "stdout",
     "output_type": "stream",
     "text": [
      "  Trial 10/10 for subsample_ratio=0.8, max_iter=100\n"
     ]
    },
    {
     "name": "stderr",
     "output_type": "stream",
     "text": [
      "    Evaluating coalitions for trial 10: 100%|██████████| 1023/1023 [00:05<00:00, 193.50it/s]\n"
     ]
    },
    {
     "name": "stdout",
     "output_type": "stream",
     "text": [
      "Process complete. Results saved.\n"
     ]
    }
   ],
   "source": [
    "train_files_pattern = \"/Users/abbaszal/Documents/Thesis_Project_Spambase/data/corrupted_data/c9/train_{i:02d}.csv\" \n",
    "test_files_pattern = \"/Users/abbaszal/Documents/Thesis_Project_Spambase/data/corrupted_data/c9/test_{i:02d}.csv\" \n",
    "run_experiment(n_clients=10, n_trials=10, base_random_seed=42,  subsample_ratios=[0.5, 0.6, 0.7, 0.8],  max_iters=[10, 100], train_files_pattern=train_files_pattern, test_files_pattern=test_files_pattern)\n"
   ]
  },
  {
   "cell_type": "markdown",
   "metadata": {},
   "source": [
    "# FedFor in HuGaDB with Different number of Corrupted Clients"
   ]
  },
  {
   "cell_type": "code",
   "execution_count": 7,
   "metadata": {},
   "outputs": [],
   "source": [
    "# Define the DecisionTree class\n",
    "class DecisionTree:\n",
    "    def __init__(self, max_depth=None, random_state=None):\n",
    "        self.max_depth = max_depth\n",
    "        self.tree_ = None\n",
    "        self.random_state = random_state\n",
    "\n",
    "    def fit(self, X, y):\n",
    "        self.tree_ = DecisionTreeClassifier(max_depth=self.max_depth, random_state=self.random_state)\n",
    "        self.tree_.fit(X, y)\n",
    "\n",
    "    def predict(self, X):\n",
    "        return self.tree_.predict(X)\n",
    "\n",
    "# Define the FederatedForest class\n",
    "class FederatedForest:\n",
    "    def __init__(self):\n",
    "        self.models = []\n",
    "\n",
    "    def add_model(self, model):\n",
    "        self.models.append(model)\n",
    "\n",
    "    def predict(self, X):\n",
    "        predictions = [model.predict(X) for model in self.models]\n",
    "        predictions = np.array(predictions).T\n",
    "        y = [np.bincount(row).argmax() for row in predictions]\n",
    "        return np.array(y)"
   ]
  },
  {
   "cell_type": "code",
   "execution_count": 8,
   "metadata": {},
   "outputs": [],
   "source": [
    "import warnings\n",
    "warnings.filterwarnings(\"ignore\", message=\"X does not have valid feature names\")"
   ]
  },
  {
   "cell_type": "code",
   "execution_count": 9,
   "metadata": {},
   "outputs": [],
   "source": [
    "def run_experiment_2(n_clients=10, n_trials=10, base_random_seed=42, subsample_ratios=[0.6, 0.7, 0.8], max_depths=[10, 100],train_files_pattern='',test_files_pattern=''):\n",
    "    all_results = []                   \n",
    "    all_nash_equilibrium_counts = []   \n",
    "    all_nash_details = []              \n",
    "    \n",
    "    for subsample_ratio in subsample_ratios:\n",
    "        for max_depth in max_depths:\n",
    "            print(f\"\\nRunning experiment with subsample_ratio = {subsample_ratio}, max_depth = {max_depth}\")\n",
    "            results = []\n",
    "            nash_equilibrium_counts = Counter()\n",
    "            nash_details_all = []  \n",
    "    \n",
    "            for trial in range(n_trials):\n",
    "                print(f\"  Trial {trial + 1}/{n_trials} for subsample_ratio={subsample_ratio}, max_depth={max_depth}\")\n",
    "                trial_seed = base_random_seed + trial\n",
    "                random.seed(trial_seed)\n",
    "                np.random.seed(trial_seed)\n",
    "                \n",
    "                df_train_global = pd.concat([pd.read_csv(train_files_pattern.format(i=i)) for i in range(1, 11)]).dropna()\n",
    "                df_train_global = df_train_global.sample(frac=subsample_ratio, random_state=trial_seed).reset_index(drop=True)\n",
    "                X_train_global = df_train_global.drop('act', axis=1)\n",
    "                y_train_global = df_train_global['act']\n",
    "\n",
    "                df_test_global = pd.concat([pd.read_csv(test_files_pattern.format(i=i)) for i in range(1, 11)]).dropna()\n",
    "                df_test_global = df_test_global.sample(frac=subsample_ratio, random_state=trial_seed).reset_index(drop=True)\n",
    "                X_test_global = df_test_global.drop('act', axis=1)\n",
    "                y_test_global = df_test_global['act']\n",
    "\n",
    "                label_encoder = LabelEncoder()\n",
    "                y_train_global = label_encoder.fit_transform(y_train_global)\n",
    "                y_test_global = label_encoder.transform(y_test_global)\n",
    "\n",
    "                scaler = StandardScaler()\n",
    "                X_train_global_scaled = scaler.fit_transform(X_train_global)\n",
    "                X_test_global_scaled = scaler.transform(X_test_global)\n",
    "\n",
    "                client_models = []\n",
    "                client_global_accuracies = {}\n",
    "                for i in range(n_clients):\n",
    "                    df_train_i = pd.read_csv(train_files_pattern.format(i=i+1)).dropna(subset=['act'])\n",
    "                    df_train_i = df_train_i.sample(frac=subsample_ratio, random_state=trial_seed).reset_index(drop=True)\n",
    "                    X_train = df_train_i.drop('act', axis=1)\n",
    "                    y_train = label_encoder.transform(df_train_i['act'])\n",
    "                    \n",
    "                    model = DecisionTree(max_depth=max_depth, random_state=np.random.randint(0, 100000))\n",
    "                    model.fit(X_train, y_train)\n",
    "                    client_models.append(model)\n",
    "                    \n",
    "                    y_pred_global = model.predict(X_test_global)\n",
    "                    acc_global = accuracy_score(y_test_global, y_pred_global)\n",
    "                    client_global_accuracies[i] = acc_global\n",
    "\n",
    "                trial_results = []\n",
    "                n_combinations = 2 ** n_clients\n",
    "                for i in tqdm(range(1, n_combinations), desc=f\" Evaluating coalitions for trial {trial+1}\"):\n",
    "                    bin_str = format(i, f'0{n_clients}b')\n",
    "                    client_indices = [j for j in range(n_clients) if bin_str[n_clients - 1 - j] == '1']\n",
    "                    included_models = [client_models[j] for j in client_indices]\n",
    "                    if not included_models:\n",
    "                        continue\n",
    "                    \n",
    "                    forest = FederatedForest()\n",
    "                    for model in included_models:\n",
    "                        forest.add_model(model)\n",
    "                    \n",
    "                    y_pred_global = forest.predict(X_test_global_scaled)\n",
    "                    acc_global = accuracy_score(y_test_global, y_pred_global)\n",
    "                    row = {'Trial': trial + 1, 'Combination': bin_str, 'Clients': [j + 1 for j in client_indices], 'Global Accuracy': acc_global}\n",
    "                    for j in range(n_clients):\n",
    "                        row[f'Client {j + 1} Accuracy'] = client_global_accuracies[j]\n",
    "                    trial_results.append(row)\n",
    "                \n",
    "                df_trial_results = pd.DataFrame(trial_results)\n",
    "                df_trial_results.set_index('Combination', inplace=True)\n",
    "                nash_df = find_nash_equilibria_v2(df_trial_results.reset_index())\n",
    "                for combination in nash_df['Combination']:\n",
    "                    nash_equilibrium_counts[combination] += 1\n",
    "                \n",
    "                shapley_df = compute_and_visualize_shapley_values(df_trial_results.reset_index(), client_global_accuracies, n_clients=n_clients, plot=False, print_df = False)\n",
    "                shapley_df['Trial'] = trial + 1\n",
    "\n",
    "                for _, nash_row in nash_df.iterrows():\n",
    "                    combination_bin = nash_row['Combination']\n",
    "                    client_indices = [j for j in range(n_clients) if combination_bin[n_clients - 1 - j] == '1']\n",
    "                    clients_list = [j + 1 for j in client_indices]\n",
    "                    detail_record = {'Trial': trial + 1, 'Combination': combination_bin, 'Clients': \",\".join(str(c) for c in clients_list)}\n",
    "                    for client in range(1, n_clients + 1):\n",
    "                        if client in clients_list:\n",
    "                            detail_record[f'Client {client} Accuracy'] = client_global_accuracies[client - 1]\n",
    "                            val = shapley_df.loc[shapley_df['Client'] == f'Client {client}', 'Normalized Shapley Value']\n",
    "                            detail_record[f'Client {client} Shapley Value'] = val.values[0] if not val.empty else np.nan\n",
    "                        else:\n",
    "                            detail_record[f'Client {client} Accuracy'] = np.nan\n",
    "                            detail_record[f'Client {client} Shapley Value'] = np.nan\n",
    "                    detail_record['Global Accuracy'] = nash_row['Global Accuracy']\n",
    "                    detail_record['Subsample Ratio'] = subsample_ratio\n",
    "                    detail_record['Max Depth'] = max_depth\n",
    "                    nash_details_all.append(detail_record)\n",
    "                results.extend(trial_results)\n",
    "\n",
    "            df_results = pd.DataFrame(results)\n",
    "            df_results['Subsample Ratio'] = subsample_ratio\n",
    "            df_results['Max Depth'] = max_depth\n",
    "            all_results.append(df_results)\n",
    "\n",
    "            df_nash_counts = pd.DataFrame(nash_equilibrium_counts.items(), columns=['Nash Equilibrium', 'Occurrences'])\n",
    "            df_nash_counts['Subsample Ratio'] = subsample_ratio\n",
    "            df_nash_counts['Max Depth'] = max_depth\n",
    "            all_nash_equilibrium_counts.append(df_nash_counts)\n",
    "            df_nash_counts.to_csv(f\"Nash_Equilibrium_Counts_HuGaFedFor_subsample_{subsample_ratio}_max_depth_{max_depth}.csv\", index=False)\n",
    "\n",
    "            df_nash_details = pd.DataFrame(nash_details_all)\n",
    "            all_nash_details.append(df_nash_details)\n",
    "    \n",
    "    pd.concat(all_nash_equilibrium_counts, ignore_index=True).to_csv(\"Nash_Equilibrium_Counts.csv\", index=False)\n",
    "    pd.concat(all_nash_details, ignore_index=True).to_csv(\"Nash_Equilibrium_Details_HuGaFedFor.csv\", index=False)\n",
    "    print(\"Process complete. Results saved.\")\n"
   ]
  },
  {
   "cell_type": "code",
   "execution_count": 10,
   "metadata": {},
   "outputs": [
    {
     "name": "stdout",
     "output_type": "stream",
     "text": [
      "\n",
      "Running experiment with subsample_ratio = 0.5, max_depth = 10\n",
      "  Trial 1/10 for subsample_ratio=0.5, max_depth=10\n"
     ]
    },
    {
     "name": "stderr",
     "output_type": "stream",
     "text": [
      " Evaluating coalitions for trial 1: 100%|██████████| 1023/1023 [00:47<00:00, 21.32it/s]\n"
     ]
    },
    {
     "name": "stdout",
     "output_type": "stream",
     "text": [
      "  Trial 2/10 for subsample_ratio=0.5, max_depth=10\n"
     ]
    },
    {
     "name": "stderr",
     "output_type": "stream",
     "text": [
      " Evaluating coalitions for trial 2: 100%|██████████| 1023/1023 [00:49<00:00, 20.77it/s]\n"
     ]
    },
    {
     "name": "stdout",
     "output_type": "stream",
     "text": [
      "  Trial 3/10 for subsample_ratio=0.5, max_depth=10\n"
     ]
    },
    {
     "name": "stderr",
     "output_type": "stream",
     "text": [
      " Evaluating coalitions for trial 3: 100%|██████████| 1023/1023 [00:48<00:00, 21.00it/s]\n"
     ]
    },
    {
     "name": "stdout",
     "output_type": "stream",
     "text": [
      "  Trial 4/10 for subsample_ratio=0.5, max_depth=10\n"
     ]
    },
    {
     "name": "stderr",
     "output_type": "stream",
     "text": [
      " Evaluating coalitions for trial 4: 100%|██████████| 1023/1023 [00:49<00:00, 20.67it/s]\n"
     ]
    },
    {
     "name": "stdout",
     "output_type": "stream",
     "text": [
      "  Trial 5/10 for subsample_ratio=0.5, max_depth=10\n"
     ]
    },
    {
     "name": "stderr",
     "output_type": "stream",
     "text": [
      " Evaluating coalitions for trial 5: 100%|██████████| 1023/1023 [00:50<00:00, 20.23it/s]\n"
     ]
    },
    {
     "name": "stdout",
     "output_type": "stream",
     "text": [
      "  Trial 6/10 for subsample_ratio=0.5, max_depth=10\n"
     ]
    },
    {
     "name": "stderr",
     "output_type": "stream",
     "text": [
      " Evaluating coalitions for trial 6: 100%|██████████| 1023/1023 [00:49<00:00, 20.86it/s]\n"
     ]
    },
    {
     "name": "stdout",
     "output_type": "stream",
     "text": [
      "  Trial 7/10 for subsample_ratio=0.5, max_depth=10\n"
     ]
    },
    {
     "name": "stderr",
     "output_type": "stream",
     "text": [
      " Evaluating coalitions for trial 7: 100%|██████████| 1023/1023 [00:49<00:00, 20.71it/s]\n"
     ]
    },
    {
     "name": "stdout",
     "output_type": "stream",
     "text": [
      "  Trial 8/10 for subsample_ratio=0.5, max_depth=10\n"
     ]
    },
    {
     "name": "stderr",
     "output_type": "stream",
     "text": [
      " Evaluating coalitions for trial 8: 100%|██████████| 1023/1023 [00:49<00:00, 20.70it/s]\n"
     ]
    },
    {
     "name": "stdout",
     "output_type": "stream",
     "text": [
      "  Trial 9/10 for subsample_ratio=0.5, max_depth=10\n"
     ]
    },
    {
     "name": "stderr",
     "output_type": "stream",
     "text": [
      " Evaluating coalitions for trial 9: 100%|██████████| 1023/1023 [00:48<00:00, 21.01it/s]\n"
     ]
    },
    {
     "name": "stdout",
     "output_type": "stream",
     "text": [
      "  Trial 10/10 for subsample_ratio=0.5, max_depth=10\n"
     ]
    },
    {
     "name": "stderr",
     "output_type": "stream",
     "text": [
      " Evaluating coalitions for trial 10: 100%|██████████| 1023/1023 [00:49<00:00, 20.51it/s]\n"
     ]
    },
    {
     "name": "stdout",
     "output_type": "stream",
     "text": [
      "\n",
      "Running experiment with subsample_ratio = 0.5, max_depth = 100\n",
      "  Trial 1/10 for subsample_ratio=0.5, max_depth=100\n"
     ]
    },
    {
     "name": "stderr",
     "output_type": "stream",
     "text": [
      " Evaluating coalitions for trial 1: 100%|██████████| 1023/1023 [00:52<00:00, 19.56it/s]\n"
     ]
    },
    {
     "name": "stdout",
     "output_type": "stream",
     "text": [
      "  Trial 2/10 for subsample_ratio=0.5, max_depth=100\n"
     ]
    },
    {
     "name": "stderr",
     "output_type": "stream",
     "text": [
      " Evaluating coalitions for trial 2: 100%|██████████| 1023/1023 [00:52<00:00, 19.44it/s]\n"
     ]
    },
    {
     "name": "stdout",
     "output_type": "stream",
     "text": [
      "  Trial 3/10 for subsample_ratio=0.5, max_depth=100\n"
     ]
    },
    {
     "name": "stderr",
     "output_type": "stream",
     "text": [
      " Evaluating coalitions for trial 3: 100%|██████████| 1023/1023 [00:52<00:00, 19.54it/s]\n"
     ]
    },
    {
     "name": "stdout",
     "output_type": "stream",
     "text": [
      "  Trial 4/10 for subsample_ratio=0.5, max_depth=100\n"
     ]
    },
    {
     "name": "stderr",
     "output_type": "stream",
     "text": [
      " Evaluating coalitions for trial 4: 100%|██████████| 1023/1023 [00:52<00:00, 19.42it/s]\n"
     ]
    },
    {
     "name": "stdout",
     "output_type": "stream",
     "text": [
      "  Trial 5/10 for subsample_ratio=0.5, max_depth=100\n"
     ]
    },
    {
     "name": "stderr",
     "output_type": "stream",
     "text": [
      " Evaluating coalitions for trial 5: 100%|██████████| 1023/1023 [00:51<00:00, 19.74it/s]\n"
     ]
    },
    {
     "name": "stdout",
     "output_type": "stream",
     "text": [
      "  Trial 6/10 for subsample_ratio=0.5, max_depth=100\n"
     ]
    },
    {
     "name": "stderr",
     "output_type": "stream",
     "text": [
      " Evaluating coalitions for trial 6: 100%|██████████| 1023/1023 [00:52<00:00, 19.31it/s]\n"
     ]
    },
    {
     "name": "stdout",
     "output_type": "stream",
     "text": [
      "  Trial 7/10 for subsample_ratio=0.5, max_depth=100\n"
     ]
    },
    {
     "name": "stderr",
     "output_type": "stream",
     "text": [
      " Evaluating coalitions for trial 7: 100%|██████████| 1023/1023 [00:52<00:00, 19.47it/s]\n"
     ]
    },
    {
     "name": "stdout",
     "output_type": "stream",
     "text": [
      "  Trial 8/10 for subsample_ratio=0.5, max_depth=100\n"
     ]
    },
    {
     "name": "stderr",
     "output_type": "stream",
     "text": [
      " Evaluating coalitions for trial 8: 100%|██████████| 1023/1023 [00:52<00:00, 19.63it/s]\n"
     ]
    },
    {
     "name": "stdout",
     "output_type": "stream",
     "text": [
      "  Trial 9/10 for subsample_ratio=0.5, max_depth=100\n"
     ]
    },
    {
     "name": "stderr",
     "output_type": "stream",
     "text": [
      " Evaluating coalitions for trial 9: 100%|██████████| 1023/1023 [00:52<00:00, 19.44it/s]\n"
     ]
    },
    {
     "name": "stdout",
     "output_type": "stream",
     "text": [
      "  Trial 10/10 for subsample_ratio=0.5, max_depth=100\n"
     ]
    },
    {
     "name": "stderr",
     "output_type": "stream",
     "text": [
      " Evaluating coalitions for trial 10: 100%|██████████| 1023/1023 [00:52<00:00, 19.46it/s]\n"
     ]
    },
    {
     "name": "stdout",
     "output_type": "stream",
     "text": [
      "\n",
      "Running experiment with subsample_ratio = 0.8, max_depth = 10\n",
      "  Trial 1/10 for subsample_ratio=0.8, max_depth=10\n"
     ]
    },
    {
     "name": "stderr",
     "output_type": "stream",
     "text": [
      " Evaluating coalitions for trial 1: 100%|██████████| 1023/1023 [01:17<00:00, 13.26it/s]\n"
     ]
    },
    {
     "name": "stdout",
     "output_type": "stream",
     "text": [
      "  Trial 2/10 for subsample_ratio=0.8, max_depth=10\n"
     ]
    },
    {
     "name": "stderr",
     "output_type": "stream",
     "text": [
      " Evaluating coalitions for trial 2: 100%|██████████| 1023/1023 [01:17<00:00, 13.26it/s]\n"
     ]
    },
    {
     "name": "stdout",
     "output_type": "stream",
     "text": [
      "  Trial 3/10 for subsample_ratio=0.8, max_depth=10\n"
     ]
    },
    {
     "name": "stderr",
     "output_type": "stream",
     "text": [
      " Evaluating coalitions for trial 3: 100%|██████████| 1023/1023 [01:15<00:00, 13.49it/s]\n"
     ]
    },
    {
     "name": "stdout",
     "output_type": "stream",
     "text": [
      "  Trial 4/10 for subsample_ratio=0.8, max_depth=10\n"
     ]
    },
    {
     "name": "stderr",
     "output_type": "stream",
     "text": [
      " Evaluating coalitions for trial 4: 100%|██████████| 1023/1023 [01:16<00:00, 13.36it/s]\n"
     ]
    },
    {
     "name": "stdout",
     "output_type": "stream",
     "text": [
      "  Trial 5/10 for subsample_ratio=0.8, max_depth=10\n"
     ]
    },
    {
     "name": "stderr",
     "output_type": "stream",
     "text": [
      " Evaluating coalitions for trial 5: 100%|██████████| 1023/1023 [01:16<00:00, 13.35it/s]\n"
     ]
    },
    {
     "name": "stdout",
     "output_type": "stream",
     "text": [
      "  Trial 6/10 for subsample_ratio=0.8, max_depth=10\n"
     ]
    },
    {
     "name": "stderr",
     "output_type": "stream",
     "text": [
      " Evaluating coalitions for trial 6: 100%|██████████| 1023/1023 [01:16<00:00, 13.43it/s]\n"
     ]
    },
    {
     "name": "stdout",
     "output_type": "stream",
     "text": [
      "  Trial 7/10 for subsample_ratio=0.8, max_depth=10\n"
     ]
    },
    {
     "name": "stderr",
     "output_type": "stream",
     "text": [
      " Evaluating coalitions for trial 7: 100%|██████████| 1023/1023 [01:15<00:00, 13.49it/s]\n"
     ]
    },
    {
     "name": "stdout",
     "output_type": "stream",
     "text": [
      "  Trial 8/10 for subsample_ratio=0.8, max_depth=10\n"
     ]
    },
    {
     "name": "stderr",
     "output_type": "stream",
     "text": [
      " Evaluating coalitions for trial 8: 100%|██████████| 1023/1023 [01:16<00:00, 13.41it/s]\n"
     ]
    },
    {
     "name": "stdout",
     "output_type": "stream",
     "text": [
      "  Trial 9/10 for subsample_ratio=0.8, max_depth=10\n"
     ]
    },
    {
     "name": "stderr",
     "output_type": "stream",
     "text": [
      " Evaluating coalitions for trial 9: 100%|██████████| 1023/1023 [01:16<00:00, 13.32it/s]\n"
     ]
    },
    {
     "name": "stdout",
     "output_type": "stream",
     "text": [
      "  Trial 10/10 for subsample_ratio=0.8, max_depth=10\n"
     ]
    },
    {
     "name": "stderr",
     "output_type": "stream",
     "text": [
      " Evaluating coalitions for trial 10: 100%|██████████| 1023/1023 [01:16<00:00, 13.37it/s]\n"
     ]
    },
    {
     "name": "stdout",
     "output_type": "stream",
     "text": [
      "\n",
      "Running experiment with subsample_ratio = 0.8, max_depth = 100\n",
      "  Trial 1/10 for subsample_ratio=0.8, max_depth=100\n"
     ]
    },
    {
     "name": "stderr",
     "output_type": "stream",
     "text": [
      " Evaluating coalitions for trial 1: 100%|██████████| 1023/1023 [01:22<00:00, 12.37it/s]\n"
     ]
    },
    {
     "name": "stdout",
     "output_type": "stream",
     "text": [
      "  Trial 2/10 for subsample_ratio=0.8, max_depth=100\n"
     ]
    },
    {
     "name": "stderr",
     "output_type": "stream",
     "text": [
      " Evaluating coalitions for trial 2: 100%|██████████| 1023/1023 [01:23<00:00, 12.30it/s]\n"
     ]
    },
    {
     "name": "stdout",
     "output_type": "stream",
     "text": [
      "  Trial 3/10 for subsample_ratio=0.8, max_depth=100\n"
     ]
    },
    {
     "name": "stderr",
     "output_type": "stream",
     "text": [
      " Evaluating coalitions for trial 3: 100%|██████████| 1023/1023 [01:22<00:00, 12.37it/s]\n"
     ]
    },
    {
     "name": "stdout",
     "output_type": "stream",
     "text": [
      "  Trial 4/10 for subsample_ratio=0.8, max_depth=100\n"
     ]
    },
    {
     "name": "stderr",
     "output_type": "stream",
     "text": [
      " Evaluating coalitions for trial 4: 100%|██████████| 1023/1023 [01:23<00:00, 12.26it/s]\n"
     ]
    },
    {
     "name": "stdout",
     "output_type": "stream",
     "text": [
      "  Trial 5/10 for subsample_ratio=0.8, max_depth=100\n"
     ]
    },
    {
     "name": "stderr",
     "output_type": "stream",
     "text": [
      " Evaluating coalitions for trial 5: 100%|██████████| 1023/1023 [01:23<00:00, 12.29it/s]\n"
     ]
    },
    {
     "name": "stdout",
     "output_type": "stream",
     "text": [
      "  Trial 6/10 for subsample_ratio=0.8, max_depth=100\n"
     ]
    },
    {
     "name": "stderr",
     "output_type": "stream",
     "text": [
      " Evaluating coalitions for trial 6: 100%|██████████| 1023/1023 [01:22<00:00, 12.41it/s]\n"
     ]
    },
    {
     "name": "stdout",
     "output_type": "stream",
     "text": [
      "  Trial 7/10 for subsample_ratio=0.8, max_depth=100\n"
     ]
    },
    {
     "name": "stderr",
     "output_type": "stream",
     "text": [
      " Evaluating coalitions for trial 7: 100%|██████████| 1023/1023 [01:22<00:00, 12.42it/s]\n"
     ]
    },
    {
     "name": "stdout",
     "output_type": "stream",
     "text": [
      "  Trial 8/10 for subsample_ratio=0.8, max_depth=100\n"
     ]
    },
    {
     "name": "stderr",
     "output_type": "stream",
     "text": [
      " Evaluating coalitions for trial 8: 100%|██████████| 1023/1023 [01:22<00:00, 12.34it/s]\n"
     ]
    },
    {
     "name": "stdout",
     "output_type": "stream",
     "text": [
      "  Trial 9/10 for subsample_ratio=0.8, max_depth=100\n"
     ]
    },
    {
     "name": "stderr",
     "output_type": "stream",
     "text": [
      " Evaluating coalitions for trial 9: 100%|██████████| 1023/1023 [01:23<00:00, 12.32it/s]\n"
     ]
    },
    {
     "name": "stdout",
     "output_type": "stream",
     "text": [
      "  Trial 10/10 for subsample_ratio=0.8, max_depth=100\n"
     ]
    },
    {
     "name": "stderr",
     "output_type": "stream",
     "text": [
      " Evaluating coalitions for trial 10: 100%|██████████| 1023/1023 [18:32<00:00,  1.09s/it]   "
     ]
    },
    {
     "name": "stdout",
     "output_type": "stream",
     "text": [
      "Process complete. Results saved.\n"
     ]
    },
    {
     "name": "stderr",
     "output_type": "stream",
     "text": [
      "\n"
     ]
    }
   ],
   "source": [
    "train_files_pattern = \"/Users/abbaszal/Documents/Thesis_Project_Spambase/data/corrupted_data/c3/train_{i:02d}.csv\" \n",
    "test_files_pattern = \"/Users/abbaszal/Documents/Thesis_Project_Spambase/data/corrupted_data/c3/test_{i:02d}.csv\" \n",
    "run_experiment_2(n_clients=10, n_trials=10, base_random_seed=42,  subsample_ratios=[0.5, 0.8],  max_depths=[10, 100], train_files_pattern=train_files_pattern, test_files_pattern=test_files_pattern)"
   ]
  },
  {
   "cell_type": "code",
   "execution_count": 10,
   "metadata": {},
   "outputs": [
    {
     "name": "stdout",
     "output_type": "stream",
     "text": [
      "\n",
      "Running experiment with subsample_ratio = 0.5, max_depth = 10\n",
      "  Trial 1/10 for subsample_ratio=0.5, max_depth=10\n"
     ]
    },
    {
     "name": "stderr",
     "output_type": "stream",
     "text": [
      " Evaluating coalitions for trial 1: 100%|██████████| 1023/1023 [00:48<00:00, 21.07it/s]\n"
     ]
    },
    {
     "name": "stdout",
     "output_type": "stream",
     "text": [
      "  Trial 2/10 for subsample_ratio=0.5, max_depth=10\n"
     ]
    },
    {
     "name": "stderr",
     "output_type": "stream",
     "text": [
      " Evaluating coalitions for trial 2: 100%|██████████| 1023/1023 [00:48<00:00, 21.23it/s]\n"
     ]
    },
    {
     "name": "stdout",
     "output_type": "stream",
     "text": [
      "  Trial 3/10 for subsample_ratio=0.5, max_depth=10\n"
     ]
    },
    {
     "name": "stderr",
     "output_type": "stream",
     "text": [
      " Evaluating coalitions for trial 3: 100%|██████████| 1023/1023 [00:49<00:00, 20.53it/s]\n"
     ]
    },
    {
     "name": "stdout",
     "output_type": "stream",
     "text": [
      "  Trial 4/10 for subsample_ratio=0.5, max_depth=10\n"
     ]
    },
    {
     "name": "stderr",
     "output_type": "stream",
     "text": [
      " Evaluating coalitions for trial 4: 100%|██████████| 1023/1023 [00:49<00:00, 20.73it/s]\n"
     ]
    },
    {
     "name": "stdout",
     "output_type": "stream",
     "text": [
      "  Trial 5/10 for subsample_ratio=0.5, max_depth=10\n"
     ]
    },
    {
     "name": "stderr",
     "output_type": "stream",
     "text": [
      " Evaluating coalitions for trial 5: 100%|██████████| 1023/1023 [00:50<00:00, 20.36it/s]\n"
     ]
    },
    {
     "name": "stdout",
     "output_type": "stream",
     "text": [
      "  Trial 6/10 for subsample_ratio=0.5, max_depth=10\n"
     ]
    },
    {
     "name": "stderr",
     "output_type": "stream",
     "text": [
      " Evaluating coalitions for trial 6: 100%|██████████| 1023/1023 [00:49<00:00, 20.46it/s]\n"
     ]
    },
    {
     "name": "stdout",
     "output_type": "stream",
     "text": [
      "  Trial 7/10 for subsample_ratio=0.5, max_depth=10\n"
     ]
    },
    {
     "name": "stderr",
     "output_type": "stream",
     "text": [
      " Evaluating coalitions for trial 7: 100%|██████████| 1023/1023 [00:49<00:00, 20.50it/s]\n"
     ]
    },
    {
     "name": "stdout",
     "output_type": "stream",
     "text": [
      "  Trial 8/10 for subsample_ratio=0.5, max_depth=10\n"
     ]
    },
    {
     "name": "stderr",
     "output_type": "stream",
     "text": [
      " Evaluating coalitions for trial 8: 100%|██████████| 1023/1023 [00:49<00:00, 20.56it/s]\n"
     ]
    },
    {
     "name": "stdout",
     "output_type": "stream",
     "text": [
      "  Trial 9/10 for subsample_ratio=0.5, max_depth=10\n"
     ]
    },
    {
     "name": "stderr",
     "output_type": "stream",
     "text": [
      " Evaluating coalitions for trial 9: 100%|██████████| 1023/1023 [00:49<00:00, 20.55it/s]\n"
     ]
    },
    {
     "name": "stdout",
     "output_type": "stream",
     "text": [
      "  Trial 10/10 for subsample_ratio=0.5, max_depth=10\n"
     ]
    },
    {
     "name": "stderr",
     "output_type": "stream",
     "text": [
      " Evaluating coalitions for trial 10: 100%|██████████| 1023/1023 [00:50<00:00, 20.42it/s]\n"
     ]
    },
    {
     "name": "stdout",
     "output_type": "stream",
     "text": [
      "\n",
      "Running experiment with subsample_ratio = 0.5, max_depth = 100\n",
      "  Trial 1/10 for subsample_ratio=0.5, max_depth=100\n"
     ]
    },
    {
     "name": "stderr",
     "output_type": "stream",
     "text": [
      " Evaluating coalitions for trial 1: 100%|██████████| 1023/1023 [00:52<00:00, 19.38it/s]\n"
     ]
    },
    {
     "name": "stdout",
     "output_type": "stream",
     "text": [
      "  Trial 2/10 for subsample_ratio=0.5, max_depth=100\n"
     ]
    },
    {
     "name": "stderr",
     "output_type": "stream",
     "text": [
      " Evaluating coalitions for trial 2: 100%|██████████| 1023/1023 [00:53<00:00, 19.18it/s]\n"
     ]
    },
    {
     "name": "stdout",
     "output_type": "stream",
     "text": [
      "  Trial 3/10 for subsample_ratio=0.5, max_depth=100\n"
     ]
    },
    {
     "name": "stderr",
     "output_type": "stream",
     "text": [
      " Evaluating coalitions for trial 3: 100%|██████████| 1023/1023 [00:52<00:00, 19.56it/s]\n"
     ]
    },
    {
     "name": "stdout",
     "output_type": "stream",
     "text": [
      "  Trial 4/10 for subsample_ratio=0.5, max_depth=100\n"
     ]
    },
    {
     "name": "stderr",
     "output_type": "stream",
     "text": [
      " Evaluating coalitions for trial 4: 100%|██████████| 1023/1023 [00:52<00:00, 19.46it/s]\n"
     ]
    },
    {
     "name": "stdout",
     "output_type": "stream",
     "text": [
      "  Trial 5/10 for subsample_ratio=0.5, max_depth=100\n"
     ]
    },
    {
     "name": "stderr",
     "output_type": "stream",
     "text": [
      " Evaluating coalitions for trial 5: 100%|██████████| 1023/1023 [00:52<00:00, 19.59it/s]\n"
     ]
    },
    {
     "name": "stdout",
     "output_type": "stream",
     "text": [
      "  Trial 6/10 for subsample_ratio=0.5, max_depth=100\n"
     ]
    },
    {
     "name": "stderr",
     "output_type": "stream",
     "text": [
      " Evaluating coalitions for trial 6: 100%|██████████| 1023/1023 [00:52<00:00, 19.44it/s]\n"
     ]
    },
    {
     "name": "stdout",
     "output_type": "stream",
     "text": [
      "  Trial 7/10 for subsample_ratio=0.5, max_depth=100\n"
     ]
    },
    {
     "name": "stderr",
     "output_type": "stream",
     "text": [
      " Evaluating coalitions for trial 7: 100%|██████████| 1023/1023 [00:52<00:00, 19.45it/s]\n"
     ]
    },
    {
     "name": "stdout",
     "output_type": "stream",
     "text": [
      "  Trial 8/10 for subsample_ratio=0.5, max_depth=100\n"
     ]
    },
    {
     "name": "stderr",
     "output_type": "stream",
     "text": [
      " Evaluating coalitions for trial 8: 100%|██████████| 1023/1023 [00:53<00:00, 19.19it/s]\n"
     ]
    },
    {
     "name": "stdout",
     "output_type": "stream",
     "text": [
      "  Trial 9/10 for subsample_ratio=0.5, max_depth=100\n"
     ]
    },
    {
     "name": "stderr",
     "output_type": "stream",
     "text": [
      " Evaluating coalitions for trial 9: 100%|██████████| 1023/1023 [00:53<00:00, 19.25it/s]\n"
     ]
    },
    {
     "name": "stdout",
     "output_type": "stream",
     "text": [
      "  Trial 10/10 for subsample_ratio=0.5, max_depth=100\n"
     ]
    },
    {
     "name": "stderr",
     "output_type": "stream",
     "text": [
      " Evaluating coalitions for trial 10: 100%|██████████| 1023/1023 [00:53<00:00, 19.22it/s]\n"
     ]
    },
    {
     "name": "stdout",
     "output_type": "stream",
     "text": [
      "\n",
      "Running experiment with subsample_ratio = 0.8, max_depth = 10\n",
      "  Trial 1/10 for subsample_ratio=0.8, max_depth=10\n"
     ]
    },
    {
     "name": "stderr",
     "output_type": "stream",
     "text": [
      " Evaluating coalitions for trial 1: 100%|██████████| 1023/1023 [01:16<00:00, 13.31it/s]\n"
     ]
    },
    {
     "name": "stdout",
     "output_type": "stream",
     "text": [
      "  Trial 2/10 for subsample_ratio=0.8, max_depth=10\n"
     ]
    },
    {
     "name": "stderr",
     "output_type": "stream",
     "text": [
      " Evaluating coalitions for trial 2: 100%|██████████| 1023/1023 [01:16<00:00, 13.44it/s]\n"
     ]
    },
    {
     "name": "stdout",
     "output_type": "stream",
     "text": [
      "  Trial 3/10 for subsample_ratio=0.8, max_depth=10\n"
     ]
    },
    {
     "name": "stderr",
     "output_type": "stream",
     "text": [
      " Evaluating coalitions for trial 3: 100%|██████████| 1023/1023 [01:16<00:00, 13.35it/s]\n"
     ]
    },
    {
     "name": "stdout",
     "output_type": "stream",
     "text": [
      "  Trial 4/10 for subsample_ratio=0.8, max_depth=10\n"
     ]
    },
    {
     "name": "stderr",
     "output_type": "stream",
     "text": [
      " Evaluating coalitions for trial 4: 100%|██████████| 1023/1023 [24:31<00:00,  1.44s/it]   \n"
     ]
    },
    {
     "name": "stdout",
     "output_type": "stream",
     "text": [
      "  Trial 5/10 for subsample_ratio=0.8, max_depth=10\n"
     ]
    },
    {
     "name": "stderr",
     "output_type": "stream",
     "text": [
      " Evaluating coalitions for trial 5: 100%|██████████| 1023/1023 [01:16<00:00, 13.38it/s]\n"
     ]
    },
    {
     "name": "stdout",
     "output_type": "stream",
     "text": [
      "  Trial 6/10 for subsample_ratio=0.8, max_depth=10\n"
     ]
    },
    {
     "name": "stderr",
     "output_type": "stream",
     "text": [
      " Evaluating coalitions for trial 6: 100%|██████████| 1023/1023 [01:16<00:00, 13.42it/s]\n"
     ]
    },
    {
     "name": "stdout",
     "output_type": "stream",
     "text": [
      "  Trial 7/10 for subsample_ratio=0.8, max_depth=10\n"
     ]
    },
    {
     "name": "stderr",
     "output_type": "stream",
     "text": [
      " Evaluating coalitions for trial 7: 100%|██████████| 1023/1023 [01:16<00:00, 13.42it/s]\n"
     ]
    },
    {
     "name": "stdout",
     "output_type": "stream",
     "text": [
      "  Trial 8/10 for subsample_ratio=0.8, max_depth=10\n"
     ]
    },
    {
     "name": "stderr",
     "output_type": "stream",
     "text": [
      " Evaluating coalitions for trial 8: 100%|██████████| 1023/1023 [01:16<00:00, 13.40it/s]\n"
     ]
    },
    {
     "name": "stdout",
     "output_type": "stream",
     "text": [
      "  Trial 9/10 for subsample_ratio=0.8, max_depth=10\n"
     ]
    },
    {
     "name": "stderr",
     "output_type": "stream",
     "text": [
      " Evaluating coalitions for trial 9: 100%|██████████| 1023/1023 [01:16<00:00, 13.35it/s]\n"
     ]
    },
    {
     "name": "stdout",
     "output_type": "stream",
     "text": [
      "  Trial 10/10 for subsample_ratio=0.8, max_depth=10\n"
     ]
    },
    {
     "name": "stderr",
     "output_type": "stream",
     "text": [
      " Evaluating coalitions for trial 10: 100%|██████████| 1023/1023 [01:17<00:00, 13.26it/s]\n"
     ]
    },
    {
     "name": "stdout",
     "output_type": "stream",
     "text": [
      "\n",
      "Running experiment with subsample_ratio = 0.8, max_depth = 100\n",
      "  Trial 1/10 for subsample_ratio=0.8, max_depth=100\n"
     ]
    },
    {
     "name": "stderr",
     "output_type": "stream",
     "text": [
      " Evaluating coalitions for trial 1: 100%|██████████| 1023/1023 [01:24<00:00, 12.16it/s]\n"
     ]
    },
    {
     "name": "stdout",
     "output_type": "stream",
     "text": [
      "  Trial 2/10 for subsample_ratio=0.8, max_depth=100\n"
     ]
    },
    {
     "name": "stderr",
     "output_type": "stream",
     "text": [
      " Evaluating coalitions for trial 2: 100%|██████████| 1023/1023 [01:24<00:00, 12.10it/s]\n"
     ]
    },
    {
     "name": "stdout",
     "output_type": "stream",
     "text": [
      "  Trial 3/10 for subsample_ratio=0.8, max_depth=100\n"
     ]
    },
    {
     "name": "stderr",
     "output_type": "stream",
     "text": [
      " Evaluating coalitions for trial 3: 100%|██████████| 1023/1023 [01:23<00:00, 12.21it/s]\n"
     ]
    },
    {
     "name": "stdout",
     "output_type": "stream",
     "text": [
      "  Trial 4/10 for subsample_ratio=0.8, max_depth=100\n"
     ]
    },
    {
     "name": "stderr",
     "output_type": "stream",
     "text": [
      " Evaluating coalitions for trial 4: 100%|██████████| 1023/1023 [01:24<00:00, 12.06it/s]\n"
     ]
    },
    {
     "name": "stdout",
     "output_type": "stream",
     "text": [
      "  Trial 5/10 for subsample_ratio=0.8, max_depth=100\n"
     ]
    },
    {
     "name": "stderr",
     "output_type": "stream",
     "text": [
      " Evaluating coalitions for trial 5: 100%|██████████| 1023/1023 [01:24<00:00, 12.09it/s]\n"
     ]
    },
    {
     "name": "stdout",
     "output_type": "stream",
     "text": [
      "  Trial 6/10 for subsample_ratio=0.8, max_depth=100\n"
     ]
    },
    {
     "name": "stderr",
     "output_type": "stream",
     "text": [
      " Evaluating coalitions for trial 6: 100%|██████████| 1023/1023 [01:24<00:00, 12.14it/s]\n"
     ]
    },
    {
     "name": "stdout",
     "output_type": "stream",
     "text": [
      "  Trial 7/10 for subsample_ratio=0.8, max_depth=100\n"
     ]
    },
    {
     "name": "stderr",
     "output_type": "stream",
     "text": [
      " Evaluating coalitions for trial 7: 100%|██████████| 1023/1023 [01:23<00:00, 12.29it/s]\n"
     ]
    },
    {
     "name": "stdout",
     "output_type": "stream",
     "text": [
      "  Trial 8/10 for subsample_ratio=0.8, max_depth=100\n"
     ]
    },
    {
     "name": "stderr",
     "output_type": "stream",
     "text": [
      " Evaluating coalitions for trial 8: 100%|██████████| 1023/1023 [01:25<00:00, 12.02it/s]\n"
     ]
    },
    {
     "name": "stdout",
     "output_type": "stream",
     "text": [
      "  Trial 9/10 for subsample_ratio=0.8, max_depth=100\n"
     ]
    },
    {
     "name": "stderr",
     "output_type": "stream",
     "text": [
      " Evaluating coalitions for trial 9: 100%|██████████| 1023/1023 [01:25<00:00, 11.98it/s]\n"
     ]
    },
    {
     "name": "stdout",
     "output_type": "stream",
     "text": [
      "  Trial 10/10 for subsample_ratio=0.8, max_depth=100\n"
     ]
    },
    {
     "name": "stderr",
     "output_type": "stream",
     "text": [
      " Evaluating coalitions for trial 10: 100%|██████████| 1023/1023 [01:24<00:00, 12.16it/s]"
     ]
    },
    {
     "name": "stdout",
     "output_type": "stream",
     "text": [
      "Process complete. Results saved.\n"
     ]
    },
    {
     "name": "stderr",
     "output_type": "stream",
     "text": [
      "\n"
     ]
    }
   ],
   "source": [
    "train_files_pattern = \"/Users/abbaszal/Documents/Thesis_Project_Spambase/data/corrupted_data/c4/train_{i:02d}.csv\" \n",
    "test_files_pattern = \"/Users/abbaszal/Documents/Thesis_Project_Spambase/data/corrupted_data/c4/test_{i:02d}.csv\" \n",
    "run_experiment_2(n_clients=10, n_trials=10, base_random_seed=42,  subsample_ratios=[0.5, 0.8],  max_depths=[10, 100], train_files_pattern=train_files_pattern, test_files_pattern=test_files_pattern)"
   ]
  },
  {
   "cell_type": "code",
   "execution_count": 11,
   "metadata": {},
   "outputs": [
    {
     "name": "stdout",
     "output_type": "stream",
     "text": [
      "\n",
      "Running experiment with subsample_ratio = 0.5, max_depth = 10\n",
      "  Trial 1/10 for subsample_ratio=0.5, max_depth=10\n"
     ]
    },
    {
     "name": "stderr",
     "output_type": "stream",
     "text": [
      " Evaluating coalitions for trial 1: 100%|██████████| 1023/1023 [00:49<00:00, 20.50it/s]\n"
     ]
    },
    {
     "name": "stdout",
     "output_type": "stream",
     "text": [
      "  Trial 2/10 for subsample_ratio=0.5, max_depth=10\n"
     ]
    },
    {
     "name": "stderr",
     "output_type": "stream",
     "text": [
      " Evaluating coalitions for trial 2: 100%|██████████| 1023/1023 [00:47<00:00, 21.41it/s]\n"
     ]
    },
    {
     "name": "stdout",
     "output_type": "stream",
     "text": [
      "  Trial 3/10 for subsample_ratio=0.5, max_depth=10\n"
     ]
    },
    {
     "name": "stderr",
     "output_type": "stream",
     "text": [
      " Evaluating coalitions for trial 3: 100%|██████████| 1023/1023 [00:49<00:00, 20.77it/s]\n"
     ]
    },
    {
     "name": "stdout",
     "output_type": "stream",
     "text": [
      "  Trial 4/10 for subsample_ratio=0.5, max_depth=10\n"
     ]
    },
    {
     "name": "stderr",
     "output_type": "stream",
     "text": [
      " Evaluating coalitions for trial 4: 100%|██████████| 1023/1023 [00:48<00:00, 21.16it/s]\n"
     ]
    },
    {
     "name": "stdout",
     "output_type": "stream",
     "text": [
      "  Trial 5/10 for subsample_ratio=0.5, max_depth=10\n"
     ]
    },
    {
     "name": "stderr",
     "output_type": "stream",
     "text": [
      " Evaluating coalitions for trial 5: 100%|██████████| 1023/1023 [00:49<00:00, 20.86it/s]\n"
     ]
    },
    {
     "name": "stdout",
     "output_type": "stream",
     "text": [
      "  Trial 6/10 for subsample_ratio=0.5, max_depth=10\n"
     ]
    },
    {
     "name": "stderr",
     "output_type": "stream",
     "text": [
      " Evaluating coalitions for trial 6: 100%|██████████| 1023/1023 [00:48<00:00, 21.14it/s]\n"
     ]
    },
    {
     "name": "stdout",
     "output_type": "stream",
     "text": [
      "  Trial 7/10 for subsample_ratio=0.5, max_depth=10\n"
     ]
    },
    {
     "name": "stderr",
     "output_type": "stream",
     "text": [
      " Evaluating coalitions for trial 7: 100%|██████████| 1023/1023 [00:49<00:00, 20.50it/s]\n"
     ]
    },
    {
     "name": "stdout",
     "output_type": "stream",
     "text": [
      "  Trial 8/10 for subsample_ratio=0.5, max_depth=10\n"
     ]
    },
    {
     "name": "stderr",
     "output_type": "stream",
     "text": [
      " Evaluating coalitions for trial 8: 100%|██████████| 1023/1023 [00:49<00:00, 20.84it/s]\n"
     ]
    },
    {
     "name": "stdout",
     "output_type": "stream",
     "text": [
      "  Trial 9/10 for subsample_ratio=0.5, max_depth=10\n"
     ]
    },
    {
     "name": "stderr",
     "output_type": "stream",
     "text": [
      " Evaluating coalitions for trial 9: 100%|██████████| 1023/1023 [00:48<00:00, 20.90it/s]\n"
     ]
    },
    {
     "name": "stdout",
     "output_type": "stream",
     "text": [
      "  Trial 10/10 for subsample_ratio=0.5, max_depth=10\n"
     ]
    },
    {
     "name": "stderr",
     "output_type": "stream",
     "text": [
      " Evaluating coalitions for trial 10: 100%|██████████| 1023/1023 [00:48<00:00, 20.88it/s]\n"
     ]
    },
    {
     "name": "stdout",
     "output_type": "stream",
     "text": [
      "\n",
      "Running experiment with subsample_ratio = 0.5, max_depth = 100\n",
      "  Trial 1/10 for subsample_ratio=0.5, max_depth=100\n"
     ]
    },
    {
     "name": "stderr",
     "output_type": "stream",
     "text": [
      " Evaluating coalitions for trial 1: 100%|██████████| 1023/1023 [00:54<00:00, 18.63it/s]\n"
     ]
    },
    {
     "name": "stdout",
     "output_type": "stream",
     "text": [
      "  Trial 2/10 for subsample_ratio=0.5, max_depth=100\n"
     ]
    },
    {
     "name": "stderr",
     "output_type": "stream",
     "text": [
      " Evaluating coalitions for trial 2: 100%|██████████| 1023/1023 [00:54<00:00, 18.70it/s]\n"
     ]
    },
    {
     "name": "stdout",
     "output_type": "stream",
     "text": [
      "  Trial 3/10 for subsample_ratio=0.5, max_depth=100\n"
     ]
    },
    {
     "name": "stderr",
     "output_type": "stream",
     "text": [
      " Evaluating coalitions for trial 3: 100%|██████████| 1023/1023 [00:54<00:00, 18.88it/s]\n"
     ]
    },
    {
     "name": "stdout",
     "output_type": "stream",
     "text": [
      "  Trial 4/10 for subsample_ratio=0.5, max_depth=100\n"
     ]
    },
    {
     "name": "stderr",
     "output_type": "stream",
     "text": [
      " Evaluating coalitions for trial 4: 100%|██████████| 1023/1023 [00:54<00:00, 18.64it/s]\n"
     ]
    },
    {
     "name": "stdout",
     "output_type": "stream",
     "text": [
      "  Trial 5/10 for subsample_ratio=0.5, max_depth=100\n"
     ]
    },
    {
     "name": "stderr",
     "output_type": "stream",
     "text": [
      " Evaluating coalitions for trial 5: 100%|██████████| 1023/1023 [00:54<00:00, 18.75it/s]\n"
     ]
    },
    {
     "name": "stdout",
     "output_type": "stream",
     "text": [
      "  Trial 6/10 for subsample_ratio=0.5, max_depth=100\n"
     ]
    },
    {
     "name": "stderr",
     "output_type": "stream",
     "text": [
      " Evaluating coalitions for trial 6: 100%|██████████| 1023/1023 [00:53<00:00, 19.06it/s]\n"
     ]
    },
    {
     "name": "stdout",
     "output_type": "stream",
     "text": [
      "  Trial 7/10 for subsample_ratio=0.5, max_depth=100\n"
     ]
    },
    {
     "name": "stderr",
     "output_type": "stream",
     "text": [
      " Evaluating coalitions for trial 7: 100%|██████████| 1023/1023 [00:54<00:00, 18.79it/s]\n"
     ]
    },
    {
     "name": "stdout",
     "output_type": "stream",
     "text": [
      "  Trial 8/10 for subsample_ratio=0.5, max_depth=100\n"
     ]
    },
    {
     "name": "stderr",
     "output_type": "stream",
     "text": [
      " Evaluating coalitions for trial 8: 100%|██████████| 1023/1023 [00:52<00:00, 19.33it/s]\n"
     ]
    },
    {
     "name": "stdout",
     "output_type": "stream",
     "text": [
      "  Trial 9/10 for subsample_ratio=0.5, max_depth=100\n"
     ]
    },
    {
     "name": "stderr",
     "output_type": "stream",
     "text": [
      " Evaluating coalitions for trial 9: 100%|██████████| 1023/1023 [00:53<00:00, 19.15it/s]\n"
     ]
    },
    {
     "name": "stdout",
     "output_type": "stream",
     "text": [
      "  Trial 10/10 for subsample_ratio=0.5, max_depth=100\n"
     ]
    },
    {
     "name": "stderr",
     "output_type": "stream",
     "text": [
      " Evaluating coalitions for trial 10: 100%|██████████| 1023/1023 [00:52<00:00, 19.33it/s]\n"
     ]
    },
    {
     "name": "stdout",
     "output_type": "stream",
     "text": [
      "\n",
      "Running experiment with subsample_ratio = 0.8, max_depth = 10\n",
      "  Trial 1/10 for subsample_ratio=0.8, max_depth=10\n"
     ]
    },
    {
     "name": "stderr",
     "output_type": "stream",
     "text": [
      " Evaluating coalitions for trial 1: 100%|██████████| 1023/1023 [01:16<00:00, 13.40it/s]\n"
     ]
    },
    {
     "name": "stdout",
     "output_type": "stream",
     "text": [
      "  Trial 2/10 for subsample_ratio=0.8, max_depth=10\n"
     ]
    },
    {
     "name": "stderr",
     "output_type": "stream",
     "text": [
      " Evaluating coalitions for trial 2: 100%|██████████| 1023/1023 [01:16<00:00, 13.31it/s]\n"
     ]
    },
    {
     "name": "stdout",
     "output_type": "stream",
     "text": [
      "  Trial 3/10 for subsample_ratio=0.8, max_depth=10\n"
     ]
    },
    {
     "name": "stderr",
     "output_type": "stream",
     "text": [
      " Evaluating coalitions for trial 3: 100%|██████████| 1023/1023 [01:19<00:00, 12.92it/s]\n"
     ]
    },
    {
     "name": "stdout",
     "output_type": "stream",
     "text": [
      "  Trial 4/10 for subsample_ratio=0.8, max_depth=10\n"
     ]
    },
    {
     "name": "stderr",
     "output_type": "stream",
     "text": [
      " Evaluating coalitions for trial 4: 100%|██████████| 1023/1023 [01:18<00:00, 13.09it/s]\n"
     ]
    },
    {
     "name": "stdout",
     "output_type": "stream",
     "text": [
      "  Trial 5/10 for subsample_ratio=0.8, max_depth=10\n"
     ]
    },
    {
     "name": "stderr",
     "output_type": "stream",
     "text": [
      " Evaluating coalitions for trial 5: 100%|██████████| 1023/1023 [01:18<00:00, 13.07it/s]\n"
     ]
    },
    {
     "name": "stdout",
     "output_type": "stream",
     "text": [
      "  Trial 6/10 for subsample_ratio=0.8, max_depth=10\n"
     ]
    },
    {
     "name": "stderr",
     "output_type": "stream",
     "text": [
      " Evaluating coalitions for trial 6: 100%|██████████| 1023/1023 [01:18<00:00, 13.07it/s]\n"
     ]
    },
    {
     "name": "stdout",
     "output_type": "stream",
     "text": [
      "  Trial 7/10 for subsample_ratio=0.8, max_depth=10\n"
     ]
    },
    {
     "name": "stderr",
     "output_type": "stream",
     "text": [
      " Evaluating coalitions for trial 7: 100%|██████████| 1023/1023 [01:19<00:00, 12.91it/s]\n"
     ]
    },
    {
     "name": "stdout",
     "output_type": "stream",
     "text": [
      "  Trial 8/10 for subsample_ratio=0.8, max_depth=10\n"
     ]
    },
    {
     "name": "stderr",
     "output_type": "stream",
     "text": [
      " Evaluating coalitions for trial 8: 100%|██████████| 1023/1023 [01:18<00:00, 13.05it/s]\n"
     ]
    },
    {
     "name": "stdout",
     "output_type": "stream",
     "text": [
      "  Trial 9/10 for subsample_ratio=0.8, max_depth=10\n"
     ]
    },
    {
     "name": "stderr",
     "output_type": "stream",
     "text": [
      " Evaluating coalitions for trial 9: 100%|██████████| 1023/1023 [01:17<00:00, 13.12it/s]\n"
     ]
    },
    {
     "name": "stdout",
     "output_type": "stream",
     "text": [
      "  Trial 10/10 for subsample_ratio=0.8, max_depth=10\n"
     ]
    },
    {
     "name": "stderr",
     "output_type": "stream",
     "text": [
      " Evaluating coalitions for trial 10: 100%|██████████| 1023/1023 [01:18<00:00, 13.05it/s]\n"
     ]
    },
    {
     "name": "stdout",
     "output_type": "stream",
     "text": [
      "\n",
      "Running experiment with subsample_ratio = 0.8, max_depth = 100\n",
      "  Trial 1/10 for subsample_ratio=0.8, max_depth=100\n"
     ]
    },
    {
     "name": "stderr",
     "output_type": "stream",
     "text": [
      " Evaluating coalitions for trial 1: 100%|██████████| 1023/1023 [01:28<00:00, 11.60it/s]\n"
     ]
    },
    {
     "name": "stdout",
     "output_type": "stream",
     "text": [
      "  Trial 2/10 for subsample_ratio=0.8, max_depth=100\n"
     ]
    },
    {
     "name": "stderr",
     "output_type": "stream",
     "text": [
      " Evaluating coalitions for trial 2: 100%|██████████| 1023/1023 [01:28<00:00, 11.62it/s]\n"
     ]
    },
    {
     "name": "stdout",
     "output_type": "stream",
     "text": [
      "  Trial 3/10 for subsample_ratio=0.8, max_depth=100\n"
     ]
    },
    {
     "name": "stderr",
     "output_type": "stream",
     "text": [
      " Evaluating coalitions for trial 3: 100%|██████████| 1023/1023 [01:28<00:00, 11.56it/s]\n"
     ]
    },
    {
     "name": "stdout",
     "output_type": "stream",
     "text": [
      "  Trial 4/10 for subsample_ratio=0.8, max_depth=100\n"
     ]
    },
    {
     "name": "stderr",
     "output_type": "stream",
     "text": [
      " Evaluating coalitions for trial 4: 100%|██████████| 1023/1023 [01:28<00:00, 11.62it/s]\n"
     ]
    },
    {
     "name": "stdout",
     "output_type": "stream",
     "text": [
      "  Trial 5/10 for subsample_ratio=0.8, max_depth=100\n"
     ]
    },
    {
     "name": "stderr",
     "output_type": "stream",
     "text": [
      " Evaluating coalitions for trial 5: 100%|██████████| 1023/1023 [33:05<00:00,  1.94s/it]  \n"
     ]
    },
    {
     "name": "stdout",
     "output_type": "stream",
     "text": [
      "  Trial 6/10 for subsample_ratio=0.8, max_depth=100\n"
     ]
    },
    {
     "name": "stderr",
     "output_type": "stream",
     "text": [
      " Evaluating coalitions for trial 6: 100%|██████████| 1023/1023 [46:19<00:00,  2.72s/it]   \n"
     ]
    },
    {
     "name": "stdout",
     "output_type": "stream",
     "text": [
      "  Trial 7/10 for subsample_ratio=0.8, max_depth=100\n"
     ]
    },
    {
     "name": "stderr",
     "output_type": "stream",
     "text": [
      " Evaluating coalitions for trial 7: 100%|██████████| 1023/1023 [01:26<00:00, 11.78it/s]\n"
     ]
    },
    {
     "name": "stdout",
     "output_type": "stream",
     "text": [
      "  Trial 8/10 for subsample_ratio=0.8, max_depth=100\n"
     ]
    },
    {
     "name": "stderr",
     "output_type": "stream",
     "text": [
      " Evaluating coalitions for trial 8: 100%|██████████| 1023/1023 [01:27<00:00, 11.67it/s]\n"
     ]
    },
    {
     "name": "stdout",
     "output_type": "stream",
     "text": [
      "  Trial 9/10 for subsample_ratio=0.8, max_depth=100\n"
     ]
    },
    {
     "name": "stderr",
     "output_type": "stream",
     "text": [
      " Evaluating coalitions for trial 9: 100%|██████████| 1023/1023 [01:27<00:00, 11.74it/s]\n"
     ]
    },
    {
     "name": "stdout",
     "output_type": "stream",
     "text": [
      "  Trial 10/10 for subsample_ratio=0.8, max_depth=100\n"
     ]
    },
    {
     "name": "stderr",
     "output_type": "stream",
     "text": [
      " Evaluating coalitions for trial 10: 100%|██████████| 1023/1023 [01:28<00:00, 11.60it/s]"
     ]
    },
    {
     "name": "stdout",
     "output_type": "stream",
     "text": [
      "Process complete. Results saved.\n"
     ]
    },
    {
     "name": "stderr",
     "output_type": "stream",
     "text": [
      "\n"
     ]
    }
   ],
   "source": [
    "train_files_pattern = \"/Users/abbaszal/Documents/Thesis_Project_Spambase/data/corrupted_data/c6/train_{i:02d}.csv\" \n",
    "test_files_pattern = \"/Users/abbaszal/Documents/Thesis_Project_Spambase/data/corrupted_data/c6/test_{i:02d}.csv\" \n",
    "run_experiment_2(n_clients=10, n_trials=10, base_random_seed=42,  subsample_ratios=[0.5, 0.8],  max_depths=[10, 100], train_files_pattern=train_files_pattern, test_files_pattern=test_files_pattern)"
   ]
  },
  {
   "cell_type": "code",
   "execution_count": 12,
   "metadata": {},
   "outputs": [
    {
     "name": "stdout",
     "output_type": "stream",
     "text": [
      "\n",
      "Running experiment with subsample_ratio = 0.5, max_depth = 10\n",
      "  Trial 1/10 for subsample_ratio=0.5, max_depth=10\n"
     ]
    },
    {
     "name": "stderr",
     "output_type": "stream",
     "text": [
      " Evaluating coalitions for trial 1: 100%|██████████| 1023/1023 [00:48<00:00, 21.31it/s]\n"
     ]
    },
    {
     "name": "stdout",
     "output_type": "stream",
     "text": [
      "  Trial 2/10 for subsample_ratio=0.5, max_depth=10\n"
     ]
    },
    {
     "name": "stderr",
     "output_type": "stream",
     "text": [
      " Evaluating coalitions for trial 2: 100%|██████████| 1023/1023 [00:47<00:00, 21.34it/s]\n"
     ]
    },
    {
     "name": "stdout",
     "output_type": "stream",
     "text": [
      "  Trial 3/10 for subsample_ratio=0.5, max_depth=10\n"
     ]
    },
    {
     "name": "stderr",
     "output_type": "stream",
     "text": [
      " Evaluating coalitions for trial 3: 100%|██████████| 1023/1023 [00:47<00:00, 21.38it/s]\n"
     ]
    },
    {
     "name": "stdout",
     "output_type": "stream",
     "text": [
      "  Trial 4/10 for subsample_ratio=0.5, max_depth=10\n"
     ]
    },
    {
     "name": "stderr",
     "output_type": "stream",
     "text": [
      " Evaluating coalitions for trial 4: 100%|██████████| 1023/1023 [00:49<00:00, 20.56it/s]\n"
     ]
    },
    {
     "name": "stdout",
     "output_type": "stream",
     "text": [
      "  Trial 5/10 for subsample_ratio=0.5, max_depth=10\n"
     ]
    },
    {
     "name": "stderr",
     "output_type": "stream",
     "text": [
      " Evaluating coalitions for trial 5: 100%|██████████| 1023/1023 [00:49<00:00, 20.48it/s]\n"
     ]
    },
    {
     "name": "stdout",
     "output_type": "stream",
     "text": [
      "  Trial 6/10 for subsample_ratio=0.5, max_depth=10\n"
     ]
    },
    {
     "name": "stderr",
     "output_type": "stream",
     "text": [
      " Evaluating coalitions for trial 6: 100%|██████████| 1023/1023 [00:49<00:00, 20.50it/s]\n"
     ]
    },
    {
     "name": "stdout",
     "output_type": "stream",
     "text": [
      "  Trial 7/10 for subsample_ratio=0.5, max_depth=10\n"
     ]
    },
    {
     "name": "stderr",
     "output_type": "stream",
     "text": [
      " Evaluating coalitions for trial 7: 100%|██████████| 1023/1023 [00:48<00:00, 21.28it/s]\n"
     ]
    },
    {
     "name": "stdout",
     "output_type": "stream",
     "text": [
      "  Trial 8/10 for subsample_ratio=0.5, max_depth=10\n"
     ]
    },
    {
     "name": "stderr",
     "output_type": "stream",
     "text": [
      " Evaluating coalitions for trial 8: 100%|██████████| 1023/1023 [00:48<00:00, 21.04it/s]\n"
     ]
    },
    {
     "name": "stdout",
     "output_type": "stream",
     "text": [
      "  Trial 9/10 for subsample_ratio=0.5, max_depth=10\n"
     ]
    },
    {
     "name": "stderr",
     "output_type": "stream",
     "text": [
      " Evaluating coalitions for trial 9: 100%|██████████| 1023/1023 [00:48<00:00, 21.19it/s]\n"
     ]
    },
    {
     "name": "stdout",
     "output_type": "stream",
     "text": [
      "  Trial 10/10 for subsample_ratio=0.5, max_depth=10\n"
     ]
    },
    {
     "name": "stderr",
     "output_type": "stream",
     "text": [
      " Evaluating coalitions for trial 10: 100%|██████████| 1023/1023 [00:47<00:00, 21.63it/s]\n"
     ]
    },
    {
     "name": "stdout",
     "output_type": "stream",
     "text": [
      "\n",
      "Running experiment with subsample_ratio = 0.5, max_depth = 100\n",
      "  Trial 1/10 for subsample_ratio=0.5, max_depth=100\n"
     ]
    },
    {
     "name": "stderr",
     "output_type": "stream",
     "text": [
      " Evaluating coalitions for trial 1: 100%|██████████| 1023/1023 [00:56<00:00, 18.22it/s]\n"
     ]
    },
    {
     "name": "stdout",
     "output_type": "stream",
     "text": [
      "  Trial 2/10 for subsample_ratio=0.5, max_depth=100\n"
     ]
    },
    {
     "name": "stderr",
     "output_type": "stream",
     "text": [
      " Evaluating coalitions for trial 2: 100%|██████████| 1023/1023 [00:54<00:00, 18.61it/s]\n"
     ]
    },
    {
     "name": "stdout",
     "output_type": "stream",
     "text": [
      "  Trial 3/10 for subsample_ratio=0.5, max_depth=100\n"
     ]
    },
    {
     "name": "stderr",
     "output_type": "stream",
     "text": [
      " Evaluating coalitions for trial 3: 100%|██████████| 1023/1023 [00:54<00:00, 18.64it/s]\n"
     ]
    },
    {
     "name": "stdout",
     "output_type": "stream",
     "text": [
      "  Trial 4/10 for subsample_ratio=0.5, max_depth=100\n"
     ]
    },
    {
     "name": "stderr",
     "output_type": "stream",
     "text": [
      " Evaluating coalitions for trial 4: 100%|██████████| 1023/1023 [00:54<00:00, 18.72it/s]\n"
     ]
    },
    {
     "name": "stdout",
     "output_type": "stream",
     "text": [
      "  Trial 5/10 for subsample_ratio=0.5, max_depth=100\n"
     ]
    },
    {
     "name": "stderr",
     "output_type": "stream",
     "text": [
      " Evaluating coalitions for trial 5: 100%|██████████| 1023/1023 [00:53<00:00, 19.13it/s]\n"
     ]
    },
    {
     "name": "stdout",
     "output_type": "stream",
     "text": [
      "  Trial 6/10 for subsample_ratio=0.5, max_depth=100\n"
     ]
    },
    {
     "name": "stderr",
     "output_type": "stream",
     "text": [
      " Evaluating coalitions for trial 6: 100%|██████████| 1023/1023 [00:52<00:00, 19.42it/s]\n"
     ]
    },
    {
     "name": "stdout",
     "output_type": "stream",
     "text": [
      "  Trial 7/10 for subsample_ratio=0.5, max_depth=100\n"
     ]
    },
    {
     "name": "stderr",
     "output_type": "stream",
     "text": [
      " Evaluating coalitions for trial 7: 100%|██████████| 1023/1023 [00:52<00:00, 19.41it/s]\n"
     ]
    },
    {
     "name": "stdout",
     "output_type": "stream",
     "text": [
      "  Trial 8/10 for subsample_ratio=0.5, max_depth=100\n"
     ]
    },
    {
     "name": "stderr",
     "output_type": "stream",
     "text": [
      " Evaluating coalitions for trial 8: 100%|██████████| 1023/1023 [00:53<00:00, 19.07it/s]\n"
     ]
    },
    {
     "name": "stdout",
     "output_type": "stream",
     "text": [
      "  Trial 9/10 for subsample_ratio=0.5, max_depth=100\n"
     ]
    },
    {
     "name": "stderr",
     "output_type": "stream",
     "text": [
      " Evaluating coalitions for trial 9: 100%|██████████| 1023/1023 [00:53<00:00, 19.21it/s]\n"
     ]
    },
    {
     "name": "stdout",
     "output_type": "stream",
     "text": [
      "  Trial 10/10 for subsample_ratio=0.5, max_depth=100\n"
     ]
    },
    {
     "name": "stderr",
     "output_type": "stream",
     "text": [
      " Evaluating coalitions for trial 10: 100%|██████████| 1023/1023 [00:53<00:00, 19.11it/s]\n"
     ]
    },
    {
     "name": "stdout",
     "output_type": "stream",
     "text": [
      "\n",
      "Running experiment with subsample_ratio = 0.8, max_depth = 10\n",
      "  Trial 1/10 for subsample_ratio=0.8, max_depth=10\n"
     ]
    },
    {
     "name": "stderr",
     "output_type": "stream",
     "text": [
      " Evaluating coalitions for trial 1: 100%|██████████| 1023/1023 [01:16<00:00, 13.45it/s]\n"
     ]
    },
    {
     "name": "stdout",
     "output_type": "stream",
     "text": [
      "  Trial 2/10 for subsample_ratio=0.8, max_depth=10\n"
     ]
    },
    {
     "name": "stderr",
     "output_type": "stream",
     "text": [
      " Evaluating coalitions for trial 2: 100%|██████████| 1023/1023 [01:16<00:00, 13.43it/s]\n"
     ]
    },
    {
     "name": "stdout",
     "output_type": "stream",
     "text": [
      "  Trial 3/10 for subsample_ratio=0.8, max_depth=10\n"
     ]
    },
    {
     "name": "stderr",
     "output_type": "stream",
     "text": [
      " Evaluating coalitions for trial 3: 100%|██████████| 1023/1023 [01:16<00:00, 13.31it/s]\n"
     ]
    },
    {
     "name": "stdout",
     "output_type": "stream",
     "text": [
      "  Trial 4/10 for subsample_ratio=0.8, max_depth=10\n"
     ]
    },
    {
     "name": "stderr",
     "output_type": "stream",
     "text": [
      " Evaluating coalitions for trial 4: 100%|██████████| 1023/1023 [01:16<00:00, 13.41it/s]\n"
     ]
    },
    {
     "name": "stdout",
     "output_type": "stream",
     "text": [
      "  Trial 5/10 for subsample_ratio=0.8, max_depth=10\n"
     ]
    },
    {
     "name": "stderr",
     "output_type": "stream",
     "text": [
      " Evaluating coalitions for trial 5: 100%|██████████| 1023/1023 [01:16<00:00, 13.30it/s]\n"
     ]
    },
    {
     "name": "stdout",
     "output_type": "stream",
     "text": [
      "  Trial 6/10 for subsample_ratio=0.8, max_depth=10\n"
     ]
    },
    {
     "name": "stderr",
     "output_type": "stream",
     "text": [
      " Evaluating coalitions for trial 6: 100%|██████████| 1023/1023 [01:16<00:00, 13.35it/s]\n"
     ]
    },
    {
     "name": "stdout",
     "output_type": "stream",
     "text": [
      "  Trial 7/10 for subsample_ratio=0.8, max_depth=10\n"
     ]
    },
    {
     "name": "stderr",
     "output_type": "stream",
     "text": [
      " Evaluating coalitions for trial 7: 100%|██████████| 1023/1023 [01:16<00:00, 13.39it/s]\n"
     ]
    },
    {
     "name": "stdout",
     "output_type": "stream",
     "text": [
      "  Trial 8/10 for subsample_ratio=0.8, max_depth=10\n"
     ]
    },
    {
     "name": "stderr",
     "output_type": "stream",
     "text": [
      " Evaluating coalitions for trial 8: 100%|██████████| 1023/1023 [01:16<00:00, 13.34it/s]\n"
     ]
    },
    {
     "name": "stdout",
     "output_type": "stream",
     "text": [
      "  Trial 9/10 for subsample_ratio=0.8, max_depth=10\n"
     ]
    },
    {
     "name": "stderr",
     "output_type": "stream",
     "text": [
      " Evaluating coalitions for trial 9: 100%|██████████| 1023/1023 [01:16<00:00, 13.40it/s]\n"
     ]
    },
    {
     "name": "stdout",
     "output_type": "stream",
     "text": [
      "  Trial 10/10 for subsample_ratio=0.8, max_depth=10\n"
     ]
    },
    {
     "name": "stderr",
     "output_type": "stream",
     "text": [
      " Evaluating coalitions for trial 10: 100%|██████████| 1023/1023 [01:17<00:00, 13.27it/s]\n"
     ]
    },
    {
     "name": "stdout",
     "output_type": "stream",
     "text": [
      "\n",
      "Running experiment with subsample_ratio = 0.8, max_depth = 100\n",
      "  Trial 1/10 for subsample_ratio=0.8, max_depth=100\n"
     ]
    },
    {
     "name": "stderr",
     "output_type": "stream",
     "text": [
      " Evaluating coalitions for trial 1: 100%|██████████| 1023/1023 [01:28<00:00, 11.51it/s]\n"
     ]
    },
    {
     "name": "stdout",
     "output_type": "stream",
     "text": [
      "  Trial 2/10 for subsample_ratio=0.8, max_depth=100\n"
     ]
    },
    {
     "name": "stderr",
     "output_type": "stream",
     "text": [
      " Evaluating coalitions for trial 2: 100%|██████████| 1023/1023 [01:28<00:00, 11.56it/s]\n"
     ]
    },
    {
     "name": "stdout",
     "output_type": "stream",
     "text": [
      "  Trial 3/10 for subsample_ratio=0.8, max_depth=100\n"
     ]
    },
    {
     "name": "stderr",
     "output_type": "stream",
     "text": [
      " Evaluating coalitions for trial 3: 100%|██████████| 1023/1023 [01:28<00:00, 11.54it/s]\n"
     ]
    },
    {
     "name": "stdout",
     "output_type": "stream",
     "text": [
      "  Trial 4/10 for subsample_ratio=0.8, max_depth=100\n"
     ]
    },
    {
     "name": "stderr",
     "output_type": "stream",
     "text": [
      " Evaluating coalitions for trial 4: 100%|██████████| 1023/1023 [01:28<00:00, 11.50it/s]\n"
     ]
    },
    {
     "name": "stdout",
     "output_type": "stream",
     "text": [
      "  Trial 5/10 for subsample_ratio=0.8, max_depth=100\n"
     ]
    },
    {
     "name": "stderr",
     "output_type": "stream",
     "text": [
      " Evaluating coalitions for trial 5: 100%|██████████| 1023/1023 [01:28<00:00, 11.57it/s]\n"
     ]
    },
    {
     "name": "stdout",
     "output_type": "stream",
     "text": [
      "  Trial 6/10 for subsample_ratio=0.8, max_depth=100\n"
     ]
    },
    {
     "name": "stderr",
     "output_type": "stream",
     "text": [
      " Evaluating coalitions for trial 6: 100%|██████████| 1023/1023 [01:28<00:00, 11.56it/s]\n"
     ]
    },
    {
     "name": "stdout",
     "output_type": "stream",
     "text": [
      "  Trial 7/10 for subsample_ratio=0.8, max_depth=100\n"
     ]
    },
    {
     "name": "stderr",
     "output_type": "stream",
     "text": [
      " Evaluating coalitions for trial 7: 100%|██████████| 1023/1023 [01:28<00:00, 11.50it/s]\n"
     ]
    },
    {
     "name": "stdout",
     "output_type": "stream",
     "text": [
      "  Trial 8/10 for subsample_ratio=0.8, max_depth=100\n"
     ]
    },
    {
     "name": "stderr",
     "output_type": "stream",
     "text": [
      " Evaluating coalitions for trial 8: 100%|██████████| 1023/1023 [01:28<00:00, 11.51it/s]\n"
     ]
    },
    {
     "name": "stdout",
     "output_type": "stream",
     "text": [
      "  Trial 9/10 for subsample_ratio=0.8, max_depth=100\n"
     ]
    },
    {
     "name": "stderr",
     "output_type": "stream",
     "text": [
      " Evaluating coalitions for trial 9: 100%|██████████| 1023/1023 [01:28<00:00, 11.60it/s]\n"
     ]
    },
    {
     "name": "stdout",
     "output_type": "stream",
     "text": [
      "  Trial 10/10 for subsample_ratio=0.8, max_depth=100\n"
     ]
    },
    {
     "name": "stderr",
     "output_type": "stream",
     "text": [
      " Evaluating coalitions for trial 10: 100%|██████████| 1023/1023 [01:28<00:00, 11.51it/s]"
     ]
    },
    {
     "name": "stdout",
     "output_type": "stream",
     "text": [
      "Process complete. Results saved.\n"
     ]
    },
    {
     "name": "stderr",
     "output_type": "stream",
     "text": [
      "\n"
     ]
    }
   ],
   "source": [
    "train_files_pattern = \"/Users/abbaszal/Documents/Thesis_Project_Spambase/data/corrupted_data/c8/train_{i:02d}.csv\" \n",
    "test_files_pattern = \"/Users/abbaszal/Documents/Thesis_Project_Spambase/data/corrupted_data/c8/test_{i:02d}.csv\" \n",
    "run_experiment_2(n_clients=10, n_trials=10, base_random_seed=42,  subsample_ratios=[0.5, 0.8],  max_depths=[10, 100], train_files_pattern=train_files_pattern, test_files_pattern=test_files_pattern)"
   ]
  },
  {
   "cell_type": "code",
   "execution_count": 13,
   "metadata": {},
   "outputs": [
    {
     "name": "stdout",
     "output_type": "stream",
     "text": [
      "\n",
      "Running experiment with subsample_ratio = 0.5, max_depth = 10\n",
      "  Trial 1/10 for subsample_ratio=0.5, max_depth=10\n"
     ]
    },
    {
     "name": "stderr",
     "output_type": "stream",
     "text": [
      " Evaluating coalitions for trial 1: 100%|██████████| 1023/1023 [00:48<00:00, 21.10it/s]\n"
     ]
    },
    {
     "name": "stdout",
     "output_type": "stream",
     "text": [
      "  Trial 2/10 for subsample_ratio=0.5, max_depth=10\n"
     ]
    },
    {
     "name": "stderr",
     "output_type": "stream",
     "text": [
      " Evaluating coalitions for trial 2: 100%|██████████| 1023/1023 [00:49<00:00, 20.85it/s]\n"
     ]
    },
    {
     "name": "stdout",
     "output_type": "stream",
     "text": [
      "  Trial 3/10 for subsample_ratio=0.5, max_depth=10\n"
     ]
    },
    {
     "name": "stderr",
     "output_type": "stream",
     "text": [
      " Evaluating coalitions for trial 3: 100%|██████████| 1023/1023 [00:48<00:00, 21.00it/s]\n"
     ]
    },
    {
     "name": "stdout",
     "output_type": "stream",
     "text": [
      "  Trial 4/10 for subsample_ratio=0.5, max_depth=10\n"
     ]
    },
    {
     "name": "stderr",
     "output_type": "stream",
     "text": [
      " Evaluating coalitions for trial 4: 100%|██████████| 1023/1023 [00:48<00:00, 21.13it/s]\n"
     ]
    },
    {
     "name": "stdout",
     "output_type": "stream",
     "text": [
      "  Trial 5/10 for subsample_ratio=0.5, max_depth=10\n"
     ]
    },
    {
     "name": "stderr",
     "output_type": "stream",
     "text": [
      " Evaluating coalitions for trial 5: 100%|██████████| 1023/1023 [00:48<00:00, 20.98it/s]\n"
     ]
    },
    {
     "name": "stdout",
     "output_type": "stream",
     "text": [
      "  Trial 6/10 for subsample_ratio=0.5, max_depth=10\n"
     ]
    },
    {
     "name": "stderr",
     "output_type": "stream",
     "text": [
      " Evaluating coalitions for trial 6: 100%|██████████| 1023/1023 [00:48<00:00, 21.06it/s]\n"
     ]
    },
    {
     "name": "stdout",
     "output_type": "stream",
     "text": [
      "  Trial 7/10 for subsample_ratio=0.5, max_depth=10\n"
     ]
    },
    {
     "name": "stderr",
     "output_type": "stream",
     "text": [
      " Evaluating coalitions for trial 7: 100%|██████████| 1023/1023 [00:49<00:00, 20.87it/s]\n"
     ]
    },
    {
     "name": "stdout",
     "output_type": "stream",
     "text": [
      "  Trial 8/10 for subsample_ratio=0.5, max_depth=10\n"
     ]
    },
    {
     "name": "stderr",
     "output_type": "stream",
     "text": [
      " Evaluating coalitions for trial 8: 100%|██████████| 1023/1023 [00:48<00:00, 21.02it/s]\n"
     ]
    },
    {
     "name": "stdout",
     "output_type": "stream",
     "text": [
      "  Trial 9/10 for subsample_ratio=0.5, max_depth=10\n"
     ]
    },
    {
     "name": "stderr",
     "output_type": "stream",
     "text": [
      " Evaluating coalitions for trial 9: 100%|██████████| 1023/1023 [00:49<00:00, 20.84it/s]\n"
     ]
    },
    {
     "name": "stdout",
     "output_type": "stream",
     "text": [
      "  Trial 10/10 for subsample_ratio=0.5, max_depth=10\n"
     ]
    },
    {
     "name": "stderr",
     "output_type": "stream",
     "text": [
      " Evaluating coalitions for trial 10: 100%|██████████| 1023/1023 [00:49<00:00, 20.80it/s]\n"
     ]
    },
    {
     "name": "stdout",
     "output_type": "stream",
     "text": [
      "\n",
      "Running experiment with subsample_ratio = 0.5, max_depth = 100\n",
      "  Trial 1/10 for subsample_ratio=0.5, max_depth=100\n"
     ]
    },
    {
     "name": "stderr",
     "output_type": "stream",
     "text": [
      " Evaluating coalitions for trial 1: 100%|██████████| 1023/1023 [00:54<00:00, 18.67it/s]\n"
     ]
    },
    {
     "name": "stdout",
     "output_type": "stream",
     "text": [
      "  Trial 2/10 for subsample_ratio=0.5, max_depth=100\n"
     ]
    },
    {
     "name": "stderr",
     "output_type": "stream",
     "text": [
      " Evaluating coalitions for trial 2: 100%|██████████| 1023/1023 [00:54<00:00, 18.62it/s]\n"
     ]
    },
    {
     "name": "stdout",
     "output_type": "stream",
     "text": [
      "  Trial 3/10 for subsample_ratio=0.5, max_depth=100\n"
     ]
    },
    {
     "name": "stderr",
     "output_type": "stream",
     "text": [
      " Evaluating coalitions for trial 3: 100%|██████████| 1023/1023 [00:55<00:00, 18.49it/s]\n"
     ]
    },
    {
     "name": "stdout",
     "output_type": "stream",
     "text": [
      "  Trial 4/10 for subsample_ratio=0.5, max_depth=100\n"
     ]
    },
    {
     "name": "stderr",
     "output_type": "stream",
     "text": [
      " Evaluating coalitions for trial 4: 100%|██████████| 1023/1023 [00:54<00:00, 18.68it/s]\n"
     ]
    },
    {
     "name": "stdout",
     "output_type": "stream",
     "text": [
      "  Trial 5/10 for subsample_ratio=0.5, max_depth=100\n"
     ]
    },
    {
     "name": "stderr",
     "output_type": "stream",
     "text": [
      " Evaluating coalitions for trial 5: 100%|██████████| 1023/1023 [00:55<00:00, 18.57it/s]\n"
     ]
    },
    {
     "name": "stdout",
     "output_type": "stream",
     "text": [
      "  Trial 6/10 for subsample_ratio=0.5, max_depth=100\n"
     ]
    },
    {
     "name": "stderr",
     "output_type": "stream",
     "text": [
      " Evaluating coalitions for trial 6: 100%|██████████| 1023/1023 [00:55<00:00, 18.33it/s]\n"
     ]
    },
    {
     "name": "stdout",
     "output_type": "stream",
     "text": [
      "  Trial 7/10 for subsample_ratio=0.5, max_depth=100\n"
     ]
    },
    {
     "name": "stderr",
     "output_type": "stream",
     "text": [
      " Evaluating coalitions for trial 7: 100%|██████████| 1023/1023 [00:55<00:00, 18.40it/s]\n"
     ]
    },
    {
     "name": "stdout",
     "output_type": "stream",
     "text": [
      "  Trial 8/10 for subsample_ratio=0.5, max_depth=100\n"
     ]
    },
    {
     "name": "stderr",
     "output_type": "stream",
     "text": [
      " Evaluating coalitions for trial 8: 100%|██████████| 1023/1023 [00:55<00:00, 18.46it/s]\n"
     ]
    },
    {
     "name": "stdout",
     "output_type": "stream",
     "text": [
      "  Trial 9/10 for subsample_ratio=0.5, max_depth=100\n"
     ]
    },
    {
     "name": "stderr",
     "output_type": "stream",
     "text": [
      " Evaluating coalitions for trial 9: 100%|██████████| 1023/1023 [00:55<00:00, 18.39it/s]\n"
     ]
    },
    {
     "name": "stdout",
     "output_type": "stream",
     "text": [
      "  Trial 10/10 for subsample_ratio=0.5, max_depth=100\n"
     ]
    },
    {
     "name": "stderr",
     "output_type": "stream",
     "text": [
      " Evaluating coalitions for trial 10: 100%|██████████| 1023/1023 [00:54<00:00, 18.77it/s]\n"
     ]
    },
    {
     "name": "stdout",
     "output_type": "stream",
     "text": [
      "\n",
      "Running experiment with subsample_ratio = 0.8, max_depth = 10\n",
      "  Trial 1/10 for subsample_ratio=0.8, max_depth=10\n"
     ]
    },
    {
     "name": "stderr",
     "output_type": "stream",
     "text": [
      " Evaluating coalitions for trial 1: 100%|██████████| 1023/1023 [01:17<00:00, 13.23it/s]\n"
     ]
    },
    {
     "name": "stdout",
     "output_type": "stream",
     "text": [
      "  Trial 2/10 for subsample_ratio=0.8, max_depth=10\n"
     ]
    },
    {
     "name": "stderr",
     "output_type": "stream",
     "text": [
      " Evaluating coalitions for trial 2: 100%|██████████| 1023/1023 [01:17<00:00, 13.25it/s]\n"
     ]
    },
    {
     "name": "stdout",
     "output_type": "stream",
     "text": [
      "  Trial 3/10 for subsample_ratio=0.8, max_depth=10\n"
     ]
    },
    {
     "name": "stderr",
     "output_type": "stream",
     "text": [
      " Evaluating coalitions for trial 3: 100%|██████████| 1023/1023 [01:16<00:00, 13.33it/s]\n"
     ]
    },
    {
     "name": "stdout",
     "output_type": "stream",
     "text": [
      "  Trial 4/10 for subsample_ratio=0.8, max_depth=10\n"
     ]
    },
    {
     "name": "stderr",
     "output_type": "stream",
     "text": [
      " Evaluating coalitions for trial 4: 100%|██████████| 1023/1023 [01:16<00:00, 13.35it/s]\n"
     ]
    },
    {
     "name": "stdout",
     "output_type": "stream",
     "text": [
      "  Trial 5/10 for subsample_ratio=0.8, max_depth=10\n"
     ]
    },
    {
     "name": "stderr",
     "output_type": "stream",
     "text": [
      " Evaluating coalitions for trial 5: 100%|██████████| 1023/1023 [01:16<00:00, 13.40it/s]\n"
     ]
    },
    {
     "name": "stdout",
     "output_type": "stream",
     "text": [
      "  Trial 6/10 for subsample_ratio=0.8, max_depth=10\n"
     ]
    },
    {
     "name": "stderr",
     "output_type": "stream",
     "text": [
      " Evaluating coalitions for trial 6: 100%|██████████| 1023/1023 [01:16<00:00, 13.31it/s]\n"
     ]
    },
    {
     "name": "stdout",
     "output_type": "stream",
     "text": [
      "  Trial 7/10 for subsample_ratio=0.8, max_depth=10\n"
     ]
    },
    {
     "name": "stderr",
     "output_type": "stream",
     "text": [
      " Evaluating coalitions for trial 7: 100%|██████████| 1023/1023 [01:16<00:00, 13.37it/s]\n"
     ]
    },
    {
     "name": "stdout",
     "output_type": "stream",
     "text": [
      "  Trial 8/10 for subsample_ratio=0.8, max_depth=10\n"
     ]
    },
    {
     "name": "stderr",
     "output_type": "stream",
     "text": [
      " Evaluating coalitions for trial 8: 100%|██████████| 1023/1023 [01:16<00:00, 13.40it/s]\n"
     ]
    },
    {
     "name": "stdout",
     "output_type": "stream",
     "text": [
      "  Trial 9/10 for subsample_ratio=0.8, max_depth=10\n"
     ]
    },
    {
     "name": "stderr",
     "output_type": "stream",
     "text": [
      " Evaluating coalitions for trial 9: 100%|██████████| 1023/1023 [01:16<00:00, 13.32it/s]\n"
     ]
    },
    {
     "name": "stdout",
     "output_type": "stream",
     "text": [
      "  Trial 10/10 for subsample_ratio=0.8, max_depth=10\n"
     ]
    },
    {
     "name": "stderr",
     "output_type": "stream",
     "text": [
      " Evaluating coalitions for trial 10: 100%|██████████| 1023/1023 [01:16<00:00, 13.37it/s]\n"
     ]
    },
    {
     "name": "stdout",
     "output_type": "stream",
     "text": [
      "\n",
      "Running experiment with subsample_ratio = 0.8, max_depth = 100\n",
      "  Trial 1/10 for subsample_ratio=0.8, max_depth=100\n"
     ]
    },
    {
     "name": "stderr",
     "output_type": "stream",
     "text": [
      " Evaluating coalitions for trial 1: 100%|██████████| 1023/1023 [01:31<00:00, 11.24it/s]\n"
     ]
    },
    {
     "name": "stdout",
     "output_type": "stream",
     "text": [
      "  Trial 2/10 for subsample_ratio=0.8, max_depth=100\n"
     ]
    },
    {
     "name": "stderr",
     "output_type": "stream",
     "text": [
      " Evaluating coalitions for trial 2: 100%|██████████| 1023/1023 [01:30<00:00, 11.27it/s]\n"
     ]
    },
    {
     "name": "stdout",
     "output_type": "stream",
     "text": [
      "  Trial 3/10 for subsample_ratio=0.8, max_depth=100\n"
     ]
    },
    {
     "name": "stderr",
     "output_type": "stream",
     "text": [
      " Evaluating coalitions for trial 3: 100%|██████████| 1023/1023 [01:32<00:00, 11.03it/s]\n"
     ]
    },
    {
     "name": "stdout",
     "output_type": "stream",
     "text": [
      "  Trial 4/10 for subsample_ratio=0.8, max_depth=100\n"
     ]
    },
    {
     "name": "stderr",
     "output_type": "stream",
     "text": [
      " Evaluating coalitions for trial 4: 100%|██████████| 1023/1023 [01:31<00:00, 11.13it/s]\n"
     ]
    },
    {
     "name": "stdout",
     "output_type": "stream",
     "text": [
      "  Trial 5/10 for subsample_ratio=0.8, max_depth=100\n"
     ]
    },
    {
     "name": "stderr",
     "output_type": "stream",
     "text": [
      " Evaluating coalitions for trial 5: 100%|██████████| 1023/1023 [01:40<00:00, 10.20it/s]\n"
     ]
    },
    {
     "name": "stdout",
     "output_type": "stream",
     "text": [
      "  Trial 6/10 for subsample_ratio=0.8, max_depth=100\n"
     ]
    },
    {
     "name": "stderr",
     "output_type": "stream",
     "text": [
      " Evaluating coalitions for trial 6: 100%|██████████| 1023/1023 [01:38<00:00, 10.42it/s]\n"
     ]
    },
    {
     "name": "stdout",
     "output_type": "stream",
     "text": [
      "  Trial 7/10 for subsample_ratio=0.8, max_depth=100\n"
     ]
    },
    {
     "name": "stderr",
     "output_type": "stream",
     "text": [
      " Evaluating coalitions for trial 7: 100%|██████████| 1023/1023 [01:37<00:00, 10.50it/s]\n"
     ]
    },
    {
     "name": "stdout",
     "output_type": "stream",
     "text": [
      "  Trial 8/10 for subsample_ratio=0.8, max_depth=100\n"
     ]
    },
    {
     "name": "stderr",
     "output_type": "stream",
     "text": [
      " Evaluating coalitions for trial 8: 100%|██████████| 1023/1023 [01:36<00:00, 10.58it/s]\n"
     ]
    },
    {
     "name": "stdout",
     "output_type": "stream",
     "text": [
      "  Trial 9/10 for subsample_ratio=0.8, max_depth=100\n"
     ]
    },
    {
     "name": "stderr",
     "output_type": "stream",
     "text": [
      " Evaluating coalitions for trial 9: 100%|██████████| 1023/1023 [01:38<00:00, 10.40it/s]\n"
     ]
    },
    {
     "name": "stdout",
     "output_type": "stream",
     "text": [
      "  Trial 10/10 for subsample_ratio=0.8, max_depth=100\n"
     ]
    },
    {
     "name": "stderr",
     "output_type": "stream",
     "text": [
      " Evaluating coalitions for trial 10: 100%|██████████| 1023/1023 [01:38<00:00, 10.38it/s]\n"
     ]
    },
    {
     "name": "stdout",
     "output_type": "stream",
     "text": [
      "Process complete. Results saved.\n"
     ]
    }
   ],
   "source": [
    "train_files_pattern = \"/Users/abbaszal/Documents/Thesis_Project_Spambase/data/corrupted_data/c9/train_{i:02d}.csv\" \n",
    "test_files_pattern = \"/Users/abbaszal/Documents/Thesis_Project_Spambase/data/corrupted_data/c9/test_{i:02d}.csv\" \n",
    "run_experiment_2(n_clients=10, n_trials=10, base_random_seed=42,  subsample_ratios=[0.5, 0.8],  max_depths=[10, 100], train_files_pattern=train_files_pattern, test_files_pattern=test_files_pattern)"
   ]
  },
  {
   "cell_type": "code",
   "execution_count": null,
   "metadata": {},
   "outputs": [],
   "source": []
  }
 ],
 "metadata": {
  "kernelspec": {
   "display_name": "Python 3",
   "language": "python",
   "name": "python3"
  },
  "language_info": {
   "codemirror_mode": {
    "name": "ipython",
    "version": 3
   },
   "file_extension": ".py",
   "mimetype": "text/x-python",
   "name": "python",
   "nbconvert_exporter": "python",
   "pygments_lexer": "ipython3",
   "version": "3.9.6"
  }
 },
 "nbformat": 4,
 "nbformat_minor": 2
}

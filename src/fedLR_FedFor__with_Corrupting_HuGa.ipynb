{
 "cells": [
  {
   "cell_type": "code",
   "execution_count": 1,
   "metadata": {},
   "outputs": [],
   "source": [
    "import os\n",
    "import math\n",
    "import random\n",
    "import argparse\n",
    "import copy\n",
    "import ast\n",
    "from collections import Counter, defaultdict\n",
    "from itertools import chain, combinations\n",
    "\n",
    "import numpy as np\n",
    "import pandas as pd\n",
    "import matplotlib.pyplot as plt\n",
    "import seaborn as sns\n",
    "from tqdm import tqdm\n",
    "\n",
    "from sklearn.model_selection import train_test_split\n",
    "from sklearn.preprocessing import StandardScaler, LabelEncoder\n",
    "from sklearn.metrics import accuracy_score\n",
    "from sklearn.ensemble import RandomForestClassifier\n",
    "from sklearn.tree import DecisionTreeClassifier\n",
    "from sklearn.linear_model import LogisticRegression\n"
   ]
  },
  {
   "cell_type": "code",
   "execution_count": 2,
   "metadata": {},
   "outputs": [],
   "source": [
    "from Nash import find_nash_equilibria_v2\n",
    "from Functions import compute_and_visualize_shapley_values"
   ]
  },
  {
   "cell_type": "code",
   "execution_count": 3,
   "metadata": {},
   "outputs": [],
   "source": [
    "# disable ConvergenceWarnings\n",
    "import warnings\n",
    "from sklearn.exceptions import ConvergenceWarning\n",
    "warnings.filterwarnings(\"ignore\", category=ConvergenceWarning)"
   ]
  },
  {
   "cell_type": "markdown",
   "metadata": {},
   "source": [
    "### C2"
   ]
  },
  {
   "cell_type": "code",
   "execution_count": 20,
   "metadata": {},
   "outputs": [],
   "source": [
    "def corrupt_data(X: np.ndarray, corruption_prob: float = 0.8, nan_prob: float = 0.5,\n",
    "                 noise_std: Optional[float] = None):\n",
    "    if noise_std is None:\n",
    "        noise_std = 0.1\n",
    "    \n",
    "    X = X.copy()\n",
    "    n_samples, n_features = X.shape\n",
    "    mask = np.random.rand(n_samples) < corruption_prob\n",
    "    mask_nan = mask & (np.random.rand(n_samples) < nan_prob)\n",
    "    mask_noise = mask & (~mask_nan)\n",
    "    \n",
    "    corrupt_features = range(n_features)\n",
    "\n",
    "    # Apply corruption\n",
    "    for feature in corrupt_features:\n",
    "        X[mask_noise, feature] += np.random.randn(mask_noise.sum()) * noise_std\n",
    "\n",
    "    X[np.argwhere(mask_nan)] = np.nan\n",
    "    \n",
    "    return X, mask_nan  # Return the `mask_nan` for label corruption\n",
    "\n",
    "def corrupt_labels(y: np.ndarray, mask_nan: np.ndarray, corruption_prob: float = 0.2):\n",
    "    y = y.copy()\n",
    "    valid_mask = ~mask_nan  # Only consider rows not marked as NaN\n",
    "    corruption_mask = (np.random.rand(len(y)) < corruption_prob) & valid_mask\n",
    "\n",
    "    unique_labels = np.unique(y)\n",
    "\n",
    "    # Generate corrupted labels ensuring no unchanged labels\n",
    "    corrupted_labels = []\n",
    "    for original_label in y[corruption_mask]:\n",
    "        # Exclude the original label from the choices\n",
    "        possible_labels = unique_labels[unique_labels != original_label]\n",
    "        corrupted_label = np.random.choice(possible_labels)\n",
    "        corrupted_labels.append(corrupted_label)\n",
    "    \n",
    "    y[corruption_mask] = corrupted_labels\n",
    "    return y\n",
    "\n",
    "\n",
    "def corrupt_and_save_clients_data(input_dir, output_dir, corrupt_client_indices, corruption_params, label_corruption_prob=0.2):\n",
    "    os.makedirs(output_dir, exist_ok=True)\n",
    "\n",
    "    for i in range(1, 11):  # Assuming 10 clients\n",
    "        train_file = f\"{input_dir}/train_{i:02d}.csv\"\n",
    "        df_train = pd.read_csv(train_file).dropna(subset=['act'])\n",
    "        X_train = df_train.drop('act', axis=1).values\n",
    "        y_train = df_train['act'].values\n",
    "\n",
    "        test_file = f\"{input_dir}/test_{i:02d}.csv\"\n",
    "        df_test = pd.read_csv(test_file).dropna(subset=['act'])\n",
    "        X_test = df_test.drop('act', axis=1).values\n",
    "        y_test = df_test['act'].values\n",
    "\n",
    "        if i in corrupt_client_indices:\n",
    "            # Corrupt features and get the mask of NaN rows\n",
    "            X_train, mask_nan = corrupt_data(X_train, **corruption_params)\n",
    "            # Corrupt labels, excluding rows marked as NaN\n",
    "            y_train = corrupt_labels(y_train, mask_nan, corruption_prob=label_corruption_prob)\n",
    "\n",
    "        pd.DataFrame(X_train).assign(act=y_train).to_csv(\n",
    "            os.path.join(output_dir, f\"train_{i:02d}.csv\"), index=False\n",
    "        )\n",
    "        pd.DataFrame(X_test).assign(act=y_test).to_csv(\n",
    "            os.path.join(output_dir, f\"test_{i:02d}.csv\"), index=False\n",
    "        )"
   ]
  },
  {
   "cell_type": "code",
   "execution_count": null,
   "metadata": {},
   "outputs": [],
   "source": [
    "input_directory = \".../data/metadata\"  # Path to input data\n",
    "base_output_directory = \".../data/corrupted_data\"  # Base directory to save results\n",
    "corruption_sets = [\n",
    "    [1, 2, 3],\n",
    "    [1, 2, 3, 4],\n",
    "    [1, 2, 3, 4, 5],\n",
    "    [1, 2, 3, 4, 5, 6],\n",
    "    [1, 2, 3, 4, 5, 6, 7, 8],\n",
    "    [1, 2, 3, 4, 5, 6, 7, 8, 9]\n",
    "]\n",
    "corruption_params = {\n",
    "    'corruption_prob': 0.3,\n",
    "    'nan_prob': 0.5,\n",
    "    'noise_std': 1\n",
    "}\n",
    "\n",
    "label_corruption_prob = 0.4  # Probability of corrupting labels\n",
    "\n",
    "for corrupt_clients in corruption_sets:\n",
    "    output_directory = os.path.join(base_output_directory, f\"c{len(corrupt_clients)}\")\n",
    "    os.makedirs(output_directory, exist_ok=True)\n",
    "\n",
    "    corrupt_and_save_clients_data(input_directory, output_directory, corrupt_clients, corruption_params, label_corruption_prob)\n",
    "    print(f\"Corrupted data for {len(corrupt_clients)} clients (clients {corrupt_clients}) saved in '{output_directory}'.\")"
   ]
  },
  {
   "cell_type": "code",
   "execution_count": null,
   "metadata": {},
   "outputs": [],
   "source": [
    "train_files_pattern = \".../data/metadata/train_{i:02d}.csv\" # Adjust the path as needed\n",
    "test_files_pattern = \".../data/metadata/test_{i:02d}.csv\" # Adjust the path as needed"
   ]
  },
  {
   "cell_type": "code",
   "execution_count": 5,
   "metadata": {},
   "outputs": [],
   "source": [
    "# Load training and testing datasets\n",
    "df_train_global = pd.concat([pd.read_csv(train_files_pattern.format(i=i)) for i in range(1, 11)]).dropna()\n",
    "X_train_global = df_train_global.drop('act', axis=1)\n",
    "y_train_global = df_train_global['act']\n",
    "\n",
    "df_test_global = pd.concat([pd.read_csv(test_files_pattern.format(i=i)) for i in range(1, 11)]).dropna()\n",
    "X_test_global = df_test_global.drop('act', axis=1)\n",
    "y_test_global = df_test_global['act']\n",
    "\n",
    "# Encode labels\n",
    "label_encoder = LabelEncoder()\n",
    "y_train_global = label_encoder.fit_transform(y_train_global)\n",
    "y_test_global = label_encoder.transform(y_test_global)\n",
    "\n",
    "# Scale features\n",
    "scaler = StandardScaler()\n",
    "X_train_global_scaled = scaler.fit_transform(X_train_global)\n",
    "X_test_global_scaled = scaler.transform(X_test_global)\n"
   ]
  },
  {
   "cell_type": "markdown",
   "metadata": {},
   "source": [
    "# FedLR in HuGaDB with Different number of Corrupted Clients"
   ]
  },
  {
   "cell_type": "code",
   "execution_count": 7,
   "metadata": {},
   "outputs": [],
   "source": [
    "def run_experiment(n_clients=10, n_trials=10, base_random_seed=42, subsample_ratios=[0.5, 0.6, 0.7, 0.8], max_iters=[10, 100], train_files_pattern='', test_files_pattern=''):\n",
    "    all_results = []\n",
    "    all_nash_equilibrium_counts = []\n",
    "    all_nash_details = []\n",
    "\n",
    "    for subsample_ratio in subsample_ratios:\n",
    "        for max_iter in max_iters:\n",
    "            print(f\"\\nRunning experiment with subsample_ratio = {subsample_ratio}, max_iter = {max_iter}\")\n",
    "            results = []\n",
    "            nash_equilibrium_counts = Counter()\n",
    "            nash_details_all = []\n",
    "\n",
    "            for trial in range(n_trials):\n",
    "                print(f\"  Trial {trial + 1}/{n_trials} for subsample_ratio={subsample_ratio}, max_iter={max_iter}\")\n",
    "                trial_seed = base_random_seed + trial\n",
    "                random.seed(trial_seed)\n",
    "                np.random.seed(trial_seed)\n",
    "\n",
    "\n",
    "                def aggregate_lr_models(models):\n",
    "                    aggregated_model = LogisticRegression()\n",
    "                    aggregated_model.coef_ = np.mean([model.coef_ for model in models], axis=0) + np.random.normal(0, 0.05, models[0].coef_.shape)\n",
    "                    aggregated_model.intercept_ = np.mean([model.intercept_ for model in models], axis=0)\n",
    "                    aggregated_model.classes_ = models[0].classes_\n",
    "                    return aggregated_model\n",
    "\n",
    "                client_models = []\n",
    "                client_global_accuracies = {}\n",
    "\n",
    "                for i in range(n_clients):\n",
    "                    df_train_i = pd.read_csv(train_files_pattern.format(i=i+1)).dropna(subset=['act']).sample(frac=subsample_ratio, random_state=trial_seed).reset_index(drop=True).dropna()\n",
    "                    X_train, y_train = df_train_i.drop('act', axis=1), label_encoder.transform(df_train_i['act'])\n",
    "                    model = LogisticRegression(random_state=np.random.randint(0, 100000), max_iter=max_iter)\n",
    "                    model.fit(scaler.fit_transform(X_train), y_train)\n",
    "                    client_models.append(model)\n",
    "                    client_global_accuracies[i] = accuracy_score(y_test_global, model.predict(X_test_global_scaled))\n",
    "                    \n",
    "                trial_results = []\n",
    "                n_combinations = 2 ** n_clients\n",
    "                \n",
    "                for i in tqdm(range(1, n_combinations), desc=f\"    Evaluating coalitions for trial {trial+1}\"):\n",
    "                    bin_str = format(i, f'0{n_clients}b')\n",
    "                    client_indices = [j for j in range(n_clients) if bin_str[n_clients - 1 - j] == '1']\n",
    "                    included_models = [client_models[j] for j in client_indices]\n",
    "                    if not included_models:\n",
    "                        continue\n",
    "                    \n",
    "                    aggregated_model = aggregate_lr_models(included_models)\n",
    "                    y_pred_global = aggregated_model.predict(X_test_global_scaled)\n",
    "                    acc_global = accuracy_score(y_test_global, y_pred_global)\n",
    "                    \n",
    "                    row = {\n",
    "                        'Trial': trial + 1,\n",
    "                        'Combination': bin_str,\n",
    "                        'Clients': [j + 1 for j in client_indices],\n",
    "                        'Global Accuracy': acc_global\n",
    "                    }\n",
    "                    for j in range(n_clients):\n",
    "                        row[f'Client {j + 1} Accuracy'] = client_global_accuracies[j]\n",
    "                    trial_results.append(row)\n",
    "                \n",
    "                df_trial_results = pd.DataFrame(trial_results)\n",
    "                df_trial_results.set_index('Combination', inplace=True)\n",
    "                \n",
    "                nash_df = find_nash_equilibria_v2(df_trial_results.reset_index())\n",
    "                for combination in nash_df['Combination']:\n",
    "                    nash_equilibrium_counts[combination] += 1\n",
    "                \n",
    "                shapley_df = compute_and_visualize_shapley_values(\n",
    "                    df_trial_results.reset_index(), client_global_accuracies, n_clients=n_clients, plot=False, print_df=False\n",
    "                )\n",
    "                shapley_df['Trial'] = trial + 1\n",
    "                \n",
    "                for idx, nash_row in nash_df.iterrows():\n",
    "                    combination_bin = nash_row['Combination']\n",
    "                    client_indices = [j for j in range(n_clients) if combination_bin[n_clients - 1 - j] == '1']\n",
    "                    clients_list = [j + 1 for j in client_indices]\n",
    "                    nash_details_all.append({\n",
    "                        'Trial': trial + 1,\n",
    "                        'Combination': combination_bin,\n",
    "                        'Clients': \",\".join(map(str, clients_list)),\n",
    "                        'Global Accuracy': nash_row['Global Accuracy'],\n",
    "                        'Subsample Ratio': subsample_ratio,\n",
    "                        'Max Iter': max_iter,\n",
    "                    })\n",
    "                \n",
    "                results.extend(trial_results)\n",
    "                \n",
    "\n",
    "            df_nash_counts = pd.DataFrame(nash_equilibrium_counts.items(), columns=['Nash Equilibrium', 'Occurrences'])\n",
    "            df_nash_counts['Subsample Ratio'] = subsample_ratio\n",
    "            df_nash_counts['Max Iter'] = max_iter\n",
    "            all_nash_equilibrium_counts.append(df_nash_counts)\n",
    "            \n",
    "            df_nash_counts.to_csv(f\"Nash_Equilibrium_Counts_HuGaLR_subsample_{subsample_ratio}_maxiter_{max_iter}.csv\", index=False)\n",
    "            all_nash_details.append(pd.DataFrame(nash_details_all))\n",
    "    \n",
    "\n",
    "    pd.concat(all_nash_equilibrium_counts, ignore_index=True).to_csv(\"Final_Nash_Equilibrium_Counts.csv\", index=False)\n",
    "    pd.concat(all_nash_details, ignore_index=True).to_csv(\"Nash_Equilibrium_Details_HuGaLR.csv\", index=False)\n",
    "    \n",
    "    print(\"Process complete. Results saved.\")\n"
   ]
  },
  {
   "cell_type": "code",
   "execution_count": null,
   "metadata": {},
   "outputs": [
    {
     "name": "stdout",
     "output_type": "stream",
     "text": [
      "\n",
      "Running experiment with subsample_ratio = 0.5, max_iter = 10\n",
      "  Trial 1/10 for subsample_ratio=0.5, max_iter=10\n"
     ]
    },
    {
     "name": "stderr",
     "output_type": "stream",
     "text": [
      "    Evaluating coalitions for trial 1: 100%|██████████| 1023/1023 [00:05<00:00, 170.51it/s]\n"
     ]
    },
    {
     "name": "stdout",
     "output_type": "stream",
     "text": [
      "  Trial 2/10 for subsample_ratio=0.5, max_iter=10\n"
     ]
    },
    {
     "name": "stderr",
     "output_type": "stream",
     "text": [
      "    Evaluating coalitions for trial 2: 100%|██████████| 1023/1023 [00:05<00:00, 171.15it/s]\n"
     ]
    },
    {
     "name": "stdout",
     "output_type": "stream",
     "text": [
      "  Trial 3/10 for subsample_ratio=0.5, max_iter=10\n"
     ]
    },
    {
     "name": "stderr",
     "output_type": "stream",
     "text": [
      "    Evaluating coalitions for trial 3: 100%|██████████| 1023/1023 [00:06<00:00, 168.16it/s]\n"
     ]
    },
    {
     "name": "stdout",
     "output_type": "stream",
     "text": [
      "  Trial 4/10 for subsample_ratio=0.5, max_iter=10\n"
     ]
    },
    {
     "name": "stderr",
     "output_type": "stream",
     "text": [
      "    Evaluating coalitions for trial 4: 100%|██████████| 1023/1023 [00:06<00:00, 167.23it/s]\n"
     ]
    },
    {
     "name": "stdout",
     "output_type": "stream",
     "text": [
      "  Trial 5/10 for subsample_ratio=0.5, max_iter=10\n"
     ]
    },
    {
     "name": "stderr",
     "output_type": "stream",
     "text": [
      "    Evaluating coalitions for trial 5: 100%|██████████| 1023/1023 [00:06<00:00, 166.14it/s]\n"
     ]
    },
    {
     "name": "stdout",
     "output_type": "stream",
     "text": [
      "  Trial 6/10 for subsample_ratio=0.5, max_iter=10\n"
     ]
    },
    {
     "name": "stderr",
     "output_type": "stream",
     "text": [
      "    Evaluating coalitions for trial 6: 100%|██████████| 1023/1023 [00:06<00:00, 164.24it/s]\n"
     ]
    },
    {
     "name": "stdout",
     "output_type": "stream",
     "text": [
      "  Trial 7/10 for subsample_ratio=0.5, max_iter=10\n"
     ]
    },
    {
     "name": "stderr",
     "output_type": "stream",
     "text": [
      "    Evaluating coalitions for trial 7: 100%|██████████| 1023/1023 [00:06<00:00, 165.11it/s]\n"
     ]
    },
    {
     "name": "stdout",
     "output_type": "stream",
     "text": [
      "  Trial 8/10 for subsample_ratio=0.5, max_iter=10\n"
     ]
    },
    {
     "name": "stderr",
     "output_type": "stream",
     "text": [
      "    Evaluating coalitions for trial 8: 100%|██████████| 1023/1023 [00:06<00:00, 164.52it/s]\n"
     ]
    },
    {
     "name": "stdout",
     "output_type": "stream",
     "text": [
      "  Trial 9/10 for subsample_ratio=0.5, max_iter=10\n"
     ]
    },
    {
     "name": "stderr",
     "output_type": "stream",
     "text": [
      "    Evaluating coalitions for trial 9: 100%|██████████| 1023/1023 [00:06<00:00, 166.79it/s]\n"
     ]
    },
    {
     "name": "stdout",
     "output_type": "stream",
     "text": [
      "  Trial 10/10 for subsample_ratio=0.5, max_iter=10\n"
     ]
    },
    {
     "name": "stderr",
     "output_type": "stream",
     "text": [
      "    Evaluating coalitions for trial 10: 100%|██████████| 1023/1023 [00:06<00:00, 163.75it/s]\n"
     ]
    },
    {
     "name": "stdout",
     "output_type": "stream",
     "text": [
      "\n",
      "Running experiment with subsample_ratio = 0.5, max_iter = 100\n",
      "  Trial 1/10 for subsample_ratio=0.5, max_iter=100\n"
     ]
    },
    {
     "name": "stderr",
     "output_type": "stream",
     "text": [
      "    Evaluating coalitions for trial 1: 100%|██████████| 1023/1023 [00:06<00:00, 164.28it/s]\n"
     ]
    },
    {
     "name": "stdout",
     "output_type": "stream",
     "text": [
      "  Trial 2/10 for subsample_ratio=0.5, max_iter=100\n"
     ]
    },
    {
     "name": "stderr",
     "output_type": "stream",
     "text": [
      "    Evaluating coalitions for trial 2: 100%|██████████| 1023/1023 [00:06<00:00, 163.35it/s]\n"
     ]
    },
    {
     "name": "stdout",
     "output_type": "stream",
     "text": [
      "  Trial 3/10 for subsample_ratio=0.5, max_iter=100\n"
     ]
    },
    {
     "name": "stderr",
     "output_type": "stream",
     "text": [
      "    Evaluating coalitions for trial 3: 100%|██████████| 1023/1023 [00:06<00:00, 164.70it/s]\n"
     ]
    },
    {
     "name": "stdout",
     "output_type": "stream",
     "text": [
      "  Trial 4/10 for subsample_ratio=0.5, max_iter=100\n"
     ]
    },
    {
     "name": "stderr",
     "output_type": "stream",
     "text": [
      "    Evaluating coalitions for trial 4: 100%|██████████| 1023/1023 [00:06<00:00, 163.26it/s]\n"
     ]
    },
    {
     "name": "stdout",
     "output_type": "stream",
     "text": [
      "  Trial 5/10 for subsample_ratio=0.5, max_iter=100\n"
     ]
    },
    {
     "name": "stderr",
     "output_type": "stream",
     "text": [
      "    Evaluating coalitions for trial 5: 100%|██████████| 1023/1023 [00:06<00:00, 161.30it/s]\n"
     ]
    },
    {
     "name": "stdout",
     "output_type": "stream",
     "text": [
      "  Trial 6/10 for subsample_ratio=0.5, max_iter=100\n"
     ]
    },
    {
     "name": "stderr",
     "output_type": "stream",
     "text": [
      "    Evaluating coalitions for trial 6: 100%|██████████| 1023/1023 [00:06<00:00, 162.67it/s]\n"
     ]
    },
    {
     "name": "stdout",
     "output_type": "stream",
     "text": [
      "  Trial 7/10 for subsample_ratio=0.5, max_iter=100\n"
     ]
    },
    {
     "name": "stderr",
     "output_type": "stream",
     "text": [
      "    Evaluating coalitions for trial 7: 100%|██████████| 1023/1023 [00:06<00:00, 159.04it/s]\n"
     ]
    },
    {
     "name": "stdout",
     "output_type": "stream",
     "text": [
      "  Trial 8/10 for subsample_ratio=0.5, max_iter=100\n"
     ]
    },
    {
     "name": "stderr",
     "output_type": "stream",
     "text": [
      "    Evaluating coalitions for trial 8: 100%|██████████| 1023/1023 [00:06<00:00, 160.76it/s]\n"
     ]
    },
    {
     "name": "stdout",
     "output_type": "stream",
     "text": [
      "  Trial 9/10 for subsample_ratio=0.5, max_iter=100\n"
     ]
    },
    {
     "name": "stderr",
     "output_type": "stream",
     "text": [
      "    Evaluating coalitions for trial 9: 100%|██████████| 1023/1023 [00:06<00:00, 160.12it/s]\n"
     ]
    },
    {
     "name": "stdout",
     "output_type": "stream",
     "text": [
      "  Trial 10/10 for subsample_ratio=0.5, max_iter=100\n"
     ]
    },
    {
     "name": "stderr",
     "output_type": "stream",
     "text": [
      "    Evaluating coalitions for trial 10: 100%|██████████| 1023/1023 [00:06<00:00, 162.90it/s]\n"
     ]
    },
    {
     "name": "stdout",
     "output_type": "stream",
     "text": [
      "\n",
      "Running experiment with subsample_ratio = 0.6, max_iter = 10\n",
      "  Trial 1/10 for subsample_ratio=0.6, max_iter=10\n"
     ]
    },
    {
     "name": "stderr",
     "output_type": "stream",
     "text": [
      "    Evaluating coalitions for trial 1: 100%|██████████| 1023/1023 [00:06<00:00, 164.19it/s]\n"
     ]
    },
    {
     "name": "stdout",
     "output_type": "stream",
     "text": [
      "  Trial 2/10 for subsample_ratio=0.6, max_iter=10\n"
     ]
    },
    {
     "name": "stderr",
     "output_type": "stream",
     "text": [
      "    Evaluating coalitions for trial 2: 100%|██████████| 1023/1023 [00:06<00:00, 160.75it/s]\n"
     ]
    },
    {
     "name": "stdout",
     "output_type": "stream",
     "text": [
      "  Trial 3/10 for subsample_ratio=0.6, max_iter=10\n"
     ]
    },
    {
     "name": "stderr",
     "output_type": "stream",
     "text": [
      "    Evaluating coalitions for trial 3: 100%|██████████| 1023/1023 [00:06<00:00, 160.80it/s]\n"
     ]
    },
    {
     "name": "stdout",
     "output_type": "stream",
     "text": [
      "  Trial 4/10 for subsample_ratio=0.6, max_iter=10\n"
     ]
    },
    {
     "name": "stderr",
     "output_type": "stream",
     "text": [
      "    Evaluating coalitions for trial 4: 100%|██████████| 1023/1023 [00:06<00:00, 162.05it/s]\n"
     ]
    },
    {
     "name": "stdout",
     "output_type": "stream",
     "text": [
      "  Trial 5/10 for subsample_ratio=0.6, max_iter=10\n"
     ]
    },
    {
     "name": "stderr",
     "output_type": "stream",
     "text": [
      "    Evaluating coalitions for trial 5: 100%|██████████| 1023/1023 [00:06<00:00, 162.95it/s]\n"
     ]
    },
    {
     "name": "stdout",
     "output_type": "stream",
     "text": [
      "  Trial 6/10 for subsample_ratio=0.6, max_iter=10\n"
     ]
    },
    {
     "name": "stderr",
     "output_type": "stream",
     "text": [
      "    Evaluating coalitions for trial 6: 100%|██████████| 1023/1023 [00:06<00:00, 164.86it/s]\n"
     ]
    },
    {
     "name": "stdout",
     "output_type": "stream",
     "text": [
      "  Trial 7/10 for subsample_ratio=0.6, max_iter=10\n"
     ]
    },
    {
     "name": "stderr",
     "output_type": "stream",
     "text": [
      "    Evaluating coalitions for trial 7: 100%|██████████| 1023/1023 [00:06<00:00, 157.78it/s]\n"
     ]
    },
    {
     "name": "stdout",
     "output_type": "stream",
     "text": [
      "  Trial 8/10 for subsample_ratio=0.6, max_iter=10\n"
     ]
    },
    {
     "name": "stderr",
     "output_type": "stream",
     "text": [
      "    Evaluating coalitions for trial 8: 100%|██████████| 1023/1023 [00:06<00:00, 163.11it/s]\n"
     ]
    },
    {
     "name": "stdout",
     "output_type": "stream",
     "text": [
      "  Trial 9/10 for subsample_ratio=0.6, max_iter=10\n"
     ]
    },
    {
     "name": "stderr",
     "output_type": "stream",
     "text": [
      "    Evaluating coalitions for trial 9: 100%|██████████| 1023/1023 [00:06<00:00, 165.41it/s]\n"
     ]
    },
    {
     "name": "stdout",
     "output_type": "stream",
     "text": [
      "  Trial 10/10 for subsample_ratio=0.6, max_iter=10\n"
     ]
    },
    {
     "name": "stderr",
     "output_type": "stream",
     "text": [
      "    Evaluating coalitions for trial 10: 100%|██████████| 1023/1023 [00:06<00:00, 164.71it/s]\n"
     ]
    },
    {
     "name": "stdout",
     "output_type": "stream",
     "text": [
      "\n",
      "Running experiment with subsample_ratio = 0.6, max_iter = 100\n",
      "  Trial 1/10 for subsample_ratio=0.6, max_iter=100\n"
     ]
    },
    {
     "name": "stderr",
     "output_type": "stream",
     "text": [
      "    Evaluating coalitions for trial 1: 100%|██████████| 1023/1023 [00:06<00:00, 167.19it/s]\n"
     ]
    },
    {
     "name": "stdout",
     "output_type": "stream",
     "text": [
      "  Trial 2/10 for subsample_ratio=0.6, max_iter=100\n"
     ]
    },
    {
     "name": "stderr",
     "output_type": "stream",
     "text": [
      "    Evaluating coalitions for trial 2: 100%|██████████| 1023/1023 [00:06<00:00, 163.63it/s]\n"
     ]
    },
    {
     "name": "stdout",
     "output_type": "stream",
     "text": [
      "  Trial 3/10 for subsample_ratio=0.6, max_iter=100\n"
     ]
    },
    {
     "name": "stderr",
     "output_type": "stream",
     "text": [
      "    Evaluating coalitions for trial 3: 100%|██████████| 1023/1023 [00:06<00:00, 163.90it/s]\n"
     ]
    },
    {
     "name": "stdout",
     "output_type": "stream",
     "text": [
      "  Trial 4/10 for subsample_ratio=0.6, max_iter=100\n"
     ]
    },
    {
     "name": "stderr",
     "output_type": "stream",
     "text": [
      "    Evaluating coalitions for trial 4: 100%|██████████| 1023/1023 [00:06<00:00, 164.22it/s]\n"
     ]
    },
    {
     "name": "stdout",
     "output_type": "stream",
     "text": [
      "  Trial 5/10 for subsample_ratio=0.6, max_iter=100\n"
     ]
    },
    {
     "name": "stderr",
     "output_type": "stream",
     "text": [
      "    Evaluating coalitions for trial 5: 100%|██████████| 1023/1023 [00:06<00:00, 163.92it/s]\n"
     ]
    },
    {
     "name": "stdout",
     "output_type": "stream",
     "text": [
      "  Trial 6/10 for subsample_ratio=0.6, max_iter=100\n"
     ]
    },
    {
     "name": "stderr",
     "output_type": "stream",
     "text": [
      "    Evaluating coalitions for trial 6: 100%|██████████| 1023/1023 [00:06<00:00, 163.68it/s]\n"
     ]
    },
    {
     "name": "stdout",
     "output_type": "stream",
     "text": [
      "  Trial 7/10 for subsample_ratio=0.6, max_iter=100\n"
     ]
    },
    {
     "name": "stderr",
     "output_type": "stream",
     "text": [
      "    Evaluating coalitions for trial 7: 100%|██████████| 1023/1023 [00:06<00:00, 168.19it/s]\n"
     ]
    },
    {
     "name": "stdout",
     "output_type": "stream",
     "text": [
      "  Trial 8/10 for subsample_ratio=0.6, max_iter=100\n"
     ]
    },
    {
     "name": "stderr",
     "output_type": "stream",
     "text": [
      "    Evaluating coalitions for trial 8: 100%|██████████| 1023/1023 [00:06<00:00, 164.47it/s]\n"
     ]
    },
    {
     "name": "stdout",
     "output_type": "stream",
     "text": [
      "  Trial 9/10 for subsample_ratio=0.6, max_iter=100\n"
     ]
    },
    {
     "name": "stderr",
     "output_type": "stream",
     "text": [
      "    Evaluating coalitions for trial 9: 100%|██████████| 1023/1023 [00:06<00:00, 163.99it/s]\n"
     ]
    },
    {
     "name": "stdout",
     "output_type": "stream",
     "text": [
      "  Trial 10/10 for subsample_ratio=0.6, max_iter=100\n"
     ]
    },
    {
     "name": "stderr",
     "output_type": "stream",
     "text": [
      "    Evaluating coalitions for trial 10: 100%|██████████| 1023/1023 [00:06<00:00, 163.71it/s]\n"
     ]
    },
    {
     "name": "stdout",
     "output_type": "stream",
     "text": [
      "\n",
      "Running experiment with subsample_ratio = 0.7, max_iter = 10\n",
      "  Trial 1/10 for subsample_ratio=0.7, max_iter=10\n"
     ]
    },
    {
     "name": "stderr",
     "output_type": "stream",
     "text": [
      "    Evaluating coalitions for trial 1: 100%|██████████| 1023/1023 [00:06<00:00, 166.78it/s]\n"
     ]
    },
    {
     "name": "stdout",
     "output_type": "stream",
     "text": [
      "  Trial 2/10 for subsample_ratio=0.7, max_iter=10\n"
     ]
    },
    {
     "name": "stderr",
     "output_type": "stream",
     "text": [
      "    Evaluating coalitions for trial 2: 100%|██████████| 1023/1023 [00:06<00:00, 164.47it/s]\n"
     ]
    },
    {
     "name": "stdout",
     "output_type": "stream",
     "text": [
      "  Trial 3/10 for subsample_ratio=0.7, max_iter=10\n"
     ]
    },
    {
     "name": "stderr",
     "output_type": "stream",
     "text": [
      "    Evaluating coalitions for trial 3: 100%|██████████| 1023/1023 [00:06<00:00, 166.38it/s]\n"
     ]
    },
    {
     "name": "stdout",
     "output_type": "stream",
     "text": [
      "  Trial 4/10 for subsample_ratio=0.7, max_iter=10\n"
     ]
    },
    {
     "name": "stderr",
     "output_type": "stream",
     "text": [
      "    Evaluating coalitions for trial 4: 100%|██████████| 1023/1023 [00:06<00:00, 165.37it/s]\n"
     ]
    },
    {
     "name": "stdout",
     "output_type": "stream",
     "text": [
      "  Trial 5/10 for subsample_ratio=0.7, max_iter=10\n"
     ]
    },
    {
     "name": "stderr",
     "output_type": "stream",
     "text": [
      "    Evaluating coalitions for trial 5: 100%|██████████| 1023/1023 [00:06<00:00, 164.34it/s]\n"
     ]
    },
    {
     "name": "stdout",
     "output_type": "stream",
     "text": [
      "  Trial 6/10 for subsample_ratio=0.7, max_iter=10\n"
     ]
    },
    {
     "name": "stderr",
     "output_type": "stream",
     "text": [
      "    Evaluating coalitions for trial 6: 100%|██████████| 1023/1023 [00:06<00:00, 162.69it/s]\n"
     ]
    },
    {
     "name": "stdout",
     "output_type": "stream",
     "text": [
      "  Trial 7/10 for subsample_ratio=0.7, max_iter=10\n"
     ]
    },
    {
     "name": "stderr",
     "output_type": "stream",
     "text": [
      "    Evaluating coalitions for trial 7: 100%|██████████| 1023/1023 [00:06<00:00, 165.05it/s]\n"
     ]
    },
    {
     "name": "stdout",
     "output_type": "stream",
     "text": [
      "  Trial 8/10 for subsample_ratio=0.7, max_iter=10\n"
     ]
    },
    {
     "name": "stderr",
     "output_type": "stream",
     "text": [
      "    Evaluating coalitions for trial 8: 100%|██████████| 1023/1023 [00:06<00:00, 165.88it/s]\n"
     ]
    },
    {
     "name": "stdout",
     "output_type": "stream",
     "text": [
      "  Trial 9/10 for subsample_ratio=0.7, max_iter=10\n"
     ]
    },
    {
     "name": "stderr",
     "output_type": "stream",
     "text": [
      "    Evaluating coalitions for trial 9: 100%|██████████| 1023/1023 [00:06<00:00, 163.72it/s]\n"
     ]
    },
    {
     "name": "stdout",
     "output_type": "stream",
     "text": [
      "  Trial 10/10 for subsample_ratio=0.7, max_iter=10\n"
     ]
    },
    {
     "name": "stderr",
     "output_type": "stream",
     "text": [
      "    Evaluating coalitions for trial 10: 100%|██████████| 1023/1023 [00:06<00:00, 161.97it/s]\n"
     ]
    },
    {
     "name": "stdout",
     "output_type": "stream",
     "text": [
      "\n",
      "Running experiment with subsample_ratio = 0.7, max_iter = 100\n",
      "  Trial 1/10 for subsample_ratio=0.7, max_iter=100\n"
     ]
    },
    {
     "name": "stderr",
     "output_type": "stream",
     "text": [
      "    Evaluating coalitions for trial 1: 100%|██████████| 1023/1023 [00:06<00:00, 165.23it/s]\n"
     ]
    },
    {
     "name": "stdout",
     "output_type": "stream",
     "text": [
      "  Trial 2/10 for subsample_ratio=0.7, max_iter=100\n"
     ]
    },
    {
     "name": "stderr",
     "output_type": "stream",
     "text": [
      "    Evaluating coalitions for trial 2: 100%|██████████| 1023/1023 [00:06<00:00, 163.10it/s]\n"
     ]
    },
    {
     "name": "stdout",
     "output_type": "stream",
     "text": [
      "  Trial 3/10 for subsample_ratio=0.7, max_iter=100\n"
     ]
    },
    {
     "name": "stderr",
     "output_type": "stream",
     "text": [
      "    Evaluating coalitions for trial 3: 100%|██████████| 1023/1023 [00:06<00:00, 162.22it/s]\n"
     ]
    },
    {
     "name": "stdout",
     "output_type": "stream",
     "text": [
      "  Trial 4/10 for subsample_ratio=0.7, max_iter=100\n"
     ]
    },
    {
     "name": "stderr",
     "output_type": "stream",
     "text": [
      "    Evaluating coalitions for trial 4: 100%|██████████| 1023/1023 [00:06<00:00, 161.89it/s]\n"
     ]
    },
    {
     "name": "stdout",
     "output_type": "stream",
     "text": [
      "  Trial 5/10 for subsample_ratio=0.7, max_iter=100\n"
     ]
    },
    {
     "name": "stderr",
     "output_type": "stream",
     "text": [
      "    Evaluating coalitions for trial 5: 100%|██████████| 1023/1023 [00:06<00:00, 163.04it/s]\n"
     ]
    },
    {
     "name": "stdout",
     "output_type": "stream",
     "text": [
      "  Trial 6/10 for subsample_ratio=0.7, max_iter=100\n"
     ]
    },
    {
     "name": "stderr",
     "output_type": "stream",
     "text": [
      "    Evaluating coalitions for trial 6: 100%|██████████| 1023/1023 [00:06<00:00, 165.10it/s]\n"
     ]
    },
    {
     "name": "stdout",
     "output_type": "stream",
     "text": [
      "  Trial 7/10 for subsample_ratio=0.7, max_iter=100\n"
     ]
    },
    {
     "name": "stderr",
     "output_type": "stream",
     "text": [
      "    Evaluating coalitions for trial 7: 100%|██████████| 1023/1023 [00:06<00:00, 163.19it/s]\n"
     ]
    },
    {
     "name": "stdout",
     "output_type": "stream",
     "text": [
      "  Trial 8/10 for subsample_ratio=0.7, max_iter=100\n"
     ]
    },
    {
     "name": "stderr",
     "output_type": "stream",
     "text": [
      "    Evaluating coalitions for trial 8: 100%|██████████| 1023/1023 [00:06<00:00, 161.65it/s]\n"
     ]
    },
    {
     "name": "stdout",
     "output_type": "stream",
     "text": [
      "  Trial 9/10 for subsample_ratio=0.7, max_iter=100\n"
     ]
    },
    {
     "name": "stderr",
     "output_type": "stream",
     "text": [
      "    Evaluating coalitions for trial 9: 100%|██████████| 1023/1023 [00:06<00:00, 160.55it/s]\n"
     ]
    },
    {
     "name": "stdout",
     "output_type": "stream",
     "text": [
      "  Trial 10/10 for subsample_ratio=0.7, max_iter=100\n"
     ]
    },
    {
     "name": "stderr",
     "output_type": "stream",
     "text": [
      "    Evaluating coalitions for trial 10: 100%|██████████| 1023/1023 [00:06<00:00, 162.65it/s]\n"
     ]
    },
    {
     "name": "stdout",
     "output_type": "stream",
     "text": [
      "\n",
      "Running experiment with subsample_ratio = 0.8, max_iter = 10\n",
      "  Trial 1/10 for subsample_ratio=0.8, max_iter=10\n"
     ]
    },
    {
     "name": "stderr",
     "output_type": "stream",
     "text": [
      "    Evaluating coalitions for trial 1: 100%|██████████| 1023/1023 [00:06<00:00, 162.34it/s]\n"
     ]
    },
    {
     "name": "stdout",
     "output_type": "stream",
     "text": [
      "  Trial 2/10 for subsample_ratio=0.8, max_iter=10\n"
     ]
    },
    {
     "name": "stderr",
     "output_type": "stream",
     "text": [
      "    Evaluating coalitions for trial 2: 100%|██████████| 1023/1023 [00:06<00:00, 164.20it/s]\n"
     ]
    },
    {
     "name": "stdout",
     "output_type": "stream",
     "text": [
      "  Trial 3/10 for subsample_ratio=0.8, max_iter=10\n"
     ]
    },
    {
     "name": "stderr",
     "output_type": "stream",
     "text": [
      "    Evaluating coalitions for trial 3: 100%|██████████| 1023/1023 [00:06<00:00, 164.13it/s]\n"
     ]
    },
    {
     "name": "stdout",
     "output_type": "stream",
     "text": [
      "  Trial 4/10 for subsample_ratio=0.8, max_iter=10\n"
     ]
    },
    {
     "name": "stderr",
     "output_type": "stream",
     "text": [
      "    Evaluating coalitions for trial 4: 100%|██████████| 1023/1023 [00:06<00:00, 162.38it/s]\n"
     ]
    },
    {
     "name": "stdout",
     "output_type": "stream",
     "text": [
      "  Trial 5/10 for subsample_ratio=0.8, max_iter=10\n"
     ]
    },
    {
     "name": "stderr",
     "output_type": "stream",
     "text": [
      "    Evaluating coalitions for trial 5: 100%|██████████| 1023/1023 [00:06<00:00, 162.98it/s]\n"
     ]
    },
    {
     "name": "stdout",
     "output_type": "stream",
     "text": [
      "  Trial 6/10 for subsample_ratio=0.8, max_iter=10\n"
     ]
    },
    {
     "name": "stderr",
     "output_type": "stream",
     "text": [
      "    Evaluating coalitions for trial 6: 100%|██████████| 1023/1023 [00:06<00:00, 163.30it/s]\n"
     ]
    },
    {
     "name": "stdout",
     "output_type": "stream",
     "text": [
      "  Trial 7/10 for subsample_ratio=0.8, max_iter=10\n"
     ]
    },
    {
     "name": "stderr",
     "output_type": "stream",
     "text": [
      "    Evaluating coalitions for trial 7: 100%|██████████| 1023/1023 [00:06<00:00, 164.79it/s]\n"
     ]
    },
    {
     "name": "stdout",
     "output_type": "stream",
     "text": [
      "  Trial 8/10 for subsample_ratio=0.8, max_iter=10\n"
     ]
    },
    {
     "name": "stderr",
     "output_type": "stream",
     "text": [
      "    Evaluating coalitions for trial 8: 100%|██████████| 1023/1023 [00:06<00:00, 165.68it/s]\n"
     ]
    },
    {
     "name": "stdout",
     "output_type": "stream",
     "text": [
      "  Trial 9/10 for subsample_ratio=0.8, max_iter=10\n"
     ]
    },
    {
     "name": "stderr",
     "output_type": "stream",
     "text": [
      "    Evaluating coalitions for trial 9: 100%|██████████| 1023/1023 [00:06<00:00, 163.44it/s]\n"
     ]
    },
    {
     "name": "stdout",
     "output_type": "stream",
     "text": [
      "  Trial 10/10 for subsample_ratio=0.8, max_iter=10\n"
     ]
    },
    {
     "name": "stderr",
     "output_type": "stream",
     "text": [
      "    Evaluating coalitions for trial 10: 100%|██████████| 1023/1023 [00:06<00:00, 163.05it/s]\n"
     ]
    },
    {
     "name": "stdout",
     "output_type": "stream",
     "text": [
      "\n",
      "Running experiment with subsample_ratio = 0.8, max_iter = 100\n",
      "  Trial 1/10 for subsample_ratio=0.8, max_iter=100\n"
     ]
    },
    {
     "name": "stderr",
     "output_type": "stream",
     "text": [
      "    Evaluating coalitions for trial 1: 100%|██████████| 1023/1023 [00:06<00:00, 164.80it/s]\n"
     ]
    },
    {
     "name": "stdout",
     "output_type": "stream",
     "text": [
      "  Trial 2/10 for subsample_ratio=0.8, max_iter=100\n"
     ]
    },
    {
     "name": "stderr",
     "output_type": "stream",
     "text": [
      "    Evaluating coalitions for trial 2: 100%|██████████| 1023/1023 [00:06<00:00, 162.90it/s]\n"
     ]
    },
    {
     "name": "stdout",
     "output_type": "stream",
     "text": [
      "  Trial 3/10 for subsample_ratio=0.8, max_iter=100\n"
     ]
    },
    {
     "name": "stderr",
     "output_type": "stream",
     "text": [
      "    Evaluating coalitions for trial 3: 100%|██████████| 1023/1023 [00:06<00:00, 162.13it/s]\n"
     ]
    },
    {
     "name": "stdout",
     "output_type": "stream",
     "text": [
      "  Trial 4/10 for subsample_ratio=0.8, max_iter=100\n"
     ]
    },
    {
     "name": "stderr",
     "output_type": "stream",
     "text": [
      "    Evaluating coalitions for trial 4: 100%|██████████| 1023/1023 [00:06<00:00, 160.22it/s]\n"
     ]
    },
    {
     "name": "stdout",
     "output_type": "stream",
     "text": [
      "  Trial 5/10 for subsample_ratio=0.8, max_iter=100\n"
     ]
    },
    {
     "name": "stderr",
     "output_type": "stream",
     "text": [
      "    Evaluating coalitions for trial 5: 100%|██████████| 1023/1023 [00:06<00:00, 160.75it/s]\n"
     ]
    },
    {
     "name": "stdout",
     "output_type": "stream",
     "text": [
      "  Trial 6/10 for subsample_ratio=0.8, max_iter=100\n"
     ]
    },
    {
     "name": "stderr",
     "output_type": "stream",
     "text": [
      "    Evaluating coalitions for trial 6: 100%|██████████| 1023/1023 [00:06<00:00, 160.92it/s]\n"
     ]
    },
    {
     "name": "stdout",
     "output_type": "stream",
     "text": [
      "  Trial 7/10 for subsample_ratio=0.8, max_iter=100\n"
     ]
    },
    {
     "name": "stderr",
     "output_type": "stream",
     "text": [
      "    Evaluating coalitions for trial 7: 100%|██████████| 1023/1023 [00:06<00:00, 158.82it/s]\n"
     ]
    },
    {
     "name": "stdout",
     "output_type": "stream",
     "text": [
      "  Trial 8/10 for subsample_ratio=0.8, max_iter=100\n"
     ]
    },
    {
     "name": "stderr",
     "output_type": "stream",
     "text": [
      "    Evaluating coalitions for trial 8: 100%|██████████| 1023/1023 [00:06<00:00, 159.75it/s]\n"
     ]
    },
    {
     "name": "stdout",
     "output_type": "stream",
     "text": [
      "  Trial 9/10 for subsample_ratio=0.8, max_iter=100\n"
     ]
    },
    {
     "name": "stderr",
     "output_type": "stream",
     "text": [
      "    Evaluating coalitions for trial 9: 100%|██████████| 1023/1023 [00:06<00:00, 162.91it/s]\n"
     ]
    },
    {
     "name": "stdout",
     "output_type": "stream",
     "text": [
      "  Trial 10/10 for subsample_ratio=0.8, max_iter=100\n"
     ]
    },
    {
     "name": "stderr",
     "output_type": "stream",
     "text": [
      "    Evaluating coalitions for trial 10: 100%|██████████| 1023/1023 [00:06<00:00, 161.38it/s]"
     ]
    },
    {
     "name": "stdout",
     "output_type": "stream",
     "text": [
      "Process complete. Results saved.\n"
     ]
    },
    {
     "name": "stderr",
     "output_type": "stream",
     "text": [
      "\n"
     ]
    }
   ],
   "source": [
    "train_files_pattern = \".../data/corrupted_data/c3/train_{i:02d}.csv\" \n",
    "test_files_pattern = \".../data/corrupted_data/c3/test_{i:02d}.csv\" \n",
    "run_experiment(n_clients=10, n_trials=10, base_random_seed=42,  subsample_ratios=[0.5, 0.6, 0.7, 0.8],  max_iters=[10, 100], train_files_pattern=train_files_pattern, test_files_pattern=test_files_pattern)\n"
   ]
  },
  {
   "cell_type": "code",
   "execution_count": null,
   "metadata": {},
   "outputs": [
    {
     "name": "stdout",
     "output_type": "stream",
     "text": [
      "\n",
      "Running experiment with subsample_ratio = 0.5, max_iter = 10\n",
      "  Trial 1/10 for subsample_ratio=0.5, max_iter=10\n"
     ]
    },
    {
     "name": "stderr",
     "output_type": "stream",
     "text": [
      "    Evaluating coalitions for trial 1: 100%|██████████| 1023/1023 [00:06<00:00, 163.84it/s]\n"
     ]
    },
    {
     "name": "stdout",
     "output_type": "stream",
     "text": [
      "  Trial 2/10 for subsample_ratio=0.5, max_iter=10\n"
     ]
    },
    {
     "name": "stderr",
     "output_type": "stream",
     "text": [
      "    Evaluating coalitions for trial 2: 100%|██████████| 1023/1023 [00:06<00:00, 166.70it/s]\n"
     ]
    },
    {
     "name": "stdout",
     "output_type": "stream",
     "text": [
      "  Trial 3/10 for subsample_ratio=0.5, max_iter=10\n"
     ]
    },
    {
     "name": "stderr",
     "output_type": "stream",
     "text": [
      "    Evaluating coalitions for trial 3: 100%|██████████| 1023/1023 [00:06<00:00, 161.78it/s]\n"
     ]
    },
    {
     "name": "stdout",
     "output_type": "stream",
     "text": [
      "  Trial 4/10 for subsample_ratio=0.5, max_iter=10\n"
     ]
    },
    {
     "name": "stderr",
     "output_type": "stream",
     "text": [
      "    Evaluating coalitions for trial 4: 100%|██████████| 1023/1023 [00:06<00:00, 163.88it/s]\n"
     ]
    },
    {
     "name": "stdout",
     "output_type": "stream",
     "text": [
      "  Trial 5/10 for subsample_ratio=0.5, max_iter=10\n"
     ]
    },
    {
     "name": "stderr",
     "output_type": "stream",
     "text": [
      "    Evaluating coalitions for trial 5: 100%|██████████| 1023/1023 [00:06<00:00, 168.95it/s]\n"
     ]
    },
    {
     "name": "stdout",
     "output_type": "stream",
     "text": [
      "  Trial 6/10 for subsample_ratio=0.5, max_iter=10\n"
     ]
    },
    {
     "name": "stderr",
     "output_type": "stream",
     "text": [
      "    Evaluating coalitions for trial 6: 100%|██████████| 1023/1023 [00:06<00:00, 165.30it/s]\n"
     ]
    },
    {
     "name": "stdout",
     "output_type": "stream",
     "text": [
      "  Trial 7/10 for subsample_ratio=0.5, max_iter=10\n"
     ]
    },
    {
     "name": "stderr",
     "output_type": "stream",
     "text": [
      "    Evaluating coalitions for trial 7: 100%|██████████| 1023/1023 [00:06<00:00, 166.93it/s]\n"
     ]
    },
    {
     "name": "stdout",
     "output_type": "stream",
     "text": [
      "  Trial 8/10 for subsample_ratio=0.5, max_iter=10\n"
     ]
    },
    {
     "name": "stderr",
     "output_type": "stream",
     "text": [
      "    Evaluating coalitions for trial 8: 100%|██████████| 1023/1023 [00:06<00:00, 164.09it/s]\n"
     ]
    },
    {
     "name": "stdout",
     "output_type": "stream",
     "text": [
      "  Trial 9/10 for subsample_ratio=0.5, max_iter=10\n"
     ]
    },
    {
     "name": "stderr",
     "output_type": "stream",
     "text": [
      "    Evaluating coalitions for trial 9: 100%|██████████| 1023/1023 [00:06<00:00, 157.74it/s]\n"
     ]
    },
    {
     "name": "stdout",
     "output_type": "stream",
     "text": [
      "  Trial 10/10 for subsample_ratio=0.5, max_iter=10\n"
     ]
    },
    {
     "name": "stderr",
     "output_type": "stream",
     "text": [
      "    Evaluating coalitions for trial 10: 100%|██████████| 1023/1023 [00:06<00:00, 160.40it/s]\n"
     ]
    },
    {
     "name": "stdout",
     "output_type": "stream",
     "text": [
      "\n",
      "Running experiment with subsample_ratio = 0.5, max_iter = 100\n",
      "  Trial 1/10 for subsample_ratio=0.5, max_iter=100\n"
     ]
    },
    {
     "name": "stderr",
     "output_type": "stream",
     "text": [
      "    Evaluating coalitions for trial 1: 100%|██████████| 1023/1023 [00:06<00:00, 162.08it/s]\n"
     ]
    },
    {
     "name": "stdout",
     "output_type": "stream",
     "text": [
      "  Trial 2/10 for subsample_ratio=0.5, max_iter=100\n"
     ]
    },
    {
     "name": "stderr",
     "output_type": "stream",
     "text": [
      "    Evaluating coalitions for trial 2: 100%|██████████| 1023/1023 [00:06<00:00, 163.60it/s]\n"
     ]
    },
    {
     "name": "stdout",
     "output_type": "stream",
     "text": [
      "  Trial 3/10 for subsample_ratio=0.5, max_iter=100\n"
     ]
    },
    {
     "name": "stderr",
     "output_type": "stream",
     "text": [
      "    Evaluating coalitions for trial 3: 100%|██████████| 1023/1023 [00:06<00:00, 165.57it/s]\n"
     ]
    },
    {
     "name": "stdout",
     "output_type": "stream",
     "text": [
      "  Trial 4/10 for subsample_ratio=0.5, max_iter=100\n"
     ]
    },
    {
     "name": "stderr",
     "output_type": "stream",
     "text": [
      "    Evaluating coalitions for trial 4: 100%|██████████| 1023/1023 [00:06<00:00, 161.03it/s]\n"
     ]
    },
    {
     "name": "stdout",
     "output_type": "stream",
     "text": [
      "  Trial 5/10 for subsample_ratio=0.5, max_iter=100\n"
     ]
    },
    {
     "name": "stderr",
     "output_type": "stream",
     "text": [
      "    Evaluating coalitions for trial 5: 100%|██████████| 1023/1023 [00:06<00:00, 165.86it/s]\n"
     ]
    },
    {
     "name": "stdout",
     "output_type": "stream",
     "text": [
      "  Trial 6/10 for subsample_ratio=0.5, max_iter=100\n"
     ]
    },
    {
     "name": "stderr",
     "output_type": "stream",
     "text": [
      "    Evaluating coalitions for trial 6: 100%|██████████| 1023/1023 [00:06<00:00, 162.72it/s]\n"
     ]
    },
    {
     "name": "stdout",
     "output_type": "stream",
     "text": [
      "  Trial 7/10 for subsample_ratio=0.5, max_iter=100\n"
     ]
    },
    {
     "name": "stderr",
     "output_type": "stream",
     "text": [
      "    Evaluating coalitions for trial 7: 100%|██████████| 1023/1023 [00:06<00:00, 162.57it/s]\n"
     ]
    },
    {
     "name": "stdout",
     "output_type": "stream",
     "text": [
      "  Trial 8/10 for subsample_ratio=0.5, max_iter=100\n"
     ]
    },
    {
     "name": "stderr",
     "output_type": "stream",
     "text": [
      "    Evaluating coalitions for trial 8: 100%|██████████| 1023/1023 [00:06<00:00, 161.63it/s]\n"
     ]
    },
    {
     "name": "stdout",
     "output_type": "stream",
     "text": [
      "  Trial 9/10 for subsample_ratio=0.5, max_iter=100\n"
     ]
    },
    {
     "name": "stderr",
     "output_type": "stream",
     "text": [
      "    Evaluating coalitions for trial 9: 100%|██████████| 1023/1023 [00:06<00:00, 164.68it/s]\n"
     ]
    },
    {
     "name": "stdout",
     "output_type": "stream",
     "text": [
      "  Trial 10/10 for subsample_ratio=0.5, max_iter=100\n"
     ]
    },
    {
     "name": "stderr",
     "output_type": "stream",
     "text": [
      "    Evaluating coalitions for trial 10: 100%|██████████| 1023/1023 [00:06<00:00, 162.64it/s]\n"
     ]
    },
    {
     "name": "stdout",
     "output_type": "stream",
     "text": [
      "\n",
      "Running experiment with subsample_ratio = 0.6, max_iter = 10\n",
      "  Trial 1/10 for subsample_ratio=0.6, max_iter=10\n"
     ]
    },
    {
     "name": "stderr",
     "output_type": "stream",
     "text": [
      "    Evaluating coalitions for trial 1: 100%|██████████| 1023/1023 [00:06<00:00, 169.58it/s]\n"
     ]
    },
    {
     "name": "stdout",
     "output_type": "stream",
     "text": [
      "  Trial 2/10 for subsample_ratio=0.6, max_iter=10\n"
     ]
    },
    {
     "name": "stderr",
     "output_type": "stream",
     "text": [
      "    Evaluating coalitions for trial 2: 100%|██████████| 1023/1023 [00:06<00:00, 166.38it/s]\n"
     ]
    },
    {
     "name": "stdout",
     "output_type": "stream",
     "text": [
      "  Trial 3/10 for subsample_ratio=0.6, max_iter=10\n"
     ]
    },
    {
     "name": "stderr",
     "output_type": "stream",
     "text": [
      "    Evaluating coalitions for trial 3: 100%|██████████| 1023/1023 [00:06<00:00, 165.93it/s]\n"
     ]
    },
    {
     "name": "stdout",
     "output_type": "stream",
     "text": [
      "  Trial 4/10 for subsample_ratio=0.6, max_iter=10\n"
     ]
    },
    {
     "name": "stderr",
     "output_type": "stream",
     "text": [
      "    Evaluating coalitions for trial 4: 100%|██████████| 1023/1023 [00:06<00:00, 167.38it/s]\n"
     ]
    },
    {
     "name": "stdout",
     "output_type": "stream",
     "text": [
      "  Trial 5/10 for subsample_ratio=0.6, max_iter=10\n"
     ]
    },
    {
     "name": "stderr",
     "output_type": "stream",
     "text": [
      "    Evaluating coalitions for trial 5: 100%|██████████| 1023/1023 [00:06<00:00, 160.38it/s]\n"
     ]
    },
    {
     "name": "stdout",
     "output_type": "stream",
     "text": [
      "  Trial 6/10 for subsample_ratio=0.6, max_iter=10\n"
     ]
    },
    {
     "name": "stderr",
     "output_type": "stream",
     "text": [
      "    Evaluating coalitions for trial 6: 100%|██████████| 1023/1023 [00:06<00:00, 160.18it/s]\n"
     ]
    },
    {
     "name": "stdout",
     "output_type": "stream",
     "text": [
      "  Trial 7/10 for subsample_ratio=0.6, max_iter=10\n"
     ]
    },
    {
     "name": "stderr",
     "output_type": "stream",
     "text": [
      "    Evaluating coalitions for trial 7: 100%|██████████| 1023/1023 [00:06<00:00, 156.92it/s]\n"
     ]
    },
    {
     "name": "stdout",
     "output_type": "stream",
     "text": [
      "  Trial 8/10 for subsample_ratio=0.6, max_iter=10\n"
     ]
    },
    {
     "name": "stderr",
     "output_type": "stream",
     "text": [
      "    Evaluating coalitions for trial 8: 100%|██████████| 1023/1023 [00:06<00:00, 160.30it/s]\n"
     ]
    },
    {
     "name": "stdout",
     "output_type": "stream",
     "text": [
      "  Trial 9/10 for subsample_ratio=0.6, max_iter=10\n"
     ]
    },
    {
     "name": "stderr",
     "output_type": "stream",
     "text": [
      "    Evaluating coalitions for trial 9: 100%|██████████| 1023/1023 [00:06<00:00, 164.10it/s]\n"
     ]
    },
    {
     "name": "stdout",
     "output_type": "stream",
     "text": [
      "  Trial 10/10 for subsample_ratio=0.6, max_iter=10\n"
     ]
    },
    {
     "name": "stderr",
     "output_type": "stream",
     "text": [
      "    Evaluating coalitions for trial 10: 100%|██████████| 1023/1023 [00:06<00:00, 161.58it/s]\n"
     ]
    },
    {
     "name": "stdout",
     "output_type": "stream",
     "text": [
      "\n",
      "Running experiment with subsample_ratio = 0.6, max_iter = 100\n",
      "  Trial 1/10 for subsample_ratio=0.6, max_iter=100\n"
     ]
    },
    {
     "name": "stderr",
     "output_type": "stream",
     "text": [
      "    Evaluating coalitions for trial 1: 100%|██████████| 1023/1023 [00:06<00:00, 160.54it/s]\n"
     ]
    },
    {
     "name": "stdout",
     "output_type": "stream",
     "text": [
      "  Trial 2/10 for subsample_ratio=0.6, max_iter=100\n"
     ]
    },
    {
     "name": "stderr",
     "output_type": "stream",
     "text": [
      "    Evaluating coalitions for trial 2: 100%|██████████| 1023/1023 [00:06<00:00, 161.21it/s]\n"
     ]
    },
    {
     "name": "stdout",
     "output_type": "stream",
     "text": [
      "  Trial 3/10 for subsample_ratio=0.6, max_iter=100\n"
     ]
    },
    {
     "name": "stderr",
     "output_type": "stream",
     "text": [
      "    Evaluating coalitions for trial 3: 100%|██████████| 1023/1023 [00:06<00:00, 166.15it/s]\n"
     ]
    },
    {
     "name": "stdout",
     "output_type": "stream",
     "text": [
      "  Trial 4/10 for subsample_ratio=0.6, max_iter=100\n"
     ]
    },
    {
     "name": "stderr",
     "output_type": "stream",
     "text": [
      "    Evaluating coalitions for trial 4: 100%|██████████| 1023/1023 [00:06<00:00, 161.43it/s]\n"
     ]
    },
    {
     "name": "stdout",
     "output_type": "stream",
     "text": [
      "  Trial 5/10 for subsample_ratio=0.6, max_iter=100\n"
     ]
    },
    {
     "name": "stderr",
     "output_type": "stream",
     "text": [
      "    Evaluating coalitions for trial 5: 100%|██████████| 1023/1023 [00:06<00:00, 164.23it/s]\n"
     ]
    },
    {
     "name": "stdout",
     "output_type": "stream",
     "text": [
      "  Trial 6/10 for subsample_ratio=0.6, max_iter=100\n"
     ]
    },
    {
     "name": "stderr",
     "output_type": "stream",
     "text": [
      "    Evaluating coalitions for trial 6: 100%|██████████| 1023/1023 [00:06<00:00, 164.21it/s]\n"
     ]
    },
    {
     "name": "stdout",
     "output_type": "stream",
     "text": [
      "  Trial 7/10 for subsample_ratio=0.6, max_iter=100\n"
     ]
    },
    {
     "name": "stderr",
     "output_type": "stream",
     "text": [
      "    Evaluating coalitions for trial 7: 100%|██████████| 1023/1023 [00:06<00:00, 160.43it/s]\n"
     ]
    },
    {
     "name": "stdout",
     "output_type": "stream",
     "text": [
      "  Trial 8/10 for subsample_ratio=0.6, max_iter=100\n"
     ]
    },
    {
     "name": "stderr",
     "output_type": "stream",
     "text": [
      "    Evaluating coalitions for trial 8: 100%|██████████| 1023/1023 [00:06<00:00, 164.98it/s]\n"
     ]
    },
    {
     "name": "stdout",
     "output_type": "stream",
     "text": [
      "  Trial 9/10 for subsample_ratio=0.6, max_iter=100\n"
     ]
    },
    {
     "name": "stderr",
     "output_type": "stream",
     "text": [
      "    Evaluating coalitions for trial 9: 100%|██████████| 1023/1023 [00:06<00:00, 161.30it/s]\n"
     ]
    },
    {
     "name": "stdout",
     "output_type": "stream",
     "text": [
      "  Trial 10/10 for subsample_ratio=0.6, max_iter=100\n"
     ]
    },
    {
     "name": "stderr",
     "output_type": "stream",
     "text": [
      "    Evaluating coalitions for trial 10: 100%|██████████| 1023/1023 [00:06<00:00, 162.60it/s]\n"
     ]
    },
    {
     "name": "stdout",
     "output_type": "stream",
     "text": [
      "\n",
      "Running experiment with subsample_ratio = 0.7, max_iter = 10\n",
      "  Trial 1/10 for subsample_ratio=0.7, max_iter=10\n"
     ]
    },
    {
     "name": "stderr",
     "output_type": "stream",
     "text": [
      "    Evaluating coalitions for trial 1: 100%|██████████| 1023/1023 [00:06<00:00, 159.26it/s]\n"
     ]
    },
    {
     "name": "stdout",
     "output_type": "stream",
     "text": [
      "  Trial 2/10 for subsample_ratio=0.7, max_iter=10\n"
     ]
    },
    {
     "name": "stderr",
     "output_type": "stream",
     "text": [
      "    Evaluating coalitions for trial 2: 100%|██████████| 1023/1023 [00:06<00:00, 167.12it/s]\n"
     ]
    },
    {
     "name": "stdout",
     "output_type": "stream",
     "text": [
      "  Trial 3/10 for subsample_ratio=0.7, max_iter=10\n"
     ]
    },
    {
     "name": "stderr",
     "output_type": "stream",
     "text": [
      "    Evaluating coalitions for trial 3: 100%|██████████| 1023/1023 [00:06<00:00, 162.01it/s]\n"
     ]
    },
    {
     "name": "stdout",
     "output_type": "stream",
     "text": [
      "  Trial 4/10 for subsample_ratio=0.7, max_iter=10\n"
     ]
    },
    {
     "name": "stderr",
     "output_type": "stream",
     "text": [
      "    Evaluating coalitions for trial 4: 100%|██████████| 1023/1023 [00:06<00:00, 160.00it/s]\n"
     ]
    },
    {
     "name": "stdout",
     "output_type": "stream",
     "text": [
      "  Trial 5/10 for subsample_ratio=0.7, max_iter=10\n"
     ]
    },
    {
     "name": "stderr",
     "output_type": "stream",
     "text": [
      "    Evaluating coalitions for trial 5: 100%|██████████| 1023/1023 [00:06<00:00, 160.59it/s]\n"
     ]
    },
    {
     "name": "stdout",
     "output_type": "stream",
     "text": [
      "  Trial 6/10 for subsample_ratio=0.7, max_iter=10\n"
     ]
    },
    {
     "name": "stderr",
     "output_type": "stream",
     "text": [
      "    Evaluating coalitions for trial 6: 100%|██████████| 1023/1023 [00:06<00:00, 165.58it/s]\n"
     ]
    },
    {
     "name": "stdout",
     "output_type": "stream",
     "text": [
      "  Trial 7/10 for subsample_ratio=0.7, max_iter=10\n"
     ]
    },
    {
     "name": "stderr",
     "output_type": "stream",
     "text": [
      "    Evaluating coalitions for trial 7: 100%|██████████| 1023/1023 [00:06<00:00, 160.82it/s]\n"
     ]
    },
    {
     "name": "stdout",
     "output_type": "stream",
     "text": [
      "  Trial 8/10 for subsample_ratio=0.7, max_iter=10\n"
     ]
    },
    {
     "name": "stderr",
     "output_type": "stream",
     "text": [
      "    Evaluating coalitions for trial 8: 100%|██████████| 1023/1023 [00:06<00:00, 165.13it/s]\n"
     ]
    },
    {
     "name": "stdout",
     "output_type": "stream",
     "text": [
      "  Trial 9/10 for subsample_ratio=0.7, max_iter=10\n"
     ]
    },
    {
     "name": "stderr",
     "output_type": "stream",
     "text": [
      "    Evaluating coalitions for trial 9: 100%|██████████| 1023/1023 [00:06<00:00, 159.27it/s]\n"
     ]
    },
    {
     "name": "stdout",
     "output_type": "stream",
     "text": [
      "  Trial 10/10 for subsample_ratio=0.7, max_iter=10\n"
     ]
    },
    {
     "name": "stderr",
     "output_type": "stream",
     "text": [
      "    Evaluating coalitions for trial 10: 100%|██████████| 1023/1023 [00:06<00:00, 155.25it/s]\n"
     ]
    },
    {
     "name": "stdout",
     "output_type": "stream",
     "text": [
      "\n",
      "Running experiment with subsample_ratio = 0.7, max_iter = 100\n",
      "  Trial 1/10 for subsample_ratio=0.7, max_iter=100\n"
     ]
    },
    {
     "name": "stderr",
     "output_type": "stream",
     "text": [
      "    Evaluating coalitions for trial 1: 100%|██████████| 1023/1023 [00:06<00:00, 157.89it/s]\n"
     ]
    },
    {
     "name": "stdout",
     "output_type": "stream",
     "text": [
      "  Trial 2/10 for subsample_ratio=0.7, max_iter=100\n"
     ]
    },
    {
     "name": "stderr",
     "output_type": "stream",
     "text": [
      "    Evaluating coalitions for trial 2: 100%|██████████| 1023/1023 [00:06<00:00, 157.19it/s]\n"
     ]
    },
    {
     "name": "stdout",
     "output_type": "stream",
     "text": [
      "  Trial 3/10 for subsample_ratio=0.7, max_iter=100\n"
     ]
    },
    {
     "name": "stderr",
     "output_type": "stream",
     "text": [
      "    Evaluating coalitions for trial 3: 100%|██████████| 1023/1023 [00:06<00:00, 160.74it/s]\n"
     ]
    },
    {
     "name": "stdout",
     "output_type": "stream",
     "text": [
      "  Trial 4/10 for subsample_ratio=0.7, max_iter=100\n"
     ]
    },
    {
     "name": "stderr",
     "output_type": "stream",
     "text": [
      "    Evaluating coalitions for trial 4: 100%|██████████| 1023/1023 [00:06<00:00, 160.29it/s]\n"
     ]
    },
    {
     "name": "stdout",
     "output_type": "stream",
     "text": [
      "  Trial 5/10 for subsample_ratio=0.7, max_iter=100\n"
     ]
    },
    {
     "name": "stderr",
     "output_type": "stream",
     "text": [
      "    Evaluating coalitions for trial 5: 100%|██████████| 1023/1023 [00:06<00:00, 162.65it/s]\n"
     ]
    },
    {
     "name": "stdout",
     "output_type": "stream",
     "text": [
      "  Trial 6/10 for subsample_ratio=0.7, max_iter=100\n"
     ]
    },
    {
     "name": "stderr",
     "output_type": "stream",
     "text": [
      "    Evaluating coalitions for trial 6: 100%|██████████| 1023/1023 [00:06<00:00, 164.95it/s]\n"
     ]
    },
    {
     "name": "stdout",
     "output_type": "stream",
     "text": [
      "  Trial 7/10 for subsample_ratio=0.7, max_iter=100\n"
     ]
    },
    {
     "name": "stderr",
     "output_type": "stream",
     "text": [
      "    Evaluating coalitions for trial 7: 100%|██████████| 1023/1023 [00:06<00:00, 166.35it/s]\n"
     ]
    },
    {
     "name": "stdout",
     "output_type": "stream",
     "text": [
      "  Trial 8/10 for subsample_ratio=0.7, max_iter=100\n"
     ]
    },
    {
     "name": "stderr",
     "output_type": "stream",
     "text": [
      "    Evaluating coalitions for trial 8: 100%|██████████| 1023/1023 [00:06<00:00, 162.00it/s]\n"
     ]
    },
    {
     "name": "stdout",
     "output_type": "stream",
     "text": [
      "  Trial 9/10 for subsample_ratio=0.7, max_iter=100\n"
     ]
    },
    {
     "name": "stderr",
     "output_type": "stream",
     "text": [
      "    Evaluating coalitions for trial 9: 100%|██████████| 1023/1023 [00:06<00:00, 166.11it/s]\n"
     ]
    },
    {
     "name": "stdout",
     "output_type": "stream",
     "text": [
      "  Trial 10/10 for subsample_ratio=0.7, max_iter=100\n"
     ]
    },
    {
     "name": "stderr",
     "output_type": "stream",
     "text": [
      "    Evaluating coalitions for trial 10: 100%|██████████| 1023/1023 [00:06<00:00, 162.28it/s]\n"
     ]
    },
    {
     "name": "stdout",
     "output_type": "stream",
     "text": [
      "\n",
      "Running experiment with subsample_ratio = 0.8, max_iter = 10\n",
      "  Trial 1/10 for subsample_ratio=0.8, max_iter=10\n"
     ]
    },
    {
     "name": "stderr",
     "output_type": "stream",
     "text": [
      "    Evaluating coalitions for trial 1: 100%|██████████| 1023/1023 [00:06<00:00, 164.60it/s]\n"
     ]
    },
    {
     "name": "stdout",
     "output_type": "stream",
     "text": [
      "  Trial 2/10 for subsample_ratio=0.8, max_iter=10\n"
     ]
    },
    {
     "name": "stderr",
     "output_type": "stream",
     "text": [
      "    Evaluating coalitions for trial 2: 100%|██████████| 1023/1023 [00:06<00:00, 164.54it/s]\n"
     ]
    },
    {
     "name": "stdout",
     "output_type": "stream",
     "text": [
      "  Trial 3/10 for subsample_ratio=0.8, max_iter=10\n"
     ]
    },
    {
     "name": "stderr",
     "output_type": "stream",
     "text": [
      "    Evaluating coalitions for trial 3: 100%|██████████| 1023/1023 [00:07<00:00, 141.77it/s]\n"
     ]
    },
    {
     "name": "stdout",
     "output_type": "stream",
     "text": [
      "  Trial 4/10 for subsample_ratio=0.8, max_iter=10\n"
     ]
    },
    {
     "name": "stderr",
     "output_type": "stream",
     "text": [
      "    Evaluating coalitions for trial 4: 100%|██████████| 1023/1023 [00:06<00:00, 161.91it/s]\n"
     ]
    },
    {
     "name": "stdout",
     "output_type": "stream",
     "text": [
      "  Trial 5/10 for subsample_ratio=0.8, max_iter=10\n"
     ]
    },
    {
     "name": "stderr",
     "output_type": "stream",
     "text": [
      "    Evaluating coalitions for trial 5: 100%|██████████| 1023/1023 [00:06<00:00, 163.98it/s]\n"
     ]
    },
    {
     "name": "stdout",
     "output_type": "stream",
     "text": [
      "  Trial 6/10 for subsample_ratio=0.8, max_iter=10\n"
     ]
    },
    {
     "name": "stderr",
     "output_type": "stream",
     "text": [
      "    Evaluating coalitions for trial 6: 100%|██████████| 1023/1023 [00:06<00:00, 161.69it/s]\n"
     ]
    },
    {
     "name": "stdout",
     "output_type": "stream",
     "text": [
      "  Trial 7/10 for subsample_ratio=0.8, max_iter=10\n"
     ]
    },
    {
     "name": "stderr",
     "output_type": "stream",
     "text": [
      "    Evaluating coalitions for trial 7: 100%|██████████| 1023/1023 [00:06<00:00, 167.96it/s]\n"
     ]
    },
    {
     "name": "stdout",
     "output_type": "stream",
     "text": [
      "  Trial 8/10 for subsample_ratio=0.8, max_iter=10\n"
     ]
    },
    {
     "name": "stderr",
     "output_type": "stream",
     "text": [
      "    Evaluating coalitions for trial 8: 100%|██████████| 1023/1023 [00:07<00:00, 139.00it/s]\n"
     ]
    },
    {
     "name": "stdout",
     "output_type": "stream",
     "text": [
      "  Trial 9/10 for subsample_ratio=0.8, max_iter=10\n"
     ]
    },
    {
     "name": "stderr",
     "output_type": "stream",
     "text": [
      "    Evaluating coalitions for trial 9: 100%|██████████| 1023/1023 [00:07<00:00, 138.39it/s]\n"
     ]
    },
    {
     "name": "stdout",
     "output_type": "stream",
     "text": [
      "  Trial 10/10 for subsample_ratio=0.8, max_iter=10\n"
     ]
    },
    {
     "name": "stderr",
     "output_type": "stream",
     "text": [
      "    Evaluating coalitions for trial 10: 100%|██████████| 1023/1023 [00:07<00:00, 140.64it/s]\n"
     ]
    },
    {
     "name": "stdout",
     "output_type": "stream",
     "text": [
      "\n",
      "Running experiment with subsample_ratio = 0.8, max_iter = 100\n",
      "  Trial 1/10 for subsample_ratio=0.8, max_iter=100\n"
     ]
    },
    {
     "name": "stderr",
     "output_type": "stream",
     "text": [
      "    Evaluating coalitions for trial 1: 100%|██████████| 1023/1023 [00:06<00:00, 152.55it/s]\n"
     ]
    },
    {
     "name": "stdout",
     "output_type": "stream",
     "text": [
      "  Trial 2/10 for subsample_ratio=0.8, max_iter=100\n"
     ]
    },
    {
     "name": "stderr",
     "output_type": "stream",
     "text": [
      "    Evaluating coalitions for trial 2: 100%|██████████| 1023/1023 [00:06<00:00, 166.32it/s]\n"
     ]
    },
    {
     "name": "stdout",
     "output_type": "stream",
     "text": [
      "  Trial 3/10 for subsample_ratio=0.8, max_iter=100\n"
     ]
    },
    {
     "name": "stderr",
     "output_type": "stream",
     "text": [
      "    Evaluating coalitions for trial 3: 100%|██████████| 1023/1023 [00:06<00:00, 161.69it/s]\n"
     ]
    },
    {
     "name": "stdout",
     "output_type": "stream",
     "text": [
      "  Trial 4/10 for subsample_ratio=0.8, max_iter=100\n"
     ]
    },
    {
     "name": "stderr",
     "output_type": "stream",
     "text": [
      "    Evaluating coalitions for trial 4: 100%|██████████| 1023/1023 [00:06<00:00, 165.09it/s]\n"
     ]
    },
    {
     "name": "stdout",
     "output_type": "stream",
     "text": [
      "  Trial 5/10 for subsample_ratio=0.8, max_iter=100\n"
     ]
    },
    {
     "name": "stderr",
     "output_type": "stream",
     "text": [
      "    Evaluating coalitions for trial 5: 100%|██████████| 1023/1023 [00:06<00:00, 164.06it/s]\n"
     ]
    },
    {
     "name": "stdout",
     "output_type": "stream",
     "text": [
      "  Trial 6/10 for subsample_ratio=0.8, max_iter=100\n"
     ]
    },
    {
     "name": "stderr",
     "output_type": "stream",
     "text": [
      "    Evaluating coalitions for trial 6: 100%|██████████| 1023/1023 [00:06<00:00, 161.19it/s]\n"
     ]
    },
    {
     "name": "stdout",
     "output_type": "stream",
     "text": [
      "  Trial 7/10 for subsample_ratio=0.8, max_iter=100\n"
     ]
    },
    {
     "name": "stderr",
     "output_type": "stream",
     "text": [
      "    Evaluating coalitions for trial 7: 100%|██████████| 1023/1023 [00:06<00:00, 160.07it/s]\n"
     ]
    },
    {
     "name": "stdout",
     "output_type": "stream",
     "text": [
      "  Trial 8/10 for subsample_ratio=0.8, max_iter=100\n"
     ]
    },
    {
     "name": "stderr",
     "output_type": "stream",
     "text": [
      "    Evaluating coalitions for trial 8: 100%|██████████| 1023/1023 [00:06<00:00, 166.05it/s]\n"
     ]
    },
    {
     "name": "stdout",
     "output_type": "stream",
     "text": [
      "  Trial 9/10 for subsample_ratio=0.8, max_iter=100\n"
     ]
    },
    {
     "name": "stderr",
     "output_type": "stream",
     "text": [
      "    Evaluating coalitions for trial 9: 100%|██████████| 1023/1023 [00:06<00:00, 159.33it/s]\n"
     ]
    },
    {
     "name": "stdout",
     "output_type": "stream",
     "text": [
      "  Trial 10/10 for subsample_ratio=0.8, max_iter=100\n"
     ]
    },
    {
     "name": "stderr",
     "output_type": "stream",
     "text": [
      "    Evaluating coalitions for trial 10: 100%|██████████| 1023/1023 [00:06<00:00, 162.85it/s]"
     ]
    },
    {
     "name": "stdout",
     "output_type": "stream",
     "text": [
      "Process complete. Results saved.\n"
     ]
    },
    {
     "name": "stderr",
     "output_type": "stream",
     "text": [
      "\n"
     ]
    }
   ],
   "source": [
    "train_files_pattern = \".../data/corrupted_data/c4/train_{i:02d}.csv\" \n",
    "test_files_pattern = \".../data/corrupted_data/c4/test_{i:02d}.csv\" \n",
    "run_experiment(n_clients=10, n_trials=10, base_random_seed=42,  subsample_ratios=[0.5, 0.6, 0.7, 0.8],  max_iters=[10, 100], train_files_pattern=train_files_pattern, test_files_pattern=test_files_pattern)"
   ]
  },
  {
   "cell_type": "code",
   "execution_count": null,
   "metadata": {},
   "outputs": [
    {
     "name": "stdout",
     "output_type": "stream",
     "text": [
      "\n",
      "Running experiment with subsample_ratio = 0.5, max_iter = 10\n",
      "  Trial 1/10 for subsample_ratio=0.5, max_iter=10\n"
     ]
    },
    {
     "name": "stderr",
     "output_type": "stream",
     "text": [
      "    Evaluating coalitions for trial 1: 100%|██████████| 1023/1023 [00:03<00:00, 308.51it/s]\n"
     ]
    },
    {
     "name": "stdout",
     "output_type": "stream",
     "text": [
      "  Trial 2/10 for subsample_ratio=0.5, max_iter=10\n"
     ]
    },
    {
     "name": "stderr",
     "output_type": "stream",
     "text": [
      "    Evaluating coalitions for trial 2: 100%|██████████| 1023/1023 [00:03<00:00, 322.37it/s]\n"
     ]
    },
    {
     "name": "stdout",
     "output_type": "stream",
     "text": [
      "  Trial 3/10 for subsample_ratio=0.5, max_iter=10\n"
     ]
    },
    {
     "name": "stderr",
     "output_type": "stream",
     "text": [
      "    Evaluating coalitions for trial 3: 100%|██████████| 1023/1023 [00:03<00:00, 321.42it/s]\n"
     ]
    },
    {
     "name": "stdout",
     "output_type": "stream",
     "text": [
      "  Trial 4/10 for subsample_ratio=0.5, max_iter=10\n"
     ]
    },
    {
     "name": "stderr",
     "output_type": "stream",
     "text": [
      "    Evaluating coalitions for trial 4: 100%|██████████| 1023/1023 [00:03<00:00, 308.08it/s]\n"
     ]
    },
    {
     "name": "stdout",
     "output_type": "stream",
     "text": [
      "  Trial 5/10 for subsample_ratio=0.5, max_iter=10\n"
     ]
    },
    {
     "name": "stderr",
     "output_type": "stream",
     "text": [
      "    Evaluating coalitions for trial 5: 100%|██████████| 1023/1023 [00:03<00:00, 332.21it/s]\n"
     ]
    },
    {
     "name": "stdout",
     "output_type": "stream",
     "text": [
      "  Trial 6/10 for subsample_ratio=0.5, max_iter=10\n"
     ]
    },
    {
     "name": "stderr",
     "output_type": "stream",
     "text": [
      "    Evaluating coalitions for trial 6: 100%|██████████| 1023/1023 [00:03<00:00, 306.12it/s]\n"
     ]
    },
    {
     "name": "stdout",
     "output_type": "stream",
     "text": [
      "  Trial 7/10 for subsample_ratio=0.5, max_iter=10\n"
     ]
    },
    {
     "name": "stderr",
     "output_type": "stream",
     "text": [
      "    Evaluating coalitions for trial 7: 100%|██████████| 1023/1023 [00:03<00:00, 322.06it/s]\n"
     ]
    },
    {
     "name": "stdout",
     "output_type": "stream",
     "text": [
      "  Trial 8/10 for subsample_ratio=0.5, max_iter=10\n"
     ]
    },
    {
     "name": "stderr",
     "output_type": "stream",
     "text": [
      "    Evaluating coalitions for trial 8: 100%|██████████| 1023/1023 [00:03<00:00, 285.78it/s]\n"
     ]
    },
    {
     "name": "stdout",
     "output_type": "stream",
     "text": [
      "  Trial 9/10 for subsample_ratio=0.5, max_iter=10\n"
     ]
    },
    {
     "name": "stderr",
     "output_type": "stream",
     "text": [
      "    Evaluating coalitions for trial 9: 100%|██████████| 1023/1023 [00:03<00:00, 311.43it/s]\n"
     ]
    },
    {
     "name": "stdout",
     "output_type": "stream",
     "text": [
      "  Trial 10/10 for subsample_ratio=0.5, max_iter=10\n"
     ]
    },
    {
     "name": "stderr",
     "output_type": "stream",
     "text": [
      "    Evaluating coalitions for trial 10: 100%|██████████| 1023/1023 [00:03<00:00, 303.99it/s]\n"
     ]
    },
    {
     "name": "stdout",
     "output_type": "stream",
     "text": [
      "\n",
      "Running experiment with subsample_ratio = 0.5, max_iter = 100\n",
      "  Trial 1/10 for subsample_ratio=0.5, max_iter=100\n"
     ]
    },
    {
     "name": "stderr",
     "output_type": "stream",
     "text": [
      "    Evaluating coalitions for trial 1: 100%|██████████| 1023/1023 [00:03<00:00, 327.29it/s]\n"
     ]
    },
    {
     "name": "stdout",
     "output_type": "stream",
     "text": [
      "  Trial 2/10 for subsample_ratio=0.5, max_iter=100\n"
     ]
    },
    {
     "name": "stderr",
     "output_type": "stream",
     "text": [
      "    Evaluating coalitions for trial 2: 100%|██████████| 1023/1023 [00:03<00:00, 331.70it/s]\n"
     ]
    },
    {
     "name": "stdout",
     "output_type": "stream",
     "text": [
      "  Trial 3/10 for subsample_ratio=0.5, max_iter=100\n"
     ]
    },
    {
     "name": "stderr",
     "output_type": "stream",
     "text": [
      "    Evaluating coalitions for trial 3: 100%|██████████| 1023/1023 [00:03<00:00, 304.89it/s]\n"
     ]
    },
    {
     "name": "stdout",
     "output_type": "stream",
     "text": [
      "  Trial 4/10 for subsample_ratio=0.5, max_iter=100\n"
     ]
    },
    {
     "name": "stderr",
     "output_type": "stream",
     "text": [
      "    Evaluating coalitions for trial 4: 100%|██████████| 1023/1023 [00:03<00:00, 309.54it/s]\n"
     ]
    },
    {
     "name": "stdout",
     "output_type": "stream",
     "text": [
      "  Trial 5/10 for subsample_ratio=0.5, max_iter=100\n"
     ]
    },
    {
     "name": "stderr",
     "output_type": "stream",
     "text": [
      "    Evaluating coalitions for trial 5: 100%|██████████| 1023/1023 [00:03<00:00, 313.51it/s]\n"
     ]
    },
    {
     "name": "stdout",
     "output_type": "stream",
     "text": [
      "  Trial 6/10 for subsample_ratio=0.5, max_iter=100\n"
     ]
    },
    {
     "name": "stderr",
     "output_type": "stream",
     "text": [
      "    Evaluating coalitions for trial 6: 100%|██████████| 1023/1023 [00:03<00:00, 315.27it/s]\n"
     ]
    },
    {
     "name": "stdout",
     "output_type": "stream",
     "text": [
      "  Trial 7/10 for subsample_ratio=0.5, max_iter=100\n"
     ]
    },
    {
     "name": "stderr",
     "output_type": "stream",
     "text": [
      "    Evaluating coalitions for trial 7: 100%|██████████| 1023/1023 [00:03<00:00, 307.65it/s]\n"
     ]
    },
    {
     "name": "stdout",
     "output_type": "stream",
     "text": [
      "  Trial 8/10 for subsample_ratio=0.5, max_iter=100\n"
     ]
    },
    {
     "name": "stderr",
     "output_type": "stream",
     "text": [
      "    Evaluating coalitions for trial 8: 100%|██████████| 1023/1023 [00:03<00:00, 307.31it/s]\n"
     ]
    },
    {
     "name": "stdout",
     "output_type": "stream",
     "text": [
      "  Trial 9/10 for subsample_ratio=0.5, max_iter=100\n"
     ]
    },
    {
     "name": "stderr",
     "output_type": "stream",
     "text": [
      "    Evaluating coalitions for trial 9: 100%|██████████| 1023/1023 [00:03<00:00, 301.03it/s]\n"
     ]
    },
    {
     "name": "stdout",
     "output_type": "stream",
     "text": [
      "  Trial 10/10 for subsample_ratio=0.5, max_iter=100\n"
     ]
    },
    {
     "name": "stderr",
     "output_type": "stream",
     "text": [
      "    Evaluating coalitions for trial 10: 100%|██████████| 1023/1023 [00:03<00:00, 306.71it/s]\n"
     ]
    },
    {
     "name": "stdout",
     "output_type": "stream",
     "text": [
      "\n",
      "Running experiment with subsample_ratio = 0.6, max_iter = 10\n",
      "  Trial 1/10 for subsample_ratio=0.6, max_iter=10\n"
     ]
    },
    {
     "name": "stderr",
     "output_type": "stream",
     "text": [
      "    Evaluating coalitions for trial 1: 100%|██████████| 1023/1023 [00:03<00:00, 263.76it/s]\n"
     ]
    },
    {
     "name": "stdout",
     "output_type": "stream",
     "text": [
      "  Trial 2/10 for subsample_ratio=0.6, max_iter=10\n"
     ]
    },
    {
     "name": "stderr",
     "output_type": "stream",
     "text": [
      "    Evaluating coalitions for trial 2: 100%|██████████| 1023/1023 [00:04<00:00, 255.46it/s]\n"
     ]
    },
    {
     "name": "stdout",
     "output_type": "stream",
     "text": [
      "  Trial 3/10 for subsample_ratio=0.6, max_iter=10\n"
     ]
    },
    {
     "name": "stderr",
     "output_type": "stream",
     "text": [
      "    Evaluating coalitions for trial 3: 100%|██████████| 1023/1023 [00:04<00:00, 254.43it/s]\n"
     ]
    },
    {
     "name": "stdout",
     "output_type": "stream",
     "text": [
      "  Trial 4/10 for subsample_ratio=0.6, max_iter=10\n"
     ]
    },
    {
     "name": "stderr",
     "output_type": "stream",
     "text": [
      "    Evaluating coalitions for trial 4: 100%|██████████| 1023/1023 [00:04<00:00, 252.44it/s]\n"
     ]
    },
    {
     "name": "stdout",
     "output_type": "stream",
     "text": [
      "  Trial 5/10 for subsample_ratio=0.6, max_iter=10\n"
     ]
    },
    {
     "name": "stderr",
     "output_type": "stream",
     "text": [
      "    Evaluating coalitions for trial 5: 100%|██████████| 1023/1023 [00:03<00:00, 261.76it/s]\n"
     ]
    },
    {
     "name": "stdout",
     "output_type": "stream",
     "text": [
      "  Trial 6/10 for subsample_ratio=0.6, max_iter=10\n"
     ]
    },
    {
     "name": "stderr",
     "output_type": "stream",
     "text": [
      "    Evaluating coalitions for trial 6: 100%|██████████| 1023/1023 [00:03<00:00, 256.94it/s]\n"
     ]
    },
    {
     "name": "stdout",
     "output_type": "stream",
     "text": [
      "  Trial 7/10 for subsample_ratio=0.6, max_iter=10\n"
     ]
    },
    {
     "name": "stderr",
     "output_type": "stream",
     "text": [
      "    Evaluating coalitions for trial 7: 100%|██████████| 1023/1023 [00:04<00:00, 254.96it/s]\n"
     ]
    },
    {
     "name": "stdout",
     "output_type": "stream",
     "text": [
      "  Trial 8/10 for subsample_ratio=0.6, max_iter=10\n"
     ]
    },
    {
     "name": "stderr",
     "output_type": "stream",
     "text": [
      "    Evaluating coalitions for trial 8: 100%|██████████| 1023/1023 [00:03<00:00, 264.01it/s]\n"
     ]
    },
    {
     "name": "stdout",
     "output_type": "stream",
     "text": [
      "  Trial 9/10 for subsample_ratio=0.6, max_iter=10\n"
     ]
    },
    {
     "name": "stderr",
     "output_type": "stream",
     "text": [
      "    Evaluating coalitions for trial 9: 100%|██████████| 1023/1023 [00:04<00:00, 255.73it/s]\n"
     ]
    },
    {
     "name": "stdout",
     "output_type": "stream",
     "text": [
      "  Trial 10/10 for subsample_ratio=0.6, max_iter=10\n"
     ]
    },
    {
     "name": "stderr",
     "output_type": "stream",
     "text": [
      "    Evaluating coalitions for trial 10: 100%|██████████| 1023/1023 [00:03<00:00, 262.76it/s]\n"
     ]
    },
    {
     "name": "stdout",
     "output_type": "stream",
     "text": [
      "\n",
      "Running experiment with subsample_ratio = 0.6, max_iter = 100\n",
      "  Trial 1/10 for subsample_ratio=0.6, max_iter=100\n"
     ]
    },
    {
     "name": "stderr",
     "output_type": "stream",
     "text": [
      "    Evaluating coalitions for trial 1: 100%|██████████| 1023/1023 [00:03<00:00, 269.07it/s]\n"
     ]
    },
    {
     "name": "stdout",
     "output_type": "stream",
     "text": [
      "  Trial 2/10 for subsample_ratio=0.6, max_iter=100\n"
     ]
    },
    {
     "name": "stderr",
     "output_type": "stream",
     "text": [
      "    Evaluating coalitions for trial 2: 100%|██████████| 1023/1023 [00:04<00:00, 252.44it/s]\n"
     ]
    },
    {
     "name": "stdout",
     "output_type": "stream",
     "text": [
      "  Trial 3/10 for subsample_ratio=0.6, max_iter=100\n"
     ]
    },
    {
     "name": "stderr",
     "output_type": "stream",
     "text": [
      "    Evaluating coalitions for trial 3: 100%|██████████| 1023/1023 [00:03<00:00, 263.23it/s]\n"
     ]
    },
    {
     "name": "stdout",
     "output_type": "stream",
     "text": [
      "  Trial 4/10 for subsample_ratio=0.6, max_iter=100\n"
     ]
    },
    {
     "name": "stderr",
     "output_type": "stream",
     "text": [
      "    Evaluating coalitions for trial 4: 100%|██████████| 1023/1023 [00:03<00:00, 256.86it/s]\n"
     ]
    },
    {
     "name": "stdout",
     "output_type": "stream",
     "text": [
      "  Trial 5/10 for subsample_ratio=0.6, max_iter=100\n"
     ]
    },
    {
     "name": "stderr",
     "output_type": "stream",
     "text": [
      "    Evaluating coalitions for trial 5: 100%|██████████| 1023/1023 [00:03<00:00, 263.88it/s]\n"
     ]
    },
    {
     "name": "stdout",
     "output_type": "stream",
     "text": [
      "  Trial 6/10 for subsample_ratio=0.6, max_iter=100\n"
     ]
    },
    {
     "name": "stderr",
     "output_type": "stream",
     "text": [
      "    Evaluating coalitions for trial 6: 100%|██████████| 1023/1023 [00:03<00:00, 256.01it/s]\n"
     ]
    },
    {
     "name": "stdout",
     "output_type": "stream",
     "text": [
      "  Trial 7/10 for subsample_ratio=0.6, max_iter=100\n"
     ]
    },
    {
     "name": "stderr",
     "output_type": "stream",
     "text": [
      "    Evaluating coalitions for trial 7: 100%|██████████| 1023/1023 [00:03<00:00, 261.55it/s]\n"
     ]
    },
    {
     "name": "stdout",
     "output_type": "stream",
     "text": [
      "  Trial 8/10 for subsample_ratio=0.6, max_iter=100\n"
     ]
    },
    {
     "name": "stderr",
     "output_type": "stream",
     "text": [
      "    Evaluating coalitions for trial 8: 100%|██████████| 1023/1023 [00:03<00:00, 262.37it/s]\n"
     ]
    },
    {
     "name": "stdout",
     "output_type": "stream",
     "text": [
      "  Trial 9/10 for subsample_ratio=0.6, max_iter=100\n"
     ]
    },
    {
     "name": "stderr",
     "output_type": "stream",
     "text": [
      "    Evaluating coalitions for trial 9: 100%|██████████| 1023/1023 [00:04<00:00, 254.28it/s]\n"
     ]
    },
    {
     "name": "stdout",
     "output_type": "stream",
     "text": [
      "  Trial 10/10 for subsample_ratio=0.6, max_iter=100\n"
     ]
    },
    {
     "name": "stderr",
     "output_type": "stream",
     "text": [
      "    Evaluating coalitions for trial 10: 100%|██████████| 1023/1023 [00:03<00:00, 264.80it/s]\n"
     ]
    },
    {
     "name": "stdout",
     "output_type": "stream",
     "text": [
      "\n",
      "Running experiment with subsample_ratio = 0.7, max_iter = 10\n",
      "  Trial 1/10 for subsample_ratio=0.7, max_iter=10\n"
     ]
    },
    {
     "name": "stderr",
     "output_type": "stream",
     "text": [
      "    Evaluating coalitions for trial 1: 100%|██████████| 1023/1023 [00:04<00:00, 230.80it/s]\n"
     ]
    },
    {
     "name": "stdout",
     "output_type": "stream",
     "text": [
      "  Trial 2/10 for subsample_ratio=0.7, max_iter=10\n"
     ]
    },
    {
     "name": "stderr",
     "output_type": "stream",
     "text": [
      "    Evaluating coalitions for trial 2: 100%|██████████| 1023/1023 [00:04<00:00, 228.58it/s]\n"
     ]
    },
    {
     "name": "stdout",
     "output_type": "stream",
     "text": [
      "  Trial 3/10 for subsample_ratio=0.7, max_iter=10\n"
     ]
    },
    {
     "name": "stderr",
     "output_type": "stream",
     "text": [
      "    Evaluating coalitions for trial 3: 100%|██████████| 1023/1023 [00:04<00:00, 227.83it/s]\n"
     ]
    },
    {
     "name": "stdout",
     "output_type": "stream",
     "text": [
      "  Trial 4/10 for subsample_ratio=0.7, max_iter=10\n"
     ]
    },
    {
     "name": "stderr",
     "output_type": "stream",
     "text": [
      "    Evaluating coalitions for trial 4: 100%|██████████| 1023/1023 [00:04<00:00, 226.26it/s]\n"
     ]
    },
    {
     "name": "stdout",
     "output_type": "stream",
     "text": [
      "  Trial 5/10 for subsample_ratio=0.7, max_iter=10\n"
     ]
    },
    {
     "name": "stderr",
     "output_type": "stream",
     "text": [
      "    Evaluating coalitions for trial 5: 100%|██████████| 1023/1023 [00:04<00:00, 221.47it/s]\n"
     ]
    },
    {
     "name": "stdout",
     "output_type": "stream",
     "text": [
      "  Trial 6/10 for subsample_ratio=0.7, max_iter=10\n"
     ]
    },
    {
     "name": "stderr",
     "output_type": "stream",
     "text": [
      "    Evaluating coalitions for trial 6: 100%|██████████| 1023/1023 [00:04<00:00, 223.16it/s]\n"
     ]
    },
    {
     "name": "stdout",
     "output_type": "stream",
     "text": [
      "  Trial 7/10 for subsample_ratio=0.7, max_iter=10\n"
     ]
    },
    {
     "name": "stderr",
     "output_type": "stream",
     "text": [
      "    Evaluating coalitions for trial 7: 100%|██████████| 1023/1023 [00:04<00:00, 223.48it/s]\n"
     ]
    },
    {
     "name": "stdout",
     "output_type": "stream",
     "text": [
      "  Trial 8/10 for subsample_ratio=0.7, max_iter=10\n"
     ]
    },
    {
     "name": "stderr",
     "output_type": "stream",
     "text": [
      "    Evaluating coalitions for trial 8: 100%|██████████| 1023/1023 [00:04<00:00, 226.46it/s]\n"
     ]
    },
    {
     "name": "stdout",
     "output_type": "stream",
     "text": [
      "  Trial 9/10 for subsample_ratio=0.7, max_iter=10\n"
     ]
    },
    {
     "name": "stderr",
     "output_type": "stream",
     "text": [
      "    Evaluating coalitions for trial 9: 100%|██████████| 1023/1023 [00:04<00:00, 220.91it/s]\n"
     ]
    },
    {
     "name": "stdout",
     "output_type": "stream",
     "text": [
      "  Trial 10/10 for subsample_ratio=0.7, max_iter=10\n"
     ]
    },
    {
     "name": "stderr",
     "output_type": "stream",
     "text": [
      "    Evaluating coalitions for trial 10: 100%|██████████| 1023/1023 [00:04<00:00, 225.58it/s]\n"
     ]
    },
    {
     "name": "stdout",
     "output_type": "stream",
     "text": [
      "\n",
      "Running experiment with subsample_ratio = 0.7, max_iter = 100\n",
      "  Trial 1/10 for subsample_ratio=0.7, max_iter=100\n"
     ]
    },
    {
     "name": "stderr",
     "output_type": "stream",
     "text": [
      "    Evaluating coalitions for trial 1: 100%|██████████| 1023/1023 [00:04<00:00, 226.65it/s]\n"
     ]
    },
    {
     "name": "stdout",
     "output_type": "stream",
     "text": [
      "  Trial 2/10 for subsample_ratio=0.7, max_iter=100\n"
     ]
    },
    {
     "name": "stderr",
     "output_type": "stream",
     "text": [
      "    Evaluating coalitions for trial 2: 100%|██████████| 1023/1023 [00:04<00:00, 220.66it/s]\n"
     ]
    },
    {
     "name": "stdout",
     "output_type": "stream",
     "text": [
      "  Trial 3/10 for subsample_ratio=0.7, max_iter=100\n"
     ]
    },
    {
     "name": "stderr",
     "output_type": "stream",
     "text": [
      "    Evaluating coalitions for trial 3: 100%|██████████| 1023/1023 [00:04<00:00, 228.19it/s]\n"
     ]
    },
    {
     "name": "stdout",
     "output_type": "stream",
     "text": [
      "  Trial 4/10 for subsample_ratio=0.7, max_iter=100\n"
     ]
    },
    {
     "name": "stderr",
     "output_type": "stream",
     "text": [
      "    Evaluating coalitions for trial 4: 100%|██████████| 1023/1023 [00:04<00:00, 224.68it/s]\n"
     ]
    },
    {
     "name": "stdout",
     "output_type": "stream",
     "text": [
      "  Trial 5/10 for subsample_ratio=0.7, max_iter=100\n"
     ]
    },
    {
     "name": "stderr",
     "output_type": "stream",
     "text": [
      "    Evaluating coalitions for trial 5: 100%|██████████| 1023/1023 [00:04<00:00, 227.35it/s]\n"
     ]
    },
    {
     "name": "stdout",
     "output_type": "stream",
     "text": [
      "  Trial 6/10 for subsample_ratio=0.7, max_iter=100\n"
     ]
    },
    {
     "name": "stderr",
     "output_type": "stream",
     "text": [
      "    Evaluating coalitions for trial 6: 100%|██████████| 1023/1023 [00:04<00:00, 224.14it/s]\n"
     ]
    },
    {
     "name": "stdout",
     "output_type": "stream",
     "text": [
      "  Trial 7/10 for subsample_ratio=0.7, max_iter=100\n"
     ]
    },
    {
     "name": "stderr",
     "output_type": "stream",
     "text": [
      "    Evaluating coalitions for trial 7: 100%|██████████| 1023/1023 [00:04<00:00, 222.81it/s]\n"
     ]
    },
    {
     "name": "stdout",
     "output_type": "stream",
     "text": [
      "  Trial 8/10 for subsample_ratio=0.7, max_iter=100\n"
     ]
    },
    {
     "name": "stderr",
     "output_type": "stream",
     "text": [
      "    Evaluating coalitions for trial 8: 100%|██████████| 1023/1023 [00:04<00:00, 221.14it/s]\n"
     ]
    },
    {
     "name": "stdout",
     "output_type": "stream",
     "text": [
      "  Trial 9/10 for subsample_ratio=0.7, max_iter=100\n"
     ]
    },
    {
     "name": "stderr",
     "output_type": "stream",
     "text": [
      "    Evaluating coalitions for trial 9: 100%|██████████| 1023/1023 [00:04<00:00, 219.92it/s]\n"
     ]
    },
    {
     "name": "stdout",
     "output_type": "stream",
     "text": [
      "  Trial 10/10 for subsample_ratio=0.7, max_iter=100\n"
     ]
    },
    {
     "name": "stderr",
     "output_type": "stream",
     "text": [
      "    Evaluating coalitions for trial 10: 100%|██████████| 1023/1023 [00:04<00:00, 229.73it/s]\n"
     ]
    },
    {
     "name": "stdout",
     "output_type": "stream",
     "text": [
      "\n",
      "Running experiment with subsample_ratio = 0.8, max_iter = 10\n",
      "  Trial 1/10 for subsample_ratio=0.8, max_iter=10\n"
     ]
    },
    {
     "name": "stderr",
     "output_type": "stream",
     "text": [
      "    Evaluating coalitions for trial 1: 100%|██████████| 1023/1023 [00:05<00:00, 197.39it/s]\n"
     ]
    },
    {
     "name": "stdout",
     "output_type": "stream",
     "text": [
      "  Trial 2/10 for subsample_ratio=0.8, max_iter=10\n"
     ]
    },
    {
     "name": "stderr",
     "output_type": "stream",
     "text": [
      "    Evaluating coalitions for trial 2: 100%|██████████| 1023/1023 [00:05<00:00, 197.74it/s]\n"
     ]
    },
    {
     "name": "stdout",
     "output_type": "stream",
     "text": [
      "  Trial 3/10 for subsample_ratio=0.8, max_iter=10\n"
     ]
    },
    {
     "name": "stderr",
     "output_type": "stream",
     "text": [
      "    Evaluating coalitions for trial 3: 100%|██████████| 1023/1023 [00:05<00:00, 195.99it/s]\n"
     ]
    },
    {
     "name": "stdout",
     "output_type": "stream",
     "text": [
      "  Trial 4/10 for subsample_ratio=0.8, max_iter=10\n"
     ]
    },
    {
     "name": "stderr",
     "output_type": "stream",
     "text": [
      "    Evaluating coalitions for trial 4: 100%|██████████| 1023/1023 [00:05<00:00, 198.92it/s]\n"
     ]
    },
    {
     "name": "stdout",
     "output_type": "stream",
     "text": [
      "  Trial 5/10 for subsample_ratio=0.8, max_iter=10\n"
     ]
    },
    {
     "name": "stderr",
     "output_type": "stream",
     "text": [
      "    Evaluating coalitions for trial 5: 100%|██████████| 1023/1023 [00:05<00:00, 198.94it/s]\n"
     ]
    },
    {
     "name": "stdout",
     "output_type": "stream",
     "text": [
      "  Trial 6/10 for subsample_ratio=0.8, max_iter=10\n"
     ]
    },
    {
     "name": "stderr",
     "output_type": "stream",
     "text": [
      "    Evaluating coalitions for trial 6: 100%|██████████| 1023/1023 [00:05<00:00, 199.49it/s]\n"
     ]
    },
    {
     "name": "stdout",
     "output_type": "stream",
     "text": [
      "  Trial 7/10 for subsample_ratio=0.8, max_iter=10\n"
     ]
    },
    {
     "name": "stderr",
     "output_type": "stream",
     "text": [
      "    Evaluating coalitions for trial 7: 100%|██████████| 1023/1023 [00:05<00:00, 194.68it/s]\n"
     ]
    },
    {
     "name": "stdout",
     "output_type": "stream",
     "text": [
      "  Trial 8/10 for subsample_ratio=0.8, max_iter=10\n"
     ]
    },
    {
     "name": "stderr",
     "output_type": "stream",
     "text": [
      "    Evaluating coalitions for trial 8: 100%|██████████| 1023/1023 [00:05<00:00, 197.82it/s]\n"
     ]
    },
    {
     "name": "stdout",
     "output_type": "stream",
     "text": [
      "  Trial 9/10 for subsample_ratio=0.8, max_iter=10\n"
     ]
    },
    {
     "name": "stderr",
     "output_type": "stream",
     "text": [
      "    Evaluating coalitions for trial 9: 100%|██████████| 1023/1023 [00:05<00:00, 195.02it/s]\n"
     ]
    },
    {
     "name": "stdout",
     "output_type": "stream",
     "text": [
      "  Trial 10/10 for subsample_ratio=0.8, max_iter=10\n"
     ]
    },
    {
     "name": "stderr",
     "output_type": "stream",
     "text": [
      "    Evaluating coalitions for trial 10: 100%|██████████| 1023/1023 [00:05<00:00, 198.48it/s]\n"
     ]
    },
    {
     "name": "stdout",
     "output_type": "stream",
     "text": [
      "\n",
      "Running experiment with subsample_ratio = 0.8, max_iter = 100\n",
      "  Trial 1/10 for subsample_ratio=0.8, max_iter=100\n"
     ]
    },
    {
     "name": "stderr",
     "output_type": "stream",
     "text": [
      "    Evaluating coalitions for trial 1: 100%|██████████| 1023/1023 [00:05<00:00, 198.08it/s]\n"
     ]
    },
    {
     "name": "stdout",
     "output_type": "stream",
     "text": [
      "  Trial 2/10 for subsample_ratio=0.8, max_iter=100\n"
     ]
    },
    {
     "name": "stderr",
     "output_type": "stream",
     "text": [
      "    Evaluating coalitions for trial 2: 100%|██████████| 1023/1023 [00:05<00:00, 195.45it/s]\n"
     ]
    },
    {
     "name": "stdout",
     "output_type": "stream",
     "text": [
      "  Trial 3/10 for subsample_ratio=0.8, max_iter=100\n"
     ]
    },
    {
     "name": "stderr",
     "output_type": "stream",
     "text": [
      "    Evaluating coalitions for trial 3: 100%|██████████| 1023/1023 [00:05<00:00, 192.78it/s]\n"
     ]
    },
    {
     "name": "stdout",
     "output_type": "stream",
     "text": [
      "  Trial 4/10 for subsample_ratio=0.8, max_iter=100\n"
     ]
    },
    {
     "name": "stderr",
     "output_type": "stream",
     "text": [
      "    Evaluating coalitions for trial 4: 100%|██████████| 1023/1023 [00:05<00:00, 196.45it/s]\n"
     ]
    },
    {
     "name": "stdout",
     "output_type": "stream",
     "text": [
      "  Trial 5/10 for subsample_ratio=0.8, max_iter=100\n"
     ]
    },
    {
     "name": "stderr",
     "output_type": "stream",
     "text": [
      "    Evaluating coalitions for trial 5: 100%|██████████| 1023/1023 [00:05<00:00, 196.79it/s]\n"
     ]
    },
    {
     "name": "stdout",
     "output_type": "stream",
     "text": [
      "  Trial 6/10 for subsample_ratio=0.8, max_iter=100\n"
     ]
    },
    {
     "name": "stderr",
     "output_type": "stream",
     "text": [
      "    Evaluating coalitions for trial 6: 100%|██████████| 1023/1023 [00:05<00:00, 193.61it/s]\n"
     ]
    },
    {
     "name": "stdout",
     "output_type": "stream",
     "text": [
      "  Trial 7/10 for subsample_ratio=0.8, max_iter=100\n"
     ]
    },
    {
     "name": "stderr",
     "output_type": "stream",
     "text": [
      "    Evaluating coalitions for trial 7: 100%|██████████| 1023/1023 [00:05<00:00, 197.15it/s]\n"
     ]
    },
    {
     "name": "stdout",
     "output_type": "stream",
     "text": [
      "  Trial 8/10 for subsample_ratio=0.8, max_iter=100\n"
     ]
    },
    {
     "name": "stderr",
     "output_type": "stream",
     "text": [
      "    Evaluating coalitions for trial 8: 100%|██████████| 1023/1023 [00:05<00:00, 195.86it/s]\n"
     ]
    },
    {
     "name": "stdout",
     "output_type": "stream",
     "text": [
      "  Trial 9/10 for subsample_ratio=0.8, max_iter=100\n"
     ]
    },
    {
     "name": "stderr",
     "output_type": "stream",
     "text": [
      "    Evaluating coalitions for trial 9: 100%|██████████| 1023/1023 [00:05<00:00, 197.24it/s]\n"
     ]
    },
    {
     "name": "stdout",
     "output_type": "stream",
     "text": [
      "  Trial 10/10 for subsample_ratio=0.8, max_iter=100\n"
     ]
    },
    {
     "name": "stderr",
     "output_type": "stream",
     "text": [
      "    Evaluating coalitions for trial 10: 100%|██████████| 1023/1023 [00:05<00:00, 196.95it/s]\n"
     ]
    },
    {
     "name": "stdout",
     "output_type": "stream",
     "text": [
      "Process complete. Results saved.\n"
     ]
    }
   ],
   "source": [
    "train_files_pattern = \".../data/corrupted_data/c6/train_{i:02d}.csv\" \n",
    "test_files_pattern = \".../data/corrupted_data/c6/test_{i:02d}.csv\" \n",
    "run_experiment(n_clients=10, n_trials=10, base_random_seed=42,  subsample_ratios=[0.5, 0.6, 0.7, 0.8],  max_iters=[10, 100], train_files_pattern=train_files_pattern, test_files_pattern=test_files_pattern)"
   ]
  },
  {
   "cell_type": "code",
   "execution_count": null,
   "metadata": {},
   "outputs": [
    {
     "name": "stdout",
     "output_type": "stream",
     "text": [
      "\n",
      "Running experiment with subsample_ratio = 0.5, max_iter = 10\n",
      "  Trial 1/10 for subsample_ratio=0.5, max_iter=10\n"
     ]
    },
    {
     "name": "stderr",
     "output_type": "stream",
     "text": [
      "    Evaluating coalitions for trial 1: 100%|██████████| 1023/1023 [00:06<00:00, 163.82it/s]\n"
     ]
    },
    {
     "name": "stdout",
     "output_type": "stream",
     "text": [
      "  Trial 2/10 for subsample_ratio=0.5, max_iter=10\n"
     ]
    },
    {
     "name": "stderr",
     "output_type": "stream",
     "text": [
      "    Evaluating coalitions for trial 2: 100%|██████████| 1023/1023 [00:06<00:00, 155.44it/s]\n"
     ]
    },
    {
     "name": "stdout",
     "output_type": "stream",
     "text": [
      "  Trial 3/10 for subsample_ratio=0.5, max_iter=10\n"
     ]
    },
    {
     "name": "stderr",
     "output_type": "stream",
     "text": [
      "    Evaluating coalitions for trial 3: 100%|██████████| 1023/1023 [00:06<00:00, 161.04it/s]\n"
     ]
    },
    {
     "name": "stdout",
     "output_type": "stream",
     "text": [
      "  Trial 4/10 for subsample_ratio=0.5, max_iter=10\n"
     ]
    },
    {
     "name": "stderr",
     "output_type": "stream",
     "text": [
      "    Evaluating coalitions for trial 4: 100%|██████████| 1023/1023 [00:06<00:00, 162.09it/s]\n"
     ]
    },
    {
     "name": "stdout",
     "output_type": "stream",
     "text": [
      "  Trial 5/10 for subsample_ratio=0.5, max_iter=10\n"
     ]
    },
    {
     "name": "stderr",
     "output_type": "stream",
     "text": [
      "    Evaluating coalitions for trial 5: 100%|██████████| 1023/1023 [00:06<00:00, 163.63it/s]\n"
     ]
    },
    {
     "name": "stdout",
     "output_type": "stream",
     "text": [
      "  Trial 6/10 for subsample_ratio=0.5, max_iter=10\n"
     ]
    },
    {
     "name": "stderr",
     "output_type": "stream",
     "text": [
      "    Evaluating coalitions for trial 6: 100%|██████████| 1023/1023 [00:06<00:00, 163.04it/s]\n"
     ]
    },
    {
     "name": "stdout",
     "output_type": "stream",
     "text": [
      "  Trial 7/10 for subsample_ratio=0.5, max_iter=10\n"
     ]
    },
    {
     "name": "stderr",
     "output_type": "stream",
     "text": [
      "    Evaluating coalitions for trial 7: 100%|██████████| 1023/1023 [00:06<00:00, 165.59it/s]\n"
     ]
    },
    {
     "name": "stdout",
     "output_type": "stream",
     "text": [
      "  Trial 8/10 for subsample_ratio=0.5, max_iter=10\n"
     ]
    },
    {
     "name": "stderr",
     "output_type": "stream",
     "text": [
      "    Evaluating coalitions for trial 8: 100%|██████████| 1023/1023 [00:06<00:00, 164.89it/s]\n"
     ]
    },
    {
     "name": "stdout",
     "output_type": "stream",
     "text": [
      "  Trial 9/10 for subsample_ratio=0.5, max_iter=10\n"
     ]
    },
    {
     "name": "stderr",
     "output_type": "stream",
     "text": [
      "    Evaluating coalitions for trial 9: 100%|██████████| 1023/1023 [00:06<00:00, 165.19it/s]\n"
     ]
    },
    {
     "name": "stdout",
     "output_type": "stream",
     "text": [
      "  Trial 10/10 for subsample_ratio=0.5, max_iter=10\n"
     ]
    },
    {
     "name": "stderr",
     "output_type": "stream",
     "text": [
      "    Evaluating coalitions for trial 10: 100%|██████████| 1023/1023 [00:06<00:00, 166.96it/s]\n"
     ]
    },
    {
     "name": "stdout",
     "output_type": "stream",
     "text": [
      "\n",
      "Running experiment with subsample_ratio = 0.5, max_iter = 100\n",
      "  Trial 1/10 for subsample_ratio=0.5, max_iter=100\n"
     ]
    },
    {
     "name": "stderr",
     "output_type": "stream",
     "text": [
      "    Evaluating coalitions for trial 1: 100%|██████████| 1023/1023 [00:06<00:00, 164.45it/s]\n"
     ]
    },
    {
     "name": "stdout",
     "output_type": "stream",
     "text": [
      "  Trial 2/10 for subsample_ratio=0.5, max_iter=100\n"
     ]
    },
    {
     "name": "stderr",
     "output_type": "stream",
     "text": [
      "    Evaluating coalitions for trial 2: 100%|██████████| 1023/1023 [00:06<00:00, 168.43it/s]\n"
     ]
    },
    {
     "name": "stdout",
     "output_type": "stream",
     "text": [
      "  Trial 3/10 for subsample_ratio=0.5, max_iter=100\n"
     ]
    },
    {
     "name": "stderr",
     "output_type": "stream",
     "text": [
      "    Evaluating coalitions for trial 3: 100%|██████████| 1023/1023 [00:06<00:00, 167.73it/s]\n"
     ]
    },
    {
     "name": "stdout",
     "output_type": "stream",
     "text": [
      "  Trial 4/10 for subsample_ratio=0.5, max_iter=100\n"
     ]
    },
    {
     "name": "stderr",
     "output_type": "stream",
     "text": [
      "    Evaluating coalitions for trial 4: 100%|██████████| 1023/1023 [00:06<00:00, 165.30it/s]\n"
     ]
    },
    {
     "name": "stdout",
     "output_type": "stream",
     "text": [
      "  Trial 5/10 for subsample_ratio=0.5, max_iter=100\n"
     ]
    },
    {
     "name": "stderr",
     "output_type": "stream",
     "text": [
      "    Evaluating coalitions for trial 5: 100%|██████████| 1023/1023 [00:06<00:00, 164.71it/s]\n"
     ]
    },
    {
     "name": "stdout",
     "output_type": "stream",
     "text": [
      "  Trial 6/10 for subsample_ratio=0.5, max_iter=100\n"
     ]
    },
    {
     "name": "stderr",
     "output_type": "stream",
     "text": [
      "    Evaluating coalitions for trial 6: 100%|██████████| 1023/1023 [00:06<00:00, 165.65it/s]\n"
     ]
    },
    {
     "name": "stdout",
     "output_type": "stream",
     "text": [
      "  Trial 7/10 for subsample_ratio=0.5, max_iter=100\n"
     ]
    },
    {
     "name": "stderr",
     "output_type": "stream",
     "text": [
      "    Evaluating coalitions for trial 7: 100%|██████████| 1023/1023 [00:06<00:00, 167.01it/s]\n"
     ]
    },
    {
     "name": "stdout",
     "output_type": "stream",
     "text": [
      "  Trial 8/10 for subsample_ratio=0.5, max_iter=100\n"
     ]
    },
    {
     "name": "stderr",
     "output_type": "stream",
     "text": [
      "    Evaluating coalitions for trial 8: 100%|██████████| 1023/1023 [00:06<00:00, 156.87it/s]\n"
     ]
    },
    {
     "name": "stdout",
     "output_type": "stream",
     "text": [
      "  Trial 9/10 for subsample_ratio=0.5, max_iter=100\n"
     ]
    },
    {
     "name": "stderr",
     "output_type": "stream",
     "text": [
      "    Evaluating coalitions for trial 9: 100%|██████████| 1023/1023 [00:06<00:00, 156.29it/s]\n"
     ]
    },
    {
     "name": "stdout",
     "output_type": "stream",
     "text": [
      "  Trial 10/10 for subsample_ratio=0.5, max_iter=100\n"
     ]
    },
    {
     "name": "stderr",
     "output_type": "stream",
     "text": [
      "    Evaluating coalitions for trial 10: 100%|██████████| 1023/1023 [00:06<00:00, 149.00it/s]\n"
     ]
    },
    {
     "name": "stdout",
     "output_type": "stream",
     "text": [
      "\n",
      "Running experiment with subsample_ratio = 0.6, max_iter = 10\n",
      "  Trial 1/10 for subsample_ratio=0.6, max_iter=10\n"
     ]
    },
    {
     "name": "stderr",
     "output_type": "stream",
     "text": [
      "    Evaluating coalitions for trial 1: 100%|██████████| 1023/1023 [00:06<00:00, 160.50it/s]\n"
     ]
    },
    {
     "name": "stdout",
     "output_type": "stream",
     "text": [
      "  Trial 2/10 for subsample_ratio=0.6, max_iter=10\n"
     ]
    },
    {
     "name": "stderr",
     "output_type": "stream",
     "text": [
      "    Evaluating coalitions for trial 2: 100%|██████████| 1023/1023 [00:06<00:00, 156.39it/s]\n"
     ]
    },
    {
     "name": "stdout",
     "output_type": "stream",
     "text": [
      "  Trial 3/10 for subsample_ratio=0.6, max_iter=10\n"
     ]
    },
    {
     "name": "stderr",
     "output_type": "stream",
     "text": [
      "    Evaluating coalitions for trial 3: 100%|██████████| 1023/1023 [00:06<00:00, 156.34it/s]\n"
     ]
    },
    {
     "name": "stdout",
     "output_type": "stream",
     "text": [
      "  Trial 4/10 for subsample_ratio=0.6, max_iter=10\n"
     ]
    },
    {
     "name": "stderr",
     "output_type": "stream",
     "text": [
      "    Evaluating coalitions for trial 4: 100%|██████████| 1023/1023 [00:06<00:00, 155.77it/s]\n"
     ]
    },
    {
     "name": "stdout",
     "output_type": "stream",
     "text": [
      "  Trial 5/10 for subsample_ratio=0.6, max_iter=10\n"
     ]
    },
    {
     "name": "stderr",
     "output_type": "stream",
     "text": [
      "    Evaluating coalitions for trial 5: 100%|██████████| 1023/1023 [00:06<00:00, 154.76it/s]\n"
     ]
    },
    {
     "name": "stdout",
     "output_type": "stream",
     "text": [
      "  Trial 6/10 for subsample_ratio=0.6, max_iter=10\n"
     ]
    },
    {
     "name": "stderr",
     "output_type": "stream",
     "text": [
      "    Evaluating coalitions for trial 6: 100%|██████████| 1023/1023 [00:06<00:00, 161.08it/s]\n"
     ]
    },
    {
     "name": "stdout",
     "output_type": "stream",
     "text": [
      "  Trial 7/10 for subsample_ratio=0.6, max_iter=10\n"
     ]
    },
    {
     "name": "stderr",
     "output_type": "stream",
     "text": [
      "    Evaluating coalitions for trial 7: 100%|██████████| 1023/1023 [00:06<00:00, 161.82it/s]\n"
     ]
    },
    {
     "name": "stdout",
     "output_type": "stream",
     "text": [
      "  Trial 8/10 for subsample_ratio=0.6, max_iter=10\n"
     ]
    },
    {
     "name": "stderr",
     "output_type": "stream",
     "text": [
      "    Evaluating coalitions for trial 8: 100%|██████████| 1023/1023 [00:06<00:00, 155.53it/s]\n"
     ]
    },
    {
     "name": "stdout",
     "output_type": "stream",
     "text": [
      "  Trial 9/10 for subsample_ratio=0.6, max_iter=10\n"
     ]
    },
    {
     "name": "stderr",
     "output_type": "stream",
     "text": [
      "    Evaluating coalitions for trial 9: 100%|██████████| 1023/1023 [00:06<00:00, 161.61it/s]\n"
     ]
    },
    {
     "name": "stdout",
     "output_type": "stream",
     "text": [
      "  Trial 10/10 for subsample_ratio=0.6, max_iter=10\n"
     ]
    },
    {
     "name": "stderr",
     "output_type": "stream",
     "text": [
      "    Evaluating coalitions for trial 10: 100%|██████████| 1023/1023 [00:06<00:00, 161.48it/s]\n"
     ]
    },
    {
     "name": "stdout",
     "output_type": "stream",
     "text": [
      "\n",
      "Running experiment with subsample_ratio = 0.6, max_iter = 100\n",
      "  Trial 1/10 for subsample_ratio=0.6, max_iter=100\n"
     ]
    },
    {
     "name": "stderr",
     "output_type": "stream",
     "text": [
      "    Evaluating coalitions for trial 1: 100%|██████████| 1023/1023 [00:06<00:00, 159.57it/s]\n"
     ]
    },
    {
     "name": "stdout",
     "output_type": "stream",
     "text": [
      "  Trial 2/10 for subsample_ratio=0.6, max_iter=100\n"
     ]
    },
    {
     "name": "stderr",
     "output_type": "stream",
     "text": [
      "    Evaluating coalitions for trial 2: 100%|██████████| 1023/1023 [00:06<00:00, 157.64it/s]\n"
     ]
    },
    {
     "name": "stdout",
     "output_type": "stream",
     "text": [
      "  Trial 3/10 for subsample_ratio=0.6, max_iter=100\n"
     ]
    },
    {
     "name": "stderr",
     "output_type": "stream",
     "text": [
      "    Evaluating coalitions for trial 3: 100%|██████████| 1023/1023 [00:06<00:00, 161.78it/s]\n"
     ]
    },
    {
     "name": "stdout",
     "output_type": "stream",
     "text": [
      "  Trial 4/10 for subsample_ratio=0.6, max_iter=100\n"
     ]
    },
    {
     "name": "stderr",
     "output_type": "stream",
     "text": [
      "    Evaluating coalitions for trial 4: 100%|██████████| 1023/1023 [00:06<00:00, 159.51it/s]\n"
     ]
    },
    {
     "name": "stdout",
     "output_type": "stream",
     "text": [
      "  Trial 5/10 for subsample_ratio=0.6, max_iter=100\n"
     ]
    },
    {
     "name": "stderr",
     "output_type": "stream",
     "text": [
      "    Evaluating coalitions for trial 5: 100%|██████████| 1023/1023 [00:06<00:00, 160.70it/s]\n"
     ]
    },
    {
     "name": "stdout",
     "output_type": "stream",
     "text": [
      "  Trial 6/10 for subsample_ratio=0.6, max_iter=100\n"
     ]
    },
    {
     "name": "stderr",
     "output_type": "stream",
     "text": [
      "    Evaluating coalitions for trial 6: 100%|██████████| 1023/1023 [00:06<00:00, 159.96it/s]\n"
     ]
    },
    {
     "name": "stdout",
     "output_type": "stream",
     "text": [
      "  Trial 7/10 for subsample_ratio=0.6, max_iter=100\n"
     ]
    },
    {
     "name": "stderr",
     "output_type": "stream",
     "text": [
      "    Evaluating coalitions for trial 7: 100%|██████████| 1023/1023 [00:06<00:00, 158.59it/s]\n"
     ]
    },
    {
     "name": "stdout",
     "output_type": "stream",
     "text": [
      "  Trial 8/10 for subsample_ratio=0.6, max_iter=100\n"
     ]
    },
    {
     "name": "stderr",
     "output_type": "stream",
     "text": [
      "    Evaluating coalitions for trial 8: 100%|██████████| 1023/1023 [00:06<00:00, 158.41it/s]\n"
     ]
    },
    {
     "name": "stdout",
     "output_type": "stream",
     "text": [
      "  Trial 9/10 for subsample_ratio=0.6, max_iter=100\n"
     ]
    },
    {
     "name": "stderr",
     "output_type": "stream",
     "text": [
      "    Evaluating coalitions for trial 9: 100%|██████████| 1023/1023 [00:06<00:00, 161.14it/s]\n"
     ]
    },
    {
     "name": "stdout",
     "output_type": "stream",
     "text": [
      "  Trial 10/10 for subsample_ratio=0.6, max_iter=100\n"
     ]
    },
    {
     "name": "stderr",
     "output_type": "stream",
     "text": [
      "    Evaluating coalitions for trial 10: 100%|██████████| 1023/1023 [00:06<00:00, 160.91it/s]\n"
     ]
    },
    {
     "name": "stdout",
     "output_type": "stream",
     "text": [
      "\n",
      "Running experiment with subsample_ratio = 0.7, max_iter = 10\n",
      "  Trial 1/10 for subsample_ratio=0.7, max_iter=10\n"
     ]
    },
    {
     "name": "stderr",
     "output_type": "stream",
     "text": [
      "    Evaluating coalitions for trial 1: 100%|██████████| 1023/1023 [00:06<00:00, 158.04it/s]\n"
     ]
    },
    {
     "name": "stdout",
     "output_type": "stream",
     "text": [
      "  Trial 2/10 for subsample_ratio=0.7, max_iter=10\n"
     ]
    },
    {
     "name": "stderr",
     "output_type": "stream",
     "text": [
      "    Evaluating coalitions for trial 2: 100%|██████████| 1023/1023 [00:06<00:00, 160.42it/s]\n"
     ]
    },
    {
     "name": "stdout",
     "output_type": "stream",
     "text": [
      "  Trial 3/10 for subsample_ratio=0.7, max_iter=10\n"
     ]
    },
    {
     "name": "stderr",
     "output_type": "stream",
     "text": [
      "    Evaluating coalitions for trial 3: 100%|██████████| 1023/1023 [00:06<00:00, 157.73it/s]\n"
     ]
    },
    {
     "name": "stdout",
     "output_type": "stream",
     "text": [
      "  Trial 4/10 for subsample_ratio=0.7, max_iter=10\n"
     ]
    },
    {
     "name": "stderr",
     "output_type": "stream",
     "text": [
      "    Evaluating coalitions for trial 4: 100%|██████████| 1023/1023 [00:06<00:00, 158.74it/s]\n"
     ]
    },
    {
     "name": "stdout",
     "output_type": "stream",
     "text": [
      "  Trial 5/10 for subsample_ratio=0.7, max_iter=10\n"
     ]
    },
    {
     "name": "stderr",
     "output_type": "stream",
     "text": [
      "    Evaluating coalitions for trial 5: 100%|██████████| 1023/1023 [00:06<00:00, 157.64it/s]\n"
     ]
    },
    {
     "name": "stdout",
     "output_type": "stream",
     "text": [
      "  Trial 6/10 for subsample_ratio=0.7, max_iter=10\n"
     ]
    },
    {
     "name": "stderr",
     "output_type": "stream",
     "text": [
      "    Evaluating coalitions for trial 6: 100%|██████████| 1023/1023 [00:06<00:00, 156.75it/s]\n"
     ]
    },
    {
     "name": "stdout",
     "output_type": "stream",
     "text": [
      "  Trial 7/10 for subsample_ratio=0.7, max_iter=10\n"
     ]
    },
    {
     "name": "stderr",
     "output_type": "stream",
     "text": [
      "    Evaluating coalitions for trial 7: 100%|██████████| 1023/1023 [00:06<00:00, 161.78it/s]\n"
     ]
    },
    {
     "name": "stdout",
     "output_type": "stream",
     "text": [
      "  Trial 8/10 for subsample_ratio=0.7, max_iter=10\n"
     ]
    },
    {
     "name": "stderr",
     "output_type": "stream",
     "text": [
      "    Evaluating coalitions for trial 8: 100%|██████████| 1023/1023 [00:06<00:00, 159.09it/s]\n"
     ]
    },
    {
     "name": "stdout",
     "output_type": "stream",
     "text": [
      "  Trial 9/10 for subsample_ratio=0.7, max_iter=10\n"
     ]
    },
    {
     "name": "stderr",
     "output_type": "stream",
     "text": [
      "    Evaluating coalitions for trial 9: 100%|██████████| 1023/1023 [00:06<00:00, 156.73it/s]\n"
     ]
    },
    {
     "name": "stdout",
     "output_type": "stream",
     "text": [
      "  Trial 10/10 for subsample_ratio=0.7, max_iter=10\n"
     ]
    },
    {
     "name": "stderr",
     "output_type": "stream",
     "text": [
      "    Evaluating coalitions for trial 10: 100%|██████████| 1023/1023 [00:06<00:00, 161.27it/s]\n"
     ]
    },
    {
     "name": "stdout",
     "output_type": "stream",
     "text": [
      "\n",
      "Running experiment with subsample_ratio = 0.7, max_iter = 100\n",
      "  Trial 1/10 for subsample_ratio=0.7, max_iter=100\n"
     ]
    },
    {
     "name": "stderr",
     "output_type": "stream",
     "text": [
      "    Evaluating coalitions for trial 1: 100%|██████████| 1023/1023 [00:06<00:00, 160.04it/s]\n"
     ]
    },
    {
     "name": "stdout",
     "output_type": "stream",
     "text": [
      "  Trial 2/10 for subsample_ratio=0.7, max_iter=100\n"
     ]
    },
    {
     "name": "stderr",
     "output_type": "stream",
     "text": [
      "    Evaluating coalitions for trial 2: 100%|██████████| 1023/1023 [00:06<00:00, 162.89it/s]\n"
     ]
    },
    {
     "name": "stdout",
     "output_type": "stream",
     "text": [
      "  Trial 3/10 for subsample_ratio=0.7, max_iter=100\n"
     ]
    },
    {
     "name": "stderr",
     "output_type": "stream",
     "text": [
      "    Evaluating coalitions for trial 3: 100%|██████████| 1023/1023 [00:06<00:00, 163.85it/s]\n"
     ]
    },
    {
     "name": "stdout",
     "output_type": "stream",
     "text": [
      "  Trial 4/10 for subsample_ratio=0.7, max_iter=100\n"
     ]
    },
    {
     "name": "stderr",
     "output_type": "stream",
     "text": [
      "    Evaluating coalitions for trial 4: 100%|██████████| 1023/1023 [00:06<00:00, 159.94it/s]\n"
     ]
    },
    {
     "name": "stdout",
     "output_type": "stream",
     "text": [
      "  Trial 5/10 for subsample_ratio=0.7, max_iter=100\n"
     ]
    },
    {
     "name": "stderr",
     "output_type": "stream",
     "text": [
      "    Evaluating coalitions for trial 5: 100%|██████████| 1023/1023 [00:06<00:00, 156.30it/s]\n"
     ]
    },
    {
     "name": "stdout",
     "output_type": "stream",
     "text": [
      "  Trial 6/10 for subsample_ratio=0.7, max_iter=100\n"
     ]
    },
    {
     "name": "stderr",
     "output_type": "stream",
     "text": [
      "    Evaluating coalitions for trial 6: 100%|██████████| 1023/1023 [00:06<00:00, 156.68it/s]\n"
     ]
    },
    {
     "name": "stdout",
     "output_type": "stream",
     "text": [
      "  Trial 7/10 for subsample_ratio=0.7, max_iter=100\n"
     ]
    },
    {
     "name": "stderr",
     "output_type": "stream",
     "text": [
      "    Evaluating coalitions for trial 7: 100%|██████████| 1023/1023 [00:06<00:00, 155.68it/s]\n"
     ]
    },
    {
     "name": "stdout",
     "output_type": "stream",
     "text": [
      "  Trial 8/10 for subsample_ratio=0.7, max_iter=100\n"
     ]
    },
    {
     "name": "stderr",
     "output_type": "stream",
     "text": [
      "    Evaluating coalitions for trial 8: 100%|██████████| 1023/1023 [00:06<00:00, 154.92it/s]\n"
     ]
    },
    {
     "name": "stdout",
     "output_type": "stream",
     "text": [
      "  Trial 9/10 for subsample_ratio=0.7, max_iter=100\n"
     ]
    },
    {
     "name": "stderr",
     "output_type": "stream",
     "text": [
      "    Evaluating coalitions for trial 9: 100%|██████████| 1023/1023 [00:06<00:00, 159.58it/s]\n"
     ]
    },
    {
     "name": "stdout",
     "output_type": "stream",
     "text": [
      "  Trial 10/10 for subsample_ratio=0.7, max_iter=100\n"
     ]
    },
    {
     "name": "stderr",
     "output_type": "stream",
     "text": [
      "    Evaluating coalitions for trial 10: 100%|██████████| 1023/1023 [00:06<00:00, 163.17it/s]\n"
     ]
    },
    {
     "name": "stdout",
     "output_type": "stream",
     "text": [
      "\n",
      "Running experiment with subsample_ratio = 0.8, max_iter = 10\n",
      "  Trial 1/10 for subsample_ratio=0.8, max_iter=10\n"
     ]
    },
    {
     "name": "stderr",
     "output_type": "stream",
     "text": [
      "    Evaluating coalitions for trial 1: 100%|██████████| 1023/1023 [00:06<00:00, 158.24it/s]\n"
     ]
    },
    {
     "name": "stdout",
     "output_type": "stream",
     "text": [
      "  Trial 2/10 for subsample_ratio=0.8, max_iter=10\n"
     ]
    },
    {
     "name": "stderr",
     "output_type": "stream",
     "text": [
      "    Evaluating coalitions for trial 2: 100%|██████████| 1023/1023 [00:06<00:00, 160.45it/s]\n"
     ]
    },
    {
     "name": "stdout",
     "output_type": "stream",
     "text": [
      "  Trial 3/10 for subsample_ratio=0.8, max_iter=10\n"
     ]
    },
    {
     "name": "stderr",
     "output_type": "stream",
     "text": [
      "    Evaluating coalitions for trial 3: 100%|██████████| 1023/1023 [00:06<00:00, 157.34it/s]\n"
     ]
    },
    {
     "name": "stdout",
     "output_type": "stream",
     "text": [
      "  Trial 4/10 for subsample_ratio=0.8, max_iter=10\n"
     ]
    },
    {
     "name": "stderr",
     "output_type": "stream",
     "text": [
      "    Evaluating coalitions for trial 4: 100%|██████████| 1023/1023 [00:06<00:00, 166.20it/s]\n"
     ]
    },
    {
     "name": "stdout",
     "output_type": "stream",
     "text": [
      "  Trial 5/10 for subsample_ratio=0.8, max_iter=10\n"
     ]
    },
    {
     "name": "stderr",
     "output_type": "stream",
     "text": [
      "    Evaluating coalitions for trial 5: 100%|██████████| 1023/1023 [00:06<00:00, 152.87it/s]\n"
     ]
    },
    {
     "name": "stdout",
     "output_type": "stream",
     "text": [
      "  Trial 6/10 for subsample_ratio=0.8, max_iter=10\n"
     ]
    },
    {
     "name": "stderr",
     "output_type": "stream",
     "text": [
      "    Evaluating coalitions for trial 6: 100%|██████████| 1023/1023 [00:07<00:00, 138.47it/s]\n"
     ]
    },
    {
     "name": "stdout",
     "output_type": "stream",
     "text": [
      "  Trial 7/10 for subsample_ratio=0.8, max_iter=10\n"
     ]
    },
    {
     "name": "stderr",
     "output_type": "stream",
     "text": [
      "    Evaluating coalitions for trial 7: 100%|██████████| 1023/1023 [00:07<00:00, 138.84it/s]\n"
     ]
    },
    {
     "name": "stdout",
     "output_type": "stream",
     "text": [
      "  Trial 8/10 for subsample_ratio=0.8, max_iter=10\n"
     ]
    },
    {
     "name": "stderr",
     "output_type": "stream",
     "text": [
      "    Evaluating coalitions for trial 8: 100%|██████████| 1023/1023 [00:06<00:00, 155.39it/s]\n"
     ]
    },
    {
     "name": "stdout",
     "output_type": "stream",
     "text": [
      "  Trial 9/10 for subsample_ratio=0.8, max_iter=10\n"
     ]
    },
    {
     "name": "stderr",
     "output_type": "stream",
     "text": [
      "    Evaluating coalitions for trial 9: 100%|██████████| 1023/1023 [00:06<00:00, 163.17it/s]\n"
     ]
    },
    {
     "name": "stdout",
     "output_type": "stream",
     "text": [
      "  Trial 10/10 for subsample_ratio=0.8, max_iter=10\n"
     ]
    },
    {
     "name": "stderr",
     "output_type": "stream",
     "text": [
      "    Evaluating coalitions for trial 10: 100%|██████████| 1023/1023 [00:06<00:00, 155.94it/s]\n"
     ]
    },
    {
     "name": "stdout",
     "output_type": "stream",
     "text": [
      "\n",
      "Running experiment with subsample_ratio = 0.8, max_iter = 100\n",
      "  Trial 1/10 for subsample_ratio=0.8, max_iter=100\n"
     ]
    },
    {
     "name": "stderr",
     "output_type": "stream",
     "text": [
      "    Evaluating coalitions for trial 1: 100%|██████████| 1023/1023 [00:06<00:00, 151.28it/s]\n"
     ]
    },
    {
     "name": "stdout",
     "output_type": "stream",
     "text": [
      "  Trial 2/10 for subsample_ratio=0.8, max_iter=100\n"
     ]
    },
    {
     "name": "stderr",
     "output_type": "stream",
     "text": [
      "    Evaluating coalitions for trial 2: 100%|██████████| 1023/1023 [00:06<00:00, 161.73it/s]\n"
     ]
    },
    {
     "name": "stdout",
     "output_type": "stream",
     "text": [
      "  Trial 3/10 for subsample_ratio=0.8, max_iter=100\n"
     ]
    },
    {
     "name": "stderr",
     "output_type": "stream",
     "text": [
      "    Evaluating coalitions for trial 3: 100%|██████████| 1023/1023 [00:06<00:00, 157.38it/s]\n"
     ]
    },
    {
     "name": "stdout",
     "output_type": "stream",
     "text": [
      "  Trial 4/10 for subsample_ratio=0.8, max_iter=100\n"
     ]
    },
    {
     "name": "stderr",
     "output_type": "stream",
     "text": [
      "    Evaluating coalitions for trial 4: 100%|██████████| 1023/1023 [00:06<00:00, 156.70it/s]\n"
     ]
    },
    {
     "name": "stdout",
     "output_type": "stream",
     "text": [
      "  Trial 5/10 for subsample_ratio=0.8, max_iter=100\n"
     ]
    },
    {
     "name": "stderr",
     "output_type": "stream",
     "text": [
      "    Evaluating coalitions for trial 5: 100%|██████████| 1023/1023 [00:06<00:00, 159.68it/s]\n"
     ]
    },
    {
     "name": "stdout",
     "output_type": "stream",
     "text": [
      "  Trial 6/10 for subsample_ratio=0.8, max_iter=100\n"
     ]
    },
    {
     "name": "stderr",
     "output_type": "stream",
     "text": [
      "    Evaluating coalitions for trial 6: 100%|██████████| 1023/1023 [00:06<00:00, 164.00it/s]\n"
     ]
    },
    {
     "name": "stdout",
     "output_type": "stream",
     "text": [
      "  Trial 7/10 for subsample_ratio=0.8, max_iter=100\n"
     ]
    },
    {
     "name": "stderr",
     "output_type": "stream",
     "text": [
      "    Evaluating coalitions for trial 7: 100%|██████████| 1023/1023 [00:06<00:00, 166.16it/s]\n"
     ]
    },
    {
     "name": "stdout",
     "output_type": "stream",
     "text": [
      "  Trial 8/10 for subsample_ratio=0.8, max_iter=100\n"
     ]
    },
    {
     "name": "stderr",
     "output_type": "stream",
     "text": [
      "    Evaluating coalitions for trial 8: 100%|██████████| 1023/1023 [00:06<00:00, 163.07it/s]\n"
     ]
    },
    {
     "name": "stdout",
     "output_type": "stream",
     "text": [
      "  Trial 9/10 for subsample_ratio=0.8, max_iter=100\n"
     ]
    },
    {
     "name": "stderr",
     "output_type": "stream",
     "text": [
      "    Evaluating coalitions for trial 9: 100%|██████████| 1023/1023 [00:06<00:00, 164.68it/s]\n"
     ]
    },
    {
     "name": "stdout",
     "output_type": "stream",
     "text": [
      "  Trial 10/10 for subsample_ratio=0.8, max_iter=100\n"
     ]
    },
    {
     "name": "stderr",
     "output_type": "stream",
     "text": [
      "    Evaluating coalitions for trial 10: 100%|██████████| 1023/1023 [00:06<00:00, 161.48it/s]"
     ]
    },
    {
     "name": "stdout",
     "output_type": "stream",
     "text": [
      "Process complete. Results saved.\n"
     ]
    },
    {
     "name": "stderr",
     "output_type": "stream",
     "text": [
      "\n"
     ]
    }
   ],
   "source": [
    "train_files_pattern = \".../data/corrupted_data/c8/train_{i:02d}.csv\" \n",
    "test_files_pattern = \".../data/corrupted_data/c8/test_{i:02d}.csv\" \n",
    "run_experiment(n_clients=10, n_trials=10, base_random_seed=42,  subsample_ratios=[0.5, 0.6, 0.7, 0.8],  max_iters=[10, 100], train_files_pattern=train_files_pattern, test_files_pattern=test_files_pattern)\n"
   ]
  },
  {
   "cell_type": "code",
   "execution_count": null,
   "metadata": {},
   "outputs": [
    {
     "name": "stdout",
     "output_type": "stream",
     "text": [
      "\n",
      "Running experiment with subsample_ratio = 0.5, max_iter = 10\n",
      "  Trial 1/10 for subsample_ratio=0.5, max_iter=10\n"
     ]
    },
    {
     "name": "stderr",
     "output_type": "stream",
     "text": [
      "    Evaluating coalitions for trial 1: 100%|██████████| 1023/1023 [00:06<00:00, 156.80it/s]\n"
     ]
    },
    {
     "name": "stdout",
     "output_type": "stream",
     "text": [
      "  Trial 2/10 for subsample_ratio=0.5, max_iter=10\n"
     ]
    },
    {
     "name": "stderr",
     "output_type": "stream",
     "text": [
      "    Evaluating coalitions for trial 2: 100%|██████████| 1023/1023 [00:06<00:00, 157.56it/s]\n"
     ]
    },
    {
     "name": "stdout",
     "output_type": "stream",
     "text": [
      "  Trial 3/10 for subsample_ratio=0.5, max_iter=10\n"
     ]
    },
    {
     "name": "stderr",
     "output_type": "stream",
     "text": [
      "    Evaluating coalitions for trial 3: 100%|██████████| 1023/1023 [00:06<00:00, 157.82it/s]\n"
     ]
    },
    {
     "name": "stdout",
     "output_type": "stream",
     "text": [
      "  Trial 4/10 for subsample_ratio=0.5, max_iter=10\n"
     ]
    },
    {
     "name": "stderr",
     "output_type": "stream",
     "text": [
      "    Evaluating coalitions for trial 4: 100%|██████████| 1023/1023 [00:06<00:00, 159.31it/s]\n"
     ]
    },
    {
     "name": "stdout",
     "output_type": "stream",
     "text": [
      "  Trial 5/10 for subsample_ratio=0.5, max_iter=10\n"
     ]
    },
    {
     "name": "stderr",
     "output_type": "stream",
     "text": [
      "    Evaluating coalitions for trial 5: 100%|██████████| 1023/1023 [00:06<00:00, 161.07it/s]\n"
     ]
    },
    {
     "name": "stdout",
     "output_type": "stream",
     "text": [
      "  Trial 6/10 for subsample_ratio=0.5, max_iter=10\n"
     ]
    },
    {
     "name": "stderr",
     "output_type": "stream",
     "text": [
      "    Evaluating coalitions for trial 6: 100%|██████████| 1023/1023 [00:06<00:00, 159.39it/s]\n"
     ]
    },
    {
     "name": "stdout",
     "output_type": "stream",
     "text": [
      "  Trial 7/10 for subsample_ratio=0.5, max_iter=10\n"
     ]
    },
    {
     "name": "stderr",
     "output_type": "stream",
     "text": [
      "    Evaluating coalitions for trial 7: 100%|██████████| 1023/1023 [00:06<00:00, 155.86it/s]\n"
     ]
    },
    {
     "name": "stdout",
     "output_type": "stream",
     "text": [
      "  Trial 8/10 for subsample_ratio=0.5, max_iter=10\n"
     ]
    },
    {
     "name": "stderr",
     "output_type": "stream",
     "text": [
      "    Evaluating coalitions for trial 8: 100%|██████████| 1023/1023 [00:06<00:00, 157.09it/s]\n"
     ]
    },
    {
     "name": "stdout",
     "output_type": "stream",
     "text": [
      "  Trial 9/10 for subsample_ratio=0.5, max_iter=10\n"
     ]
    },
    {
     "name": "stderr",
     "output_type": "stream",
     "text": [
      "    Evaluating coalitions for trial 9: 100%|██████████| 1023/1023 [00:06<00:00, 155.86it/s]\n"
     ]
    },
    {
     "name": "stdout",
     "output_type": "stream",
     "text": [
      "  Trial 10/10 for subsample_ratio=0.5, max_iter=10\n"
     ]
    },
    {
     "name": "stderr",
     "output_type": "stream",
     "text": [
      "    Evaluating coalitions for trial 10: 100%|██████████| 1023/1023 [00:06<00:00, 160.42it/s]\n"
     ]
    },
    {
     "name": "stdout",
     "output_type": "stream",
     "text": [
      "\n",
      "Running experiment with subsample_ratio = 0.5, max_iter = 100\n",
      "  Trial 1/10 for subsample_ratio=0.5, max_iter=100\n"
     ]
    },
    {
     "name": "stderr",
     "output_type": "stream",
     "text": [
      "    Evaluating coalitions for trial 1: 100%|██████████| 1023/1023 [00:06<00:00, 154.13it/s]\n"
     ]
    },
    {
     "name": "stdout",
     "output_type": "stream",
     "text": [
      "  Trial 2/10 for subsample_ratio=0.5, max_iter=100\n"
     ]
    },
    {
     "name": "stderr",
     "output_type": "stream",
     "text": [
      "    Evaluating coalitions for trial 2: 100%|██████████| 1023/1023 [00:07<00:00, 142.92it/s]\n"
     ]
    },
    {
     "name": "stdout",
     "output_type": "stream",
     "text": [
      "  Trial 3/10 for subsample_ratio=0.5, max_iter=100\n"
     ]
    },
    {
     "name": "stderr",
     "output_type": "stream",
     "text": [
      "    Evaluating coalitions for trial 3: 100%|██████████| 1023/1023 [00:06<00:00, 161.18it/s]\n"
     ]
    },
    {
     "name": "stdout",
     "output_type": "stream",
     "text": [
      "  Trial 4/10 for subsample_ratio=0.5, max_iter=100\n"
     ]
    },
    {
     "name": "stderr",
     "output_type": "stream",
     "text": [
      "    Evaluating coalitions for trial 4: 100%|██████████| 1023/1023 [00:06<00:00, 160.42it/s]\n"
     ]
    },
    {
     "name": "stdout",
     "output_type": "stream",
     "text": [
      "  Trial 5/10 for subsample_ratio=0.5, max_iter=100\n"
     ]
    },
    {
     "name": "stderr",
     "output_type": "stream",
     "text": [
      "    Evaluating coalitions for trial 5: 100%|██████████| 1023/1023 [00:06<00:00, 156.98it/s]\n"
     ]
    },
    {
     "name": "stdout",
     "output_type": "stream",
     "text": [
      "  Trial 6/10 for subsample_ratio=0.5, max_iter=100\n"
     ]
    },
    {
     "name": "stderr",
     "output_type": "stream",
     "text": [
      "    Evaluating coalitions for trial 6: 100%|██████████| 1023/1023 [00:06<00:00, 152.61it/s]\n"
     ]
    },
    {
     "name": "stdout",
     "output_type": "stream",
     "text": [
      "  Trial 7/10 for subsample_ratio=0.5, max_iter=100\n"
     ]
    },
    {
     "name": "stderr",
     "output_type": "stream",
     "text": [
      "    Evaluating coalitions for trial 7: 100%|██████████| 1023/1023 [00:06<00:00, 156.12it/s]\n"
     ]
    },
    {
     "name": "stdout",
     "output_type": "stream",
     "text": [
      "  Trial 8/10 for subsample_ratio=0.5, max_iter=100\n"
     ]
    },
    {
     "name": "stderr",
     "output_type": "stream",
     "text": [
      "    Evaluating coalitions for trial 8: 100%|██████████| 1023/1023 [00:06<00:00, 156.59it/s]\n"
     ]
    },
    {
     "name": "stdout",
     "output_type": "stream",
     "text": [
      "  Trial 9/10 for subsample_ratio=0.5, max_iter=100\n"
     ]
    },
    {
     "name": "stderr",
     "output_type": "stream",
     "text": [
      "    Evaluating coalitions for trial 9: 100%|██████████| 1023/1023 [00:06<00:00, 159.52it/s]\n"
     ]
    },
    {
     "name": "stdout",
     "output_type": "stream",
     "text": [
      "  Trial 10/10 for subsample_ratio=0.5, max_iter=100\n"
     ]
    },
    {
     "name": "stderr",
     "output_type": "stream",
     "text": [
      "    Evaluating coalitions for trial 10: 100%|██████████| 1023/1023 [00:06<00:00, 153.98it/s]\n"
     ]
    },
    {
     "name": "stdout",
     "output_type": "stream",
     "text": [
      "\n",
      "Running experiment with subsample_ratio = 0.6, max_iter = 10\n",
      "  Trial 1/10 for subsample_ratio=0.6, max_iter=10\n"
     ]
    },
    {
     "name": "stderr",
     "output_type": "stream",
     "text": [
      "    Evaluating coalitions for trial 1: 100%|██████████| 1023/1023 [00:07<00:00, 140.93it/s]\n"
     ]
    },
    {
     "name": "stdout",
     "output_type": "stream",
     "text": [
      "  Trial 2/10 for subsample_ratio=0.6, max_iter=10\n"
     ]
    },
    {
     "name": "stderr",
     "output_type": "stream",
     "text": [
      "    Evaluating coalitions for trial 2: 100%|██████████| 1023/1023 [00:06<00:00, 155.62it/s]\n"
     ]
    },
    {
     "name": "stdout",
     "output_type": "stream",
     "text": [
      "  Trial 3/10 for subsample_ratio=0.6, max_iter=10\n"
     ]
    },
    {
     "name": "stderr",
     "output_type": "stream",
     "text": [
      "    Evaluating coalitions for trial 3: 100%|██████████| 1023/1023 [00:06<00:00, 155.59it/s]\n"
     ]
    },
    {
     "name": "stdout",
     "output_type": "stream",
     "text": [
      "  Trial 4/10 for subsample_ratio=0.6, max_iter=10\n"
     ]
    },
    {
     "name": "stderr",
     "output_type": "stream",
     "text": [
      "    Evaluating coalitions for trial 4: 100%|██████████| 1023/1023 [00:06<00:00, 154.06it/s]\n"
     ]
    },
    {
     "name": "stdout",
     "output_type": "stream",
     "text": [
      "  Trial 5/10 for subsample_ratio=0.6, max_iter=10\n"
     ]
    },
    {
     "name": "stderr",
     "output_type": "stream",
     "text": [
      "    Evaluating coalitions for trial 5: 100%|██████████| 1023/1023 [00:06<00:00, 156.58it/s]\n"
     ]
    },
    {
     "name": "stdout",
     "output_type": "stream",
     "text": [
      "  Trial 6/10 for subsample_ratio=0.6, max_iter=10\n"
     ]
    },
    {
     "name": "stderr",
     "output_type": "stream",
     "text": [
      "    Evaluating coalitions for trial 6: 100%|██████████| 1023/1023 [00:06<00:00, 161.25it/s]\n"
     ]
    },
    {
     "name": "stdout",
     "output_type": "stream",
     "text": [
      "  Trial 7/10 for subsample_ratio=0.6, max_iter=10\n"
     ]
    },
    {
     "name": "stderr",
     "output_type": "stream",
     "text": [
      "    Evaluating coalitions for trial 7: 100%|██████████| 1023/1023 [00:06<00:00, 157.56it/s]\n"
     ]
    },
    {
     "name": "stdout",
     "output_type": "stream",
     "text": [
      "  Trial 8/10 for subsample_ratio=0.6, max_iter=10\n"
     ]
    },
    {
     "name": "stderr",
     "output_type": "stream",
     "text": [
      "    Evaluating coalitions for trial 8: 100%|██████████| 1023/1023 [00:06<00:00, 161.38it/s]\n"
     ]
    },
    {
     "name": "stdout",
     "output_type": "stream",
     "text": [
      "  Trial 9/10 for subsample_ratio=0.6, max_iter=10\n"
     ]
    },
    {
     "name": "stderr",
     "output_type": "stream",
     "text": [
      "    Evaluating coalitions for trial 9: 100%|██████████| 1023/1023 [00:06<00:00, 157.38it/s]\n"
     ]
    },
    {
     "name": "stdout",
     "output_type": "stream",
     "text": [
      "  Trial 10/10 for subsample_ratio=0.6, max_iter=10\n"
     ]
    },
    {
     "name": "stderr",
     "output_type": "stream",
     "text": [
      "    Evaluating coalitions for trial 10: 100%|██████████| 1023/1023 [00:06<00:00, 156.64it/s]\n"
     ]
    },
    {
     "name": "stdout",
     "output_type": "stream",
     "text": [
      "\n",
      "Running experiment with subsample_ratio = 0.6, max_iter = 100\n",
      "  Trial 1/10 for subsample_ratio=0.6, max_iter=100\n"
     ]
    },
    {
     "name": "stderr",
     "output_type": "stream",
     "text": [
      "    Evaluating coalitions for trial 1: 100%|██████████| 1023/1023 [00:06<00:00, 161.70it/s]\n"
     ]
    },
    {
     "name": "stdout",
     "output_type": "stream",
     "text": [
      "  Trial 2/10 for subsample_ratio=0.6, max_iter=100\n"
     ]
    },
    {
     "name": "stderr",
     "output_type": "stream",
     "text": [
      "    Evaluating coalitions for trial 2: 100%|██████████| 1023/1023 [00:06<00:00, 162.94it/s]\n"
     ]
    },
    {
     "name": "stdout",
     "output_type": "stream",
     "text": [
      "  Trial 3/10 for subsample_ratio=0.6, max_iter=100\n"
     ]
    },
    {
     "name": "stderr",
     "output_type": "stream",
     "text": [
      "    Evaluating coalitions for trial 3: 100%|██████████| 1023/1023 [00:06<00:00, 163.02it/s]\n"
     ]
    },
    {
     "name": "stdout",
     "output_type": "stream",
     "text": [
      "  Trial 4/10 for subsample_ratio=0.6, max_iter=100\n"
     ]
    },
    {
     "name": "stderr",
     "output_type": "stream",
     "text": [
      "    Evaluating coalitions for trial 4: 100%|██████████| 1023/1023 [00:06<00:00, 163.50it/s]\n"
     ]
    },
    {
     "name": "stdout",
     "output_type": "stream",
     "text": [
      "  Trial 5/10 for subsample_ratio=0.6, max_iter=100\n"
     ]
    },
    {
     "name": "stderr",
     "output_type": "stream",
     "text": [
      "    Evaluating coalitions for trial 5: 100%|██████████| 1023/1023 [00:06<00:00, 160.46it/s]\n"
     ]
    },
    {
     "name": "stdout",
     "output_type": "stream",
     "text": [
      "  Trial 6/10 for subsample_ratio=0.6, max_iter=100\n"
     ]
    },
    {
     "name": "stderr",
     "output_type": "stream",
     "text": [
      "    Evaluating coalitions for trial 6: 100%|██████████| 1023/1023 [00:06<00:00, 159.80it/s]\n"
     ]
    },
    {
     "name": "stdout",
     "output_type": "stream",
     "text": [
      "  Trial 7/10 for subsample_ratio=0.6, max_iter=100\n"
     ]
    },
    {
     "name": "stderr",
     "output_type": "stream",
     "text": [
      "    Evaluating coalitions for trial 7: 100%|██████████| 1023/1023 [00:06<00:00, 158.75it/s]\n"
     ]
    },
    {
     "name": "stdout",
     "output_type": "stream",
     "text": [
      "  Trial 8/10 for subsample_ratio=0.6, max_iter=100\n"
     ]
    },
    {
     "name": "stderr",
     "output_type": "stream",
     "text": [
      "    Evaluating coalitions for trial 8: 100%|██████████| 1023/1023 [00:06<00:00, 159.72it/s]\n"
     ]
    },
    {
     "name": "stdout",
     "output_type": "stream",
     "text": [
      "  Trial 9/10 for subsample_ratio=0.6, max_iter=100\n"
     ]
    },
    {
     "name": "stderr",
     "output_type": "stream",
     "text": [
      "    Evaluating coalitions for trial 9: 100%|██████████| 1023/1023 [00:06<00:00, 157.14it/s]\n"
     ]
    },
    {
     "name": "stdout",
     "output_type": "stream",
     "text": [
      "  Trial 10/10 for subsample_ratio=0.6, max_iter=100\n"
     ]
    },
    {
     "name": "stderr",
     "output_type": "stream",
     "text": [
      "    Evaluating coalitions for trial 10: 100%|██████████| 1023/1023 [00:06<00:00, 155.14it/s]\n"
     ]
    },
    {
     "name": "stdout",
     "output_type": "stream",
     "text": [
      "\n",
      "Running experiment with subsample_ratio = 0.7, max_iter = 10\n",
      "  Trial 1/10 for subsample_ratio=0.7, max_iter=10\n"
     ]
    },
    {
     "name": "stderr",
     "output_type": "stream",
     "text": [
      "    Evaluating coalitions for trial 1: 100%|██████████| 1023/1023 [00:06<00:00, 149.44it/s]\n"
     ]
    },
    {
     "name": "stdout",
     "output_type": "stream",
     "text": [
      "  Trial 2/10 for subsample_ratio=0.7, max_iter=10\n"
     ]
    },
    {
     "name": "stderr",
     "output_type": "stream",
     "text": [
      "    Evaluating coalitions for trial 2: 100%|██████████| 1023/1023 [00:06<00:00, 155.76it/s]\n"
     ]
    },
    {
     "name": "stdout",
     "output_type": "stream",
     "text": [
      "  Trial 3/10 for subsample_ratio=0.7, max_iter=10\n"
     ]
    },
    {
     "name": "stderr",
     "output_type": "stream",
     "text": [
      "    Evaluating coalitions for trial 3: 100%|██████████| 1023/1023 [00:06<00:00, 158.86it/s]\n"
     ]
    },
    {
     "name": "stdout",
     "output_type": "stream",
     "text": [
      "  Trial 4/10 for subsample_ratio=0.7, max_iter=10\n"
     ]
    },
    {
     "name": "stderr",
     "output_type": "stream",
     "text": [
      "    Evaluating coalitions for trial 4: 100%|██████████| 1023/1023 [00:06<00:00, 156.70it/s]\n"
     ]
    },
    {
     "name": "stdout",
     "output_type": "stream",
     "text": [
      "  Trial 5/10 for subsample_ratio=0.7, max_iter=10\n"
     ]
    },
    {
     "name": "stderr",
     "output_type": "stream",
     "text": [
      "    Evaluating coalitions for trial 5: 100%|██████████| 1023/1023 [00:06<00:00, 160.59it/s]\n"
     ]
    },
    {
     "name": "stdout",
     "output_type": "stream",
     "text": [
      "  Trial 6/10 for subsample_ratio=0.7, max_iter=10\n"
     ]
    },
    {
     "name": "stderr",
     "output_type": "stream",
     "text": [
      "    Evaluating coalitions for trial 6: 100%|██████████| 1023/1023 [00:06<00:00, 158.93it/s]\n"
     ]
    },
    {
     "name": "stdout",
     "output_type": "stream",
     "text": [
      "  Trial 7/10 for subsample_ratio=0.7, max_iter=10\n"
     ]
    },
    {
     "name": "stderr",
     "output_type": "stream",
     "text": [
      "    Evaluating coalitions for trial 7: 100%|██████████| 1023/1023 [00:06<00:00, 157.57it/s]\n"
     ]
    },
    {
     "name": "stdout",
     "output_type": "stream",
     "text": [
      "  Trial 8/10 for subsample_ratio=0.7, max_iter=10\n"
     ]
    },
    {
     "name": "stderr",
     "output_type": "stream",
     "text": [
      "    Evaluating coalitions for trial 8: 100%|██████████| 1023/1023 [00:06<00:00, 161.49it/s]\n"
     ]
    },
    {
     "name": "stdout",
     "output_type": "stream",
     "text": [
      "  Trial 9/10 for subsample_ratio=0.7, max_iter=10\n"
     ]
    },
    {
     "name": "stderr",
     "output_type": "stream",
     "text": [
      "    Evaluating coalitions for trial 9: 100%|██████████| 1023/1023 [00:06<00:00, 161.69it/s]\n"
     ]
    },
    {
     "name": "stdout",
     "output_type": "stream",
     "text": [
      "  Trial 10/10 for subsample_ratio=0.7, max_iter=10\n"
     ]
    },
    {
     "name": "stderr",
     "output_type": "stream",
     "text": [
      "    Evaluating coalitions for trial 10: 100%|██████████| 1023/1023 [00:06<00:00, 160.00it/s]\n"
     ]
    },
    {
     "name": "stdout",
     "output_type": "stream",
     "text": [
      "\n",
      "Running experiment with subsample_ratio = 0.7, max_iter = 100\n",
      "  Trial 1/10 for subsample_ratio=0.7, max_iter=100\n"
     ]
    },
    {
     "name": "stderr",
     "output_type": "stream",
     "text": [
      "    Evaluating coalitions for trial 1: 100%|██████████| 1023/1023 [00:06<00:00, 159.02it/s]\n"
     ]
    },
    {
     "name": "stdout",
     "output_type": "stream",
     "text": [
      "  Trial 2/10 for subsample_ratio=0.7, max_iter=100\n"
     ]
    },
    {
     "name": "stderr",
     "output_type": "stream",
     "text": [
      "    Evaluating coalitions for trial 2: 100%|██████████| 1023/1023 [00:06<00:00, 158.80it/s]\n"
     ]
    },
    {
     "name": "stdout",
     "output_type": "stream",
     "text": [
      "  Trial 3/10 for subsample_ratio=0.7, max_iter=100\n"
     ]
    },
    {
     "name": "stderr",
     "output_type": "stream",
     "text": [
      "    Evaluating coalitions for trial 3: 100%|██████████| 1023/1023 [00:06<00:00, 159.96it/s]\n"
     ]
    },
    {
     "name": "stdout",
     "output_type": "stream",
     "text": [
      "  Trial 4/10 for subsample_ratio=0.7, max_iter=100\n"
     ]
    },
    {
     "name": "stderr",
     "output_type": "stream",
     "text": [
      "    Evaluating coalitions for trial 4: 100%|██████████| 1023/1023 [00:06<00:00, 157.75it/s]\n"
     ]
    },
    {
     "name": "stdout",
     "output_type": "stream",
     "text": [
      "  Trial 5/10 for subsample_ratio=0.7, max_iter=100\n"
     ]
    },
    {
     "name": "stderr",
     "output_type": "stream",
     "text": [
      "    Evaluating coalitions for trial 5: 100%|██████████| 1023/1023 [00:06<00:00, 154.64it/s]\n"
     ]
    },
    {
     "name": "stdout",
     "output_type": "stream",
     "text": [
      "  Trial 6/10 for subsample_ratio=0.7, max_iter=100\n"
     ]
    },
    {
     "name": "stderr",
     "output_type": "stream",
     "text": [
      "    Evaluating coalitions for trial 6: 100%|██████████| 1023/1023 [00:06<00:00, 162.18it/s]\n"
     ]
    },
    {
     "name": "stdout",
     "output_type": "stream",
     "text": [
      "  Trial 7/10 for subsample_ratio=0.7, max_iter=100\n"
     ]
    },
    {
     "name": "stderr",
     "output_type": "stream",
     "text": [
      "    Evaluating coalitions for trial 7: 100%|██████████| 1023/1023 [00:06<00:00, 160.14it/s]\n"
     ]
    },
    {
     "name": "stdout",
     "output_type": "stream",
     "text": [
      "  Trial 8/10 for subsample_ratio=0.7, max_iter=100\n"
     ]
    },
    {
     "name": "stderr",
     "output_type": "stream",
     "text": [
      "    Evaluating coalitions for trial 8: 100%|██████████| 1023/1023 [00:06<00:00, 158.64it/s]\n"
     ]
    },
    {
     "name": "stdout",
     "output_type": "stream",
     "text": [
      "  Trial 9/10 for subsample_ratio=0.7, max_iter=100\n"
     ]
    },
    {
     "name": "stderr",
     "output_type": "stream",
     "text": [
      "    Evaluating coalitions for trial 9: 100%|██████████| 1023/1023 [00:06<00:00, 164.81it/s]\n"
     ]
    },
    {
     "name": "stdout",
     "output_type": "stream",
     "text": [
      "  Trial 10/10 for subsample_ratio=0.7, max_iter=100\n"
     ]
    },
    {
     "name": "stderr",
     "output_type": "stream",
     "text": [
      "    Evaluating coalitions for trial 10: 100%|██████████| 1023/1023 [00:06<00:00, 162.12it/s]\n"
     ]
    },
    {
     "name": "stdout",
     "output_type": "stream",
     "text": [
      "\n",
      "Running experiment with subsample_ratio = 0.8, max_iter = 10\n",
      "  Trial 1/10 for subsample_ratio=0.8, max_iter=10\n"
     ]
    },
    {
     "name": "stderr",
     "output_type": "stream",
     "text": [
      "    Evaluating coalitions for trial 1: 100%|██████████| 1023/1023 [00:06<00:00, 160.19it/s]\n"
     ]
    },
    {
     "name": "stdout",
     "output_type": "stream",
     "text": [
      "  Trial 2/10 for subsample_ratio=0.8, max_iter=10\n"
     ]
    },
    {
     "name": "stderr",
     "output_type": "stream",
     "text": [
      "    Evaluating coalitions for trial 2: 100%|██████████| 1023/1023 [00:06<00:00, 155.67it/s]\n"
     ]
    },
    {
     "name": "stdout",
     "output_type": "stream",
     "text": [
      "  Trial 3/10 for subsample_ratio=0.8, max_iter=10\n"
     ]
    },
    {
     "name": "stderr",
     "output_type": "stream",
     "text": [
      "    Evaluating coalitions for trial 3: 100%|██████████| 1023/1023 [00:06<00:00, 159.80it/s]\n"
     ]
    },
    {
     "name": "stdout",
     "output_type": "stream",
     "text": [
      "  Trial 4/10 for subsample_ratio=0.8, max_iter=10\n"
     ]
    },
    {
     "name": "stderr",
     "output_type": "stream",
     "text": [
      "    Evaluating coalitions for trial 4: 100%|██████████| 1023/1023 [00:06<00:00, 151.06it/s]\n"
     ]
    },
    {
     "name": "stdout",
     "output_type": "stream",
     "text": [
      "  Trial 5/10 for subsample_ratio=0.8, max_iter=10\n"
     ]
    },
    {
     "name": "stderr",
     "output_type": "stream",
     "text": [
      "    Evaluating coalitions for trial 5: 100%|██████████| 1023/1023 [00:06<00:00, 148.13it/s]\n"
     ]
    },
    {
     "name": "stdout",
     "output_type": "stream",
     "text": [
      "  Trial 6/10 for subsample_ratio=0.8, max_iter=10\n"
     ]
    },
    {
     "name": "stderr",
     "output_type": "stream",
     "text": [
      "    Evaluating coalitions for trial 6: 100%|██████████| 1023/1023 [00:06<00:00, 149.38it/s]\n"
     ]
    },
    {
     "name": "stdout",
     "output_type": "stream",
     "text": [
      "  Trial 7/10 for subsample_ratio=0.8, max_iter=10\n"
     ]
    },
    {
     "name": "stderr",
     "output_type": "stream",
     "text": [
      "    Evaluating coalitions for trial 7: 100%|██████████| 1023/1023 [00:06<00:00, 152.63it/s]\n"
     ]
    },
    {
     "name": "stdout",
     "output_type": "stream",
     "text": [
      "  Trial 8/10 for subsample_ratio=0.8, max_iter=10\n"
     ]
    },
    {
     "name": "stderr",
     "output_type": "stream",
     "text": [
      "    Evaluating coalitions for trial 8: 100%|██████████| 1023/1023 [00:07<00:00, 137.99it/s]\n"
     ]
    },
    {
     "name": "stdout",
     "output_type": "stream",
     "text": [
      "  Trial 9/10 for subsample_ratio=0.8, max_iter=10\n"
     ]
    },
    {
     "name": "stderr",
     "output_type": "stream",
     "text": [
      "    Evaluating coalitions for trial 9: 100%|██████████| 1023/1023 [00:06<00:00, 154.96it/s]\n"
     ]
    },
    {
     "name": "stdout",
     "output_type": "stream",
     "text": [
      "  Trial 10/10 for subsample_ratio=0.8, max_iter=10\n"
     ]
    },
    {
     "name": "stderr",
     "output_type": "stream",
     "text": [
      "    Evaluating coalitions for trial 10: 100%|██████████| 1023/1023 [00:06<00:00, 155.11it/s]\n"
     ]
    },
    {
     "name": "stdout",
     "output_type": "stream",
     "text": [
      "\n",
      "Running experiment with subsample_ratio = 0.8, max_iter = 100\n",
      "  Trial 1/10 for subsample_ratio=0.8, max_iter=100\n"
     ]
    },
    {
     "name": "stderr",
     "output_type": "stream",
     "text": [
      "    Evaluating coalitions for trial 1: 100%|██████████| 1023/1023 [00:06<00:00, 160.68it/s]\n"
     ]
    },
    {
     "name": "stdout",
     "output_type": "stream",
     "text": [
      "  Trial 2/10 for subsample_ratio=0.8, max_iter=100\n"
     ]
    },
    {
     "name": "stderr",
     "output_type": "stream",
     "text": [
      "    Evaluating coalitions for trial 2: 100%|██████████| 1023/1023 [00:06<00:00, 157.05it/s]\n"
     ]
    },
    {
     "name": "stdout",
     "output_type": "stream",
     "text": [
      "  Trial 3/10 for subsample_ratio=0.8, max_iter=100\n"
     ]
    },
    {
     "name": "stderr",
     "output_type": "stream",
     "text": [
      "    Evaluating coalitions for trial 3: 100%|██████████| 1023/1023 [00:06<00:00, 153.64it/s]\n"
     ]
    },
    {
     "name": "stdout",
     "output_type": "stream",
     "text": [
      "  Trial 4/10 for subsample_ratio=0.8, max_iter=100\n"
     ]
    },
    {
     "name": "stderr",
     "output_type": "stream",
     "text": [
      "    Evaluating coalitions for trial 4: 100%|██████████| 1023/1023 [00:06<00:00, 156.95it/s]\n"
     ]
    },
    {
     "name": "stdout",
     "output_type": "stream",
     "text": [
      "  Trial 5/10 for subsample_ratio=0.8, max_iter=100\n"
     ]
    },
    {
     "name": "stderr",
     "output_type": "stream",
     "text": [
      "    Evaluating coalitions for trial 5: 100%|██████████| 1023/1023 [00:06<00:00, 153.32it/s]\n"
     ]
    },
    {
     "name": "stdout",
     "output_type": "stream",
     "text": [
      "  Trial 6/10 for subsample_ratio=0.8, max_iter=100\n"
     ]
    },
    {
     "name": "stderr",
     "output_type": "stream",
     "text": [
      "    Evaluating coalitions for trial 6: 100%|██████████| 1023/1023 [00:06<00:00, 156.37it/s]\n"
     ]
    },
    {
     "name": "stdout",
     "output_type": "stream",
     "text": [
      "  Trial 7/10 for subsample_ratio=0.8, max_iter=100\n"
     ]
    },
    {
     "name": "stderr",
     "output_type": "stream",
     "text": [
      "    Evaluating coalitions for trial 7: 100%|██████████| 1023/1023 [00:06<00:00, 160.08it/s]\n"
     ]
    },
    {
     "name": "stdout",
     "output_type": "stream",
     "text": [
      "  Trial 8/10 for subsample_ratio=0.8, max_iter=100\n"
     ]
    },
    {
     "name": "stderr",
     "output_type": "stream",
     "text": [
      "    Evaluating coalitions for trial 8: 100%|██████████| 1023/1023 [00:06<00:00, 151.96it/s]\n"
     ]
    },
    {
     "name": "stdout",
     "output_type": "stream",
     "text": [
      "  Trial 9/10 for subsample_ratio=0.8, max_iter=100\n"
     ]
    },
    {
     "name": "stderr",
     "output_type": "stream",
     "text": [
      "    Evaluating coalitions for trial 9: 100%|██████████| 1023/1023 [00:06<00:00, 158.35it/s]\n"
     ]
    },
    {
     "name": "stdout",
     "output_type": "stream",
     "text": [
      "  Trial 10/10 for subsample_ratio=0.8, max_iter=100\n"
     ]
    },
    {
     "name": "stderr",
     "output_type": "stream",
     "text": [
      "    Evaluating coalitions for trial 10: 100%|██████████| 1023/1023 [00:06<00:00, 162.30it/s]"
     ]
    },
    {
     "name": "stdout",
     "output_type": "stream",
     "text": [
      "Process complete. Results saved.\n"
     ]
    },
    {
     "name": "stderr",
     "output_type": "stream",
     "text": [
      "\n"
     ]
    }
   ],
   "source": [
    "train_files_pattern = \".../data/corrupted_data/c9/train_{i:02d}.csv\" \n",
    "test_files_pattern = \".../data/corrupted_data/c9/test_{i:02d}.csv\" \n",
    "run_experiment(n_clients=10, n_trials=10, base_random_seed=42,  subsample_ratios=[0.5, 0.6, 0.7, 0.8],  max_iters=[10, 100], train_files_pattern=train_files_pattern, test_files_pattern=test_files_pattern)\n"
   ]
  },
  {
   "cell_type": "markdown",
   "metadata": {},
   "source": [
    "# FedFor in HuGaDB with Different number of Corrupted Clients"
   ]
  },
  {
   "cell_type": "code",
   "execution_count": 6,
   "metadata": {},
   "outputs": [],
   "source": [
    "# Define the DecisionTree class\n",
    "class DecisionTree:\n",
    "    def __init__(self, max_depth=None, random_state=None):\n",
    "        self.max_depth = max_depth\n",
    "        self.tree_ = None\n",
    "        self.random_state = random_state\n",
    "\n",
    "    def fit(self, X, y):\n",
    "        self.tree_ = DecisionTreeClassifier(max_depth=self.max_depth, random_state=self.random_state)\n",
    "        self.tree_.fit(X, y)\n",
    "\n",
    "    def predict(self, X):\n",
    "        return self.tree_.predict(X)\n",
    "\n",
    "# Define the FederatedForest class\n",
    "class FederatedForest:\n",
    "    def __init__(self):\n",
    "        self.models = []\n",
    "\n",
    "    def add_model(self, model):\n",
    "        self.models.append(model)\n",
    "\n",
    "    def predict(self, X):\n",
    "        predictions = [model.predict(X) for model in self.models]\n",
    "        predictions = np.array(predictions).T\n",
    "        y = [np.bincount(row).argmax() for row in predictions]\n",
    "        return np.array(y)"
   ]
  },
  {
   "cell_type": "code",
   "execution_count": 7,
   "metadata": {},
   "outputs": [],
   "source": [
    "import warnings\n",
    "warnings.filterwarnings(\"ignore\", message=\"X does not have valid feature names\")"
   ]
  },
  {
   "cell_type": "code",
   "execution_count": 8,
   "metadata": {},
   "outputs": [],
   "source": [
    "def run_experiment_2(n_clients=10, n_trials=10, base_random_seed=42, subsample_ratios=[0.6, 0.7, 0.8], max_depths=[10, 100],train_files_pattern='',test_files_pattern=''):\n",
    "    all_results = []                   \n",
    "    all_nash_equilibrium_counts = []   \n",
    "    all_nash_details = []              \n",
    "    \n",
    "    for subsample_ratio in subsample_ratios:\n",
    "        for max_depth in max_depths:\n",
    "            print(f\"\\nRunning experiment with subsample_ratio = {subsample_ratio}, max_depth = {max_depth}\")\n",
    "            results = []\n",
    "            nash_equilibrium_counts = Counter()\n",
    "            nash_details_all = []  \n",
    "    \n",
    "            for trial in range(n_trials):\n",
    "                print(f\"  Trial {trial + 1}/{n_trials} for subsample_ratio={subsample_ratio}, max_depth={max_depth}\")\n",
    "                trial_seed = base_random_seed + trial\n",
    "                random.seed(trial_seed)\n",
    "                np.random.seed(trial_seed)\n",
    "\n",
    "                client_models = []\n",
    "                client_global_accuracies = {}\n",
    "                for i in range(n_clients):\n",
    "                    df_train_i = pd.read_csv(train_files_pattern.format(i=i+1)).dropna(subset=['act'])\n",
    "                    df_train_i = df_train_i.sample(frac=subsample_ratio, random_state=trial_seed).reset_index(drop=True)\n",
    "                    X_train = df_train_i.drop('act', axis=1)\n",
    "                    y_train = label_encoder.transform(df_train_i['act'])\n",
    "                    \n",
    "                    model = DecisionTree(max_depth=max_depth, random_state=np.random.randint(0, 100000))\n",
    "                    model.fit(X_train, y_train)\n",
    "                    client_models.append(model)\n",
    "                    \n",
    "                    y_pred_global = model.predict(X_test_global)\n",
    "                    acc_global = accuracy_score(y_test_global, y_pred_global)\n",
    "                    client_global_accuracies[i] = acc_global\n",
    "\n",
    "                trial_results = []\n",
    "                n_combinations = 2 ** n_clients\n",
    "                for i in tqdm(range(1, n_combinations), desc=f\" Evaluating coalitions for trial {trial+1}\"):\n",
    "                    bin_str = format(i, f'0{n_clients}b')\n",
    "                    client_indices = [j for j in range(n_clients) if bin_str[n_clients - 1 - j] == '1']\n",
    "                    included_models = [client_models[j] for j in client_indices]\n",
    "                    if not included_models:\n",
    "                        continue\n",
    "                    \n",
    "                    forest = FederatedForest()\n",
    "                    for model in included_models:\n",
    "                        forest.add_model(model)\n",
    "                    \n",
    "                    y_pred_global = forest.predict(X_test_global_scaled)\n",
    "                    acc_global = accuracy_score(y_test_global, y_pred_global)\n",
    "                    row = {'Trial': trial + 1, 'Combination': bin_str, 'Clients': [j + 1 for j in client_indices], 'Global Accuracy': acc_global}\n",
    "                    for j in range(n_clients):\n",
    "                        row[f'Client {j + 1} Accuracy'] = client_global_accuracies[j]\n",
    "                    trial_results.append(row)\n",
    "                \n",
    "                df_trial_results = pd.DataFrame(trial_results)\n",
    "                df_trial_results.set_index('Combination', inplace=True)\n",
    "                nash_df = find_nash_equilibria_v2(df_trial_results.reset_index())\n",
    "                for combination in nash_df['Combination']:\n",
    "                    nash_equilibrium_counts[combination] += 1\n",
    "                \n",
    "                shapley_df = compute_and_visualize_shapley_values(df_trial_results.reset_index(), client_global_accuracies, n_clients=n_clients, plot=False, print_df = False)\n",
    "                shapley_df['Trial'] = trial + 1\n",
    "\n",
    "                for _, nash_row in nash_df.iterrows():\n",
    "                    combination_bin = nash_row['Combination']\n",
    "                    client_indices = [j for j in range(n_clients) if combination_bin[n_clients - 1 - j] == '1']\n",
    "                    clients_list = [j + 1 for j in client_indices]\n",
    "                    detail_record = {'Trial': trial + 1, 'Combination': combination_bin, 'Clients': \",\".join(str(c) for c in clients_list)}\n",
    "                    for client in range(1, n_clients + 1):\n",
    "                        if client in clients_list:\n",
    "                            detail_record[f'Client {client} Accuracy'] = client_global_accuracies[client - 1]\n",
    "                            val = shapley_df.loc[shapley_df['Client'] == f'Client {client}', 'Normalized Shapley Value']\n",
    "                            detail_record[f'Client {client} Shapley Value'] = val.values[0] if not val.empty else np.nan\n",
    "                        else:\n",
    "                            detail_record[f'Client {client} Accuracy'] = np.nan\n",
    "                            detail_record[f'Client {client} Shapley Value'] = np.nan\n",
    "                    detail_record['Global Accuracy'] = nash_row['Global Accuracy']\n",
    "                    detail_record['Subsample Ratio'] = subsample_ratio\n",
    "                    detail_record['Max Depth'] = max_depth\n",
    "                    nash_details_all.append(detail_record)\n",
    "                results.extend(trial_results)\n",
    "\n",
    "            df_results = pd.DataFrame(results)\n",
    "            df_results['Subsample Ratio'] = subsample_ratio\n",
    "            df_results['Max Depth'] = max_depth\n",
    "            all_results.append(df_results)\n",
    "\n",
    "            df_nash_counts = pd.DataFrame(nash_equilibrium_counts.items(), columns=['Nash Equilibrium', 'Occurrences'])\n",
    "            df_nash_counts['Subsample Ratio'] = subsample_ratio\n",
    "            df_nash_counts['Max Depth'] = max_depth\n",
    "            all_nash_equilibrium_counts.append(df_nash_counts)\n",
    "            df_nash_counts.to_csv(f\"Nash_Equilibrium_Counts_HuGaFedFor_subsample_{subsample_ratio}_max_depth_{max_depth}.csv\", index=False)\n",
    "\n",
    "            df_nash_details = pd.DataFrame(nash_details_all)\n",
    "            all_nash_details.append(df_nash_details)\n",
    "    \n",
    "    pd.concat(all_nash_equilibrium_counts, ignore_index=True).to_csv(\"Nash_Equilibrium_Counts.csv\", index=False)\n",
    "    pd.concat(all_nash_details, ignore_index=True).to_csv(\"Nash_Equilibrium_Details_HuGaFedFor.csv\", index=False)\n",
    "    print(\"Process complete. Results saved.\")\n"
   ]
  },
  {
   "cell_type": "code",
   "execution_count": null,
   "metadata": {},
   "outputs": [
    {
     "name": "stdout",
     "output_type": "stream",
     "text": [
      "\n",
      "Running experiment with subsample_ratio = 0.5, max_depth = 10\n",
      "  Trial 1/10 for subsample_ratio=0.5, max_depth=10\n"
     ]
    },
    {
     "name": "stderr",
     "output_type": "stream",
     "text": [
      " Evaluating coalitions for trial 1: 100%|██████████| 1023/1023 [01:34<00:00, 10.80it/s]\n"
     ]
    },
    {
     "name": "stdout",
     "output_type": "stream",
     "text": [
      "  Trial 2/10 for subsample_ratio=0.5, max_depth=10\n"
     ]
    },
    {
     "name": "stderr",
     "output_type": "stream",
     "text": [
      " Evaluating coalitions for trial 2: 100%|██████████| 1023/1023 [01:33<00:00, 10.92it/s]\n"
     ]
    },
    {
     "name": "stdout",
     "output_type": "stream",
     "text": [
      "  Trial 3/10 for subsample_ratio=0.5, max_depth=10\n"
     ]
    },
    {
     "name": "stderr",
     "output_type": "stream",
     "text": [
      " Evaluating coalitions for trial 3: 100%|██████████| 1023/1023 [01:32<00:00, 11.09it/s]\n"
     ]
    },
    {
     "name": "stdout",
     "output_type": "stream",
     "text": [
      "  Trial 4/10 for subsample_ratio=0.5, max_depth=10\n"
     ]
    },
    {
     "name": "stderr",
     "output_type": "stream",
     "text": [
      " Evaluating coalitions for trial 4: 100%|██████████| 1023/1023 [01:34<00:00, 10.85it/s]\n"
     ]
    },
    {
     "name": "stdout",
     "output_type": "stream",
     "text": [
      "  Trial 5/10 for subsample_ratio=0.5, max_depth=10\n"
     ]
    },
    {
     "name": "stderr",
     "output_type": "stream",
     "text": [
      " Evaluating coalitions for trial 5: 100%|██████████| 1023/1023 [01:33<00:00, 10.90it/s]\n"
     ]
    },
    {
     "name": "stdout",
     "output_type": "stream",
     "text": [
      "  Trial 6/10 for subsample_ratio=0.5, max_depth=10\n"
     ]
    },
    {
     "name": "stderr",
     "output_type": "stream",
     "text": [
      " Evaluating coalitions for trial 6: 100%|██████████| 1023/1023 [01:35<00:00, 10.71it/s]\n"
     ]
    },
    {
     "name": "stdout",
     "output_type": "stream",
     "text": [
      "  Trial 7/10 for subsample_ratio=0.5, max_depth=10\n"
     ]
    },
    {
     "name": "stderr",
     "output_type": "stream",
     "text": [
      " Evaluating coalitions for trial 7: 100%|██████████| 1023/1023 [01:34<00:00, 10.84it/s]\n"
     ]
    },
    {
     "name": "stdout",
     "output_type": "stream",
     "text": [
      "  Trial 8/10 for subsample_ratio=0.5, max_depth=10\n"
     ]
    },
    {
     "name": "stderr",
     "output_type": "stream",
     "text": [
      " Evaluating coalitions for trial 8: 100%|██████████| 1023/1023 [01:36<00:00, 10.58it/s]\n"
     ]
    },
    {
     "name": "stdout",
     "output_type": "stream",
     "text": [
      "  Trial 9/10 for subsample_ratio=0.5, max_depth=10\n"
     ]
    },
    {
     "name": "stderr",
     "output_type": "stream",
     "text": [
      " Evaluating coalitions for trial 9: 100%|██████████| 1023/1023 [01:34<00:00, 10.79it/s]\n"
     ]
    },
    {
     "name": "stdout",
     "output_type": "stream",
     "text": [
      "  Trial 10/10 for subsample_ratio=0.5, max_depth=10\n"
     ]
    },
    {
     "name": "stderr",
     "output_type": "stream",
     "text": [
      " Evaluating coalitions for trial 10: 100%|██████████| 1023/1023 [01:34<00:00, 10.78it/s]\n"
     ]
    },
    {
     "name": "stdout",
     "output_type": "stream",
     "text": [
      "\n",
      "Running experiment with subsample_ratio = 0.5, max_depth = 100\n",
      "  Trial 1/10 for subsample_ratio=0.5, max_depth=100\n"
     ]
    },
    {
     "name": "stderr",
     "output_type": "stream",
     "text": [
      " Evaluating coalitions for trial 1: 100%|██████████| 1023/1023 [01:41<00:00, 10.07it/s]\n"
     ]
    },
    {
     "name": "stdout",
     "output_type": "stream",
     "text": [
      "  Trial 2/10 for subsample_ratio=0.5, max_depth=100\n"
     ]
    },
    {
     "name": "stderr",
     "output_type": "stream",
     "text": [
      " Evaluating coalitions for trial 2: 100%|██████████| 1023/1023 [01:41<00:00, 10.11it/s]\n"
     ]
    },
    {
     "name": "stdout",
     "output_type": "stream",
     "text": [
      "  Trial 3/10 for subsample_ratio=0.5, max_depth=100\n"
     ]
    },
    {
     "name": "stderr",
     "output_type": "stream",
     "text": [
      " Evaluating coalitions for trial 3: 100%|██████████| 1023/1023 [01:39<00:00, 10.28it/s]\n"
     ]
    },
    {
     "name": "stdout",
     "output_type": "stream",
     "text": [
      "  Trial 4/10 for subsample_ratio=0.5, max_depth=100\n"
     ]
    },
    {
     "name": "stderr",
     "output_type": "stream",
     "text": [
      " Evaluating coalitions for trial 4: 100%|██████████| 1023/1023 [01:39<00:00, 10.30it/s]\n"
     ]
    },
    {
     "name": "stdout",
     "output_type": "stream",
     "text": [
      "  Trial 5/10 for subsample_ratio=0.5, max_depth=100\n"
     ]
    },
    {
     "name": "stderr",
     "output_type": "stream",
     "text": [
      " Evaluating coalitions for trial 5: 100%|██████████| 1023/1023 [01:39<00:00, 10.25it/s]\n"
     ]
    },
    {
     "name": "stdout",
     "output_type": "stream",
     "text": [
      "  Trial 6/10 for subsample_ratio=0.5, max_depth=100\n"
     ]
    },
    {
     "name": "stderr",
     "output_type": "stream",
     "text": [
      " Evaluating coalitions for trial 6: 100%|██████████| 1023/1023 [01:40<00:00, 10.14it/s]\n"
     ]
    },
    {
     "name": "stdout",
     "output_type": "stream",
     "text": [
      "  Trial 7/10 for subsample_ratio=0.5, max_depth=100\n"
     ]
    },
    {
     "name": "stderr",
     "output_type": "stream",
     "text": [
      " Evaluating coalitions for trial 7: 100%|██████████| 1023/1023 [01:39<00:00, 10.27it/s]\n"
     ]
    },
    {
     "name": "stdout",
     "output_type": "stream",
     "text": [
      "  Trial 8/10 for subsample_ratio=0.5, max_depth=100\n"
     ]
    },
    {
     "name": "stderr",
     "output_type": "stream",
     "text": [
      " Evaluating coalitions for trial 8: 100%|██████████| 1023/1023 [01:39<00:00, 10.29it/s]\n"
     ]
    },
    {
     "name": "stdout",
     "output_type": "stream",
     "text": [
      "  Trial 9/10 for subsample_ratio=0.5, max_depth=100\n"
     ]
    },
    {
     "name": "stderr",
     "output_type": "stream",
     "text": [
      " Evaluating coalitions for trial 9: 100%|██████████| 1023/1023 [01:40<00:00, 10.18it/s]\n"
     ]
    },
    {
     "name": "stdout",
     "output_type": "stream",
     "text": [
      "  Trial 10/10 for subsample_ratio=0.5, max_depth=100\n"
     ]
    },
    {
     "name": "stderr",
     "output_type": "stream",
     "text": [
      " Evaluating coalitions for trial 10: 100%|██████████| 1023/1023 [01:40<00:00, 10.22it/s]\n"
     ]
    },
    {
     "name": "stdout",
     "output_type": "stream",
     "text": [
      "\n",
      "Running experiment with subsample_ratio = 0.8, max_depth = 10\n",
      "  Trial 1/10 for subsample_ratio=0.8, max_depth=10\n"
     ]
    },
    {
     "name": "stderr",
     "output_type": "stream",
     "text": [
      " Evaluating coalitions for trial 1: 100%|██████████| 1023/1023 [01:34<00:00, 10.83it/s]\n"
     ]
    },
    {
     "name": "stdout",
     "output_type": "stream",
     "text": [
      "  Trial 2/10 for subsample_ratio=0.8, max_depth=10\n"
     ]
    },
    {
     "name": "stderr",
     "output_type": "stream",
     "text": [
      " Evaluating coalitions for trial 2: 100%|██████████| 1023/1023 [01:35<00:00, 10.69it/s]\n"
     ]
    },
    {
     "name": "stdout",
     "output_type": "stream",
     "text": [
      "  Trial 3/10 for subsample_ratio=0.8, max_depth=10\n"
     ]
    },
    {
     "name": "stderr",
     "output_type": "stream",
     "text": [
      " Evaluating coalitions for trial 3: 100%|██████████| 1023/1023 [01:36<00:00, 10.60it/s]\n"
     ]
    },
    {
     "name": "stdout",
     "output_type": "stream",
     "text": [
      "  Trial 4/10 for subsample_ratio=0.8, max_depth=10\n"
     ]
    },
    {
     "name": "stderr",
     "output_type": "stream",
     "text": [
      " Evaluating coalitions for trial 4: 100%|██████████| 1023/1023 [01:34<00:00, 10.81it/s]\n"
     ]
    },
    {
     "name": "stdout",
     "output_type": "stream",
     "text": [
      "  Trial 5/10 for subsample_ratio=0.8, max_depth=10\n"
     ]
    },
    {
     "name": "stderr",
     "output_type": "stream",
     "text": [
      " Evaluating coalitions for trial 5: 100%|██████████| 1023/1023 [01:36<00:00, 10.59it/s]\n"
     ]
    },
    {
     "name": "stdout",
     "output_type": "stream",
     "text": [
      "  Trial 6/10 for subsample_ratio=0.8, max_depth=10\n"
     ]
    },
    {
     "name": "stderr",
     "output_type": "stream",
     "text": [
      " Evaluating coalitions for trial 6: 100%|██████████| 1023/1023 [01:35<00:00, 10.69it/s]\n"
     ]
    },
    {
     "name": "stdout",
     "output_type": "stream",
     "text": [
      "  Trial 7/10 for subsample_ratio=0.8, max_depth=10\n"
     ]
    },
    {
     "name": "stderr",
     "output_type": "stream",
     "text": [
      " Evaluating coalitions for trial 7: 100%|██████████| 1023/1023 [01:34<00:00, 10.79it/s]\n"
     ]
    },
    {
     "name": "stdout",
     "output_type": "stream",
     "text": [
      "  Trial 8/10 for subsample_ratio=0.8, max_depth=10\n"
     ]
    },
    {
     "name": "stderr",
     "output_type": "stream",
     "text": [
      " Evaluating coalitions for trial 8: 100%|██████████| 1023/1023 [01:34<00:00, 10.78it/s]\n"
     ]
    },
    {
     "name": "stdout",
     "output_type": "stream",
     "text": [
      "  Trial 9/10 for subsample_ratio=0.8, max_depth=10\n"
     ]
    },
    {
     "name": "stderr",
     "output_type": "stream",
     "text": [
      " Evaluating coalitions for trial 9: 100%|██████████| 1023/1023 [01:35<00:00, 10.70it/s]\n"
     ]
    },
    {
     "name": "stdout",
     "output_type": "stream",
     "text": [
      "  Trial 10/10 for subsample_ratio=0.8, max_depth=10\n"
     ]
    },
    {
     "name": "stderr",
     "output_type": "stream",
     "text": [
      " Evaluating coalitions for trial 10: 100%|██████████| 1023/1023 [01:34<00:00, 10.83it/s]\n"
     ]
    },
    {
     "name": "stdout",
     "output_type": "stream",
     "text": [
      "\n",
      "Running experiment with subsample_ratio = 0.8, max_depth = 100\n",
      "  Trial 1/10 for subsample_ratio=0.8, max_depth=100\n"
     ]
    },
    {
     "name": "stderr",
     "output_type": "stream",
     "text": [
      " Evaluating coalitions for trial 1: 100%|██████████| 1023/1023 [01:41<00:00, 10.07it/s]\n"
     ]
    },
    {
     "name": "stdout",
     "output_type": "stream",
     "text": [
      "  Trial 2/10 for subsample_ratio=0.8, max_depth=100\n"
     ]
    },
    {
     "name": "stderr",
     "output_type": "stream",
     "text": [
      " Evaluating coalitions for trial 2: 100%|██████████| 1023/1023 [01:41<00:00, 10.09it/s]\n"
     ]
    },
    {
     "name": "stdout",
     "output_type": "stream",
     "text": [
      "  Trial 3/10 for subsample_ratio=0.8, max_depth=100\n"
     ]
    },
    {
     "name": "stderr",
     "output_type": "stream",
     "text": [
      " Evaluating coalitions for trial 3: 100%|██████████| 1023/1023 [01:41<00:00, 10.11it/s]\n"
     ]
    },
    {
     "name": "stdout",
     "output_type": "stream",
     "text": [
      "  Trial 4/10 for subsample_ratio=0.8, max_depth=100\n"
     ]
    },
    {
     "name": "stderr",
     "output_type": "stream",
     "text": [
      " Evaluating coalitions for trial 4: 100%|██████████| 1023/1023 [01:40<00:00, 10.14it/s]\n"
     ]
    },
    {
     "name": "stdout",
     "output_type": "stream",
     "text": [
      "  Trial 5/10 for subsample_ratio=0.8, max_depth=100\n"
     ]
    },
    {
     "name": "stderr",
     "output_type": "stream",
     "text": [
      " Evaluating coalitions for trial 5: 100%|██████████| 1023/1023 [01:42<00:00,  9.97it/s]\n"
     ]
    },
    {
     "name": "stdout",
     "output_type": "stream",
     "text": [
      "  Trial 6/10 for subsample_ratio=0.8, max_depth=100\n"
     ]
    },
    {
     "name": "stderr",
     "output_type": "stream",
     "text": [
      " Evaluating coalitions for trial 6: 100%|██████████| 1023/1023 [01:40<00:00, 10.14it/s]\n"
     ]
    },
    {
     "name": "stdout",
     "output_type": "stream",
     "text": [
      "  Trial 7/10 for subsample_ratio=0.8, max_depth=100\n"
     ]
    },
    {
     "name": "stderr",
     "output_type": "stream",
     "text": [
      " Evaluating coalitions for trial 7: 100%|██████████| 1023/1023 [01:40<00:00, 10.16it/s]\n"
     ]
    },
    {
     "name": "stdout",
     "output_type": "stream",
     "text": [
      "  Trial 8/10 for subsample_ratio=0.8, max_depth=100\n"
     ]
    },
    {
     "name": "stderr",
     "output_type": "stream",
     "text": [
      " Evaluating coalitions for trial 8: 100%|██████████| 1023/1023 [01:40<00:00, 10.16it/s]\n"
     ]
    },
    {
     "name": "stdout",
     "output_type": "stream",
     "text": [
      "  Trial 9/10 for subsample_ratio=0.8, max_depth=100\n"
     ]
    },
    {
     "name": "stderr",
     "output_type": "stream",
     "text": [
      " Evaluating coalitions for trial 9: 100%|██████████| 1023/1023 [01:43<00:00,  9.91it/s]\n"
     ]
    },
    {
     "name": "stdout",
     "output_type": "stream",
     "text": [
      "  Trial 10/10 for subsample_ratio=0.8, max_depth=100\n"
     ]
    },
    {
     "name": "stderr",
     "output_type": "stream",
     "text": [
      " Evaluating coalitions for trial 10: 100%|██████████| 1023/1023 [01:42<00:00, 10.00it/s]\n"
     ]
    },
    {
     "name": "stdout",
     "output_type": "stream",
     "text": [
      "Process complete. Results saved.\n"
     ]
    }
   ],
   "source": [
    "train_files_pattern = \".../data/corrupted_data/c3/train_{i:02d}.csv\" \n",
    "test_files_pattern = \".../data/corrupted_data/c3/test_{i:02d}.csv\" \n",
    "run_experiment_2(n_clients=10, n_trials=10, base_random_seed=42,  subsample_ratios=[0.5, 0.8],  max_depths=[10, 100], train_files_pattern=train_files_pattern, test_files_pattern=test_files_pattern)"
   ]
  },
  {
   "cell_type": "code",
   "execution_count": null,
   "metadata": {},
   "outputs": [
    {
     "name": "stdout",
     "output_type": "stream",
     "text": [
      "\n",
      "Running experiment with subsample_ratio = 0.5, max_depth = 10\n",
      "  Trial 1/10 for subsample_ratio=0.5, max_depth=10\n"
     ]
    },
    {
     "name": "stderr",
     "output_type": "stream",
     "text": [
      " Evaluating coalitions for trial 1: 100%|██████████| 1023/1023 [01:36<00:00, 10.65it/s]\n"
     ]
    },
    {
     "name": "stdout",
     "output_type": "stream",
     "text": [
      "  Trial 2/10 for subsample_ratio=0.5, max_depth=10\n"
     ]
    },
    {
     "name": "stderr",
     "output_type": "stream",
     "text": [
      " Evaluating coalitions for trial 2: 100%|██████████| 1023/1023 [01:33<00:00, 10.98it/s]\n"
     ]
    },
    {
     "name": "stdout",
     "output_type": "stream",
     "text": [
      "  Trial 3/10 for subsample_ratio=0.5, max_depth=10\n"
     ]
    },
    {
     "name": "stderr",
     "output_type": "stream",
     "text": [
      " Evaluating coalitions for trial 3: 100%|██████████| 1023/1023 [01:36<00:00, 10.62it/s]\n"
     ]
    },
    {
     "name": "stdout",
     "output_type": "stream",
     "text": [
      "  Trial 4/10 for subsample_ratio=0.5, max_depth=10\n"
     ]
    },
    {
     "name": "stderr",
     "output_type": "stream",
     "text": [
      " Evaluating coalitions for trial 4: 100%|██████████| 1023/1023 [01:34<00:00, 10.85it/s]\n"
     ]
    },
    {
     "name": "stdout",
     "output_type": "stream",
     "text": [
      "  Trial 5/10 for subsample_ratio=0.5, max_depth=10\n"
     ]
    },
    {
     "name": "stderr",
     "output_type": "stream",
     "text": [
      " Evaluating coalitions for trial 5: 100%|██████████| 1023/1023 [01:34<00:00, 10.79it/s]\n"
     ]
    },
    {
     "name": "stdout",
     "output_type": "stream",
     "text": [
      "  Trial 6/10 for subsample_ratio=0.5, max_depth=10\n"
     ]
    },
    {
     "name": "stderr",
     "output_type": "stream",
     "text": [
      " Evaluating coalitions for trial 6: 100%|██████████| 1023/1023 [01:35<00:00, 10.69it/s]\n"
     ]
    },
    {
     "name": "stdout",
     "output_type": "stream",
     "text": [
      "  Trial 7/10 for subsample_ratio=0.5, max_depth=10\n"
     ]
    },
    {
     "name": "stderr",
     "output_type": "stream",
     "text": [
      " Evaluating coalitions for trial 7: 100%|██████████| 1023/1023 [01:35<00:00, 10.67it/s]\n"
     ]
    },
    {
     "name": "stdout",
     "output_type": "stream",
     "text": [
      "  Trial 8/10 for subsample_ratio=0.5, max_depth=10\n"
     ]
    },
    {
     "name": "stderr",
     "output_type": "stream",
     "text": [
      " Evaluating coalitions for trial 8: 100%|██████████| 1023/1023 [01:35<00:00, 10.68it/s]\n"
     ]
    },
    {
     "name": "stdout",
     "output_type": "stream",
     "text": [
      "  Trial 9/10 for subsample_ratio=0.5, max_depth=10\n"
     ]
    },
    {
     "name": "stderr",
     "output_type": "stream",
     "text": [
      " Evaluating coalitions for trial 9: 100%|██████████| 1023/1023 [01:34<00:00, 10.84it/s]\n"
     ]
    },
    {
     "name": "stdout",
     "output_type": "stream",
     "text": [
      "  Trial 10/10 for subsample_ratio=0.5, max_depth=10\n"
     ]
    },
    {
     "name": "stderr",
     "output_type": "stream",
     "text": [
      " Evaluating coalitions for trial 10: 100%|██████████| 1023/1023 [01:35<00:00, 10.71it/s]\n"
     ]
    },
    {
     "name": "stdout",
     "output_type": "stream",
     "text": [
      "\n",
      "Running experiment with subsample_ratio = 0.5, max_depth = 100\n",
      "  Trial 1/10 for subsample_ratio=0.5, max_depth=100\n"
     ]
    },
    {
     "name": "stderr",
     "output_type": "stream",
     "text": [
      " Evaluating coalitions for trial 1: 100%|██████████| 1023/1023 [01:41<00:00, 10.07it/s]\n"
     ]
    },
    {
     "name": "stdout",
     "output_type": "stream",
     "text": [
      "  Trial 2/10 for subsample_ratio=0.5, max_depth=100\n"
     ]
    },
    {
     "name": "stderr",
     "output_type": "stream",
     "text": [
      " Evaluating coalitions for trial 2: 100%|██████████| 1023/1023 [01:41<00:00, 10.10it/s]\n"
     ]
    },
    {
     "name": "stdout",
     "output_type": "stream",
     "text": [
      "  Trial 3/10 for subsample_ratio=0.5, max_depth=100\n"
     ]
    },
    {
     "name": "stderr",
     "output_type": "stream",
     "text": [
      " Evaluating coalitions for trial 3: 100%|██████████| 1023/1023 [01:40<00:00, 10.21it/s]\n"
     ]
    },
    {
     "name": "stdout",
     "output_type": "stream",
     "text": [
      "  Trial 4/10 for subsample_ratio=0.5, max_depth=100\n"
     ]
    },
    {
     "name": "stderr",
     "output_type": "stream",
     "text": [
      " Evaluating coalitions for trial 4: 100%|██████████| 1023/1023 [01:41<00:00, 10.03it/s]\n"
     ]
    },
    {
     "name": "stdout",
     "output_type": "stream",
     "text": [
      "  Trial 5/10 for subsample_ratio=0.5, max_depth=100\n"
     ]
    },
    {
     "name": "stderr",
     "output_type": "stream",
     "text": [
      " Evaluating coalitions for trial 5: 100%|██████████| 1023/1023 [01:41<00:00, 10.09it/s]\n"
     ]
    },
    {
     "name": "stdout",
     "output_type": "stream",
     "text": [
      "  Trial 6/10 for subsample_ratio=0.5, max_depth=100\n"
     ]
    },
    {
     "name": "stderr",
     "output_type": "stream",
     "text": [
      " Evaluating coalitions for trial 6: 100%|██████████| 1023/1023 [01:41<00:00, 10.11it/s]\n"
     ]
    },
    {
     "name": "stdout",
     "output_type": "stream",
     "text": [
      "  Trial 7/10 for subsample_ratio=0.5, max_depth=100\n"
     ]
    },
    {
     "name": "stderr",
     "output_type": "stream",
     "text": [
      " Evaluating coalitions for trial 7: 100%|██████████| 1023/1023 [01:41<00:00, 10.13it/s]\n"
     ]
    },
    {
     "name": "stdout",
     "output_type": "stream",
     "text": [
      "  Trial 8/10 for subsample_ratio=0.5, max_depth=100\n"
     ]
    },
    {
     "name": "stderr",
     "output_type": "stream",
     "text": [
      " Evaluating coalitions for trial 8: 100%|██████████| 1023/1023 [01:43<00:00,  9.89it/s]\n"
     ]
    },
    {
     "name": "stdout",
     "output_type": "stream",
     "text": [
      "  Trial 9/10 for subsample_ratio=0.5, max_depth=100\n"
     ]
    },
    {
     "name": "stderr",
     "output_type": "stream",
     "text": [
      " Evaluating coalitions for trial 9: 100%|██████████| 1023/1023 [01:43<00:00,  9.90it/s]\n"
     ]
    },
    {
     "name": "stdout",
     "output_type": "stream",
     "text": [
      "  Trial 10/10 for subsample_ratio=0.5, max_depth=100\n"
     ]
    },
    {
     "name": "stderr",
     "output_type": "stream",
     "text": [
      " Evaluating coalitions for trial 10: 100%|██████████| 1023/1023 [01:41<00:00, 10.12it/s]\n"
     ]
    },
    {
     "name": "stdout",
     "output_type": "stream",
     "text": [
      "\n",
      "Running experiment with subsample_ratio = 0.8, max_depth = 10\n",
      "  Trial 1/10 for subsample_ratio=0.8, max_depth=10\n"
     ]
    },
    {
     "name": "stderr",
     "output_type": "stream",
     "text": [
      " Evaluating coalitions for trial 1: 100%|██████████| 1023/1023 [01:33<00:00, 10.94it/s]\n"
     ]
    },
    {
     "name": "stdout",
     "output_type": "stream",
     "text": [
      "  Trial 2/10 for subsample_ratio=0.8, max_depth=10\n"
     ]
    },
    {
     "name": "stderr",
     "output_type": "stream",
     "text": [
      " Evaluating coalitions for trial 2: 100%|██████████| 1023/1023 [01:35<00:00, 10.76it/s]\n"
     ]
    },
    {
     "name": "stdout",
     "output_type": "stream",
     "text": [
      "  Trial 3/10 for subsample_ratio=0.8, max_depth=10\n"
     ]
    },
    {
     "name": "stderr",
     "output_type": "stream",
     "text": [
      " Evaluating coalitions for trial 3: 100%|██████████| 1023/1023 [01:33<00:00, 10.99it/s]\n"
     ]
    },
    {
     "name": "stdout",
     "output_type": "stream",
     "text": [
      "  Trial 4/10 for subsample_ratio=0.8, max_depth=10\n"
     ]
    },
    {
     "name": "stderr",
     "output_type": "stream",
     "text": [
      " Evaluating coalitions for trial 4: 100%|██████████| 1023/1023 [01:34<00:00, 10.77it/s]\n"
     ]
    },
    {
     "name": "stdout",
     "output_type": "stream",
     "text": [
      "  Trial 5/10 for subsample_ratio=0.8, max_depth=10\n"
     ]
    },
    {
     "name": "stderr",
     "output_type": "stream",
     "text": [
      " Evaluating coalitions for trial 5: 100%|██████████| 1023/1023 [01:36<00:00, 10.63it/s]\n"
     ]
    },
    {
     "name": "stdout",
     "output_type": "stream",
     "text": [
      "  Trial 6/10 for subsample_ratio=0.8, max_depth=10\n"
     ]
    },
    {
     "name": "stderr",
     "output_type": "stream",
     "text": [
      " Evaluating coalitions for trial 6: 100%|██████████| 1023/1023 [01:34<00:00, 10.81it/s]\n"
     ]
    },
    {
     "name": "stdout",
     "output_type": "stream",
     "text": [
      "  Trial 7/10 for subsample_ratio=0.8, max_depth=10\n"
     ]
    },
    {
     "name": "stderr",
     "output_type": "stream",
     "text": [
      " Evaluating coalitions for trial 7: 100%|██████████| 1023/1023 [01:35<00:00, 10.74it/s]\n"
     ]
    },
    {
     "name": "stdout",
     "output_type": "stream",
     "text": [
      "  Trial 8/10 for subsample_ratio=0.8, max_depth=10\n"
     ]
    },
    {
     "name": "stderr",
     "output_type": "stream",
     "text": [
      " Evaluating coalitions for trial 8: 100%|██████████| 1023/1023 [01:36<00:00, 10.63it/s]\n"
     ]
    },
    {
     "name": "stdout",
     "output_type": "stream",
     "text": [
      "  Trial 9/10 for subsample_ratio=0.8, max_depth=10\n"
     ]
    },
    {
     "name": "stderr",
     "output_type": "stream",
     "text": [
      " Evaluating coalitions for trial 9: 100%|██████████| 1023/1023 [01:35<00:00, 10.70it/s]\n"
     ]
    },
    {
     "name": "stdout",
     "output_type": "stream",
     "text": [
      "  Trial 10/10 for subsample_ratio=0.8, max_depth=10\n"
     ]
    },
    {
     "name": "stderr",
     "output_type": "stream",
     "text": [
      " Evaluating coalitions for trial 10: 100%|██████████| 1023/1023 [01:35<00:00, 10.71it/s]\n"
     ]
    },
    {
     "name": "stdout",
     "output_type": "stream",
     "text": [
      "\n",
      "Running experiment with subsample_ratio = 0.8, max_depth = 100\n",
      "  Trial 1/10 for subsample_ratio=0.8, max_depth=100\n"
     ]
    },
    {
     "name": "stderr",
     "output_type": "stream",
     "text": [
      " Evaluating coalitions for trial 1: 100%|██████████| 1023/1023 [01:43<00:00,  9.86it/s]\n"
     ]
    },
    {
     "name": "stdout",
     "output_type": "stream",
     "text": [
      "  Trial 2/10 for subsample_ratio=0.8, max_depth=100\n"
     ]
    },
    {
     "name": "stderr",
     "output_type": "stream",
     "text": [
      " Evaluating coalitions for trial 2: 100%|██████████| 1023/1023 [01:43<00:00,  9.90it/s]\n"
     ]
    },
    {
     "name": "stdout",
     "output_type": "stream",
     "text": [
      "  Trial 3/10 for subsample_ratio=0.8, max_depth=100\n"
     ]
    },
    {
     "name": "stderr",
     "output_type": "stream",
     "text": [
      " Evaluating coalitions for trial 3: 100%|██████████| 1023/1023 [01:43<00:00,  9.92it/s]\n"
     ]
    },
    {
     "name": "stdout",
     "output_type": "stream",
     "text": [
      "  Trial 4/10 for subsample_ratio=0.8, max_depth=100\n"
     ]
    },
    {
     "name": "stderr",
     "output_type": "stream",
     "text": [
      " Evaluating coalitions for trial 4: 100%|██████████| 1023/1023 [01:43<00:00,  9.86it/s]\n"
     ]
    },
    {
     "name": "stdout",
     "output_type": "stream",
     "text": [
      "  Trial 5/10 for subsample_ratio=0.8, max_depth=100\n"
     ]
    },
    {
     "name": "stderr",
     "output_type": "stream",
     "text": [
      " Evaluating coalitions for trial 5: 100%|██████████| 1023/1023 [01:43<00:00,  9.87it/s]\n"
     ]
    },
    {
     "name": "stdout",
     "output_type": "stream",
     "text": [
      "  Trial 6/10 for subsample_ratio=0.8, max_depth=100\n"
     ]
    },
    {
     "name": "stderr",
     "output_type": "stream",
     "text": [
      " Evaluating coalitions for trial 6: 100%|██████████| 1023/1023 [01:43<00:00,  9.92it/s]\n"
     ]
    },
    {
     "name": "stdout",
     "output_type": "stream",
     "text": [
      "  Trial 7/10 for subsample_ratio=0.8, max_depth=100\n"
     ]
    },
    {
     "name": "stderr",
     "output_type": "stream",
     "text": [
      " Evaluating coalitions for trial 7: 100%|██████████| 1023/1023 [01:43<00:00,  9.87it/s]\n"
     ]
    },
    {
     "name": "stdout",
     "output_type": "stream",
     "text": [
      "  Trial 8/10 for subsample_ratio=0.8, max_depth=100\n"
     ]
    },
    {
     "name": "stderr",
     "output_type": "stream",
     "text": [
      " Evaluating coalitions for trial 8: 100%|██████████| 1023/1023 [01:44<00:00,  9.80it/s]\n"
     ]
    },
    {
     "name": "stdout",
     "output_type": "stream",
     "text": [
      "  Trial 9/10 for subsample_ratio=0.8, max_depth=100\n"
     ]
    },
    {
     "name": "stderr",
     "output_type": "stream",
     "text": [
      " Evaluating coalitions for trial 9: 100%|██████████| 1023/1023 [01:44<00:00,  9.83it/s]\n"
     ]
    },
    {
     "name": "stdout",
     "output_type": "stream",
     "text": [
      "  Trial 10/10 for subsample_ratio=0.8, max_depth=100\n"
     ]
    },
    {
     "name": "stderr",
     "output_type": "stream",
     "text": [
      " Evaluating coalitions for trial 10: 100%|██████████| 1023/1023 [01:45<00:00,  9.72it/s]\n"
     ]
    },
    {
     "name": "stdout",
     "output_type": "stream",
     "text": [
      "Process complete. Results saved.\n"
     ]
    }
   ],
   "source": [
    "train_files_pattern = \".../data/corrupted_data/c4/train_{i:02d}.csv\" \n",
    "test_files_pattern = \".../data/corrupted_data/c4/test_{i:02d}.csv\" \n",
    "run_experiment_2(n_clients=10, n_trials=10, base_random_seed=42,  subsample_ratios=[0.5, 0.8],  max_depths=[10, 100], train_files_pattern=train_files_pattern, test_files_pattern=test_files_pattern)"
   ]
  },
  {
   "cell_type": "code",
   "execution_count": null,
   "metadata": {},
   "outputs": [
    {
     "name": "stdout",
     "output_type": "stream",
     "text": [
      "\n",
      "Running experiment with subsample_ratio = 0.5, max_depth = 10\n",
      "  Trial 1/10 for subsample_ratio=0.5, max_depth=10\n"
     ]
    },
    {
     "name": "stderr",
     "output_type": "stream",
     "text": [
      " Evaluating coalitions for trial 1: 100%|██████████| 1023/1023 [01:35<00:00, 10.74it/s]\n"
     ]
    },
    {
     "name": "stdout",
     "output_type": "stream",
     "text": [
      "  Trial 2/10 for subsample_ratio=0.5, max_depth=10\n"
     ]
    },
    {
     "name": "stderr",
     "output_type": "stream",
     "text": [
      " Evaluating coalitions for trial 2: 100%|██████████| 1023/1023 [01:35<00:00, 10.75it/s]\n"
     ]
    },
    {
     "name": "stdout",
     "output_type": "stream",
     "text": [
      "  Trial 3/10 for subsample_ratio=0.5, max_depth=10\n"
     ]
    },
    {
     "name": "stderr",
     "output_type": "stream",
     "text": [
      " Evaluating coalitions for trial 3: 100%|██████████| 1023/1023 [01:37<00:00, 10.47it/s]\n"
     ]
    },
    {
     "name": "stdout",
     "output_type": "stream",
     "text": [
      "  Trial 4/10 for subsample_ratio=0.5, max_depth=10\n"
     ]
    },
    {
     "name": "stderr",
     "output_type": "stream",
     "text": [
      " Evaluating coalitions for trial 4: 100%|██████████| 1023/1023 [01:35<00:00, 10.68it/s]\n"
     ]
    },
    {
     "name": "stdout",
     "output_type": "stream",
     "text": [
      "  Trial 5/10 for subsample_ratio=0.5, max_depth=10\n"
     ]
    },
    {
     "name": "stderr",
     "output_type": "stream",
     "text": [
      " Evaluating coalitions for trial 5: 100%|██████████| 1023/1023 [01:34<00:00, 10.81it/s]\n"
     ]
    },
    {
     "name": "stdout",
     "output_type": "stream",
     "text": [
      "  Trial 6/10 for subsample_ratio=0.5, max_depth=10\n"
     ]
    },
    {
     "name": "stderr",
     "output_type": "stream",
     "text": [
      " Evaluating coalitions for trial 6: 100%|██████████| 1023/1023 [01:35<00:00, 10.69it/s]\n"
     ]
    },
    {
     "name": "stdout",
     "output_type": "stream",
     "text": [
      "  Trial 7/10 for subsample_ratio=0.5, max_depth=10\n"
     ]
    },
    {
     "name": "stderr",
     "output_type": "stream",
     "text": [
      " Evaluating coalitions for trial 7: 100%|██████████| 1023/1023 [01:35<00:00, 10.72it/s]\n"
     ]
    },
    {
     "name": "stdout",
     "output_type": "stream",
     "text": [
      "  Trial 8/10 for subsample_ratio=0.5, max_depth=10\n"
     ]
    },
    {
     "name": "stderr",
     "output_type": "stream",
     "text": [
      " Evaluating coalitions for trial 8: 100%|██████████| 1023/1023 [01:36<00:00, 10.65it/s]\n"
     ]
    },
    {
     "name": "stdout",
     "output_type": "stream",
     "text": [
      "  Trial 9/10 for subsample_ratio=0.5, max_depth=10\n"
     ]
    },
    {
     "name": "stderr",
     "output_type": "stream",
     "text": [
      " Evaluating coalitions for trial 9: 100%|██████████| 1023/1023 [01:35<00:00, 10.74it/s]\n"
     ]
    },
    {
     "name": "stdout",
     "output_type": "stream",
     "text": [
      "  Trial 10/10 for subsample_ratio=0.5, max_depth=10\n"
     ]
    },
    {
     "name": "stderr",
     "output_type": "stream",
     "text": [
      " Evaluating coalitions for trial 10: 100%|██████████| 1023/1023 [01:35<00:00, 10.73it/s]\n"
     ]
    },
    {
     "name": "stdout",
     "output_type": "stream",
     "text": [
      "\n",
      "Running experiment with subsample_ratio = 0.5, max_depth = 100\n",
      "  Trial 1/10 for subsample_ratio=0.5, max_depth=100\n"
     ]
    },
    {
     "name": "stderr",
     "output_type": "stream",
     "text": [
      " Evaluating coalitions for trial 1: 100%|██████████| 1023/1023 [01:43<00:00,  9.87it/s]\n"
     ]
    },
    {
     "name": "stdout",
     "output_type": "stream",
     "text": [
      "  Trial 2/10 for subsample_ratio=0.5, max_depth=100\n"
     ]
    },
    {
     "name": "stderr",
     "output_type": "stream",
     "text": [
      " Evaluating coalitions for trial 2: 100%|██████████| 1023/1023 [01:42<00:00,  9.94it/s]\n"
     ]
    },
    {
     "name": "stdout",
     "output_type": "stream",
     "text": [
      "  Trial 3/10 for subsample_ratio=0.5, max_depth=100\n"
     ]
    },
    {
     "name": "stderr",
     "output_type": "stream",
     "text": [
      " Evaluating coalitions for trial 3: 100%|██████████| 1023/1023 [01:43<00:00,  9.85it/s]\n"
     ]
    },
    {
     "name": "stdout",
     "output_type": "stream",
     "text": [
      "  Trial 4/10 for subsample_ratio=0.5, max_depth=100\n"
     ]
    },
    {
     "name": "stderr",
     "output_type": "stream",
     "text": [
      " Evaluating coalitions for trial 4: 100%|██████████| 1023/1023 [01:43<00:00,  9.91it/s]\n"
     ]
    },
    {
     "name": "stdout",
     "output_type": "stream",
     "text": [
      "  Trial 5/10 for subsample_ratio=0.5, max_depth=100\n"
     ]
    },
    {
     "name": "stderr",
     "output_type": "stream",
     "text": [
      " Evaluating coalitions for trial 5: 100%|██████████| 1023/1023 [20:18<00:00,  1.19s/it]   \n"
     ]
    },
    {
     "name": "stdout",
     "output_type": "stream",
     "text": [
      "  Trial 6/10 for subsample_ratio=0.5, max_depth=100\n"
     ]
    },
    {
     "name": "stderr",
     "output_type": "stream",
     "text": [
      " Evaluating coalitions for trial 6: 100%|██████████| 1023/1023 [01:41<00:00, 10.04it/s]\n"
     ]
    },
    {
     "name": "stdout",
     "output_type": "stream",
     "text": [
      "  Trial 7/10 for subsample_ratio=0.5, max_depth=100\n"
     ]
    },
    {
     "name": "stderr",
     "output_type": "stream",
     "text": [
      " Evaluating coalitions for trial 7: 100%|██████████| 1023/1023 [01:43<00:00,  9.85it/s]\n"
     ]
    },
    {
     "name": "stdout",
     "output_type": "stream",
     "text": [
      "  Trial 8/10 for subsample_ratio=0.5, max_depth=100\n"
     ]
    },
    {
     "name": "stderr",
     "output_type": "stream",
     "text": [
      " Evaluating coalitions for trial 8: 100%|██████████| 1023/1023 [01:42<00:00,  9.95it/s]\n"
     ]
    },
    {
     "name": "stdout",
     "output_type": "stream",
     "text": [
      "  Trial 9/10 for subsample_ratio=0.5, max_depth=100\n"
     ]
    },
    {
     "name": "stderr",
     "output_type": "stream",
     "text": [
      " Evaluating coalitions for trial 9: 100%|██████████| 1023/1023 [01:42<00:00,  9.93it/s]\n"
     ]
    },
    {
     "name": "stdout",
     "output_type": "stream",
     "text": [
      "  Trial 10/10 for subsample_ratio=0.5, max_depth=100\n"
     ]
    },
    {
     "name": "stderr",
     "output_type": "stream",
     "text": [
      " Evaluating coalitions for trial 10: 100%|██████████| 1023/1023 [01:44<00:00,  9.82it/s]\n"
     ]
    },
    {
     "name": "stdout",
     "output_type": "stream",
     "text": [
      "\n",
      "Running experiment with subsample_ratio = 0.8, max_depth = 10\n",
      "  Trial 1/10 for subsample_ratio=0.8, max_depth=10\n"
     ]
    },
    {
     "name": "stderr",
     "output_type": "stream",
     "text": [
      " Evaluating coalitions for trial 1: 100%|██████████| 1023/1023 [01:35<00:00, 10.73it/s]\n"
     ]
    },
    {
     "name": "stdout",
     "output_type": "stream",
     "text": [
      "  Trial 2/10 for subsample_ratio=0.8, max_depth=10\n"
     ]
    },
    {
     "name": "stderr",
     "output_type": "stream",
     "text": [
      " Evaluating coalitions for trial 2: 100%|██████████| 1023/1023 [01:35<00:00, 10.74it/s]\n"
     ]
    },
    {
     "name": "stdout",
     "output_type": "stream",
     "text": [
      "  Trial 3/10 for subsample_ratio=0.8, max_depth=10\n"
     ]
    },
    {
     "name": "stderr",
     "output_type": "stream",
     "text": [
      " Evaluating coalitions for trial 3: 100%|██████████| 1023/1023 [01:35<00:00, 10.67it/s]\n"
     ]
    },
    {
     "name": "stdout",
     "output_type": "stream",
     "text": [
      "  Trial 4/10 for subsample_ratio=0.8, max_depth=10\n"
     ]
    },
    {
     "name": "stderr",
     "output_type": "stream",
     "text": [
      " Evaluating coalitions for trial 4: 100%|██████████| 1023/1023 [12:32<00:00,  1.36it/s]  \n"
     ]
    },
    {
     "name": "stdout",
     "output_type": "stream",
     "text": [
      "  Trial 5/10 for subsample_ratio=0.8, max_depth=10\n"
     ]
    },
    {
     "name": "stderr",
     "output_type": "stream",
     "text": [
      " Evaluating coalitions for trial 5: 100%|██████████| 1023/1023 [01:35<00:00, 10.74it/s]\n"
     ]
    },
    {
     "name": "stdout",
     "output_type": "stream",
     "text": [
      "  Trial 6/10 for subsample_ratio=0.8, max_depth=10\n"
     ]
    },
    {
     "name": "stderr",
     "output_type": "stream",
     "text": [
      " Evaluating coalitions for trial 6: 100%|██████████| 1023/1023 [01:35<00:00, 10.75it/s]\n"
     ]
    },
    {
     "name": "stdout",
     "output_type": "stream",
     "text": [
      "  Trial 7/10 for subsample_ratio=0.8, max_depth=10\n"
     ]
    },
    {
     "name": "stderr",
     "output_type": "stream",
     "text": [
      " Evaluating coalitions for trial 7: 100%|██████████| 1023/1023 [01:34<00:00, 10.82it/s]\n"
     ]
    },
    {
     "name": "stdout",
     "output_type": "stream",
     "text": [
      "  Trial 8/10 for subsample_ratio=0.8, max_depth=10\n"
     ]
    },
    {
     "name": "stderr",
     "output_type": "stream",
     "text": [
      " Evaluating coalitions for trial 8: 100%|██████████| 1023/1023 [01:35<00:00, 10.70it/s]\n"
     ]
    },
    {
     "name": "stdout",
     "output_type": "stream",
     "text": [
      "  Trial 9/10 for subsample_ratio=0.8, max_depth=10\n"
     ]
    },
    {
     "name": "stderr",
     "output_type": "stream",
     "text": [
      " Evaluating coalitions for trial 9: 100%|██████████| 1023/1023 [01:34<00:00, 10.81it/s]\n"
     ]
    },
    {
     "name": "stdout",
     "output_type": "stream",
     "text": [
      "  Trial 10/10 for subsample_ratio=0.8, max_depth=10\n"
     ]
    },
    {
     "name": "stderr",
     "output_type": "stream",
     "text": [
      " Evaluating coalitions for trial 10: 100%|██████████| 1023/1023 [01:33<00:00, 10.91it/s]\n"
     ]
    },
    {
     "name": "stdout",
     "output_type": "stream",
     "text": [
      "\n",
      "Running experiment with subsample_ratio = 0.8, max_depth = 100\n",
      "  Trial 1/10 for subsample_ratio=0.8, max_depth=100\n"
     ]
    },
    {
     "name": "stderr",
     "output_type": "stream",
     "text": [
      " Evaluating coalitions for trial 1: 100%|██████████| 1023/1023 [01:46<00:00,  9.62it/s]\n"
     ]
    },
    {
     "name": "stdout",
     "output_type": "stream",
     "text": [
      "  Trial 2/10 for subsample_ratio=0.8, max_depth=100\n"
     ]
    },
    {
     "name": "stderr",
     "output_type": "stream",
     "text": [
      " Evaluating coalitions for trial 2: 100%|██████████| 1023/1023 [01:45<00:00,  9.73it/s]\n"
     ]
    },
    {
     "name": "stdout",
     "output_type": "stream",
     "text": [
      "  Trial 3/10 for subsample_ratio=0.8, max_depth=100\n"
     ]
    },
    {
     "name": "stderr",
     "output_type": "stream",
     "text": [
      " Evaluating coalitions for trial 3: 100%|██████████| 1023/1023 [01:45<00:00,  9.69it/s]\n"
     ]
    },
    {
     "name": "stdout",
     "output_type": "stream",
     "text": [
      "  Trial 4/10 for subsample_ratio=0.8, max_depth=100\n"
     ]
    },
    {
     "name": "stderr",
     "output_type": "stream",
     "text": [
      " Evaluating coalitions for trial 4: 100%|██████████| 1023/1023 [01:46<00:00,  9.62it/s]\n"
     ]
    },
    {
     "name": "stdout",
     "output_type": "stream",
     "text": [
      "  Trial 5/10 for subsample_ratio=0.8, max_depth=100\n"
     ]
    },
    {
     "name": "stderr",
     "output_type": "stream",
     "text": [
      " Evaluating coalitions for trial 5: 100%|██████████| 1023/1023 [01:46<00:00,  9.65it/s]\n"
     ]
    },
    {
     "name": "stdout",
     "output_type": "stream",
     "text": [
      "  Trial 6/10 for subsample_ratio=0.8, max_depth=100\n"
     ]
    },
    {
     "name": "stderr",
     "output_type": "stream",
     "text": [
      " Evaluating coalitions for trial 6: 100%|██████████| 1023/1023 [01:45<00:00,  9.73it/s]\n"
     ]
    },
    {
     "name": "stdout",
     "output_type": "stream",
     "text": [
      "  Trial 7/10 for subsample_ratio=0.8, max_depth=100\n"
     ]
    },
    {
     "name": "stderr",
     "output_type": "stream",
     "text": [
      " Evaluating coalitions for trial 7: 100%|██████████| 1023/1023 [01:44<00:00,  9.77it/s]\n"
     ]
    },
    {
     "name": "stdout",
     "output_type": "stream",
     "text": [
      "  Trial 8/10 for subsample_ratio=0.8, max_depth=100\n"
     ]
    },
    {
     "name": "stderr",
     "output_type": "stream",
     "text": [
      " Evaluating coalitions for trial 8: 100%|██████████| 1023/1023 [01:47<00:00,  9.53it/s]\n"
     ]
    },
    {
     "name": "stdout",
     "output_type": "stream",
     "text": [
      "  Trial 9/10 for subsample_ratio=0.8, max_depth=100\n"
     ]
    },
    {
     "name": "stderr",
     "output_type": "stream",
     "text": [
      " Evaluating coalitions for trial 9: 100%|██████████| 1023/1023 [01:45<00:00,  9.70it/s]\n"
     ]
    },
    {
     "name": "stdout",
     "output_type": "stream",
     "text": [
      "  Trial 10/10 for subsample_ratio=0.8, max_depth=100\n"
     ]
    },
    {
     "name": "stderr",
     "output_type": "stream",
     "text": [
      " Evaluating coalitions for trial 10: 100%|██████████| 1023/1023 [01:47<00:00,  9.53it/s]\n"
     ]
    },
    {
     "name": "stdout",
     "output_type": "stream",
     "text": [
      "Process complete. Results saved.\n"
     ]
    }
   ],
   "source": [
    "train_files_pattern = \".../data/corrupted_data/c6/train_{i:02d}.csv\" \n",
    "test_files_pattern = \".../data/corrupted_data/c6/test_{i:02d}.csv\" \n",
    "run_experiment_2(n_clients=10, n_trials=10, base_random_seed=42,  subsample_ratios=[0.5, 0.8],  max_depths=[10, 100], train_files_pattern=train_files_pattern, test_files_pattern=test_files_pattern)"
   ]
  },
  {
   "cell_type": "code",
   "execution_count": null,
   "metadata": {},
   "outputs": [
    {
     "name": "stdout",
     "output_type": "stream",
     "text": [
      "\n",
      "Running experiment with subsample_ratio = 0.5, max_depth = 10\n",
      "  Trial 1/10 for subsample_ratio=0.5, max_depth=10\n"
     ]
    },
    {
     "name": "stderr",
     "output_type": "stream",
     "text": [
      " Evaluating coalitions for trial 1: 100%|██████████| 1023/1023 [01:35<00:00, 10.77it/s]\n"
     ]
    },
    {
     "name": "stdout",
     "output_type": "stream",
     "text": [
      "  Trial 2/10 for subsample_ratio=0.5, max_depth=10\n"
     ]
    },
    {
     "name": "stderr",
     "output_type": "stream",
     "text": [
      " Evaluating coalitions for trial 2: 100%|██████████| 1023/1023 [01:35<00:00, 10.73it/s]\n"
     ]
    },
    {
     "name": "stdout",
     "output_type": "stream",
     "text": [
      "  Trial 3/10 for subsample_ratio=0.5, max_depth=10\n"
     ]
    },
    {
     "name": "stderr",
     "output_type": "stream",
     "text": [
      " Evaluating coalitions for trial 3: 100%|██████████| 1023/1023 [01:34<00:00, 10.84it/s]\n"
     ]
    },
    {
     "name": "stdout",
     "output_type": "stream",
     "text": [
      "  Trial 4/10 for subsample_ratio=0.5, max_depth=10\n"
     ]
    },
    {
     "name": "stderr",
     "output_type": "stream",
     "text": [
      " Evaluating coalitions for trial 4: 100%|██████████| 1023/1023 [01:33<00:00, 10.88it/s]\n"
     ]
    },
    {
     "name": "stdout",
     "output_type": "stream",
     "text": [
      "  Trial 5/10 for subsample_ratio=0.5, max_depth=10\n"
     ]
    },
    {
     "name": "stderr",
     "output_type": "stream",
     "text": [
      " Evaluating coalitions for trial 5: 100%|██████████| 1023/1023 [01:34<00:00, 10.86it/s]\n"
     ]
    },
    {
     "name": "stdout",
     "output_type": "stream",
     "text": [
      "  Trial 6/10 for subsample_ratio=0.5, max_depth=10\n"
     ]
    },
    {
     "name": "stderr",
     "output_type": "stream",
     "text": [
      " Evaluating coalitions for trial 6: 100%|██████████| 1023/1023 [01:35<00:00, 10.77it/s]\n"
     ]
    },
    {
     "name": "stdout",
     "output_type": "stream",
     "text": [
      "  Trial 7/10 for subsample_ratio=0.5, max_depth=10\n"
     ]
    },
    {
     "name": "stderr",
     "output_type": "stream",
     "text": [
      " Evaluating coalitions for trial 7: 100%|██████████| 1023/1023 [01:34<00:00, 10.84it/s]\n"
     ]
    },
    {
     "name": "stdout",
     "output_type": "stream",
     "text": [
      "  Trial 8/10 for subsample_ratio=0.5, max_depth=10\n"
     ]
    },
    {
     "name": "stderr",
     "output_type": "stream",
     "text": [
      " Evaluating coalitions for trial 8: 100%|██████████| 1023/1023 [01:35<00:00, 10.73it/s]\n"
     ]
    },
    {
     "name": "stdout",
     "output_type": "stream",
     "text": [
      "  Trial 9/10 for subsample_ratio=0.5, max_depth=10\n"
     ]
    },
    {
     "name": "stderr",
     "output_type": "stream",
     "text": [
      " Evaluating coalitions for trial 9: 100%|██████████| 1023/1023 [01:34<00:00, 10.82it/s]\n"
     ]
    },
    {
     "name": "stdout",
     "output_type": "stream",
     "text": [
      "  Trial 10/10 for subsample_ratio=0.5, max_depth=10\n"
     ]
    },
    {
     "name": "stderr",
     "output_type": "stream",
     "text": [
      " Evaluating coalitions for trial 10: 100%|██████████| 1023/1023 [01:34<00:00, 10.77it/s]\n"
     ]
    },
    {
     "name": "stdout",
     "output_type": "stream",
     "text": [
      "\n",
      "Running experiment with subsample_ratio = 0.5, max_depth = 100\n",
      "  Trial 1/10 for subsample_ratio=0.5, max_depth=100\n"
     ]
    },
    {
     "name": "stderr",
     "output_type": "stream",
     "text": [
      " Evaluating coalitions for trial 1: 100%|██████████| 1023/1023 [01:44<00:00,  9.83it/s]\n"
     ]
    },
    {
     "name": "stdout",
     "output_type": "stream",
     "text": [
      "  Trial 2/10 for subsample_ratio=0.5, max_depth=100\n"
     ]
    },
    {
     "name": "stderr",
     "output_type": "stream",
     "text": [
      " Evaluating coalitions for trial 2: 100%|██████████| 1023/1023 [01:45<00:00,  9.74it/s]\n"
     ]
    },
    {
     "name": "stdout",
     "output_type": "stream",
     "text": [
      "  Trial 3/10 for subsample_ratio=0.5, max_depth=100\n"
     ]
    },
    {
     "name": "stderr",
     "output_type": "stream",
     "text": [
      " Evaluating coalitions for trial 3: 100%|██████████| 1023/1023 [01:45<00:00,  9.66it/s]\n"
     ]
    },
    {
     "name": "stdout",
     "output_type": "stream",
     "text": [
      "  Trial 4/10 for subsample_ratio=0.5, max_depth=100\n"
     ]
    },
    {
     "name": "stderr",
     "output_type": "stream",
     "text": [
      " Evaluating coalitions for trial 4: 100%|██████████| 1023/1023 [01:44<00:00,  9.78it/s]\n"
     ]
    },
    {
     "name": "stdout",
     "output_type": "stream",
     "text": [
      "  Trial 5/10 for subsample_ratio=0.5, max_depth=100\n"
     ]
    },
    {
     "name": "stderr",
     "output_type": "stream",
     "text": [
      " Evaluating coalitions for trial 5: 100%|██████████| 1023/1023 [01:46<00:00,  9.63it/s]\n"
     ]
    },
    {
     "name": "stdout",
     "output_type": "stream",
     "text": [
      "  Trial 6/10 for subsample_ratio=0.5, max_depth=100\n"
     ]
    },
    {
     "name": "stderr",
     "output_type": "stream",
     "text": [
      " Evaluating coalitions for trial 6: 100%|██████████| 1023/1023 [01:46<00:00,  9.63it/s]\n"
     ]
    },
    {
     "name": "stdout",
     "output_type": "stream",
     "text": [
      "  Trial 7/10 for subsample_ratio=0.5, max_depth=100\n"
     ]
    },
    {
     "name": "stderr",
     "output_type": "stream",
     "text": [
      " Evaluating coalitions for trial 7: 100%|██████████| 1023/1023 [01:45<00:00,  9.73it/s]\n"
     ]
    },
    {
     "name": "stdout",
     "output_type": "stream",
     "text": [
      "  Trial 8/10 for subsample_ratio=0.5, max_depth=100\n"
     ]
    },
    {
     "name": "stderr",
     "output_type": "stream",
     "text": [
      " Evaluating coalitions for trial 8: 100%|██████████| 1023/1023 [01:46<00:00,  9.61it/s]\n"
     ]
    },
    {
     "name": "stdout",
     "output_type": "stream",
     "text": [
      "  Trial 9/10 for subsample_ratio=0.5, max_depth=100\n"
     ]
    },
    {
     "name": "stderr",
     "output_type": "stream",
     "text": [
      " Evaluating coalitions for trial 9: 100%|██████████| 1023/1023 [01:45<00:00,  9.66it/s]\n"
     ]
    },
    {
     "name": "stdout",
     "output_type": "stream",
     "text": [
      "  Trial 10/10 for subsample_ratio=0.5, max_depth=100\n"
     ]
    },
    {
     "name": "stderr",
     "output_type": "stream",
     "text": [
      " Evaluating coalitions for trial 10: 100%|██████████| 1023/1023 [01:45<00:00,  9.70it/s]\n"
     ]
    },
    {
     "name": "stdout",
     "output_type": "stream",
     "text": [
      "\n",
      "Running experiment with subsample_ratio = 0.8, max_depth = 10\n",
      "  Trial 1/10 for subsample_ratio=0.8, max_depth=10\n"
     ]
    },
    {
     "name": "stderr",
     "output_type": "stream",
     "text": [
      " Evaluating coalitions for trial 1: 100%|██████████| 1023/1023 [01:35<00:00, 10.71it/s]\n"
     ]
    },
    {
     "name": "stdout",
     "output_type": "stream",
     "text": [
      "  Trial 2/10 for subsample_ratio=0.8, max_depth=10\n"
     ]
    },
    {
     "name": "stderr",
     "output_type": "stream",
     "text": [
      " Evaluating coalitions for trial 2: 100%|██████████| 1023/1023 [01:35<00:00, 10.67it/s]\n"
     ]
    },
    {
     "name": "stdout",
     "output_type": "stream",
     "text": [
      "  Trial 3/10 for subsample_ratio=0.8, max_depth=10\n"
     ]
    },
    {
     "name": "stderr",
     "output_type": "stream",
     "text": [
      " Evaluating coalitions for trial 3: 100%|██████████| 1023/1023 [01:37<00:00, 10.51it/s]\n"
     ]
    },
    {
     "name": "stdout",
     "output_type": "stream",
     "text": [
      "  Trial 4/10 for subsample_ratio=0.8, max_depth=10\n"
     ]
    },
    {
     "name": "stderr",
     "output_type": "stream",
     "text": [
      " Evaluating coalitions for trial 4: 100%|██████████| 1023/1023 [01:38<00:00, 10.43it/s]\n"
     ]
    },
    {
     "name": "stdout",
     "output_type": "stream",
     "text": [
      "  Trial 5/10 for subsample_ratio=0.8, max_depth=10\n"
     ]
    },
    {
     "name": "stderr",
     "output_type": "stream",
     "text": [
      " Evaluating coalitions for trial 5: 100%|██████████| 1023/1023 [01:36<00:00, 10.65it/s]\n"
     ]
    },
    {
     "name": "stdout",
     "output_type": "stream",
     "text": [
      "  Trial 6/10 for subsample_ratio=0.8, max_depth=10\n"
     ]
    },
    {
     "name": "stderr",
     "output_type": "stream",
     "text": [
      " Evaluating coalitions for trial 6: 100%|██████████| 1023/1023 [01:36<00:00, 10.58it/s]\n"
     ]
    },
    {
     "name": "stdout",
     "output_type": "stream",
     "text": [
      "  Trial 7/10 for subsample_ratio=0.8, max_depth=10\n"
     ]
    },
    {
     "name": "stderr",
     "output_type": "stream",
     "text": [
      " Evaluating coalitions for trial 7: 100%|██████████| 1023/1023 [01:36<00:00, 10.60it/s]\n"
     ]
    },
    {
     "name": "stdout",
     "output_type": "stream",
     "text": [
      "  Trial 8/10 for subsample_ratio=0.8, max_depth=10\n"
     ]
    },
    {
     "name": "stderr",
     "output_type": "stream",
     "text": [
      " Evaluating coalitions for trial 8: 100%|██████████| 1023/1023 [01:37<00:00, 10.53it/s]\n"
     ]
    },
    {
     "name": "stdout",
     "output_type": "stream",
     "text": [
      "  Trial 9/10 for subsample_ratio=0.8, max_depth=10\n"
     ]
    },
    {
     "name": "stderr",
     "output_type": "stream",
     "text": [
      " Evaluating coalitions for trial 9: 100%|██████████| 1023/1023 [01:37<00:00, 10.47it/s]\n"
     ]
    },
    {
     "name": "stdout",
     "output_type": "stream",
     "text": [
      "  Trial 10/10 for subsample_ratio=0.8, max_depth=10\n"
     ]
    },
    {
     "name": "stderr",
     "output_type": "stream",
     "text": [
      " Evaluating coalitions for trial 10: 100%|██████████| 1023/1023 [01:37<00:00, 10.45it/s]\n"
     ]
    },
    {
     "name": "stdout",
     "output_type": "stream",
     "text": [
      "\n",
      "Running experiment with subsample_ratio = 0.8, max_depth = 100\n",
      "  Trial 1/10 for subsample_ratio=0.8, max_depth=100\n"
     ]
    },
    {
     "name": "stderr",
     "output_type": "stream",
     "text": [
      " Evaluating coalitions for trial 1: 100%|██████████| 1023/1023 [01:51<00:00,  9.22it/s]\n"
     ]
    },
    {
     "name": "stdout",
     "output_type": "stream",
     "text": [
      "  Trial 2/10 for subsample_ratio=0.8, max_depth=100\n"
     ]
    },
    {
     "name": "stderr",
     "output_type": "stream",
     "text": [
      " Evaluating coalitions for trial 2: 100%|██████████| 1023/1023 [01:50<00:00,  9.25it/s]\n"
     ]
    },
    {
     "name": "stdout",
     "output_type": "stream",
     "text": [
      "  Trial 3/10 for subsample_ratio=0.8, max_depth=100\n"
     ]
    },
    {
     "name": "stderr",
     "output_type": "stream",
     "text": [
      " Evaluating coalitions for trial 3: 100%|██████████| 1023/1023 [01:50<00:00,  9.26it/s]\n"
     ]
    },
    {
     "name": "stdout",
     "output_type": "stream",
     "text": [
      "  Trial 4/10 for subsample_ratio=0.8, max_depth=100\n"
     ]
    },
    {
     "name": "stderr",
     "output_type": "stream",
     "text": [
      " Evaluating coalitions for trial 4: 100%|██████████| 1023/1023 [01:50<00:00,  9.24it/s]\n"
     ]
    },
    {
     "name": "stdout",
     "output_type": "stream",
     "text": [
      "  Trial 5/10 for subsample_ratio=0.8, max_depth=100\n"
     ]
    },
    {
     "name": "stderr",
     "output_type": "stream",
     "text": [
      " Evaluating coalitions for trial 5: 100%|██████████| 1023/1023 [01:50<00:00,  9.30it/s]\n"
     ]
    },
    {
     "name": "stdout",
     "output_type": "stream",
     "text": [
      "  Trial 6/10 for subsample_ratio=0.8, max_depth=100\n"
     ]
    },
    {
     "name": "stderr",
     "output_type": "stream",
     "text": [
      " Evaluating coalitions for trial 6: 100%|██████████| 1023/1023 [01:50<00:00,  9.29it/s]\n"
     ]
    },
    {
     "name": "stdout",
     "output_type": "stream",
     "text": [
      "  Trial 7/10 for subsample_ratio=0.8, max_depth=100\n"
     ]
    },
    {
     "name": "stderr",
     "output_type": "stream",
     "text": [
      " Evaluating coalitions for trial 7: 100%|██████████| 1023/1023 [01:50<00:00,  9.23it/s]\n"
     ]
    },
    {
     "name": "stdout",
     "output_type": "stream",
     "text": [
      "  Trial 8/10 for subsample_ratio=0.8, max_depth=100\n"
     ]
    },
    {
     "name": "stderr",
     "output_type": "stream",
     "text": [
      " Evaluating coalitions for trial 8: 100%|██████████| 1023/1023 [01:50<00:00,  9.22it/s]\n"
     ]
    },
    {
     "name": "stdout",
     "output_type": "stream",
     "text": [
      "  Trial 9/10 for subsample_ratio=0.8, max_depth=100\n"
     ]
    },
    {
     "name": "stderr",
     "output_type": "stream",
     "text": [
      " Evaluating coalitions for trial 9: 100%|██████████| 1023/1023 [01:50<00:00,  9.29it/s]\n"
     ]
    },
    {
     "name": "stdout",
     "output_type": "stream",
     "text": [
      "  Trial 10/10 for subsample_ratio=0.8, max_depth=100\n"
     ]
    },
    {
     "name": "stderr",
     "output_type": "stream",
     "text": [
      " Evaluating coalitions for trial 10: 100%|██████████| 1023/1023 [01:50<00:00,  9.25it/s]\n"
     ]
    },
    {
     "name": "stdout",
     "output_type": "stream",
     "text": [
      "Process complete. Results saved.\n"
     ]
    }
   ],
   "source": [
    "train_files_pattern = \".../data/corrupted_data/c8/train_{i:02d}.csv\" \n",
    "test_files_pattern = \".../data/corrupted_data/c8/test_{i:02d}.csv\" \n",
    "run_experiment_2(n_clients=10, n_trials=10, base_random_seed=42,  subsample_ratios=[0.5, 0.8],  max_depths=[10, 100], train_files_pattern=train_files_pattern, test_files_pattern=test_files_pattern)"
   ]
  },
  {
   "cell_type": "code",
   "execution_count": null,
   "metadata": {},
   "outputs": [
    {
     "name": "stdout",
     "output_type": "stream",
     "text": [
      "\n",
      "Running experiment with subsample_ratio = 0.5, max_depth = 10\n",
      "  Trial 1/10 for subsample_ratio=0.5, max_depth=10\n"
     ]
    },
    {
     "name": "stderr",
     "output_type": "stream",
     "text": [
      " Evaluating coalitions for trial 1: 100%|██████████| 1023/1023 [01:34<00:00, 10.78it/s]\n"
     ]
    },
    {
     "name": "stdout",
     "output_type": "stream",
     "text": [
      "  Trial 2/10 for subsample_ratio=0.5, max_depth=10\n"
     ]
    },
    {
     "name": "stderr",
     "output_type": "stream",
     "text": [
      " Evaluating coalitions for trial 2: 100%|██████████| 1023/1023 [01:35<00:00, 10.70it/s]\n"
     ]
    },
    {
     "name": "stdout",
     "output_type": "stream",
     "text": [
      "  Trial 3/10 for subsample_ratio=0.5, max_depth=10\n"
     ]
    },
    {
     "name": "stderr",
     "output_type": "stream",
     "text": [
      " Evaluating coalitions for trial 3: 100%|██████████| 1023/1023 [01:35<00:00, 10.76it/s]\n"
     ]
    },
    {
     "name": "stdout",
     "output_type": "stream",
     "text": [
      "  Trial 4/10 for subsample_ratio=0.5, max_depth=10\n"
     ]
    },
    {
     "name": "stderr",
     "output_type": "stream",
     "text": [
      " Evaluating coalitions for trial 4: 100%|██████████| 1023/1023 [01:36<00:00, 10.59it/s]\n"
     ]
    },
    {
     "name": "stdout",
     "output_type": "stream",
     "text": [
      "  Trial 5/10 for subsample_ratio=0.5, max_depth=10\n"
     ]
    },
    {
     "name": "stderr",
     "output_type": "stream",
     "text": [
      " Evaluating coalitions for trial 5: 100%|██████████| 1023/1023 [01:37<00:00, 10.50it/s]\n"
     ]
    },
    {
     "name": "stdout",
     "output_type": "stream",
     "text": [
      "  Trial 6/10 for subsample_ratio=0.5, max_depth=10\n"
     ]
    },
    {
     "name": "stderr",
     "output_type": "stream",
     "text": [
      " Evaluating coalitions for trial 6: 100%|██████████| 1023/1023 [01:35<00:00, 10.74it/s]\n"
     ]
    },
    {
     "name": "stdout",
     "output_type": "stream",
     "text": [
      "  Trial 7/10 for subsample_ratio=0.5, max_depth=10\n"
     ]
    },
    {
     "name": "stderr",
     "output_type": "stream",
     "text": [
      " Evaluating coalitions for trial 7: 100%|██████████| 1023/1023 [01:36<00:00, 10.61it/s]\n"
     ]
    },
    {
     "name": "stdout",
     "output_type": "stream",
     "text": [
      "  Trial 8/10 for subsample_ratio=0.5, max_depth=10\n"
     ]
    },
    {
     "name": "stderr",
     "output_type": "stream",
     "text": [
      " Evaluating coalitions for trial 8: 100%|██████████| 1023/1023 [01:35<00:00, 10.74it/s]\n"
     ]
    },
    {
     "name": "stdout",
     "output_type": "stream",
     "text": [
      "  Trial 9/10 for subsample_ratio=0.5, max_depth=10\n"
     ]
    },
    {
     "name": "stderr",
     "output_type": "stream",
     "text": [
      " Evaluating coalitions for trial 9: 100%|██████████| 1023/1023 [01:36<00:00, 10.58it/s]\n"
     ]
    },
    {
     "name": "stdout",
     "output_type": "stream",
     "text": [
      "  Trial 10/10 for subsample_ratio=0.5, max_depth=10\n"
     ]
    },
    {
     "name": "stderr",
     "output_type": "stream",
     "text": [
      " Evaluating coalitions for trial 10: 100%|██████████| 1023/1023 [01:35<00:00, 10.70it/s]\n"
     ]
    },
    {
     "name": "stdout",
     "output_type": "stream",
     "text": [
      "\n",
      "Running experiment with subsample_ratio = 0.5, max_depth = 100\n",
      "  Trial 1/10 for subsample_ratio=0.5, max_depth=100\n"
     ]
    },
    {
     "name": "stderr",
     "output_type": "stream",
     "text": [
      " Evaluating coalitions for trial 1: 100%|██████████| 1023/1023 [01:48<00:00,  9.42it/s]\n"
     ]
    },
    {
     "name": "stdout",
     "output_type": "stream",
     "text": [
      "  Trial 2/10 for subsample_ratio=0.5, max_depth=100\n"
     ]
    },
    {
     "name": "stderr",
     "output_type": "stream",
     "text": [
      " Evaluating coalitions for trial 2: 100%|██████████| 1023/1023 [01:47<00:00,  9.48it/s]\n"
     ]
    },
    {
     "name": "stdout",
     "output_type": "stream",
     "text": [
      "  Trial 3/10 for subsample_ratio=0.5, max_depth=100\n"
     ]
    },
    {
     "name": "stderr",
     "output_type": "stream",
     "text": [
      " Evaluating coalitions for trial 3: 100%|██████████| 1023/1023 [03:52<00:00,  4.40it/s]\n"
     ]
    },
    {
     "name": "stdout",
     "output_type": "stream",
     "text": [
      "  Trial 4/10 for subsample_ratio=0.5, max_depth=100\n"
     ]
    },
    {
     "name": "stderr",
     "output_type": "stream",
     "text": [
      " Evaluating coalitions for trial 4: 100%|██████████| 1023/1023 [05:20<00:00,  3.19it/s] \n"
     ]
    },
    {
     "name": "stdout",
     "output_type": "stream",
     "text": [
      "  Trial 5/10 for subsample_ratio=0.5, max_depth=100\n"
     ]
    },
    {
     "name": "stderr",
     "output_type": "stream",
     "text": [
      " Evaluating coalitions for trial 5: 100%|██████████| 1023/1023 [01:48<00:00,  9.40it/s]\n"
     ]
    },
    {
     "name": "stdout",
     "output_type": "stream",
     "text": [
      "  Trial 6/10 for subsample_ratio=0.5, max_depth=100\n"
     ]
    },
    {
     "name": "stderr",
     "output_type": "stream",
     "text": [
      " Evaluating coalitions for trial 6: 100%|██████████| 1023/1023 [01:47<00:00,  9.50it/s]\n"
     ]
    },
    {
     "name": "stdout",
     "output_type": "stream",
     "text": [
      "  Trial 7/10 for subsample_ratio=0.5, max_depth=100\n"
     ]
    },
    {
     "name": "stderr",
     "output_type": "stream",
     "text": [
      " Evaluating coalitions for trial 7: 100%|██████████| 1023/1023 [01:47<00:00,  9.52it/s]\n"
     ]
    },
    {
     "name": "stdout",
     "output_type": "stream",
     "text": [
      "  Trial 8/10 for subsample_ratio=0.5, max_depth=100\n"
     ]
    },
    {
     "name": "stderr",
     "output_type": "stream",
     "text": [
      " Evaluating coalitions for trial 8: 100%|██████████| 1023/1023 [01:48<00:00,  9.42it/s]\n"
     ]
    },
    {
     "name": "stdout",
     "output_type": "stream",
     "text": [
      "  Trial 9/10 for subsample_ratio=0.5, max_depth=100\n"
     ]
    },
    {
     "name": "stderr",
     "output_type": "stream",
     "text": [
      " Evaluating coalitions for trial 9: 100%|██████████| 1023/1023 [01:47<00:00,  9.50it/s]\n"
     ]
    },
    {
     "name": "stdout",
     "output_type": "stream",
     "text": [
      "  Trial 10/10 for subsample_ratio=0.5, max_depth=100\n"
     ]
    },
    {
     "name": "stderr",
     "output_type": "stream",
     "text": [
      " Evaluating coalitions for trial 10: 100%|██████████| 1023/1023 [05:44<00:00,  2.97it/s] \n"
     ]
    },
    {
     "name": "stdout",
     "output_type": "stream",
     "text": [
      "\n",
      "Running experiment with subsample_ratio = 0.8, max_depth = 10\n",
      "  Trial 1/10 for subsample_ratio=0.8, max_depth=10\n"
     ]
    },
    {
     "name": "stderr",
     "output_type": "stream",
     "text": [
      " Evaluating coalitions for trial 1: 100%|██████████| 1023/1023 [01:35<00:00, 10.69it/s]\n"
     ]
    },
    {
     "name": "stdout",
     "output_type": "stream",
     "text": [
      "  Trial 2/10 for subsample_ratio=0.8, max_depth=10\n"
     ]
    },
    {
     "name": "stderr",
     "output_type": "stream",
     "text": [
      " Evaluating coalitions for trial 2: 100%|██████████| 1023/1023 [01:36<00:00, 10.59it/s]\n"
     ]
    },
    {
     "name": "stdout",
     "output_type": "stream",
     "text": [
      "  Trial 3/10 for subsample_ratio=0.8, max_depth=10\n"
     ]
    },
    {
     "name": "stderr",
     "output_type": "stream",
     "text": [
      " Evaluating coalitions for trial 3: 100%|██████████| 1023/1023 [01:36<00:00, 10.57it/s]\n"
     ]
    },
    {
     "name": "stdout",
     "output_type": "stream",
     "text": [
      "  Trial 4/10 for subsample_ratio=0.8, max_depth=10\n"
     ]
    },
    {
     "name": "stderr",
     "output_type": "stream",
     "text": [
      " Evaluating coalitions for trial 4: 100%|██████████| 1023/1023 [01:35<00:00, 10.66it/s]\n"
     ]
    },
    {
     "name": "stdout",
     "output_type": "stream",
     "text": [
      "  Trial 5/10 for subsample_ratio=0.8, max_depth=10\n"
     ]
    },
    {
     "name": "stderr",
     "output_type": "stream",
     "text": [
      " Evaluating coalitions for trial 5: 100%|██████████| 1023/1023 [01:35<00:00, 10.66it/s]\n"
     ]
    },
    {
     "name": "stdout",
     "output_type": "stream",
     "text": [
      "  Trial 6/10 for subsample_ratio=0.8, max_depth=10\n"
     ]
    },
    {
     "name": "stderr",
     "output_type": "stream",
     "text": [
      " Evaluating coalitions for trial 6: 100%|██████████| 1023/1023 [1:22:11<00:00,  4.82s/it]   \n"
     ]
    },
    {
     "name": "stdout",
     "output_type": "stream",
     "text": [
      "  Trial 7/10 for subsample_ratio=0.8, max_depth=10\n"
     ]
    },
    {
     "name": "stderr",
     "output_type": "stream",
     "text": [
      " Evaluating coalitions for trial 7: 100%|██████████| 1023/1023 [01:35<00:00, 10.77it/s]\n"
     ]
    },
    {
     "name": "stdout",
     "output_type": "stream",
     "text": [
      "  Trial 8/10 for subsample_ratio=0.8, max_depth=10\n"
     ]
    },
    {
     "name": "stderr",
     "output_type": "stream",
     "text": [
      " Evaluating coalitions for trial 8: 100%|██████████| 1023/1023 [01:36<00:00, 10.64it/s]\n"
     ]
    },
    {
     "name": "stdout",
     "output_type": "stream",
     "text": [
      "  Trial 9/10 for subsample_ratio=0.8, max_depth=10\n"
     ]
    },
    {
     "name": "stderr",
     "output_type": "stream",
     "text": [
      " Evaluating coalitions for trial 9: 100%|██████████| 1023/1023 [01:36<00:00, 10.61it/s]\n"
     ]
    },
    {
     "name": "stdout",
     "output_type": "stream",
     "text": [
      "  Trial 10/10 for subsample_ratio=0.8, max_depth=10\n"
     ]
    },
    {
     "name": "stderr",
     "output_type": "stream",
     "text": [
      " Evaluating coalitions for trial 10: 100%|██████████| 1023/1023 [01:36<00:00, 10.58it/s]\n"
     ]
    },
    {
     "name": "stdout",
     "output_type": "stream",
     "text": [
      "\n",
      "Running experiment with subsample_ratio = 0.8, max_depth = 100\n",
      "  Trial 1/10 for subsample_ratio=0.8, max_depth=100\n"
     ]
    },
    {
     "name": "stderr",
     "output_type": "stream",
     "text": [
      " Evaluating coalitions for trial 1: 100%|██████████| 1023/1023 [01:52<00:00,  9.12it/s]\n"
     ]
    },
    {
     "name": "stdout",
     "output_type": "stream",
     "text": [
      "  Trial 2/10 for subsample_ratio=0.8, max_depth=100\n"
     ]
    },
    {
     "name": "stderr",
     "output_type": "stream",
     "text": [
      " Evaluating coalitions for trial 2: 100%|██████████| 1023/1023 [04:08<00:00,  4.11it/s] \n"
     ]
    },
    {
     "name": "stdout",
     "output_type": "stream",
     "text": [
      "  Trial 3/10 for subsample_ratio=0.8, max_depth=100\n"
     ]
    },
    {
     "name": "stderr",
     "output_type": "stream",
     "text": [
      " Evaluating coalitions for trial 3: 100%|██████████| 1023/1023 [01:51<00:00,  9.18it/s]\n"
     ]
    },
    {
     "name": "stdout",
     "output_type": "stream",
     "text": [
      "  Trial 4/10 for subsample_ratio=0.8, max_depth=100\n"
     ]
    },
    {
     "name": "stderr",
     "output_type": "stream",
     "text": [
      " Evaluating coalitions for trial 4: 100%|██████████| 1023/1023 [01:50<00:00,  9.25it/s]\n"
     ]
    },
    {
     "name": "stdout",
     "output_type": "stream",
     "text": [
      "  Trial 5/10 for subsample_ratio=0.8, max_depth=100\n"
     ]
    },
    {
     "name": "stderr",
     "output_type": "stream",
     "text": [
      " Evaluating coalitions for trial 5: 100%|██████████| 1023/1023 [01:51<00:00,  9.18it/s]\n"
     ]
    },
    {
     "name": "stdout",
     "output_type": "stream",
     "text": [
      "  Trial 6/10 for subsample_ratio=0.8, max_depth=100\n"
     ]
    },
    {
     "name": "stderr",
     "output_type": "stream",
     "text": [
      " Evaluating coalitions for trial 6: 100%|██████████| 1023/1023 [01:51<00:00,  9.17it/s]\n"
     ]
    },
    {
     "name": "stdout",
     "output_type": "stream",
     "text": [
      "  Trial 7/10 for subsample_ratio=0.8, max_depth=100\n"
     ]
    },
    {
     "name": "stderr",
     "output_type": "stream",
     "text": [
      " Evaluating coalitions for trial 7: 100%|██████████| 1023/1023 [03:32<00:00,  4.81it/s]\n"
     ]
    },
    {
     "name": "stdout",
     "output_type": "stream",
     "text": [
      "  Trial 8/10 for subsample_ratio=0.8, max_depth=100\n"
     ]
    },
    {
     "name": "stderr",
     "output_type": "stream",
     "text": [
      " Evaluating coalitions for trial 8: 100%|██████████| 1023/1023 [01:51<00:00,  9.15it/s]\n"
     ]
    },
    {
     "name": "stdout",
     "output_type": "stream",
     "text": [
      "  Trial 9/10 for subsample_ratio=0.8, max_depth=100\n"
     ]
    },
    {
     "name": "stderr",
     "output_type": "stream",
     "text": [
      " Evaluating coalitions for trial 9: 100%|██████████| 1023/1023 [01:50<00:00,  9.22it/s]\n"
     ]
    },
    {
     "name": "stdout",
     "output_type": "stream",
     "text": [
      "  Trial 10/10 for subsample_ratio=0.8, max_depth=100\n"
     ]
    },
    {
     "name": "stderr",
     "output_type": "stream",
     "text": [
      " Evaluating coalitions for trial 10: 100%|██████████| 1023/1023 [01:51<00:00,  9.14it/s]\n"
     ]
    },
    {
     "name": "stdout",
     "output_type": "stream",
     "text": [
      "Process complete. Results saved.\n"
     ]
    }
   ],
   "source": [
    "train_files_pattern = \".../data/corrupted_data/c9/train_{i:02d}.csv\" \n",
    "test_files_pattern = \".../data/corrupted_data/c9/test_{i:02d}.csv\" \n",
    "run_experiment_2(n_clients=10, n_trials=10, base_random_seed=42,  subsample_ratios=[0.5, 0.8],  max_depths=[10, 100], train_files_pattern=train_files_pattern, test_files_pattern=test_files_pattern)"
   ]
  },
  {
   "cell_type": "code",
   "execution_count": null,
   "metadata": {},
   "outputs": [],
   "source": []
  }
 ],
 "metadata": {
  "kernelspec": {
   "display_name": "Python 3",
   "language": "python",
   "name": "python3"
  },
  "language_info": {
   "codemirror_mode": {
    "name": "ipython",
    "version": 3
   },
   "file_extension": ".py",
   "mimetype": "text/x-python",
   "name": "python",
   "nbconvert_exporter": "python",
   "pygments_lexer": "ipython3",
   "version": "3.9.6"
  }
 },
 "nbformat": 4,
 "nbformat_minor": 2
}

{
 "cells": [
  {
   "cell_type": "code",
   "execution_count": null,
   "metadata": {},
   "outputs": [],
   "source": [
    "import os\n",
    "import math\n",
    "import random\n",
    "import copy\n",
    "import ast\n",
    "import numpy as np\n",
    "import pandas as pd\n",
    "import matplotlib.pyplot as plt\n",
    "import seaborn as sns\n",
    "from tqdm import tqdm\n",
    "from collections import Counter, defaultdict\n",
    "from itertools import chain, combinations\n",
    "from sklearn.model_selection import train_test_split, GridSearchCV\n",
    "from sklearn.preprocessing import StandardScaler, LabelEncoder\n",
    "from sklearn.metrics import (\n",
    "    accuracy_score, \n",
    "    confusion_matrix, \n",
    "    ConfusionMatrixDisplay, \n",
    "    classification_report\n",
    ")\n",
    "from sklearn.linear_model import LogisticRegression\n",
    "from sklearn.ensemble import RandomForestClassifier\n",
    "from sklearn.tree import DecisionTreeClassifier"
   ]
  },
  {
   "cell_type": "code",
   "execution_count": 2,
   "metadata": {},
   "outputs": [],
   "source": [
    "from Nash import find_nash_equilibria_v2\n",
    "from Functions import compute_and_visualize_shapley_values\n"
   ]
  },
  {
   "cell_type": "code",
   "execution_count": 3,
   "metadata": {},
   "outputs": [],
   "source": [
    "# disable ConvergenceWarnings\n",
    "import warnings\n",
    "from sklearn.exceptions import ConvergenceWarning\n",
    "warnings.filterwarnings(\"ignore\", category=ConvergenceWarning)"
   ]
  },
  {
   "cell_type": "code",
   "execution_count": 4,
   "metadata": {},
   "outputs": [],
   "source": [
    "# PRNG seed for reproducibility\n",
    "random_seed = 42\n",
    "np.random.seed(random_seed)"
   ]
  },
  {
   "cell_type": "code",
   "execution_count": 5,
   "metadata": {},
   "outputs": [],
   "source": [
    "def aggregate_lr_models(models: list):\n",
    "    aggregated_model = LogisticRegression()\n",
    "    aggregated_model.coef_ = np.mean([model.coef_ for model in models], axis=0)\n",
    "    noise = np.random.normal(0, 0.05, aggregated_model.coef_.shape)\n",
    "    aggregated_model.coef_ += noise\n",
    "    aggregated_model.intercept_ = np.mean([model.intercept_ for model in models], axis=0)\n",
    "    aggregated_model.classes_ = models[0].classes_\n",
    "    return aggregated_model"
   ]
  },
  {
   "cell_type": "code",
   "execution_count": null,
   "metadata": {},
   "outputs": [],
   "source": [
    "file_path = '.../Thesis_Project_Spambase/data/spambase.data'  # Adjust the path as needed\n",
    "df = pd.read_csv(file_path, header=None)"
   ]
  },
  {
   "cell_type": "code",
   "execution_count": 7,
   "metadata": {},
   "outputs": [],
   "source": [
    "random_seed= 42\n",
    "X = df.iloc[:, :-1].to_numpy()\n",
    "y = df.iloc[:, -1].to_numpy()\n",
    "\n",
    "X_train, X_test, y_train, y_test = train_test_split(X, y, test_size=0.2, random_state=random_seed)\n",
    "\n",
    "scaler = StandardScaler()\n",
    "\n",
    "X_train = scaler.fit_transform(X_train)\n",
    "X_test = scaler.transform(X_test)"
   ]
  },
  {
   "cell_type": "code",
   "execution_count": 8,
   "metadata": {},
   "outputs": [],
   "source": [
    "def split_data_equal(X: np.ndarray, y: np.ndarray, n_clients: int, shuffle: bool=False, random_seed: int = None):\n",
    "    if shuffle:\n",
    "        if random_seed is not None:\n",
    "            np.random.seed(random_seed)\n",
    "        idx = np.random.permutation(X.shape[0])\n",
    "        X = X[idx]\n",
    "        y = y[idx]\n",
    "\n",
    "    n_entries_per_client = X.shape[0] // n_clients\n",
    "    partitions = []\n",
    "    for i in range(n_clients):\n",
    "        start = i * n_entries_per_client\n",
    "        end = (i + 1) * n_entries_per_client\n",
    "        X_i = X[start:end]\n",
    "        y_i = y[start:end]\n",
    "        partitions.append((X_i, y_i))\n",
    "    # Ensure the last partition gets all remaining data.\n",
    "    partitions[-1] = (X[start:], y[start:])\n",
    "\n",
    "    return partitions\n"
   ]
  },
  {
   "cell_type": "code",
   "execution_count": 9,
   "metadata": {},
   "outputs": [],
   "source": [
    "def corrupt_data(X: np.ndarray, y: np.ndarray, corruption_prob: float = 0.8, nan_prob: float = 0.5, noise_std: Optional[float] = None):\n",
    "    if noise_std is None:\n",
    "        noise_std = 0.1\n",
    "        \n",
    "    X = X.copy()\n",
    "\n",
    "    mask = np.random.rand(X.shape[0]) < corruption_prob\n",
    "    mask_nan = mask & (np.random.rand(X.shape[0]) < nan_prob)\n",
    "    mask_noise = mask & (~mask_nan)\n",
    "\n",
    "    X += mask_noise[:, None] * np.random.randn(X.shape[0], X.shape[1]) * 0.3\n",
    "    X[np.argwhere(mask_nan)] = np.nan\n",
    "    \n",
    "    return X, y\n",
    "\n",
    "\n",
    "\n",
    "# Function to corrupt data for specific clients, keeping the same corruption indices across trials\n",
    "def corrupt_clients(f, partitions, corrupt_client_indices):\n",
    "\n",
    "    for idx in corrupt_client_indices:\n",
    "        X_i, y_i = partitions[idx]\n",
    "        X_i_corrupted, y_i_corrupted = f(X_i.copy(), y_i.copy())\n",
    "        partitions[idx] = (X_i_corrupted, y_i_corrupted)\n",
    "    \n",
    "    return partitions, corrupt_client_indices"
   ]
  },
  {
   "cell_type": "code",
   "execution_count": 10,
   "metadata": {},
   "outputs": [],
   "source": [
    "# Split data among clients\n",
    "partitions = split_data_equal(X_train, y_train, n_clients=10, shuffle=True)"
   ]
  },
  {
   "cell_type": "code",
   "execution_count": 11,
   "metadata": {},
   "outputs": [],
   "source": [
    "def train_client_models(partitions, random_seed, X_test, y_test, max_iter):\n",
    "    client_models = []\n",
    "    client_global_accuracies = []\n",
    "    client_local_accuracies = []\n",
    "    for X_i, y_i in partitions:\n",
    "        # Remove rows with NaN values\n",
    "        nan_mask = ~np.isnan(X_i).any(axis=1)\n",
    "        X_i_clean = X_i[nan_mask]\n",
    "        y_i_clean = y_i[nan_mask]\n",
    "        if len(y_i_clean) == 0:\n",
    "            # No data to train on after cleaning\n",
    "            client_models.append(None)\n",
    "            client_global_accuracies.append(None)\n",
    "            client_local_accuracies.append(None)\n",
    "            continue\n",
    "        model = LogisticRegression(random_state=random_seed, max_iter=max_iter)\n",
    "        try:\n",
    "            model.fit(X_i_clean, y_i_clean)\n",
    "            client_models.append(model)\n",
    "\n",
    "            acc_local = model.score(X_i_clean, y_i_clean)\n",
    "            client_local_accuracies.append(acc_local)\n",
    "\n",
    "            # Compute local accuracy on global test set\n",
    "            local_acc = model.score(X_test, y_test)\n",
    "            client_global_accuracies.append(local_acc)\n",
    "\n",
    "        except Exception as e:\n",
    "            # Model training failed\n",
    "            client_models.append(None)\n",
    "            client_global_accuracies.append(None)\n",
    "            client_local_accuracies.append(None)\n",
    "    return client_models, client_local_accuracies, client_global_accuracies\n",
    "\n",
    "def run_federated_learning(\n",
    "    partitions_corrupted,  # Precomputed corrupted partitions\n",
    "    corrupt_client_indices,\n",
    "    n_clients=10,\n",
    "    random_seed=None,\n",
    "    shuffle=True,\n",
    "    max_iter=10,\n",
    "):\n",
    "\n",
    "\n",
    "    # Train models for each client and compute accuracies\n",
    "    client_models, client_local_accuracies, client_global_accuracies = train_client_models(\n",
    "        partitions_corrupted, random_seed, X_test, y_test, max_iter\n",
    "    )\n",
    "\n",
    "    # Generate all possible combinations of clients represented as binary strings\n",
    "    results = []\n",
    "    n_combinations = 2 ** n_clients\n",
    "    for i in range(1, n_combinations):\n",
    "        bin_str = format(i, f'0{n_clients}b')\n",
    "        # Determine which clients are included in this combination\n",
    "        client_indices = [j for j in range(n_clients) if bin_str[n_clients - 1 - j] == '1']\n",
    "        included_models = [client_models[j] for j in client_indices if client_models[j] is not None]\n",
    "\n",
    "        if not included_models:\n",
    "            # Skip combinations where no valid models are available\n",
    "            continue\n",
    "\n",
    "        # Aggregate models\n",
    "        federated_model = aggregate_lr_models(included_models)\n",
    "        agg_acc = federated_model.score(X_test, y_test)\n",
    "\n",
    "        # Prepare the row data\n",
    "        row = {'Combination': bin_str, 'Clients': [client + 1 for client in client_indices], 'Global Accuracy': agg_acc}\n",
    "\n",
    "        # Add global accuracies for each client\n",
    "        for j in range(n_clients):\n",
    "            acc = client_global_accuracies[j] if client_global_accuracies[j] is not None else np.nan\n",
    "            column_name = f\"Client {j + 1} Accuracy\"\n",
    "            if j in corrupt_client_indices:\n",
    "                column_name += \" (corrupted client)\"\n",
    "            row[column_name] = acc\n",
    "\n",
    "        results.append(row)\n",
    "\n",
    "    df_results = pd.DataFrame(results)\n",
    "\n",
    "    print(f\"Corrupted client indices: {np.array(corrupt_client_indices) + 1}\")\n",
    "\n",
    "    return df_results, corrupt_client_indices, client_local_accuracies, client_global_accuracies\n"
   ]
  },
  {
   "cell_type": "code",
   "execution_count": 28,
   "metadata": {},
   "outputs": [],
   "source": [
    "def run_experiment(n_trials, n_clients, max_iters, partitions_corrupted, corrupt_client_indices, df, save_dir):\n",
    "    os.makedirs(save_dir, exist_ok=True)  # Ensure save directory exists\n",
    "\n",
    "    all_nash_details = []\n",
    "\n",
    "    for max_iter in max_iters:\n",
    "        print(f\"\\nRunning experiment for max_iter = {max_iter}\")\n",
    "        nash_counts = Counter()\n",
    "        details_for_this_max_iter = []\n",
    "\n",
    "        # Fix corruption indices across all trials\n",
    "        if corrupt_client_indices is None or len(corrupt_client_indices) == 0:\n",
    "            corrupt_client_indices = np.random.choice(n_clients, size=partitions_corrupted, replace=False)\n",
    "\n",
    "\n",
    "        for trial in range(n_trials):\n",
    "            print(f\"  Running trial {trial + 1}/{n_trials} for max_iter = {max_iter}\")\n",
    "\n",
    "            base_random_seed = 42\n",
    "            trial_seed = base_random_seed + trial + max_iter\n",
    "            random.seed(trial_seed)\n",
    "            np.random.seed(trial_seed)\n",
    "\n",
    "            # Split data\n",
    "            X = df.iloc[:, :-1].to_numpy()\n",
    "            y = df.iloc[:, -1].to_numpy()\n",
    "            X_train, X_test, y_train, y_test = train_test_split(X, y, test_size=0.2, random_state=trial_seed)\n",
    "\n",
    "            # Normalize data\n",
    "            scaler = StandardScaler()\n",
    "            X_train = scaler.fit_transform(X_train)\n",
    "            X_test = scaler.transform(X_test)\n",
    "\n",
    "            # Split data into client partitions\n",
    "            partitions = split_data_equal(X_train, y_train, n_clients=n_clients, shuffle=True, random_seed=trial_seed)\n",
    "            \n",
    "            # Apply corruption using fixed corrupt client indices\n",
    "            corrupted_partitions, _ = corrupt_clients(corrupt_data, partitions, corrupt_client_indices)\n",
    "\n",
    "            # Run federated learning with fixed corruption\n",
    "            df_results, _, client_local_accuracies, client_global_accuracies = run_federated_learning(\n",
    "                partitions_corrupted=corrupted_partitions,\n",
    "                corrupt_client_indices=corrupt_client_indices,\n",
    "                n_clients=n_clients,\n",
    "                random_seed=random_seed + trial,\n",
    "                max_iter=max_iter,\n",
    "            )\n",
    "\n",
    "            # Find Nash equilibria\n",
    "            df_nash = find_nash_equilibria_v2(df_results)\n",
    "\n",
    "            # Count Nash equilibrium occurrences\n",
    "            for coalition in df_nash['Combination']:\n",
    "                nash_counts[coalition] += 1\n",
    "\n",
    "            # Compute Shapley values\n",
    "            client_local_accuracies_dict = {i: client_local_accuracies[i] for i in range(len(client_local_accuracies))}\n",
    "            df_shapley = compute_and_visualize_shapley_values(df_results, client_local_accuracies_dict, n_clients=n_clients, plot=False, print_df=False)\n",
    "            df_shapley['Trial'] = trial + 1\n",
    "\n",
    "            # Save details for each Nash equilibrium\n",
    "            for idx, nash_row in df_nash.iterrows():\n",
    "                combination_bin = nash_row['Combination']\n",
    "                client_indices = [j for j in range(n_clients) if combination_bin[n_clients - 1 - j] == '1']\n",
    "                clients_list = [j + 1 for j in client_indices]\n",
    "                \n",
    "                detail_record = {\n",
    "                    'Trial': trial + 1,\n",
    "                    'Combination': combination_bin,\n",
    "                    'Clients': \",\".join(str(c) for c in clients_list),\n",
    "                    'Global Accuracy': nash_row['Global Accuracy'],\n",
    "                    'Max Iter': max_iter\n",
    "                }\n",
    "\n",
    "                for client in range(1, n_clients + 1):\n",
    "                    if client in clients_list:\n",
    "                        detail_record[f'Client {client} Accuracy'] = client_global_accuracies[client - 1]\n",
    "                        val = df_shapley.loc[df_shapley['Client'] == f'Client {client}', 'Normalized Shapley Value']\n",
    "                        detail_record[f'Client {client} Shapley Value'] = val.values[0] if not val.empty else np.nan\n",
    "                    else:\n",
    "                        detail_record[f'Client {client} Accuracy'] = np.nan\n",
    "                        detail_record[f'Client {client} Shapley Value'] = np.nan\n",
    "\n",
    "                details_for_this_max_iter.append(detail_record)\n",
    "\n",
    "        # Save Nash Equilibrium counts\n",
    "        df_nash_counts = pd.DataFrame(nash_counts.items(), columns=['Nash Equilibrium', 'Occurrences'])\n",
    "        df_nash_counts['Max Iter'] = max_iter\n",
    "        filename_counts = os.path.join(save_dir, f\"Nash_Equilibrium_Counts_SpambaseLR_maxiter_{max_iter}.csv\")\n",
    "        df_nash_counts.to_csv(filename_counts, index=False)\n",
    "        print(f\"Nash equilibrium counts saved to {filename_counts}\")\n",
    "\n",
    "        # Save detailed results\n",
    "        df_details = pd.DataFrame(details_for_this_max_iter)\n",
    "        all_nash_details.append(df_details)\n",
    "\n",
    "    # Save final Nash Equilibrium details\n",
    "    final_details_df = pd.concat(all_nash_details, ignore_index=True)\n",
    "    final_details_path = os.path.join(save_dir, \"Nash_Equilibrium_Details_SpambaseLR.csv\")\n",
    "    final_details_df.to_csv(final_details_path, index=False)\n",
    "    print(f\"Nash equilibrium details saved to {final_details_path}\")\n",
    "\n",
    "    return final_details_df\n"
   ]
  },
  {
   "cell_type": "code",
   "execution_count": null,
   "metadata": {},
   "outputs": [
    {
     "name": "stdout",
     "output_type": "stream",
     "text": [
      "\n",
      "Running experiment for max_iter = 10\n",
      "  Running trial 1/10 for max_iter = 10\n",
      "Corrupted client indices: [1 2 3]\n",
      "  Running trial 2/10 for max_iter = 10\n",
      "Corrupted client indices: [1 2 3]\n",
      "  Running trial 3/10 for max_iter = 10\n",
      "Corrupted client indices: [1 2 3]\n",
      "  Running trial 4/10 for max_iter = 10\n",
      "Corrupted client indices: [1 2 3]\n",
      "  Running trial 5/10 for max_iter = 10\n",
      "Corrupted client indices: [1 2 3]\n",
      "  Running trial 6/10 for max_iter = 10\n",
      "Corrupted client indices: [1 2 3]\n",
      "  Running trial 7/10 for max_iter = 10\n",
      "Corrupted client indices: [1 2 3]\n",
      "  Running trial 8/10 for max_iter = 10\n",
      "Corrupted client indices: [1 2 3]\n",
      "  Running trial 9/10 for max_iter = 10\n",
      "Corrupted client indices: [1 2 3]\n",
      "  Running trial 10/10 for max_iter = 10\n",
      "Corrupted client indices: [1 2 3]\n",
      "Nash equilibrium counts saved to /Users/abbaszal/Documents/Thesis_Project_Spambase/results/fedLR_FedFor__with_Corrupting_Spambase_Nash_Check/FedLR/3_Corrupted_Clients/Nash_Equilibrium_Counts_SpambaseLR_maxiter_10.csv\n",
      "\n",
      "Running experiment for max_iter = 100\n",
      "  Running trial 1/10 for max_iter = 100\n",
      "Corrupted client indices: [1 2 3]\n",
      "  Running trial 2/10 for max_iter = 100\n",
      "Corrupted client indices: [1 2 3]\n",
      "  Running trial 3/10 for max_iter = 100\n",
      "Corrupted client indices: [1 2 3]\n",
      "  Running trial 4/10 for max_iter = 100\n",
      "Corrupted client indices: [1 2 3]\n",
      "  Running trial 5/10 for max_iter = 100\n",
      "Corrupted client indices: [1 2 3]\n",
      "  Running trial 6/10 for max_iter = 100\n",
      "Corrupted client indices: [1 2 3]\n",
      "  Running trial 7/10 for max_iter = 100\n",
      "Corrupted client indices: [1 2 3]\n",
      "  Running trial 8/10 for max_iter = 100\n",
      "Corrupted client indices: [1 2 3]\n",
      "  Running trial 9/10 for max_iter = 100\n",
      "Corrupted client indices: [1 2 3]\n",
      "  Running trial 10/10 for max_iter = 100\n",
      "Corrupted client indices: [1 2 3]\n",
      "Nash equilibrium counts saved to /Users/abbaszal/Documents/Thesis_Project_Spambase/results/fedLR_FedFor__with_Corrupting_Spambase_Nash_Check/FedLR/3_Corrupted_Clients/Nash_Equilibrium_Counts_SpambaseLR_maxiter_100.csv\n",
      "Nash equilibrium details saved to /Users/abbaszal/Documents/Thesis_Project_Spambase/results/fedLR_FedFor__with_Corrupting_Spambase_Nash_Check/FedLR/3_Corrupted_Clients/Nash_Equilibrium_Details_SpambaseLR.csv\n"
     ]
    }
   ],
   "source": [
    "save_dir='.../results/fedLR_FedFor__with_Corrupting_Spambase_Nash_Check/FedLR/3_Corrupted_Clients'\n",
    "results = run_experiment(n_trials=10,  n_clients=10, max_iters=[10,100], partitions_corrupted= 3, corrupt_client_indices= [0,1,2], df=df, save_dir=save_dir)"
   ]
  },
  {
   "cell_type": "code",
   "execution_count": null,
   "metadata": {},
   "outputs": [
    {
     "name": "stdout",
     "output_type": "stream",
     "text": [
      "\n",
      "Running experiment for max_iter = 10\n",
      "  Running trial 1/10 for max_iter = 10\n",
      "Corrupted client indices: [1 2 3 4]\n",
      "  Running trial 2/10 for max_iter = 10\n",
      "Corrupted client indices: [1 2 3 4]\n",
      "  Running trial 3/10 for max_iter = 10\n",
      "Corrupted client indices: [1 2 3 4]\n",
      "  Running trial 4/10 for max_iter = 10\n",
      "Corrupted client indices: [1 2 3 4]\n",
      "  Running trial 5/10 for max_iter = 10\n",
      "Corrupted client indices: [1 2 3 4]\n",
      "  Running trial 6/10 for max_iter = 10\n",
      "Corrupted client indices: [1 2 3 4]\n",
      "  Running trial 7/10 for max_iter = 10\n",
      "Corrupted client indices: [1 2 3 4]\n",
      "  Running trial 8/10 for max_iter = 10\n",
      "Corrupted client indices: [1 2 3 4]\n",
      "  Running trial 9/10 for max_iter = 10\n",
      "Corrupted client indices: [1 2 3 4]\n",
      "  Running trial 10/10 for max_iter = 10\n",
      "Corrupted client indices: [1 2 3 4]\n",
      "Nash equilibrium counts saved to /Users/abbaszal/Documents/Thesis_Project_Spambase/results/fedLR_FedFor__with_Corrupting_Spambase_Nash_Check/FedLR/4_Corrupted_Clients/Nash_Equilibrium_Counts_SpambaseLR_maxiter_10.csv\n",
      "\n",
      "Running experiment for max_iter = 100\n",
      "  Running trial 1/10 for max_iter = 100\n",
      "Corrupted client indices: [1 2 3 4]\n",
      "  Running trial 2/10 for max_iter = 100\n",
      "Corrupted client indices: [1 2 3 4]\n",
      "  Running trial 3/10 for max_iter = 100\n",
      "Corrupted client indices: [1 2 3 4]\n",
      "  Running trial 4/10 for max_iter = 100\n",
      "Corrupted client indices: [1 2 3 4]\n",
      "  Running trial 5/10 for max_iter = 100\n",
      "Corrupted client indices: [1 2 3 4]\n",
      "  Running trial 6/10 for max_iter = 100\n",
      "Corrupted client indices: [1 2 3 4]\n",
      "  Running trial 7/10 for max_iter = 100\n",
      "Corrupted client indices: [1 2 3 4]\n",
      "  Running trial 8/10 for max_iter = 100\n",
      "Corrupted client indices: [1 2 3 4]\n",
      "  Running trial 9/10 for max_iter = 100\n",
      "Corrupted client indices: [1 2 3 4]\n",
      "  Running trial 10/10 for max_iter = 100\n",
      "Corrupted client indices: [1 2 3 4]\n",
      "Nash equilibrium counts saved to /Users/abbaszal/Documents/Thesis_Project_Spambase/results/fedLR_FedFor__with_Corrupting_Spambase_Nash_Check/FedLR/4_Corrupted_Clients/Nash_Equilibrium_Counts_SpambaseLR_maxiter_100.csv\n",
      "Nash equilibrium details saved to /Users/abbaszal/Documents/Thesis_Project_Spambase/results/fedLR_FedFor__with_Corrupting_Spambase_Nash_Check/FedLR/4_Corrupted_Clients/Nash_Equilibrium_Details_SpambaseLR.csv\n"
     ]
    }
   ],
   "source": [
    "save_dir='.../results/fedLR_FedFor__with_Corrupting_Spambase_Nash_Check/FedLR/4_Corrupted_Clients'\n",
    "results = run_experiment(n_trials=10,  n_clients=10, max_iters=[10,100], partitions_corrupted= 4, corrupt_client_indices= [0,1,2,3], df=df, save_dir=save_dir)"
   ]
  },
  {
   "cell_type": "code",
   "execution_count": null,
   "metadata": {},
   "outputs": [
    {
     "name": "stdout",
     "output_type": "stream",
     "text": [
      "\n",
      "Running experiment for max_iter = 10\n",
      "  Running trial 1/10 for max_iter = 10\n",
      "Corrupted client indices: [1 2 3 4 5 6]\n",
      "  Running trial 2/10 for max_iter = 10\n",
      "Corrupted client indices: [1 2 3 4 5 6]\n",
      "  Running trial 3/10 for max_iter = 10\n",
      "Corrupted client indices: [1 2 3 4 5 6]\n",
      "  Running trial 4/10 for max_iter = 10\n",
      "Corrupted client indices: [1 2 3 4 5 6]\n",
      "  Running trial 5/10 for max_iter = 10\n",
      "Corrupted client indices: [1 2 3 4 5 6]\n",
      "  Running trial 6/10 for max_iter = 10\n",
      "Corrupted client indices: [1 2 3 4 5 6]\n",
      "  Running trial 7/10 for max_iter = 10\n",
      "Corrupted client indices: [1 2 3 4 5 6]\n",
      "  Running trial 8/10 for max_iter = 10\n",
      "Corrupted client indices: [1 2 3 4 5 6]\n",
      "  Running trial 9/10 for max_iter = 10\n",
      "Corrupted client indices: [1 2 3 4 5 6]\n",
      "  Running trial 10/10 for max_iter = 10\n",
      "Corrupted client indices: [1 2 3 4 5 6]\n",
      "Nash equilibrium counts saved to /Users/abbaszal/Documents/Thesis_Project_Spambase/results/fedLR_FedFor__with_Corrupting_Spambase_Nash_Check/FedLR/6_Corrupted_Clients/Nash_Equilibrium_Counts_SpambaseLR_maxiter_10.csv\n",
      "\n",
      "Running experiment for max_iter = 100\n",
      "  Running trial 1/10 for max_iter = 100\n",
      "Corrupted client indices: [1 2 3 4 5 6]\n",
      "  Running trial 2/10 for max_iter = 100\n",
      "Corrupted client indices: [1 2 3 4 5 6]\n",
      "  Running trial 3/10 for max_iter = 100\n",
      "Corrupted client indices: [1 2 3 4 5 6]\n",
      "  Running trial 4/10 for max_iter = 100\n",
      "Corrupted client indices: [1 2 3 4 5 6]\n",
      "  Running trial 5/10 for max_iter = 100\n",
      "Corrupted client indices: [1 2 3 4 5 6]\n",
      "  Running trial 6/10 for max_iter = 100\n",
      "Corrupted client indices: [1 2 3 4 5 6]\n",
      "  Running trial 7/10 for max_iter = 100\n",
      "Corrupted client indices: [1 2 3 4 5 6]\n",
      "  Running trial 8/10 for max_iter = 100\n",
      "Corrupted client indices: [1 2 3 4 5 6]\n",
      "  Running trial 9/10 for max_iter = 100\n",
      "Corrupted client indices: [1 2 3 4 5 6]\n",
      "  Running trial 10/10 for max_iter = 100\n",
      "Corrupted client indices: [1 2 3 4 5 6]\n",
      "Nash equilibrium counts saved to /Users/abbaszal/Documents/Thesis_Project_Spambase/results/fedLR_FedFor__with_Corrupting_Spambase_Nash_Check/FedLR/6_Corrupted_Clients/Nash_Equilibrium_Counts_SpambaseLR_maxiter_100.csv\n",
      "Nash equilibrium details saved to /Users/abbaszal/Documents/Thesis_Project_Spambase/results/fedLR_FedFor__with_Corrupting_Spambase_Nash_Check/FedLR/6_Corrupted_Clients/Nash_Equilibrium_Details_SpambaseLR.csv\n"
     ]
    }
   ],
   "source": [
    "save_dir='.../results/fedLR_FedFor__with_Corrupting_Spambase_Nash_Check/FedLR/6_Corrupted_Clients'\n",
    "results = run_experiment(n_trials=10,  n_clients=10, max_iters=[10,100], partitions_corrupted= 6, corrupt_client_indices= [0,1,2,3,4,5], df=df, save_dir=save_dir)"
   ]
  },
  {
   "cell_type": "code",
   "execution_count": null,
   "metadata": {},
   "outputs": [
    {
     "name": "stdout",
     "output_type": "stream",
     "text": [
      "\n",
      "Running experiment for max_iter = 10\n",
      "  Running trial 1/10 for max_iter = 10\n",
      "Corrupted client indices: [1 2 3 4 5 6 7 8]\n",
      "  Running trial 2/10 for max_iter = 10\n",
      "Corrupted client indices: [1 2 3 4 5 6 7 8]\n",
      "  Running trial 3/10 for max_iter = 10\n",
      "Corrupted client indices: [1 2 3 4 5 6 7 8]\n",
      "  Running trial 4/10 for max_iter = 10\n",
      "Corrupted client indices: [1 2 3 4 5 6 7 8]\n",
      "  Running trial 5/10 for max_iter = 10\n",
      "Corrupted client indices: [1 2 3 4 5 6 7 8]\n",
      "  Running trial 6/10 for max_iter = 10\n",
      "Corrupted client indices: [1 2 3 4 5 6 7 8]\n",
      "  Running trial 7/10 for max_iter = 10\n",
      "Corrupted client indices: [1 2 3 4 5 6 7 8]\n",
      "  Running trial 8/10 for max_iter = 10\n",
      "Corrupted client indices: [1 2 3 4 5 6 7 8]\n",
      "  Running trial 9/10 for max_iter = 10\n",
      "Corrupted client indices: [1 2 3 4 5 6 7 8]\n",
      "  Running trial 10/10 for max_iter = 10\n",
      "Corrupted client indices: [1 2 3 4 5 6 7 8]\n",
      "Nash equilibrium counts saved to /Users/abbaszal/Documents/Thesis_Project_Spambase/results/fedLR_FedFor__with_Corrupting_Spambase_Nash_Check/FedLR/8_Corrupted_Clients/Nash_Equilibrium_Counts_SpambaseLR_maxiter_10.csv\n",
      "\n",
      "Running experiment for max_iter = 100\n",
      "  Running trial 1/10 for max_iter = 100\n",
      "Corrupted client indices: [1 2 3 4 5 6 7 8]\n",
      "  Running trial 2/10 for max_iter = 100\n",
      "Corrupted client indices: [1 2 3 4 5 6 7 8]\n",
      "  Running trial 3/10 for max_iter = 100\n",
      "Corrupted client indices: [1 2 3 4 5 6 7 8]\n",
      "  Running trial 4/10 for max_iter = 100\n",
      "Corrupted client indices: [1 2 3 4 5 6 7 8]\n",
      "  Running trial 5/10 for max_iter = 100\n",
      "Corrupted client indices: [1 2 3 4 5 6 7 8]\n",
      "  Running trial 6/10 for max_iter = 100\n",
      "Corrupted client indices: [1 2 3 4 5 6 7 8]\n",
      "  Running trial 7/10 for max_iter = 100\n",
      "Corrupted client indices: [1 2 3 4 5 6 7 8]\n",
      "  Running trial 8/10 for max_iter = 100\n",
      "Corrupted client indices: [1 2 3 4 5 6 7 8]\n",
      "  Running trial 9/10 for max_iter = 100\n",
      "Corrupted client indices: [1 2 3 4 5 6 7 8]\n",
      "  Running trial 10/10 for max_iter = 100\n",
      "Corrupted client indices: [1 2 3 4 5 6 7 8]\n",
      "Nash equilibrium counts saved to /Users/abbaszal/Documents/Thesis_Project_Spambase/results/fedLR_FedFor__with_Corrupting_Spambase_Nash_Check/FedLR/8_Corrupted_Clients/Nash_Equilibrium_Counts_SpambaseLR_maxiter_100.csv\n",
      "Nash equilibrium details saved to /Users/abbaszal/Documents/Thesis_Project_Spambase/results/fedLR_FedFor__with_Corrupting_Spambase_Nash_Check/FedLR/8_Corrupted_Clients/Nash_Equilibrium_Details_SpambaseLR.csv\n"
     ]
    }
   ],
   "source": [
    "save_dir='.../results/fedLR_FedFor__with_Corrupting_Spambase_Nash_Check/FedLR/8_Corrupted_Clients'\n",
    "results = run_experiment(n_trials=10,  n_clients=10, max_iters=[10,100], partitions_corrupted= 8, corrupt_client_indices= [0,1,2,3,4,5,6,7], df=df, save_dir=save_dir)"
   ]
  },
  {
   "cell_type": "code",
   "execution_count": null,
   "metadata": {},
   "outputs": [
    {
     "name": "stdout",
     "output_type": "stream",
     "text": [
      "\n",
      "Running experiment for max_iter = 10\n",
      "  Running trial 1/10 for max_iter = 10\n",
      "Corrupted client indices: [1 2 3 4 5 6 7 8 9]\n",
      "  Running trial 2/10 for max_iter = 10\n",
      "Corrupted client indices: [1 2 3 4 5 6 7 8 9]\n",
      "  Running trial 3/10 for max_iter = 10\n",
      "Corrupted client indices: [1 2 3 4 5 6 7 8 9]\n",
      "  Running trial 4/10 for max_iter = 10\n",
      "Corrupted client indices: [1 2 3 4 5 6 7 8 9]\n",
      "  Running trial 5/10 for max_iter = 10\n",
      "Corrupted client indices: [1 2 3 4 5 6 7 8 9]\n",
      "  Running trial 6/10 for max_iter = 10\n",
      "Corrupted client indices: [1 2 3 4 5 6 7 8 9]\n",
      "  Running trial 7/10 for max_iter = 10\n",
      "Corrupted client indices: [1 2 3 4 5 6 7 8 9]\n",
      "  Running trial 8/10 for max_iter = 10\n",
      "Corrupted client indices: [1 2 3 4 5 6 7 8 9]\n",
      "  Running trial 9/10 for max_iter = 10\n",
      "Corrupted client indices: [1 2 3 4 5 6 7 8 9]\n",
      "  Running trial 10/10 for max_iter = 10\n",
      "Corrupted client indices: [1 2 3 4 5 6 7 8 9]\n",
      "Nash equilibrium counts saved to /Users/abbaszal/Documents/Thesis_Project_Spambase/results/fedLR_FedFor__with_Corrupting_Spambase_Nash_Check/FedLR/9_Corrupted_Clients/Nash_Equilibrium_Counts_SpambaseLR_maxiter_10.csv\n",
      "\n",
      "Running experiment for max_iter = 100\n",
      "  Running trial 1/10 for max_iter = 100\n",
      "Corrupted client indices: [1 2 3 4 5 6 7 8 9]\n",
      "  Running trial 2/10 for max_iter = 100\n",
      "Corrupted client indices: [1 2 3 4 5 6 7 8 9]\n",
      "  Running trial 3/10 for max_iter = 100\n",
      "Corrupted client indices: [1 2 3 4 5 6 7 8 9]\n",
      "  Running trial 4/10 for max_iter = 100\n",
      "Corrupted client indices: [1 2 3 4 5 6 7 8 9]\n",
      "  Running trial 5/10 for max_iter = 100\n",
      "Corrupted client indices: [1 2 3 4 5 6 7 8 9]\n",
      "  Running trial 6/10 for max_iter = 100\n",
      "Corrupted client indices: [1 2 3 4 5 6 7 8 9]\n",
      "  Running trial 7/10 for max_iter = 100\n",
      "Corrupted client indices: [1 2 3 4 5 6 7 8 9]\n",
      "  Running trial 8/10 for max_iter = 100\n",
      "Corrupted client indices: [1 2 3 4 5 6 7 8 9]\n",
      "  Running trial 9/10 for max_iter = 100\n",
      "Corrupted client indices: [1 2 3 4 5 6 7 8 9]\n",
      "  Running trial 10/10 for max_iter = 100\n",
      "Corrupted client indices: [1 2 3 4 5 6 7 8 9]\n",
      "Nash equilibrium counts saved to /Users/abbaszal/Documents/Thesis_Project_Spambase/results/fedLR_FedFor__with_Corrupting_Spambase_Nash_Check/FedLR/9_Corrupted_Clients/Nash_Equilibrium_Counts_SpambaseLR_maxiter_100.csv\n",
      "Nash equilibrium details saved to /Users/abbaszal/Documents/Thesis_Project_Spambase/results/fedLR_FedFor__with_Corrupting_Spambase_Nash_Check/FedLR/9_Corrupted_Clients/Nash_Equilibrium_Details_SpambaseLR.csv\n"
     ]
    }
   ],
   "source": [
    "save_dir='.../results/fedLR_FedFor__with_Corrupting_Spambase_Nash_Check/FedLR/9_Corrupted_Clients'\n",
    "results = run_experiment(n_trials=10,  n_clients=10, max_iters=[10,100], partitions_corrupted= 9, corrupt_client_indices= [0,1,2,3,4,5,6,7,8], df=df, save_dir=save_dir)"
   ]
  },
  {
   "cell_type": "code",
   "execution_count": null,
   "metadata": {},
   "outputs": [],
   "source": []
  },
  {
   "cell_type": "markdown",
   "metadata": {},
   "source": [
    "### FedFor"
   ]
  },
  {
   "cell_type": "code",
   "execution_count": 20,
   "metadata": {},
   "outputs": [],
   "source": [
    "# Define the DecisionTree class\n",
    "class DecisionTree:\n",
    "    def __init__(self, max_depth=None, random_state=None):\n",
    "        self.max_depth = max_depth\n",
    "        self.tree_ = None\n",
    "        self.random_state = random_state\n",
    "\n",
    "    def fit(self, X, y):\n",
    "        self.tree_ = DecisionTreeClassifier(max_depth=self.max_depth, random_state=self.random_state)\n",
    "        self.tree_.fit(X, y)\n",
    "\n",
    "    def predict(self, X):\n",
    "        return self.tree_.predict(X)\n",
    "\n",
    "# Define the FederatedForest class\n",
    "class FederatedForest:\n",
    "    def __init__(self):\n",
    "        self.models = []\n",
    "\n",
    "    def add_model(self, model):\n",
    "        self.models.append(model)\n",
    "\n",
    "    def predict(self, X):\n",
    "        predictions = [model.predict(X) for model in self.models]\n",
    "        predictions = np.array(predictions).T\n",
    "        y = [np.bincount(row).argmax() for row in predictions]\n",
    "        return np.array(y)\n",
    "    "
   ]
  },
  {
   "cell_type": "code",
   "execution_count": 21,
   "metadata": {},
   "outputs": [],
   "source": [
    "def run_experiment_2(n_trials, n_clients, max_depths, partitions_corrupted, corrupt_client_indices, df, save_dir=\"results\", base_random_seed=42):\n",
    "    os.makedirs(save_dir, exist_ok=True)\n",
    "\n",
    "    all_results = []             \n",
    "    all_nash_equilibrium_counts = [] \n",
    "    all_nash_details = []            \n",
    "\n",
    "    for max_depth in max_depths:\n",
    "        print(f\"\\nRunning experiment with max_depth = {max_depth}\")\n",
    "\n",
    "        results = []             \n",
    "        nash_equilibrium_counts = Counter()\n",
    "        nash_details_all = []    \n",
    "\n",
    "        # Fix corruption indices across all trials\n",
    "        if corrupt_client_indices is None or len(corrupt_client_indices) == 0:\n",
    "            corrupt_client_indices = np.random.choice(n_clients, size=partitions_corrupted, replace=False)\n",
    "\n",
    "        for trial in range(n_trials):\n",
    "            print(f\"  Trial {trial + 1}/{n_trials} for max_depth = {max_depth}\")\n",
    "            trial_seed = base_random_seed + trial + max_depth\n",
    "            random.seed(trial_seed)\n",
    "            np.random.seed(trial_seed)\n",
    "\n",
    "            print(f\"Corrupted client indices: {np.array(corrupt_client_indices) + 1}\")\n",
    "\n",
    "            # Split data\n",
    "            target_column = df.columns[-1]\n",
    "            X = df.drop(target_column, axis=1).to_numpy()\n",
    "            y = df[target_column].to_numpy()\n",
    "            X_train, X_test, y_train, y_test = train_test_split(X, y, test_size=0.2, random_state=trial_seed)\n",
    "\n",
    "            # Normalize data\n",
    "            scaler = StandardScaler()\n",
    "            X_train = scaler.fit_transform(X_train)\n",
    "            X_test = scaler.transform(X_test)\n",
    "\n",
    "            # Partition data among clients\n",
    "            partitions = split_data_equal(X_train, y_train, n_clients=n_clients, shuffle=True, random_seed=trial_seed)\n",
    "\n",
    "            # Apply corruption using fixed corrupt client indices\n",
    "            corrupted_partitions, _ = corrupt_clients(corrupt_data, partitions, corrupt_client_indices)\n",
    "\n",
    "            # Train models for each client\n",
    "            client_models = []\n",
    "            client_global_accuracies = {}  \n",
    "            for i, (X_i, y_i) in enumerate(corrupted_partitions):\n",
    "                model = DecisionTreeClassifier(max_depth=max_depth, random_state=np.random.randint(0, 100000))\n",
    "                model.fit(X_i, y_i)\n",
    "                client_models.append(model)\n",
    "\n",
    "                y_pred = model.predict(X_test)\n",
    "                acc_global = accuracy_score(y_test, y_pred)\n",
    "                client_global_accuracies[i] = acc_global\n",
    "\n",
    "            trial_results = []\n",
    "            n_combinations = 2 ** n_clients\n",
    "            for i in tqdm(range(1, n_combinations), desc=f\"    Evaluating coalitions for trial {trial + 1}\"):\n",
    "                bin_str = format(i, f'0{n_clients}b')\n",
    "                coalition_indices = [j for j in range(n_clients) if bin_str[n_clients - 1 - j] == '1']\n",
    "                included_models = [client_models[j] for j in coalition_indices]\n",
    "                if not included_models:\n",
    "                    continue\n",
    "\n",
    "                # Federated model aggregation\n",
    "                forest = FederatedForest()\n",
    "                for model in included_models:\n",
    "                    forest.add_model(model)\n",
    "                y_pred_global = forest.predict(X_test)\n",
    "                coalition_acc_global = accuracy_score(y_test, y_pred_global)\n",
    "\n",
    "                row = {\n",
    "                    'Trial': trial + 1,\n",
    "                    'Combination': bin_str,\n",
    "                    'Clients': \",\".join(str(j + 1) for j in coalition_indices),\n",
    "                    'Global Accuracy': coalition_acc_global\n",
    "                }\n",
    "\n",
    "                for j in range(n_clients):\n",
    "                    row[f'Client {j + 1} Accuracy'] = client_global_accuracies.get(j, np.nan)\n",
    "                trial_results.append(row)\n",
    "\n",
    "            df_trial_results = pd.DataFrame(trial_results)\n",
    "            df_trial_results.set_index('Combination', inplace=True)\n",
    "            # Fix 'Clients' column before computing Shapley values\n",
    "            df_trial_results['Clients'] = df_trial_results['Clients'].apply(\n",
    "                lambda x: list(map(int, x.split(','))) if isinstance(x, str) else x\n",
    "            )\n",
    "\n",
    "            # Find Nash equilibria\n",
    "            nash_df = find_nash_equilibria_v2(df_trial_results.reset_index())\n",
    "            for combination in nash_df['Combination']:\n",
    "                nash_equilibrium_counts[combination] += 1\n",
    "\n",
    "            # Compute Shapley values\n",
    "            shapley_df = compute_and_visualize_shapley_values(\n",
    "                df_trial_results.reset_index(), client_global_accuracies, n_clients=n_clients, plot=False, print_df=False\n",
    "            )\n",
    "            shapley_df['Trial'] = trial + 1\n",
    "\n",
    "            # Save details for each Nash equilibrium\n",
    "            for idx, nash_row in nash_df.iterrows():\n",
    "                combination_bin = nash_row['Combination']\n",
    "                coalition_indices = [j for j in range(n_clients) if combination_bin[n_clients - 1 - j] == '1']\n",
    "                clients_list = [j + 1 for j in coalition_indices]\n",
    "\n",
    "                detail_record = {\n",
    "                    'Trial': trial + 1,\n",
    "                    'Combination': combination_bin,\n",
    "                    'Clients': \",\".join(str(c) for c in clients_list),\n",
    "                    'Global Accuracy': nash_row['Global Accuracy'],\n",
    "                    'Max Depth': max_depth\n",
    "                }\n",
    "\n",
    "                for client in range(1, n_clients + 1):\n",
    "                    if client in clients_list:\n",
    "                        detail_record[f'Client {client} Accuracy'] = client_global_accuracies[client - 1]\n",
    "                        val = shapley_df.loc[shapley_df['Client'] == f'Client {client}', 'Normalized Shapley Value']\n",
    "                        detail_record[f'Client {client} Shapley Value'] = val.values[0] if not val.empty else np.nan\n",
    "                    else:\n",
    "                        detail_record[f'Client {client} Accuracy'] = np.nan\n",
    "                        detail_record[f'Client {client} Shapley Value'] = np.nan\n",
    "                nash_details_all.append(detail_record)\n",
    "\n",
    "            results.extend(trial_results)\n",
    "        \n",
    "        df_results = pd.DataFrame(results)\n",
    "        df_results['Max Depth'] = max_depth\n",
    "        all_results.append(df_results)\n",
    "        \n",
    "        df_nash_counts = pd.DataFrame(nash_equilibrium_counts.items(), columns=['Nash Equilibrium', 'Occurrences'])\n",
    "        df_nash_counts['Max Depth'] = max_depth\n",
    "        all_nash_equilibrium_counts.append(df_nash_counts)\n",
    "        \n",
    "        filename_counts = os.path.join(save_dir, f\"Nash_Equilibrium_Counts_SpambaseFedFor_max_depth_{max_depth}.csv\")\n",
    "        df_nash_counts.to_csv(filename_counts, index=False)\n",
    "        \n",
    "        df_nash_details = pd.DataFrame(nash_details_all)\n",
    "        all_nash_details.append(df_nash_details)\n",
    "\n",
    "    final_nash_counts_df = pd.concat(all_nash_equilibrium_counts, ignore_index=True)\n",
    "    final_nash_details_df = pd.concat(all_nash_details, ignore_index=True)\n",
    "\n",
    "    final_nash_counts_df.to_csv(os.path.join(save_dir, \"Nash_Equilibrium_Counts.csv\"), index=False)\n",
    "    final_nash_details_df.to_csv(os.path.join(save_dir, \"Nash_Equilibrium_Details_SpambaseFedFor.csv\"), index=False)\n",
    "\n",
    "    print(\"Process complete. Results saved.\")\n"
   ]
  },
  {
   "cell_type": "code",
   "execution_count": null,
   "metadata": {},
   "outputs": [
    {
     "name": "stdout",
     "output_type": "stream",
     "text": [
      "\n",
      "Running experiment with max_depth = 10\n",
      "  Trial 1/10 for max_depth = 10\n",
      "Corrupted client indices: [1 2 3]\n"
     ]
    },
    {
     "name": "stderr",
     "output_type": "stream",
     "text": [
      "    Evaluating coalitions for trial 1: 100%|██████████| 1023/1023 [00:00<00:00, 1046.09it/s]\n"
     ]
    },
    {
     "name": "stdout",
     "output_type": "stream",
     "text": [
      "  Trial 2/10 for max_depth = 10\n",
      "Corrupted client indices: [1 2 3]\n"
     ]
    },
    {
     "name": "stderr",
     "output_type": "stream",
     "text": [
      "    Evaluating coalitions for trial 2: 100%|██████████| 1023/1023 [00:00<00:00, 1032.30it/s]\n"
     ]
    },
    {
     "name": "stdout",
     "output_type": "stream",
     "text": [
      "  Trial 3/10 for max_depth = 10\n",
      "Corrupted client indices: [1 2 3]\n"
     ]
    },
    {
     "name": "stderr",
     "output_type": "stream",
     "text": [
      "    Evaluating coalitions for trial 3: 100%|██████████| 1023/1023 [00:00<00:00, 1036.82it/s]\n"
     ]
    },
    {
     "name": "stdout",
     "output_type": "stream",
     "text": [
      "  Trial 4/10 for max_depth = 10\n",
      "Corrupted client indices: [1 2 3]\n"
     ]
    },
    {
     "name": "stderr",
     "output_type": "stream",
     "text": [
      "    Evaluating coalitions for trial 4: 100%|██████████| 1023/1023 [00:00<00:00, 1030.78it/s]\n"
     ]
    },
    {
     "name": "stdout",
     "output_type": "stream",
     "text": [
      "  Trial 5/10 for max_depth = 10\n",
      "Corrupted client indices: [1 2 3]\n"
     ]
    },
    {
     "name": "stderr",
     "output_type": "stream",
     "text": [
      "    Evaluating coalitions for trial 5: 100%|██████████| 1023/1023 [00:00<00:00, 1029.40it/s]\n"
     ]
    },
    {
     "name": "stdout",
     "output_type": "stream",
     "text": [
      "  Trial 6/10 for max_depth = 10\n",
      "Corrupted client indices: [1 2 3]\n"
     ]
    },
    {
     "name": "stderr",
     "output_type": "stream",
     "text": [
      "    Evaluating coalitions for trial 6: 100%|██████████| 1023/1023 [00:01<00:00, 1015.09it/s]\n"
     ]
    },
    {
     "name": "stdout",
     "output_type": "stream",
     "text": [
      "  Trial 7/10 for max_depth = 10\n",
      "Corrupted client indices: [1 2 3]\n"
     ]
    },
    {
     "name": "stderr",
     "output_type": "stream",
     "text": [
      "    Evaluating coalitions for trial 7: 100%|██████████| 1023/1023 [00:01<00:00, 999.13it/s]\n"
     ]
    },
    {
     "name": "stdout",
     "output_type": "stream",
     "text": [
      "  Trial 8/10 for max_depth = 10\n",
      "Corrupted client indices: [1 2 3]\n"
     ]
    },
    {
     "name": "stderr",
     "output_type": "stream",
     "text": [
      "    Evaluating coalitions for trial 8: 100%|██████████| 1023/1023 [00:01<00:00, 1016.72it/s]\n"
     ]
    },
    {
     "name": "stdout",
     "output_type": "stream",
     "text": [
      "  Trial 9/10 for max_depth = 10\n",
      "Corrupted client indices: [1 2 3]\n"
     ]
    },
    {
     "name": "stderr",
     "output_type": "stream",
     "text": [
      "    Evaluating coalitions for trial 9: 100%|██████████| 1023/1023 [00:01<00:00, 985.61it/s]\n"
     ]
    },
    {
     "name": "stdout",
     "output_type": "stream",
     "text": [
      "  Trial 10/10 for max_depth = 10\n",
      "Corrupted client indices: [1 2 3]\n"
     ]
    },
    {
     "name": "stderr",
     "output_type": "stream",
     "text": [
      "    Evaluating coalitions for trial 10: 100%|██████████| 1023/1023 [00:01<00:00, 997.78it/s]\n"
     ]
    },
    {
     "name": "stdout",
     "output_type": "stream",
     "text": [
      "\n",
      "Running experiment with max_depth = 100\n",
      "  Trial 1/10 for max_depth = 100\n",
      "Corrupted client indices: [1 2 3]\n"
     ]
    },
    {
     "name": "stderr",
     "output_type": "stream",
     "text": [
      "    Evaluating coalitions for trial 1: 100%|██████████| 1023/1023 [00:01<00:00, 1012.16it/s]\n"
     ]
    },
    {
     "name": "stdout",
     "output_type": "stream",
     "text": [
      "  Trial 2/10 for max_depth = 100\n",
      "Corrupted client indices: [1 2 3]\n"
     ]
    },
    {
     "name": "stderr",
     "output_type": "stream",
     "text": [
      "    Evaluating coalitions for trial 2: 100%|██████████| 1023/1023 [00:01<00:00, 990.47it/s]\n"
     ]
    },
    {
     "name": "stdout",
     "output_type": "stream",
     "text": [
      "  Trial 3/10 for max_depth = 100\n",
      "Corrupted client indices: [1 2 3]\n"
     ]
    },
    {
     "name": "stderr",
     "output_type": "stream",
     "text": [
      "    Evaluating coalitions for trial 3: 100%|██████████| 1023/1023 [00:01<00:00, 964.33it/s]\n"
     ]
    },
    {
     "name": "stdout",
     "output_type": "stream",
     "text": [
      "  Trial 4/10 for max_depth = 100\n",
      "Corrupted client indices: [1 2 3]\n"
     ]
    },
    {
     "name": "stderr",
     "output_type": "stream",
     "text": [
      "    Evaluating coalitions for trial 4: 100%|██████████| 1023/1023 [00:01<00:00, 988.26it/s]\n"
     ]
    },
    {
     "name": "stdout",
     "output_type": "stream",
     "text": [
      "  Trial 5/10 for max_depth = 100\n",
      "Corrupted client indices: [1 2 3]\n"
     ]
    },
    {
     "name": "stderr",
     "output_type": "stream",
     "text": [
      "    Evaluating coalitions for trial 5: 100%|██████████| 1023/1023 [00:01<00:00, 983.72it/s]\n"
     ]
    },
    {
     "name": "stdout",
     "output_type": "stream",
     "text": [
      "  Trial 6/10 for max_depth = 100\n",
      "Corrupted client indices: [1 2 3]\n"
     ]
    },
    {
     "name": "stderr",
     "output_type": "stream",
     "text": [
      "    Evaluating coalitions for trial 6: 100%|██████████| 1023/1023 [00:01<00:00, 1005.79it/s]\n"
     ]
    },
    {
     "name": "stdout",
     "output_type": "stream",
     "text": [
      "  Trial 7/10 for max_depth = 100\n",
      "Corrupted client indices: [1 2 3]\n"
     ]
    },
    {
     "name": "stderr",
     "output_type": "stream",
     "text": [
      "    Evaluating coalitions for trial 7: 100%|██████████| 1023/1023 [00:01<00:00, 1004.38it/s]\n"
     ]
    },
    {
     "name": "stdout",
     "output_type": "stream",
     "text": [
      "  Trial 8/10 for max_depth = 100\n",
      "Corrupted client indices: [1 2 3]\n"
     ]
    },
    {
     "name": "stderr",
     "output_type": "stream",
     "text": [
      "    Evaluating coalitions for trial 8: 100%|██████████| 1023/1023 [00:01<00:00, 1002.80it/s]\n"
     ]
    },
    {
     "name": "stdout",
     "output_type": "stream",
     "text": [
      "  Trial 9/10 for max_depth = 100\n",
      "Corrupted client indices: [1 2 3]\n"
     ]
    },
    {
     "name": "stderr",
     "output_type": "stream",
     "text": [
      "    Evaluating coalitions for trial 9: 100%|██████████| 1023/1023 [00:01<00:00, 1009.81it/s]\n"
     ]
    },
    {
     "name": "stdout",
     "output_type": "stream",
     "text": [
      "  Trial 10/10 for max_depth = 100\n",
      "Corrupted client indices: [1 2 3]\n"
     ]
    },
    {
     "name": "stderr",
     "output_type": "stream",
     "text": [
      "    Evaluating coalitions for trial 10: 100%|██████████| 1023/1023 [00:01<00:00, 1017.37it/s]\n"
     ]
    },
    {
     "name": "stdout",
     "output_type": "stream",
     "text": [
      "Process complete. Results saved.\n"
     ]
    }
   ],
   "source": [
    "save_dir = '.../results/fedLR_FedFor__with_Corrupting_Spambase_Nash_Check/FedFor/3_Corrupted_Clients'\n",
    "results = run_experiment_2(n_trials=10,  n_clients=10, max_depths=[10, 100], partitions_corrupted= 3, corrupt_client_indices= [0,1,2], df=df , save_dir=save_dir, base_random_seed=42)"
   ]
  },
  {
   "cell_type": "code",
   "execution_count": null,
   "metadata": {},
   "outputs": [
    {
     "name": "stdout",
     "output_type": "stream",
     "text": [
      "\n",
      "Running experiment with max_depth = 10\n",
      "  Trial 1/10 for max_depth = 10\n",
      "Corrupted client indices: [1 2 3 4]\n"
     ]
    },
    {
     "name": "stderr",
     "output_type": "stream",
     "text": [
      "    Evaluating coalitions for trial 1: 100%|██████████| 1023/1023 [00:00<00:00, 1039.10it/s]\n"
     ]
    },
    {
     "name": "stdout",
     "output_type": "stream",
     "text": [
      "  Trial 2/10 for max_depth = 10\n",
      "Corrupted client indices: [1 2 3 4]\n"
     ]
    },
    {
     "name": "stderr",
     "output_type": "stream",
     "text": [
      "    Evaluating coalitions for trial 2: 100%|██████████| 1023/1023 [00:00<00:00, 1042.54it/s]\n"
     ]
    },
    {
     "name": "stdout",
     "output_type": "stream",
     "text": [
      "  Trial 3/10 for max_depth = 10\n",
      "Corrupted client indices: [1 2 3 4]\n"
     ]
    },
    {
     "name": "stderr",
     "output_type": "stream",
     "text": [
      "    Evaluating coalitions for trial 3: 100%|██████████| 1023/1023 [00:01<00:00, 998.14it/s]\n"
     ]
    },
    {
     "name": "stdout",
     "output_type": "stream",
     "text": [
      "  Trial 4/10 for max_depth = 10\n",
      "Corrupted client indices: [1 2 3 4]\n"
     ]
    },
    {
     "name": "stderr",
     "output_type": "stream",
     "text": [
      "    Evaluating coalitions for trial 4: 100%|██████████| 1023/1023 [00:00<00:00, 1026.58it/s]\n"
     ]
    },
    {
     "name": "stdout",
     "output_type": "stream",
     "text": [
      "  Trial 5/10 for max_depth = 10\n",
      "Corrupted client indices: [1 2 3 4]\n"
     ]
    },
    {
     "name": "stderr",
     "output_type": "stream",
     "text": [
      "    Evaluating coalitions for trial 5: 100%|██████████| 1023/1023 [00:00<00:00, 1037.22it/s]\n"
     ]
    },
    {
     "name": "stdout",
     "output_type": "stream",
     "text": [
      "  Trial 6/10 for max_depth = 10\n",
      "Corrupted client indices: [1 2 3 4]\n"
     ]
    },
    {
     "name": "stderr",
     "output_type": "stream",
     "text": [
      "    Evaluating coalitions for trial 6: 100%|██████████| 1023/1023 [00:01<00:00, 1004.41it/s]\n"
     ]
    },
    {
     "name": "stdout",
     "output_type": "stream",
     "text": [
      "  Trial 7/10 for max_depth = 10\n",
      "Corrupted client indices: [1 2 3 4]\n"
     ]
    },
    {
     "name": "stderr",
     "output_type": "stream",
     "text": [
      "    Evaluating coalitions for trial 7: 100%|██████████| 1023/1023 [00:00<00:00, 1032.21it/s]\n"
     ]
    },
    {
     "name": "stdout",
     "output_type": "stream",
     "text": [
      "  Trial 8/10 for max_depth = 10\n",
      "Corrupted client indices: [1 2 3 4]\n"
     ]
    },
    {
     "name": "stderr",
     "output_type": "stream",
     "text": [
      "    Evaluating coalitions for trial 8: 100%|██████████| 1023/1023 [00:01<00:00, 984.52it/s]\n"
     ]
    },
    {
     "name": "stdout",
     "output_type": "stream",
     "text": [
      "  Trial 9/10 for max_depth = 10\n",
      "Corrupted client indices: [1 2 3 4]\n"
     ]
    },
    {
     "name": "stderr",
     "output_type": "stream",
     "text": [
      "    Evaluating coalitions for trial 9: 100%|██████████| 1023/1023 [00:01<00:00, 1016.60it/s]\n"
     ]
    },
    {
     "name": "stdout",
     "output_type": "stream",
     "text": [
      "  Trial 10/10 for max_depth = 10\n",
      "Corrupted client indices: [1 2 3 4]\n"
     ]
    },
    {
     "name": "stderr",
     "output_type": "stream",
     "text": [
      "    Evaluating coalitions for trial 10: 100%|██████████| 1023/1023 [00:01<00:00, 1010.00it/s]\n"
     ]
    },
    {
     "name": "stdout",
     "output_type": "stream",
     "text": [
      "\n",
      "Running experiment with max_depth = 100\n",
      "  Trial 1/10 for max_depth = 100\n",
      "Corrupted client indices: [1 2 3 4]\n"
     ]
    },
    {
     "name": "stderr",
     "output_type": "stream",
     "text": [
      "    Evaluating coalitions for trial 1: 100%|██████████| 1023/1023 [00:01<00:00, 1010.16it/s]\n"
     ]
    },
    {
     "name": "stdout",
     "output_type": "stream",
     "text": [
      "  Trial 2/10 for max_depth = 100\n",
      "Corrupted client indices: [1 2 3 4]\n"
     ]
    },
    {
     "name": "stderr",
     "output_type": "stream",
     "text": [
      "    Evaluating coalitions for trial 2: 100%|██████████| 1023/1023 [00:01<00:00, 1018.49it/s]\n"
     ]
    },
    {
     "name": "stdout",
     "output_type": "stream",
     "text": [
      "  Trial 3/10 for max_depth = 100\n",
      "Corrupted client indices: [1 2 3 4]\n"
     ]
    },
    {
     "name": "stderr",
     "output_type": "stream",
     "text": [
      "    Evaluating coalitions for trial 3: 100%|██████████| 1023/1023 [00:01<00:00, 1015.00it/s]\n"
     ]
    },
    {
     "name": "stdout",
     "output_type": "stream",
     "text": [
      "  Trial 4/10 for max_depth = 100\n",
      "Corrupted client indices: [1 2 3 4]\n"
     ]
    },
    {
     "name": "stderr",
     "output_type": "stream",
     "text": [
      "    Evaluating coalitions for trial 4: 100%|██████████| 1023/1023 [00:01<00:00, 988.68it/s]\n"
     ]
    },
    {
     "name": "stdout",
     "output_type": "stream",
     "text": [
      "  Trial 5/10 for max_depth = 100\n",
      "Corrupted client indices: [1 2 3 4]\n"
     ]
    },
    {
     "name": "stderr",
     "output_type": "stream",
     "text": [
      "    Evaluating coalitions for trial 5: 100%|██████████| 1023/1023 [00:01<00:00, 1016.01it/s]\n"
     ]
    },
    {
     "name": "stdout",
     "output_type": "stream",
     "text": [
      "  Trial 6/10 for max_depth = 100\n",
      "Corrupted client indices: [1 2 3 4]\n"
     ]
    },
    {
     "name": "stderr",
     "output_type": "stream",
     "text": [
      "    Evaluating coalitions for trial 6: 100%|██████████| 1023/1023 [00:01<00:00, 1002.39it/s]\n"
     ]
    },
    {
     "name": "stdout",
     "output_type": "stream",
     "text": [
      "  Trial 7/10 for max_depth = 100\n",
      "Corrupted client indices: [1 2 3 4]\n"
     ]
    },
    {
     "name": "stderr",
     "output_type": "stream",
     "text": [
      "    Evaluating coalitions for trial 7: 100%|██████████| 1023/1023 [00:01<00:00, 1019.68it/s]\n"
     ]
    },
    {
     "name": "stdout",
     "output_type": "stream",
     "text": [
      "  Trial 8/10 for max_depth = 100\n",
      "Corrupted client indices: [1 2 3 4]\n"
     ]
    },
    {
     "name": "stderr",
     "output_type": "stream",
     "text": [
      "    Evaluating coalitions for trial 8: 100%|██████████| 1023/1023 [00:01<00:00, 1010.47it/s]\n"
     ]
    },
    {
     "name": "stdout",
     "output_type": "stream",
     "text": [
      "  Trial 9/10 for max_depth = 100\n",
      "Corrupted client indices: [1 2 3 4]\n"
     ]
    },
    {
     "name": "stderr",
     "output_type": "stream",
     "text": [
      "    Evaluating coalitions for trial 9: 100%|██████████| 1023/1023 [00:01<00:00, 1009.05it/s]\n"
     ]
    },
    {
     "name": "stdout",
     "output_type": "stream",
     "text": [
      "  Trial 10/10 for max_depth = 100\n",
      "Corrupted client indices: [1 2 3 4]\n"
     ]
    },
    {
     "name": "stderr",
     "output_type": "stream",
     "text": [
      "    Evaluating coalitions for trial 10: 100%|██████████| 1023/1023 [00:01<00:00, 991.48it/s]\n"
     ]
    },
    {
     "name": "stdout",
     "output_type": "stream",
     "text": [
      "Process complete. Results saved.\n"
     ]
    }
   ],
   "source": [
    "save_dir = '.../results/fedLR_FedFor__with_Corrupting_Spambase_Nash_Check/FedFor/4_Corrupted_Clients'\n",
    "results = run_experiment_2(n_trials=10,  n_clients=10, max_depths=[10, 100], partitions_corrupted= 4, corrupt_client_indices= [0,1,2,3], df=df , save_dir=save_dir, base_random_seed=42)"
   ]
  },
  {
   "cell_type": "code",
   "execution_count": null,
   "metadata": {},
   "outputs": [
    {
     "name": "stdout",
     "output_type": "stream",
     "text": [
      "\n",
      "Running experiment with max_depth = 10\n",
      "  Trial 1/10 for max_depth = 10\n",
      "Corrupted client indices: [1 2 3 4 5 6]\n"
     ]
    },
    {
     "name": "stderr",
     "output_type": "stream",
     "text": [
      "    Evaluating coalitions for trial 1: 100%|██████████| 1023/1023 [00:01<00:00, 1016.80it/s]\n"
     ]
    },
    {
     "name": "stdout",
     "output_type": "stream",
     "text": [
      "  Trial 2/10 for max_depth = 10\n",
      "Corrupted client indices: [1 2 3 4 5 6]\n"
     ]
    },
    {
     "name": "stderr",
     "output_type": "stream",
     "text": [
      "    Evaluating coalitions for trial 2: 100%|██████████| 1023/1023 [00:00<00:00, 1032.53it/s]\n"
     ]
    },
    {
     "name": "stdout",
     "output_type": "stream",
     "text": [
      "  Trial 3/10 for max_depth = 10\n",
      "Corrupted client indices: [1 2 3 4 5 6]\n"
     ]
    },
    {
     "name": "stderr",
     "output_type": "stream",
     "text": [
      "    Evaluating coalitions for trial 3: 100%|██████████| 1023/1023 [00:00<00:00, 1031.90it/s]\n"
     ]
    },
    {
     "name": "stdout",
     "output_type": "stream",
     "text": [
      "  Trial 4/10 for max_depth = 10\n",
      "Corrupted client indices: [1 2 3 4 5 6]\n"
     ]
    },
    {
     "name": "stderr",
     "output_type": "stream",
     "text": [
      "    Evaluating coalitions for trial 4: 100%|██████████| 1023/1023 [00:01<00:00, 1019.02it/s]\n"
     ]
    },
    {
     "name": "stdout",
     "output_type": "stream",
     "text": [
      "  Trial 5/10 for max_depth = 10\n",
      "Corrupted client indices: [1 2 3 4 5 6]\n"
     ]
    },
    {
     "name": "stderr",
     "output_type": "stream",
     "text": [
      "    Evaluating coalitions for trial 5: 100%|██████████| 1023/1023 [00:01<00:00, 964.42it/s]\n"
     ]
    },
    {
     "name": "stdout",
     "output_type": "stream",
     "text": [
      "  Trial 6/10 for max_depth = 10\n",
      "Corrupted client indices: [1 2 3 4 5 6]\n"
     ]
    },
    {
     "name": "stderr",
     "output_type": "stream",
     "text": [
      "    Evaluating coalitions for trial 6: 100%|██████████| 1023/1023 [00:01<00:00, 1022.38it/s]\n"
     ]
    },
    {
     "name": "stdout",
     "output_type": "stream",
     "text": [
      "  Trial 7/10 for max_depth = 10\n",
      "Corrupted client indices: [1 2 3 4 5 6]\n"
     ]
    },
    {
     "name": "stderr",
     "output_type": "stream",
     "text": [
      "    Evaluating coalitions for trial 7: 100%|██████████| 1023/1023 [00:01<00:00, 1010.07it/s]\n"
     ]
    },
    {
     "name": "stdout",
     "output_type": "stream",
     "text": [
      "  Trial 8/10 for max_depth = 10\n",
      "Corrupted client indices: [1 2 3 4 5 6]\n"
     ]
    },
    {
     "name": "stderr",
     "output_type": "stream",
     "text": [
      "    Evaluating coalitions for trial 8: 100%|██████████| 1023/1023 [00:01<00:00, 1020.76it/s]\n"
     ]
    },
    {
     "name": "stdout",
     "output_type": "stream",
     "text": [
      "  Trial 9/10 for max_depth = 10\n",
      "Corrupted client indices: [1 2 3 4 5 6]\n"
     ]
    },
    {
     "name": "stderr",
     "output_type": "stream",
     "text": [
      "    Evaluating coalitions for trial 9: 100%|██████████| 1023/1023 [00:01<00:00, 1020.71it/s]\n"
     ]
    },
    {
     "name": "stdout",
     "output_type": "stream",
     "text": [
      "  Trial 10/10 for max_depth = 10\n",
      "Corrupted client indices: [1 2 3 4 5 6]\n"
     ]
    },
    {
     "name": "stderr",
     "output_type": "stream",
     "text": [
      "    Evaluating coalitions for trial 10: 100%|██████████| 1023/1023 [00:00<00:00, 1030.83it/s]\n"
     ]
    },
    {
     "name": "stdout",
     "output_type": "stream",
     "text": [
      "\n",
      "Running experiment with max_depth = 100\n",
      "  Trial 1/10 for max_depth = 100\n",
      "Corrupted client indices: [1 2 3 4 5 6]\n"
     ]
    },
    {
     "name": "stderr",
     "output_type": "stream",
     "text": [
      "    Evaluating coalitions for trial 1: 100%|██████████| 1023/1023 [00:00<00:00, 1029.60it/s]\n"
     ]
    },
    {
     "name": "stdout",
     "output_type": "stream",
     "text": [
      "  Trial 2/10 for max_depth = 100\n",
      "Corrupted client indices: [1 2 3 4 5 6]\n"
     ]
    },
    {
     "name": "stderr",
     "output_type": "stream",
     "text": [
      "    Evaluating coalitions for trial 2: 100%|██████████| 1023/1023 [00:00<00:00, 1028.14it/s]\n"
     ]
    },
    {
     "name": "stdout",
     "output_type": "stream",
     "text": [
      "  Trial 3/10 for max_depth = 100\n",
      "Corrupted client indices: [1 2 3 4 5 6]\n"
     ]
    },
    {
     "name": "stderr",
     "output_type": "stream",
     "text": [
      "    Evaluating coalitions for trial 3: 100%|██████████| 1023/1023 [00:00<00:00, 1035.41it/s]\n"
     ]
    },
    {
     "name": "stdout",
     "output_type": "stream",
     "text": [
      "  Trial 4/10 for max_depth = 100\n",
      "Corrupted client indices: [1 2 3 4 5 6]\n"
     ]
    },
    {
     "name": "stderr",
     "output_type": "stream",
     "text": [
      "    Evaluating coalitions for trial 4: 100%|██████████| 1023/1023 [00:01<00:00, 983.35it/s]\n"
     ]
    },
    {
     "name": "stdout",
     "output_type": "stream",
     "text": [
      "  Trial 5/10 for max_depth = 100\n",
      "Corrupted client indices: [1 2 3 4 5 6]\n"
     ]
    },
    {
     "name": "stderr",
     "output_type": "stream",
     "text": [
      "    Evaluating coalitions for trial 5: 100%|██████████| 1023/1023 [00:01<00:00, 1013.32it/s]\n"
     ]
    },
    {
     "name": "stdout",
     "output_type": "stream",
     "text": [
      "  Trial 6/10 for max_depth = 100\n",
      "Corrupted client indices: [1 2 3 4 5 6]\n"
     ]
    },
    {
     "name": "stderr",
     "output_type": "stream",
     "text": [
      "    Evaluating coalitions for trial 6: 100%|██████████| 1023/1023 [00:00<00:00, 1026.56it/s]\n"
     ]
    },
    {
     "name": "stdout",
     "output_type": "stream",
     "text": [
      "  Trial 7/10 for max_depth = 100\n",
      "Corrupted client indices: [1 2 3 4 5 6]\n"
     ]
    },
    {
     "name": "stderr",
     "output_type": "stream",
     "text": [
      "    Evaluating coalitions for trial 7: 100%|██████████| 1023/1023 [00:01<00:00, 1000.17it/s]\n"
     ]
    },
    {
     "name": "stdout",
     "output_type": "stream",
     "text": [
      "  Trial 8/10 for max_depth = 100\n",
      "Corrupted client indices: [1 2 3 4 5 6]\n"
     ]
    },
    {
     "name": "stderr",
     "output_type": "stream",
     "text": [
      "    Evaluating coalitions for trial 8: 100%|██████████| 1023/1023 [00:01<00:00, 1017.15it/s]\n"
     ]
    },
    {
     "name": "stdout",
     "output_type": "stream",
     "text": [
      "  Trial 9/10 for max_depth = 100\n",
      "Corrupted client indices: [1 2 3 4 5 6]\n"
     ]
    },
    {
     "name": "stderr",
     "output_type": "stream",
     "text": [
      "    Evaluating coalitions for trial 9: 100%|██████████| 1023/1023 [00:01<00:00, 999.90it/s]\n"
     ]
    },
    {
     "name": "stdout",
     "output_type": "stream",
     "text": [
      "  Trial 10/10 for max_depth = 100\n",
      "Corrupted client indices: [1 2 3 4 5 6]\n"
     ]
    },
    {
     "name": "stderr",
     "output_type": "stream",
     "text": [
      "    Evaluating coalitions for trial 10: 100%|██████████| 1023/1023 [00:01<00:00, 1016.46it/s]\n"
     ]
    },
    {
     "name": "stdout",
     "output_type": "stream",
     "text": [
      "Process complete. Results saved.\n"
     ]
    }
   ],
   "source": [
    "save_dir = '.../results/fedLR_FedFor__with_Corrupting_Spambase_Nash_Check/FedFor/6_Corrupted_Clients'\n",
    "results = run_experiment_2(n_trials=10,  n_clients=10, max_depths=[10, 100], partitions_corrupted= 6, corrupt_client_indices= [0,1,2,3,4,5], df=df , save_dir=save_dir, base_random_seed=42)"
   ]
  },
  {
   "cell_type": "code",
   "execution_count": null,
   "metadata": {},
   "outputs": [
    {
     "name": "stdout",
     "output_type": "stream",
     "text": [
      "\n",
      "Running experiment with max_depth = 10\n",
      "  Trial 1/10 for max_depth = 10\n",
      "Corrupted client indices: [1 2 3 4 5 6 7 8]\n"
     ]
    },
    {
     "name": "stderr",
     "output_type": "stream",
     "text": [
      "    Evaluating coalitions for trial 1: 100%|██████████| 1023/1023 [00:01<00:00, 973.77it/s]\n"
     ]
    },
    {
     "name": "stdout",
     "output_type": "stream",
     "text": [
      "  Trial 2/10 for max_depth = 10\n",
      "Corrupted client indices: [1 2 3 4 5 6 7 8]\n"
     ]
    },
    {
     "name": "stderr",
     "output_type": "stream",
     "text": [
      "    Evaluating coalitions for trial 2: 100%|██████████| 1023/1023 [00:01<00:00, 1013.25it/s]\n"
     ]
    },
    {
     "name": "stdout",
     "output_type": "stream",
     "text": [
      "  Trial 3/10 for max_depth = 10\n",
      "Corrupted client indices: [1 2 3 4 5 6 7 8]\n"
     ]
    },
    {
     "name": "stderr",
     "output_type": "stream",
     "text": [
      "    Evaluating coalitions for trial 3: 100%|██████████| 1023/1023 [00:01<00:00, 975.94it/s]\n"
     ]
    },
    {
     "name": "stdout",
     "output_type": "stream",
     "text": [
      "  Trial 4/10 for max_depth = 10\n",
      "Corrupted client indices: [1 2 3 4 5 6 7 8]\n"
     ]
    },
    {
     "name": "stderr",
     "output_type": "stream",
     "text": [
      "    Evaluating coalitions for trial 4: 100%|██████████| 1023/1023 [00:01<00:00, 1005.35it/s]\n"
     ]
    },
    {
     "name": "stdout",
     "output_type": "stream",
     "text": [
      "  Trial 5/10 for max_depth = 10\n",
      "Corrupted client indices: [1 2 3 4 5 6 7 8]\n"
     ]
    },
    {
     "name": "stderr",
     "output_type": "stream",
     "text": [
      "    Evaluating coalitions for trial 5: 100%|██████████| 1023/1023 [00:00<00:00, 1029.64it/s]\n"
     ]
    },
    {
     "name": "stdout",
     "output_type": "stream",
     "text": [
      "  Trial 6/10 for max_depth = 10\n",
      "Corrupted client indices: [1 2 3 4 5 6 7 8]\n"
     ]
    },
    {
     "name": "stderr",
     "output_type": "stream",
     "text": [
      "    Evaluating coalitions for trial 6: 100%|██████████| 1023/1023 [00:01<00:00, 989.72it/s]\n"
     ]
    },
    {
     "name": "stdout",
     "output_type": "stream",
     "text": [
      "  Trial 7/10 for max_depth = 10\n",
      "Corrupted client indices: [1 2 3 4 5 6 7 8]\n"
     ]
    },
    {
     "name": "stderr",
     "output_type": "stream",
     "text": [
      "    Evaluating coalitions for trial 7: 100%|██████████| 1023/1023 [00:01<00:00, 1008.82it/s]\n"
     ]
    },
    {
     "name": "stdout",
     "output_type": "stream",
     "text": [
      "  Trial 8/10 for max_depth = 10\n",
      "Corrupted client indices: [1 2 3 4 5 6 7 8]\n"
     ]
    },
    {
     "name": "stderr",
     "output_type": "stream",
     "text": [
      "    Evaluating coalitions for trial 8: 100%|██████████| 1023/1023 [00:01<00:00, 994.13it/s]\n"
     ]
    },
    {
     "name": "stdout",
     "output_type": "stream",
     "text": [
      "  Trial 9/10 for max_depth = 10\n",
      "Corrupted client indices: [1 2 3 4 5 6 7 8]\n"
     ]
    },
    {
     "name": "stderr",
     "output_type": "stream",
     "text": [
      "    Evaluating coalitions for trial 9: 100%|██████████| 1023/1023 [00:00<00:00, 1031.29it/s]\n"
     ]
    },
    {
     "name": "stdout",
     "output_type": "stream",
     "text": [
      "  Trial 10/10 for max_depth = 10\n",
      "Corrupted client indices: [1 2 3 4 5 6 7 8]\n"
     ]
    },
    {
     "name": "stderr",
     "output_type": "stream",
     "text": [
      "    Evaluating coalitions for trial 10: 100%|██████████| 1023/1023 [00:01<00:00, 1021.48it/s]\n"
     ]
    },
    {
     "name": "stdout",
     "output_type": "stream",
     "text": [
      "\n",
      "Running experiment with max_depth = 100\n",
      "  Trial 1/10 for max_depth = 100\n",
      "Corrupted client indices: [1 2 3 4 5 6 7 8]\n"
     ]
    },
    {
     "name": "stderr",
     "output_type": "stream",
     "text": [
      "    Evaluating coalitions for trial 1: 100%|██████████| 1023/1023 [00:01<00:00, 1016.20it/s]\n"
     ]
    },
    {
     "name": "stdout",
     "output_type": "stream",
     "text": [
      "  Trial 2/10 for max_depth = 100\n",
      "Corrupted client indices: [1 2 3 4 5 6 7 8]\n"
     ]
    },
    {
     "name": "stderr",
     "output_type": "stream",
     "text": [
      "    Evaluating coalitions for trial 2: 100%|██████████| 1023/1023 [00:01<00:00, 1019.36it/s]\n"
     ]
    },
    {
     "name": "stdout",
     "output_type": "stream",
     "text": [
      "  Trial 3/10 for max_depth = 100\n",
      "Corrupted client indices: [1 2 3 4 5 6 7 8]\n"
     ]
    },
    {
     "name": "stderr",
     "output_type": "stream",
     "text": [
      "    Evaluating coalitions for trial 3: 100%|██████████| 1023/1023 [00:00<00:00, 1027.21it/s]\n"
     ]
    },
    {
     "name": "stdout",
     "output_type": "stream",
     "text": [
      "  Trial 4/10 for max_depth = 100\n",
      "Corrupted client indices: [1 2 3 4 5 6 7 8]\n"
     ]
    },
    {
     "name": "stderr",
     "output_type": "stream",
     "text": [
      "    Evaluating coalitions for trial 4: 100%|██████████| 1023/1023 [00:01<00:00, 1020.63it/s]\n"
     ]
    },
    {
     "name": "stdout",
     "output_type": "stream",
     "text": [
      "  Trial 5/10 for max_depth = 100\n",
      "Corrupted client indices: [1 2 3 4 5 6 7 8]\n"
     ]
    },
    {
     "name": "stderr",
     "output_type": "stream",
     "text": [
      "    Evaluating coalitions for trial 5: 100%|██████████| 1023/1023 [00:01<00:00, 1014.55it/s]\n"
     ]
    },
    {
     "name": "stdout",
     "output_type": "stream",
     "text": [
      "  Trial 6/10 for max_depth = 100\n",
      "Corrupted client indices: [1 2 3 4 5 6 7 8]\n"
     ]
    },
    {
     "name": "stderr",
     "output_type": "stream",
     "text": [
      "    Evaluating coalitions for trial 6: 100%|██████████| 1023/1023 [00:01<00:00, 1016.19it/s]\n"
     ]
    },
    {
     "name": "stdout",
     "output_type": "stream",
     "text": [
      "  Trial 7/10 for max_depth = 100\n",
      "Corrupted client indices: [1 2 3 4 5 6 7 8]\n"
     ]
    },
    {
     "name": "stderr",
     "output_type": "stream",
     "text": [
      "    Evaluating coalitions for trial 7: 100%|██████████| 1023/1023 [00:01<00:00, 994.80it/s]\n"
     ]
    },
    {
     "name": "stdout",
     "output_type": "stream",
     "text": [
      "  Trial 8/10 for max_depth = 100\n",
      "Corrupted client indices: [1 2 3 4 5 6 7 8]\n"
     ]
    },
    {
     "name": "stderr",
     "output_type": "stream",
     "text": [
      "    Evaluating coalitions for trial 8: 100%|██████████| 1023/1023 [00:00<00:00, 1023.58it/s]\n"
     ]
    },
    {
     "name": "stdout",
     "output_type": "stream",
     "text": [
      "  Trial 9/10 for max_depth = 100\n",
      "Corrupted client indices: [1 2 3 4 5 6 7 8]\n"
     ]
    },
    {
     "name": "stderr",
     "output_type": "stream",
     "text": [
      "    Evaluating coalitions for trial 9: 100%|██████████| 1023/1023 [00:01<00:00, 1015.93it/s]\n"
     ]
    },
    {
     "name": "stdout",
     "output_type": "stream",
     "text": [
      "  Trial 10/10 for max_depth = 100\n",
      "Corrupted client indices: [1 2 3 4 5 6 7 8]\n"
     ]
    },
    {
     "name": "stderr",
     "output_type": "stream",
     "text": [
      "    Evaluating coalitions for trial 10: 100%|██████████| 1023/1023 [00:01<00:00, 1021.15it/s]\n"
     ]
    },
    {
     "name": "stdout",
     "output_type": "stream",
     "text": [
      "Process complete. Results saved.\n"
     ]
    }
   ],
   "source": [
    "save_dir = '.../results/fedLR_FedFor__with_Corrupting_Spambase_Nash_Check/FedFor/8_Corrupted_Clients'\n",
    "results = run_experiment_2(n_trials=10,  n_clients=10, max_depths=[10, 100], partitions_corrupted= 8, corrupt_client_indices= [0,1,2,3,4,5,6,7], df=df , save_dir=save_dir, base_random_seed=42)"
   ]
  },
  {
   "cell_type": "code",
   "execution_count": null,
   "metadata": {},
   "outputs": [
    {
     "name": "stdout",
     "output_type": "stream",
     "text": [
      "\n",
      "Running experiment with max_depth = 10\n",
      "  Trial 1/10 for max_depth = 10\n",
      "Corrupted client indices: [1 2 3 4 5 6 7 8 9]\n"
     ]
    },
    {
     "name": "stderr",
     "output_type": "stream",
     "text": [
      "    Evaluating coalitions for trial 1: 100%|██████████| 1023/1023 [00:00<00:00, 1033.31it/s]\n"
     ]
    },
    {
     "name": "stdout",
     "output_type": "stream",
     "text": [
      "  Trial 2/10 for max_depth = 10\n",
      "Corrupted client indices: [1 2 3 4 5 6 7 8 9]\n"
     ]
    },
    {
     "name": "stderr",
     "output_type": "stream",
     "text": [
      "    Evaluating coalitions for trial 2: 100%|██████████| 1023/1023 [00:01<00:00, 978.98it/s]\n"
     ]
    },
    {
     "name": "stdout",
     "output_type": "stream",
     "text": [
      "  Trial 3/10 for max_depth = 10\n",
      "Corrupted client indices: [1 2 3 4 5 6 7 8 9]\n"
     ]
    },
    {
     "name": "stderr",
     "output_type": "stream",
     "text": [
      "    Evaluating coalitions for trial 3: 100%|██████████| 1023/1023 [00:00<00:00, 1023.95it/s]\n"
     ]
    },
    {
     "name": "stdout",
     "output_type": "stream",
     "text": [
      "  Trial 4/10 for max_depth = 10\n",
      "Corrupted client indices: [1 2 3 4 5 6 7 8 9]\n"
     ]
    },
    {
     "name": "stderr",
     "output_type": "stream",
     "text": [
      "    Evaluating coalitions for trial 4: 100%|██████████| 1023/1023 [00:01<00:00, 1017.05it/s]\n"
     ]
    },
    {
     "name": "stdout",
     "output_type": "stream",
     "text": [
      "  Trial 5/10 for max_depth = 10\n",
      "Corrupted client indices: [1 2 3 4 5 6 7 8 9]\n"
     ]
    },
    {
     "name": "stderr",
     "output_type": "stream",
     "text": [
      "    Evaluating coalitions for trial 5: 100%|██████████| 1023/1023 [00:00<00:00, 1024.39it/s]\n"
     ]
    },
    {
     "name": "stdout",
     "output_type": "stream",
     "text": [
      "  Trial 6/10 for max_depth = 10\n",
      "Corrupted client indices: [1 2 3 4 5 6 7 8 9]\n"
     ]
    },
    {
     "name": "stderr",
     "output_type": "stream",
     "text": [
      "    Evaluating coalitions for trial 6: 100%|██████████| 1023/1023 [00:01<00:00, 1018.97it/s]\n"
     ]
    },
    {
     "name": "stdout",
     "output_type": "stream",
     "text": [
      "  Trial 7/10 for max_depth = 10\n",
      "Corrupted client indices: [1 2 3 4 5 6 7 8 9]\n"
     ]
    },
    {
     "name": "stderr",
     "output_type": "stream",
     "text": [
      "    Evaluating coalitions for trial 7: 100%|██████████| 1023/1023 [00:01<00:00, 1010.32it/s]\n"
     ]
    },
    {
     "name": "stdout",
     "output_type": "stream",
     "text": [
      "  Trial 8/10 for max_depth = 10\n",
      "Corrupted client indices: [1 2 3 4 5 6 7 8 9]\n"
     ]
    },
    {
     "name": "stderr",
     "output_type": "stream",
     "text": [
      "    Evaluating coalitions for trial 8: 100%|██████████| 1023/1023 [00:01<00:00, 1017.83it/s]\n"
     ]
    },
    {
     "name": "stdout",
     "output_type": "stream",
     "text": [
      "  Trial 9/10 for max_depth = 10\n",
      "Corrupted client indices: [1 2 3 4 5 6 7 8 9]\n"
     ]
    },
    {
     "name": "stderr",
     "output_type": "stream",
     "text": [
      "    Evaluating coalitions for trial 9: 100%|██████████| 1023/1023 [00:01<00:00, 973.63it/s]\n"
     ]
    },
    {
     "name": "stdout",
     "output_type": "stream",
     "text": [
      "  Trial 10/10 for max_depth = 10\n",
      "Corrupted client indices: [1 2 3 4 5 6 7 8 9]\n"
     ]
    },
    {
     "name": "stderr",
     "output_type": "stream",
     "text": [
      "    Evaluating coalitions for trial 10: 100%|██████████| 1023/1023 [00:00<00:00, 1023.12it/s]\n"
     ]
    },
    {
     "name": "stdout",
     "output_type": "stream",
     "text": [
      "\n",
      "Running experiment with max_depth = 100\n",
      "  Trial 1/10 for max_depth = 100\n",
      "Corrupted client indices: [1 2 3 4 5 6 7 8 9]\n"
     ]
    },
    {
     "name": "stderr",
     "output_type": "stream",
     "text": [
      "    Evaluating coalitions for trial 1: 100%|██████████| 1023/1023 [00:01<00:00, 976.53it/s]\n"
     ]
    },
    {
     "name": "stdout",
     "output_type": "stream",
     "text": [
      "  Trial 2/10 for max_depth = 100\n",
      "Corrupted client indices: [1 2 3 4 5 6 7 8 9]\n"
     ]
    },
    {
     "name": "stderr",
     "output_type": "stream",
     "text": [
      "    Evaluating coalitions for trial 2: 100%|██████████| 1023/1023 [00:01<00:00, 1022.34it/s]\n"
     ]
    },
    {
     "name": "stdout",
     "output_type": "stream",
     "text": [
      "  Trial 3/10 for max_depth = 100\n",
      "Corrupted client indices: [1 2 3 4 5 6 7 8 9]\n"
     ]
    },
    {
     "name": "stderr",
     "output_type": "stream",
     "text": [
      "    Evaluating coalitions for trial 3: 100%|██████████| 1023/1023 [00:01<00:00, 957.16it/s]\n"
     ]
    },
    {
     "name": "stdout",
     "output_type": "stream",
     "text": [
      "  Trial 4/10 for max_depth = 100\n",
      "Corrupted client indices: [1 2 3 4 5 6 7 8 9]\n"
     ]
    },
    {
     "name": "stderr",
     "output_type": "stream",
     "text": [
      "    Evaluating coalitions for trial 4: 100%|██████████| 1023/1023 [00:01<00:00, 1016.34it/s]\n"
     ]
    },
    {
     "name": "stdout",
     "output_type": "stream",
     "text": [
      "  Trial 5/10 for max_depth = 100\n",
      "Corrupted client indices: [1 2 3 4 5 6 7 8 9]\n"
     ]
    },
    {
     "name": "stderr",
     "output_type": "stream",
     "text": [
      "    Evaluating coalitions for trial 5: 100%|██████████| 1023/1023 [00:01<00:00, 981.22it/s]\n"
     ]
    },
    {
     "name": "stdout",
     "output_type": "stream",
     "text": [
      "  Trial 6/10 for max_depth = 100\n",
      "Corrupted client indices: [1 2 3 4 5 6 7 8 9]\n"
     ]
    },
    {
     "name": "stderr",
     "output_type": "stream",
     "text": [
      "    Evaluating coalitions for trial 6: 100%|██████████| 1023/1023 [00:01<00:00, 1004.23it/s]\n"
     ]
    },
    {
     "name": "stdout",
     "output_type": "stream",
     "text": [
      "  Trial 7/10 for max_depth = 100\n",
      "Corrupted client indices: [1 2 3 4 5 6 7 8 9]\n"
     ]
    },
    {
     "name": "stderr",
     "output_type": "stream",
     "text": [
      "    Evaluating coalitions for trial 7: 100%|██████████| 1023/1023 [00:01<00:00, 1020.65it/s]\n"
     ]
    },
    {
     "name": "stdout",
     "output_type": "stream",
     "text": [
      "  Trial 8/10 for max_depth = 100\n",
      "Corrupted client indices: [1 2 3 4 5 6 7 8 9]\n"
     ]
    },
    {
     "name": "stderr",
     "output_type": "stream",
     "text": [
      "    Evaluating coalitions for trial 8: 100%|██████████| 1023/1023 [00:00<00:00, 1028.56it/s]\n"
     ]
    },
    {
     "name": "stdout",
     "output_type": "stream",
     "text": [
      "  Trial 9/10 for max_depth = 100\n",
      "Corrupted client indices: [1 2 3 4 5 6 7 8 9]\n"
     ]
    },
    {
     "name": "stderr",
     "output_type": "stream",
     "text": [
      "    Evaluating coalitions for trial 9: 100%|██████████| 1023/1023 [00:01<00:00, 1020.48it/s]\n"
     ]
    },
    {
     "name": "stdout",
     "output_type": "stream",
     "text": [
      "  Trial 10/10 for max_depth = 100\n",
      "Corrupted client indices: [1 2 3 4 5 6 7 8 9]\n"
     ]
    },
    {
     "name": "stderr",
     "output_type": "stream",
     "text": [
      "    Evaluating coalitions for trial 10: 100%|██████████| 1023/1023 [00:01<00:00, 1015.94it/s]\n"
     ]
    },
    {
     "name": "stdout",
     "output_type": "stream",
     "text": [
      "Process complete. Results saved.\n"
     ]
    }
   ],
   "source": [
    "save_dir = '.../results/fedLR_FedFor__with_Corrupting_Spambase_Nash_Check/FedFor/9_Corrupted_Clients'\n",
    "results = run_experiment_2(n_trials=10,  n_clients=10, max_depths=[10, 100], partitions_corrupted= 9, corrupt_client_indices= [0,1,2,3,4,5,6,7,8], df=df , save_dir=save_dir, base_random_seed=42)"
   ]
  },
  {
   "cell_type": "code",
   "execution_count": null,
   "metadata": {},
   "outputs": [],
   "source": []
  }
 ],
 "metadata": {
  "kernelspec": {
   "display_name": "Python 3",
   "language": "python",
   "name": "python3"
  },
  "language_info": {
   "codemirror_mode": {
    "name": "ipython",
    "version": 3
   },
   "file_extension": ".py",
   "mimetype": "text/x-python",
   "name": "python",
   "nbconvert_exporter": "python",
   "pygments_lexer": "ipython3",
   "version": "3.9.6"
  }
 },
 "nbformat": 4,
 "nbformat_minor": 2
}

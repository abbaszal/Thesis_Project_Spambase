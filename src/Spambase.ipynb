{
 "cells": [
  {
   "cell_type": "code",
   "execution_count": 1,
   "metadata": {},
   "outputs": [],
   "source": [
    "import numpy as np\n",
    "import pandas as pd\n",
    "import os\n",
    "import random\n",
    "import math\n",
    "import tqdm\n",
    "import copy\n",
    "import ast\n",
    "from itertools import chain, combinations\n",
    "from collections import Counter, defaultdict\n",
    "import matplotlib.pyplot as plt\n",
    "import seaborn as sns\n",
    "from sklearn.datasets import load_iris\n",
    "from sklearn.model_selection import train_test_split\n",
    "from sklearn.preprocessing import StandardScaler\n",
    "from sklearn.linear_model import LogisticRegression\n",
    "from sklearn.metrics import confusion_matrix, ConfusionMatrixDisplay\n",
    "from typing import Optional"
   ]
  },
  {
   "cell_type": "code",
   "execution_count": 2,
   "metadata": {},
   "outputs": [],
   "source": [
    "# disable ConvergenceWarnings\n",
    "import warnings\n",
    "from sklearn.exceptions import ConvergenceWarning\n",
    "warnings.filterwarnings(\"ignore\", category=ConvergenceWarning)"
   ]
  },
  {
   "cell_type": "code",
   "execution_count": 3,
   "metadata": {},
   "outputs": [],
   "source": [
    "# PRNG seed for reproducibility\n",
    "random_seed = 42\n",
    "np.random.seed(random_seed)"
   ]
  },
  {
   "cell_type": "markdown",
   "metadata": {},
   "source": [
    "### Loading the dataset"
   ]
  },
  {
   "cell_type": "code",
   "execution_count": 4,
   "metadata": {},
   "outputs": [],
   "source": [
    "file_path = 'spambase/spambase.data'  # Adjust the path as needed\n",
    "df = pd.read_csv(file_path, header=None)"
   ]
  },
  {
   "cell_type": "markdown",
   "metadata": {},
   "source": [
    "### Preprocessing"
   ]
  },
  {
   "cell_type": "code",
   "execution_count": 5,
   "metadata": {},
   "outputs": [],
   "source": [
    "X = df.iloc[:, :-1].to_numpy()\n",
    "y = df.iloc[:, -1].to_numpy()\n",
    "\n",
    "X_train, X_test, y_train, y_test = train_test_split(X, y, test_size=0.2, random_state=random_seed)\n",
    "\n",
    "scaler = StandardScaler()\n",
    "\n",
    "X_train = scaler.fit_transform(X_train)\n",
    "X_test = scaler.transform(X_test)"
   ]
  },
  {
   "cell_type": "markdown",
   "metadata": {},
   "source": [
    "### The model accuracy without clients:"
   ]
  },
  {
   "cell_type": "code",
   "execution_count": 6,
   "metadata": {},
   "outputs": [
    {
     "name": "stdout",
     "output_type": "stream",
     "text": [
      "0.9196525515743756\n"
     ]
    }
   ],
   "source": [
    "model = LogisticRegression(random_state=42)\n",
    "model.fit(X_train, y_train)\n",
    "\n",
    "acc = model.score(X_test, y_test)\n",
    "print(acc)"
   ]
  },
  {
   "cell_type": "markdown",
   "metadata": {},
   "source": [
    "### Federated Learning: \n",
    "#### Spliting"
   ]
  },
  {
   "cell_type": "code",
   "execution_count": 7,
   "metadata": {},
   "outputs": [],
   "source": [
    "def split_data_equal(X: np.ndarray, y: np.ndarray, n_clients: int, shuffle: bool=False):\n",
    "\n",
    "  if shuffle:\n",
    "    idx = np.random.permutation(X.shape[0])\n",
    "    X = X[idx]\n",
    "    y = y[idx]\n",
    "\n",
    "  n_entries_per_client = X.shape[0] // n_clients\n",
    "  partitions = []\n",
    "  for i in range(n_clients):\n",
    "    start = i*n_entries_per_client\n",
    "    end = (i+1)*n_entries_per_client\n",
    "    X_i = X[start:end]\n",
    "    y_i = y[start:end]\n",
    "    partitions.append((X_i, y_i))\n",
    "  partitions[-1] = (X[start:], y[start:])\n",
    "\n",
    "  return partitions"
   ]
  },
  {
   "cell_type": "code",
   "execution_count": 8,
   "metadata": {},
   "outputs": [],
   "source": [
    "n_clients = 10\n",
    "client_accs = []\n",
    "client_models = []\n",
    "partitions = split_data_equal(X_train, y_train, n_clients, shuffle=True)\n",
    "\n",
    "for i in range(n_clients):\n",
    "  X_i, y_i = partitions[i]\n",
    "  model = LogisticRegression(random_state=random_seed)\n",
    "  model.fit(X_i, y_i)\n",
    "  client_models.append(model)\n",
    "  client_accs.append(model.score(X_test, y_test))"
   ]
  },
  {
   "cell_type": "markdown",
   "metadata": {},
   "source": [
    "#### Aggregate Models"
   ]
  },
  {
   "cell_type": "code",
   "execution_count": 9,
   "metadata": {},
   "outputs": [],
   "source": [
    "def aggregate_lr_models(models: list):\n",
    "\n",
    "  aggregated_model = LogisticRegression(random_state=random_seed)\n",
    "  aggregated_model.coef_ = np.mean([model.coef_ for model in models], axis=0)\n",
    "  aggregated_model.intercept_ = np.mean([model.intercept_ for model in models], axis=0)\n",
    "  aggregated_model.classes_ = models[0].classes_\n",
    "\n",
    "  return aggregated_model\n"
   ]
  },
  {
   "cell_type": "markdown",
   "metadata": {},
   "source": [
    "### FL without Data Corruption(All Clients Join)"
   ]
  },
  {
   "cell_type": "code",
   "execution_count": 10,
   "metadata": {},
   "outputs": [
    {
     "name": "stdout",
     "output_type": "stream",
     "text": [
      "Federated model's accuracy: 0.9327\n"
     ]
    }
   ],
   "source": [
    "# Convert the generator into a list\n",
    "models_and_accs = list(zip(client_models, client_accs))\n",
    "\n",
    "# Extract models and pass them to the aggregation function\n",
    "federated_model = aggregate_lr_models([model for model, acc in models_and_accs])\n",
    "\n",
    "# Evaluate the aggregated model\n",
    "acc = federated_model.score(X_test, y_test)\n",
    "print(f\"Federated model's accuracy: {acc:.4f}\")\n"
   ]
  },
  {
   "cell_type": "code",
   "execution_count": 11,
   "metadata": {},
   "outputs": [
    {
     "data": {
      "image/png": "[encoded data removed]",
      "text/plain": [
       "<Figure size 640x480 with 2 Axes>"
      ]
     },
     "metadata": {},
     "output_type": "display_data"
    }
   ],
   "source": [
    "y_pred = federated_model.predict(X_test)\n",
    "\n",
    "# Compute the confusion matrix\n",
    "cm = confusion_matrix(y_test, y_pred)\n",
    "\n",
    "disp = ConfusionMatrixDisplay(confusion_matrix=cm, display_labels=[\"Not Spam\", \"Spam\"])\n",
    "disp.plot(cmap=plt.cm.Blues)\n",
    "\n",
    "plt.title(\"Confusion Matrix\")\n",
    "plt.show()"
   ]
  },
  {
   "cell_type": "markdown",
   "metadata": {},
   "source": [
    "#### Powerset section for 10 clients -  Summary: \n",
    "\n",
    "It includes the following components:\n",
    "\n",
    "#### 1. **Data Corruption Functions**\n",
    "- **`corrupt_data`**: Randomly corrupts rows in a dataset by either `adding noise` or setting features to `NaN`, with a probability of corruption.\n",
    "\n",
    "#### 2. **Client Data Corruption**\n",
    "- **`corrupt_clients`**: Selects a specified number of clients randomly and applies one of the data corruption functions to their datasets.\n",
    "\n",
    "#### 3. **Federated Learning Simulation**\n",
    "- **`run_federated_learning`**: Simulates a federated learning setup by:\n",
    "  - Training individual models for each client.\n",
    "  - Aggregating models from subsets of clients to evaluate overall performance.\n",
    "  - Exploring all possible combinations of client participation and their effect on the final model’s accuracy.\n",
    "\n",
    "\n",
    "- Outputs results as a detailed dataframe showing the aggregated and individual client accuracies.\n"
   ]
  },
  {
   "cell_type": "code",
   "execution_count": 12,
   "metadata": {},
   "outputs": [],
   "source": [
    "def corrupt_data(X: np.ndarray, y: np.ndarray, corruption_prob: float = 0.8, nan_prob: float = 0.5, noise_std: Optional[float] = None):\n",
    "    if noise_std is None:\n",
    "        noise_std = 0.1\n",
    "        \n",
    "    # NOTE: @marchiorot: in this case, you should make a copy to avoid overwriting the original DataFrame\n",
    "    X = X.copy()\n",
    "\n",
    "    mask = np.random.rand(X.shape[0]) < corruption_prob\n",
    "    mask_nan = mask & (np.random.rand(X.shape[0]) < nan_prob)\n",
    "    mask_noise = mask & (~mask_nan)\n",
    "\n",
    "    X += mask_noise[:, None] * np.random.randn(X.shape[0], X.shape[1]) * 5\n",
    "    X[np.argwhere(mask_nan)] = np.nan\n",
    "    \n",
    "    return X, y\n",
    "\n",
    "\n",
    "# Function to corrupt data for specific clients\n",
    "def corrupt_clients(f,partitions, n_corrupt_clients):\n",
    "    corrupt_client_indices = np.random.choice(len(partitions) - 1, size=n_corrupt_clients, replace=False) + 1\n",
    "    for idx in corrupt_client_indices:\n",
    "        X_i, y_i = partitions[idx]\n",
    "        X_i_corrupted, y_i_corrupted = f(X_i.copy(), y_i.copy())\n",
    "        partitions[idx] = (X_i_corrupted, y_i_corrupted)\n",
    "    return partitions, corrupt_client_indices"
   ]
  },
  {
   "cell_type": "code",
   "execution_count": 13,
   "metadata": {},
   "outputs": [],
   "source": [
    "# Split data among clients\n",
    "partitions = split_data_equal(X_train, y_train, n_clients=n_clients, shuffle=True)"
   ]
  },
  {
   "cell_type": "code",
   "execution_count": 14,
   "metadata": {},
   "outputs": [],
   "source": [
    "def save_results_to_csv(df_results, n_corrupt_clients):\n",
    "    filename = f\"results_with_{n_corrupt_clients}_corrupted_clients.csv\"\n",
    "    df_results.to_csv(filename, index=False)\n",
    "    print(f\"Results saved to {filename}\")"
   ]
  },
  {
   "cell_type": "code",
   "execution_count": 15,
   "metadata": {},
   "outputs": [],
   "source": [
    "def train_client_models(partitions, random_seed, X_test, y_test, max_iter):\n",
    "    client_models = []\n",
    "    client_global_accuracies = []\n",
    "    client_local_accuracies = []\n",
    "    for X_i, y_i in partitions:\n",
    "        # Remove rows with NaN values\n",
    "        nan_mask = ~np.isnan(X_i).any(axis=1)\n",
    "        X_i_clean = X_i[nan_mask]\n",
    "        y_i_clean = y_i[nan_mask]\n",
    "        if len(y_i_clean) == 0:\n",
    "            # No data to train on after cleaning\n",
    "            client_models.append(None)\n",
    "            client_global_accuracies.append(None)\n",
    "            client_local_accuracies.append(None)\n",
    "            continue\n",
    "        model = LogisticRegression(random_state=random_seed, max_iter=max_iter)\n",
    "        try:\n",
    "            model.fit(X_i_clean, y_i_clean)\n",
    "            client_models.append(model)\n",
    "\n",
    "            acc_local = model.score(X_i_clean, y_i_clean)\n",
    "            client_local_accuracies.append(acc_local)\n",
    "\n",
    "            # Compute local accuracy on global test set\n",
    "            local_acc = model.score(X_test, y_test)\n",
    "            client_global_accuracies.append(local_acc)\n",
    "\n",
    "        except Exception as e:\n",
    "            # Model training failed\n",
    "            client_models.append(None)\n",
    "            client_global_accuracies.append(None)\n",
    "            client_local_accuracies.append(None)\n",
    "    return client_models, client_local_accuracies, client_global_accuracies\n",
    "\n",
    "def run_federated_learning(\n",
    "    partitions,\n",
    "    n_clients=10,\n",
    "    n_corrupt_clients=None,\n",
    "    random_seed=None,\n",
    "    shuffle=True,\n",
    "    max_iter=10,\n",
    "):\n",
    "\n",
    "    # Make a deep copy of partitions to prevent in-place modification\n",
    "    partitions_copy = copy.deepcopy(partitions)\n",
    "\n",
    "    # Corrupt data for a random number of clients\n",
    "    if n_corrupt_clients is None:\n",
    "        n_corrupt_clients = np.random.randint(1, n_clients + 1)  # Randomly choose how many clients to corrupt\n",
    "\n",
    "    partitions_corrupted, corrupt_client_indices = corrupt_clients(corrupt_data, partitions_copy, n_corrupt_clients)\n",
    "\n",
    "    # Train models for each client and compute accuracies\n",
    "    client_models, client_local_accuracies, client_global_accuracies = train_client_models(\n",
    "        partitions_corrupted, random_seed, X_test, y_test, max_iter\n",
    "    )\n",
    "\n",
    "    # Generate all possible combinations of clients represented as binary strings\n",
    "    results = []\n",
    "    n_combinations = 2 ** n_clients\n",
    "    for i in range(1, n_combinations):\n",
    "        bin_str = format(i, f'0{n_clients}b')\n",
    "        # Determine which clients are included in this combination\n",
    "        client_indices = [j for j in range(n_clients) if bin_str[n_clients - 1 - j] == '1']\n",
    "        included_models = [client_models[j] for j in client_indices if client_models[j] is not None]\n",
    "\n",
    "        if not included_models:\n",
    "            # Skip combinations where no valid models are available\n",
    "            continue\n",
    "\n",
    "        # Aggregate models\n",
    "        federated_model = aggregate_lr_models(included_models)\n",
    "        agg_acc = federated_model.score(X_test, y_test)\n",
    "\n",
    "        # Prepare the row data\n",
    "        row = {'Combination': bin_str, 'Clients': [client + 1 for client in client_indices], 'Global Accuracy': agg_acc}\n",
    "\n",
    "        # Add global accuracies for each client\n",
    "        for j in range(n_clients):\n",
    "            acc = client_global_accuracies[j] if client_global_accuracies[j] is not None else np.nan\n",
    "            column_name = f\"Client {j + 1} Accuracy\"\n",
    "            if j in corrupt_client_indices:\n",
    "                column_name += \" (corrupted client)\"\n",
    "            row[column_name] = acc\n",
    "\n",
    "        results.append(row)\n",
    "\n",
    "    df_results = pd.DataFrame(results)\n",
    "\n",
    "    print(f\"Corrupted client indices: {np.array(corrupt_client_indices) + 1}\")\n",
    "\n",
    "    # Save results to CSV\n",
    "    save_results_to_csv(df_results, n_corrupt_clients)\n",
    "\n",
    "    return df_results, corrupt_client_indices, client_local_accuracies, client_global_accuracies\n"
   ]
  },
  {
   "cell_type": "markdown",
   "metadata": {},
   "source": [
    "#### Run with different number of corrpted clients"
   ]
  },
  {
   "cell_type": "markdown",
   "metadata": {},
   "source": [
    "### One Client"
   ]
  },
  {
   "cell_type": "code",
   "execution_count": 15,
   "metadata": {},
   "outputs": [
    {
     "name": "stdout",
     "output_type": "stream",
     "text": [
      "Corrupted client indices: [9]\n",
      "Results saved to results_with_1_corrupted_clients.csv\n"
     ]
    }
   ],
   "source": [
    "# Call the function\n",
    "df_results, corrupt_client_indices , client_local_accuracies , client_global_accuracies = run_federated_learning(\n",
    "    partitions=partitions,\n",
    "    n_clients=n_clients,\n",
    "    n_corrupt_clients=1,  \n",
    "    random_seed=42,\n",
    "    shuffle=True,\n",
    "    max_iter=10\n",
    ")"
   ]
  },
  {
   "cell_type": "code",
   "execution_count": 16,
   "metadata": {},
   "outputs": [
    {
     "data": {
      "text/html": [
       "<div>\n",
       "<style scoped>\n",
       "    .dataframe tbody tr th:only-of-type {\n",
       "        vertical-align: middle;\n",
       "    }\n",
       "\n",
       "    .dataframe tbody tr th {\n",
       "        vertical-align: top;\n",
       "    }\n",
       "\n",
       "    .dataframe thead th {\n",
       "        text-align: right;\n",
       "    }\n",
       "</style>\n",
       "<table border=\"1\" class=\"dataframe\">\n",
       "  <thead>\n",
       "    <tr style=\"text-align: right;\">\n",
       "      <th></th>\n",
       "      <th>Combination</th>\n",
       "      <th>Clients</th>\n",
       "      <th>Global Accuracy</th>\n",
       "      <th>Client 1 Accuracy</th>\n",
       "      <th>Client 2 Accuracy</th>\n",
       "      <th>Client 3 Accuracy</th>\n",
       "      <th>Client 4 Accuracy</th>\n",
       "      <th>Client 5 Accuracy</th>\n",
       "      <th>Client 6 Accuracy</th>\n",
       "      <th>Client 7 Accuracy</th>\n",
       "      <th>Client 8 Accuracy</th>\n",
       "      <th>Client 9 Accuracy (corrupted client)</th>\n",
       "      <th>Client 10 Accuracy</th>\n",
       "    </tr>\n",
       "  </thead>\n",
       "  <tbody>\n",
       "    <tr>\n",
       "      <th>676</th>\n",
       "      <td>1010100101</td>\n",
       "      <td>[1, 3, 6, 8, 10]</td>\n",
       "      <td>0.935939</td>\n",
       "      <td>0.903366</td>\n",
       "      <td>0.893594</td>\n",
       "      <td>0.892508</td>\n",
       "      <td>0.890337</td>\n",
       "      <td>0.909881</td>\n",
       "      <td>0.916395</td>\n",
       "      <td>0.900109</td>\n",
       "      <td>0.908795</td>\n",
       "      <td>0.669924</td>\n",
       "      <td>0.917481</td>\n",
       "    </tr>\n",
       "    <tr>\n",
       "      <th>680</th>\n",
       "      <td>1010101001</td>\n",
       "      <td>[1, 4, 6, 8, 10]</td>\n",
       "      <td>0.934853</td>\n",
       "      <td>0.903366</td>\n",
       "      <td>0.893594</td>\n",
       "      <td>0.892508</td>\n",
       "      <td>0.890337</td>\n",
       "      <td>0.909881</td>\n",
       "      <td>0.916395</td>\n",
       "      <td>0.900109</td>\n",
       "      <td>0.908795</td>\n",
       "      <td>0.669924</td>\n",
       "      <td>0.917481</td>\n",
       "    </tr>\n",
       "    <tr>\n",
       "      <th>565</th>\n",
       "      <td>1000110110</td>\n",
       "      <td>[2, 3, 5, 6, 10]</td>\n",
       "      <td>0.934853</td>\n",
       "      <td>0.903366</td>\n",
       "      <td>0.893594</td>\n",
       "      <td>0.892508</td>\n",
       "      <td>0.890337</td>\n",
       "      <td>0.909881</td>\n",
       "      <td>0.916395</td>\n",
       "      <td>0.900109</td>\n",
       "      <td>0.908795</td>\n",
       "      <td>0.669924</td>\n",
       "      <td>0.917481</td>\n",
       "    </tr>\n",
       "    <tr>\n",
       "      <th>550</th>\n",
       "      <td>1000100111</td>\n",
       "      <td>[1, 2, 3, 6, 10]</td>\n",
       "      <td>0.933768</td>\n",
       "      <td>0.903366</td>\n",
       "      <td>0.893594</td>\n",
       "      <td>0.892508</td>\n",
       "      <td>0.890337</td>\n",
       "      <td>0.909881</td>\n",
       "      <td>0.916395</td>\n",
       "      <td>0.900109</td>\n",
       "      <td>0.908795</td>\n",
       "      <td>0.669924</td>\n",
       "      <td>0.917481</td>\n",
       "    </tr>\n",
       "    <tr>\n",
       "      <th>688</th>\n",
       "      <td>1010110001</td>\n",
       "      <td>[1, 5, 6, 8, 10]</td>\n",
       "      <td>0.933768</td>\n",
       "      <td>0.903366</td>\n",
       "      <td>0.893594</td>\n",
       "      <td>0.892508</td>\n",
       "      <td>0.890337</td>\n",
       "      <td>0.909881</td>\n",
       "      <td>0.916395</td>\n",
       "      <td>0.900109</td>\n",
       "      <td>0.908795</td>\n",
       "      <td>0.669924</td>\n",
       "      <td>0.917481</td>\n",
       "    </tr>\n",
       "  </tbody>\n",
       "</table>\n",
       "</div>"
      ],
      "text/plain": [
       "    Combination           Clients  Global Accuracy  Client 1 Accuracy  \\\n",
       "676  1010100101  [1, 3, 6, 8, 10]         0.935939           0.903366   \n",
       "680  1010101001  [1, 4, 6, 8, 10]         0.934853           0.903366   \n",
       "565  1000110110  [2, 3, 5, 6, 10]         0.934853           0.903366   \n",
       "550  1000100111  [1, 2, 3, 6, 10]         0.933768           0.903366   \n",
       "688  1010110001  [1, 5, 6, 8, 10]         0.933768           0.903366   \n",
       "\n",
       "     Client 2 Accuracy  Client 3 Accuracy  Client 4 Accuracy  \\\n",
       "676           0.893594           0.892508           0.890337   \n",
       "680           0.893594           0.892508           0.890337   \n",
       "565           0.893594           0.892508           0.890337   \n",
       "550           0.893594           0.892508           0.890337   \n",
       "688           0.893594           0.892508           0.890337   \n",
       "\n",
       "     Client 5 Accuracy  Client 6 Accuracy  Client 7 Accuracy  \\\n",
       "676           0.909881           0.916395           0.900109   \n",
       "680           0.909881           0.916395           0.900109   \n",
       "565           0.909881           0.916395           0.900109   \n",
       "550           0.909881           0.916395           0.900109   \n",
       "688           0.909881           0.916395           0.900109   \n",
       "\n",
       "     Client 8 Accuracy  Client 9 Accuracy (corrupted client)  \\\n",
       "676           0.908795                              0.669924   \n",
       "680           0.908795                              0.669924   \n",
       "565           0.908795                              0.669924   \n",
       "550           0.908795                              0.669924   \n",
       "688           0.908795                              0.669924   \n",
       "\n",
       "     Client 10 Accuracy  \n",
       "676            0.917481  \n",
       "680            0.917481  \n",
       "565            0.917481  \n",
       "550            0.917481  \n",
       "688            0.917481  "
      ]
     },
     "execution_count": 16,
     "metadata": {},
     "output_type": "execute_result"
    }
   ],
   "source": [
    "df_top_results = df_results.sort_values(by='Global Accuracy', ascending=False).head(5)\n",
    "df_top_results"
   ]
  },
  {
   "cell_type": "code",
   "execution_count": 17,
   "metadata": {},
   "outputs": [],
   "source": [
    "from Functions import find_best_worst_clients, calculate_global_accuracy, find_best_global_accuracy_per_client\n",
    "from Functions import find_worst_global_accuracy_per_client, calculate_client_contributions, visualize_client_contributions , compute_and_visualize_shapley_values"
   ]
  },
  {
   "cell_type": "code",
   "execution_count": 18,
   "metadata": {},
   "outputs": [
    {
     "name": "stdout",
     "output_type": "stream",
     "text": [
      "Best Client: 3, Worst Client: 9\n",
      "Statistics of Global Accuracy with Client 3:\n",
      "  Mean: 0.9205644340390879\n",
      "  Std Dev: 0.007805277719963687\n",
      "  Min: 0.8838219326818675\n",
      "  Max: 0.9359391965255157\n",
      "\n",
      "Statistics of Global Accuracy without Client 3:\n",
      "  Mean: 0.9192977088207109\n",
      "  Std Dev: 0.014095297195401231\n",
      "  Min: 0.6699239956568946\n",
      "  Max: 0.9348534201954397\n",
      "Statistics of Global Accuracy with Client 9:\n",
      "  Mean: 0.9171692623507057\n",
      "  Std Dev: 0.014031963273077819\n",
      "  Min: 0.6699239956568946\n",
      "  Max: 0.9337676438653637\n",
      "\n",
      "Statistics of Global Accuracy without Client 9:\n",
      "  Mean: 0.9226995246806946\n",
      "  Std Dev: 0.006921340052456156\n",
      "  Min: 0.8903365906623235\n",
      "  Max: 0.9359391965255157\n"
     ]
    }
   ],
   "source": [
    "best_client, worst_client = find_best_worst_clients(client_local_accuracies)\n",
    "mean_with_best, mean_without_best = calculate_global_accuracy(df_results, best_client)\n",
    "mean_with_worst, mean_without_worst = calculate_global_accuracy(df_results, worst_client)"
   ]
  },
  {
   "cell_type": "code",
   "execution_count": 19,
   "metadata": {},
   "outputs": [
    {
     "name": "stdout",
     "output_type": "stream",
     "text": [
      "Best Global Accuracy per Client:\n",
      "    Client  Best Global Accuracy           Best Combination\n",
      "0       1              0.935939           [1, 3, 6, 8, 10]\n",
      "1       2              0.934853           [2, 3, 5, 6, 10]\n",
      "2       3              0.935939           [1, 3, 6, 8, 10]\n",
      "3       4              0.934853           [1, 4, 6, 8, 10]\n",
      "4       5              0.934853           [2, 3, 5, 6, 10]\n",
      "5       6              0.935939           [1, 3, 6, 8, 10]\n",
      "6       7              0.933768  [1, 3, 5, 6, 7, 8, 9, 10]\n",
      "7       8              0.935939           [1, 3, 6, 8, 10]\n",
      "8       9              0.933768           [1, 6, 8, 9, 10]\n",
      "9      10              0.935939           [1, 3, 6, 8, 10]\n",
      "Worst Global Accuracy per Client:\n",
      "    Client  Worst Global Accuracy Worst Combination\n",
      "0       1               0.881650            [1, 9]\n",
      "1       2               0.872964            [2, 9]\n",
      "2       3               0.883822            [3, 9]\n",
      "3       4               0.875136            [4, 9]\n",
      "4       5               0.893594            [5, 9]\n",
      "5       6               0.894680            [6, 9]\n",
      "6       7               0.881650            [7, 9]\n",
      "7       8               0.890337            [8, 9]\n",
      "8       9               0.669924               [9]\n",
      "9      10               0.897937     [4, 7, 9, 10]\n"
     ]
    }
   ],
   "source": [
    "df_best_global_per_client = find_best_global_accuracy_per_client(df_results)\n",
    "df_worst_global_per_client = find_worst_global_accuracy_per_client(df_results)"
   ]
  },
  {
   "cell_type": "code",
   "execution_count": 21,
   "metadata": {},
   "outputs": [
    {
     "name": "stdout",
     "output_type": "stream",
     "text": [
      "Client Contributions:\n",
      "    Client  Frequency\n",
      "2       6         10\n",
      "4      10         10\n",
      "0       1          8\n",
      "1       3          8\n",
      "3       8          8\n",
      "6       5          3\n",
      "5       2          2\n",
      "9       9          2\n",
      "7       4          1\n",
      "8       7          1\n"
     ]
    },
    {
     "data": {
      "image/png": "[encoded data removed]",
      "text/plain": [
       "<Figure size 640x480 with 1 Axes>"
      ]
     },
     "metadata": {},
     "output_type": "display_data"
    },
    {
     "name": "stdout",
     "output_type": "stream",
     "text": [
      "Client Contributions:\n",
      "    Client  Frequency\n",
      "1       9         10\n",
      "4       4          2\n",
      "7       7          2\n",
      "0       1          1\n",
      "2       2          1\n",
      "3       3          1\n",
      "5       5          1\n",
      "6       6          1\n",
      "8       8          1\n",
      "9      10          1\n"
     ]
    },
    {
     "data": {
      "image/png": "[encoded data removed]",
      "text/plain": [
       "<Figure size 640x480 with 1 Axes>"
      ]
     },
     "metadata": {},
     "output_type": "display_data"
    }
   ],
   "source": [
    "visualize_client_contributions(calculate_client_contributions(df_results, best=True), \"Client Contribution to Best Combinations for each clients\")\n",
    "visualize_client_contributions(calculate_client_contributions(df_results, best=False), \"Client Contribution to worst Combinations for each clients\")"
   ]
  },
  {
   "cell_type": "code",
   "execution_count": 22,
   "metadata": {},
   "outputs": [],
   "source": [
    "from Nash import find_nash_equilibria_v2"
   ]
  },
  {
   "cell_type": "code",
   "execution_count": 24,
   "metadata": {},
   "outputs": [
    {
     "data": {
      "text/html": [
       "<div>\n",
       "<style scoped>\n",
       "    .dataframe tbody tr th:only-of-type {\n",
       "        vertical-align: middle;\n",
       "    }\n",
       "\n",
       "    .dataframe tbody tr th {\n",
       "        vertical-align: top;\n",
       "    }\n",
       "\n",
       "    .dataframe thead th {\n",
       "        text-align: right;\n",
       "    }\n",
       "</style>\n",
       "<table border=\"1\" class=\"dataframe\">\n",
       "  <thead>\n",
       "    <tr style=\"text-align: right;\">\n",
       "      <th></th>\n",
       "      <th>Combination</th>\n",
       "      <th>Clients</th>\n",
       "      <th>Global Accuracy</th>\n",
       "    </tr>\n",
       "  </thead>\n",
       "  <tbody>\n",
       "    <tr>\n",
       "      <th>0</th>\n",
       "      <td>0100000000</td>\n",
       "      <td>[9]</td>\n",
       "      <td>0.669924</td>\n",
       "    </tr>\n",
       "    <tr>\n",
       "      <th>1</th>\n",
       "      <td>1111111111</td>\n",
       "      <td>[1, 2, 3, 4, 5, 6, 7, 8, 9, 10]</td>\n",
       "      <td>0.926167</td>\n",
       "    </tr>\n",
       "  </tbody>\n",
       "</table>\n",
       "</div>"
      ],
      "text/plain": [
       "  Combination                          Clients  Global Accuracy\n",
       "0  0100000000                              [9]         0.669924\n",
       "1  1111111111  [1, 2, 3, 4, 5, 6, 7, 8, 9, 10]         0.926167"
      ]
     },
     "execution_count": 24,
     "metadata": {},
     "output_type": "execute_result"
    }
   ],
   "source": [
    "nash_df = find_nash_equilibria_v2(df_results)\n",
    "nash_df"
   ]
  },
  {
   "cell_type": "markdown",
   "metadata": {},
   "source": [
    "### Three Clients"
   ]
  },
  {
   "cell_type": "code",
   "execution_count": 25,
   "metadata": {},
   "outputs": [
    {
     "name": "stdout",
     "output_type": "stream",
     "text": [
      "Corrupted client indices: [5 9 3]\n",
      "Results saved to results_with_3_corrupted_clients.csv\n"
     ]
    }
   ],
   "source": [
    "# Call the function\n",
    "df_results, corrupt_client_indices , client_local_accuracies , client_global_accuracies = run_federated_learning(\n",
    "    partitions=partitions,\n",
    "    n_clients=n_clients,\n",
    "    n_corrupt_clients=3,  \n",
    "    random_seed=42,\n",
    "    shuffle=True,\n",
    "    max_iter=10\n",
    ")"
   ]
  },
  {
   "cell_type": "code",
   "execution_count": null,
   "metadata": {},
   "outputs": [],
   "source": [
    "df_top_results = df_results.sort_values(by='Global Accuracy', ascending=False).head(5)\n",
    "df_top_results"
   ]
  },
  {
   "cell_type": "code",
   "execution_count": 26,
   "metadata": {},
   "outputs": [
    {
     "data": {
      "text/html": [
       "<div>\n",
       "<style scoped>\n",
       "    .dataframe tbody tr th:only-of-type {\n",
       "        vertical-align: middle;\n",
       "    }\n",
       "\n",
       "    .dataframe tbody tr th {\n",
       "        vertical-align: top;\n",
       "    }\n",
       "\n",
       "    .dataframe thead th {\n",
       "        text-align: right;\n",
       "    }\n",
       "</style>\n",
       "<table border=\"1\" class=\"dataframe\">\n",
       "  <thead>\n",
       "    <tr style=\"text-align: right;\">\n",
       "      <th></th>\n",
       "      <th>Combination</th>\n",
       "      <th>Clients</th>\n",
       "      <th>Global Accuracy</th>\n",
       "    </tr>\n",
       "  </thead>\n",
       "  <tbody>\n",
       "    <tr>\n",
       "      <th>0</th>\n",
       "      <td>0100010000</td>\n",
       "      <td>[5, 9]</td>\n",
       "      <td>0.752443</td>\n",
       "    </tr>\n",
       "    <tr>\n",
       "      <th>1</th>\n",
       "      <td>1111111111</td>\n",
       "      <td>[1, 2, 3, 4, 5, 6, 7, 8, 9, 10]</td>\n",
       "      <td>0.922910</td>\n",
       "    </tr>\n",
       "  </tbody>\n",
       "</table>\n",
       "</div>"
      ],
      "text/plain": [
       "  Combination                          Clients  Global Accuracy\n",
       "0  0100010000                           [5, 9]         0.752443\n",
       "1  1111111111  [1, 2, 3, 4, 5, 6, 7, 8, 9, 10]         0.922910"
      ]
     },
     "execution_count": 26,
     "metadata": {},
     "output_type": "execute_result"
    }
   ],
   "source": [
    "nash_df = find_nash_equilibria_v2(df_results)\n",
    "nash_df"
   ]
  },
  {
   "cell_type": "markdown",
   "metadata": {},
   "source": [
    "### Four Clients"
   ]
  },
  {
   "cell_type": "code",
   "execution_count": 86,
   "metadata": {},
   "outputs": [
    {
     "name": "stdout",
     "output_type": "stream",
     "text": [
      "Corrupted client indices: [10  5  4  8]\n",
      "Results saved to results_with_4_corrupted_clients.csv\n"
     ]
    }
   ],
   "source": [
    "# Call the function\n",
    "df_results, corrupt_client_indices , client_local_accuracies , client_global_accuracies = run_federated_learning(\n",
    "    partitions=partitions,\n",
    "    n_clients=n_clients,\n",
    "    n_corrupt_clients=4,  \n",
    "    random_seed=42,\n",
    "    shuffle=True,\n",
    "    max_iter=10\n",
    ")"
   ]
  },
  {
   "cell_type": "code",
   "execution_count": null,
   "metadata": {},
   "outputs": [],
   "source": [
    "df_top_results = df_results.sort_values(by='Global Accuracy', ascending=False).head(5)\n",
    "df_top_results"
   ]
  },
  {
   "cell_type": "code",
   "execution_count": 87,
   "metadata": {},
   "outputs": [
    {
     "data": {
      "text/html": [
       "<div>\n",
       "<style scoped>\n",
       "    .dataframe tbody tr th:only-of-type {\n",
       "        vertical-align: middle;\n",
       "    }\n",
       "\n",
       "    .dataframe tbody tr th {\n",
       "        vertical-align: top;\n",
       "    }\n",
       "\n",
       "    .dataframe thead th {\n",
       "        text-align: right;\n",
       "    }\n",
       "</style>\n",
       "<table border=\"1\" class=\"dataframe\">\n",
       "  <thead>\n",
       "    <tr style=\"text-align: right;\">\n",
       "      <th></th>\n",
       "      <th>Combination</th>\n",
       "      <th>Clients</th>\n",
       "      <th>Global Accuracy</th>\n",
       "    </tr>\n",
       "  </thead>\n",
       "  <tbody>\n",
       "    <tr>\n",
       "      <th>0</th>\n",
       "      <td>1010011000</td>\n",
       "      <td>[4, 5, 8, 10]</td>\n",
       "      <td>0.741585</td>\n",
       "    </tr>\n",
       "    <tr>\n",
       "      <th>1</th>\n",
       "      <td>1110011110</td>\n",
       "      <td>[2, 3, 4, 5, 8, 9, 10]</td>\n",
       "      <td>0.900109</td>\n",
       "    </tr>\n",
       "    <tr>\n",
       "      <th>2</th>\n",
       "      <td>1111011111</td>\n",
       "      <td>[1, 2, 3, 4, 5, 7, 8, 9, 10]</td>\n",
       "      <td>0.908795</td>\n",
       "    </tr>\n",
       "  </tbody>\n",
       "</table>\n",
       "</div>"
      ],
      "text/plain": [
       "  Combination                       Clients  Global Accuracy\n",
       "0  1010011000                 [4, 5, 8, 10]         0.741585\n",
       "1  1110011110        [2, 3, 4, 5, 8, 9, 10]         0.900109\n",
       "2  1111011111  [1, 2, 3, 4, 5, 7, 8, 9, 10]         0.908795"
      ]
     },
     "execution_count": 87,
     "metadata": {},
     "output_type": "execute_result"
    }
   ],
   "source": [
    "nash_df = find_nash_equilibria_v2(df_results)\n",
    "nash_df"
   ]
  },
  {
   "cell_type": "markdown",
   "metadata": {},
   "source": [
    "### Five Clients"
   ]
  },
  {
   "cell_type": "code",
   "execution_count": 27,
   "metadata": {},
   "outputs": [
    {
     "name": "stdout",
     "output_type": "stream",
     "text": [
      "Corrupted client indices: [7 6 3 4 5]\n",
      "Results saved to results_with_5_corrupted_clients.csv\n"
     ]
    }
   ],
   "source": [
    "# Call the function\n",
    "df_results, corrupt_client_indices , client_local_accuracies , client_global_accuracies = run_federated_learning(\n",
    "    partitions=partitions,\n",
    "    n_clients=n_clients,\n",
    "    n_corrupt_clients=5,  \n",
    "    random_seed=42,\n",
    "    shuffle=True,\n",
    "    max_iter=10\n",
    ")"
   ]
  },
  {
   "cell_type": "code",
   "execution_count": null,
   "metadata": {},
   "outputs": [],
   "source": [
    "df_top_results = df_results.sort_values(by='Global Accuracy', ascending=False).head(5)\n",
    "df_top_results"
   ]
  },
  {
   "cell_type": "code",
   "execution_count": 28,
   "metadata": {},
   "outputs": [
    {
     "name": "stdout",
     "output_type": "stream",
     "text": [
      "Best Client: 8, Worst Client: 7\n",
      "Statistics of Global Accuracy with Client 8:\n",
      "  Mean: 0.9056434921281216\n",
      "  Std Dev: 0.013221880512475014\n",
      "  Min: 0.8338762214983714\n",
      "  Max: 0.9294245385450597\n",
      "\n",
      "Statistics of Global Accuracy without Client 8:\n",
      "  Mean: 0.8835159604870908\n",
      "  Std Dev: 0.047596237482862534\n",
      "  Min: 0.6286644951140065\n",
      "  Max: 0.9261672095548317\n",
      "Statistics of Global Accuracy with Client 7:\n",
      "  Mean: 0.8896261706026058\n",
      "  Std Dev: 0.039493214081787284\n",
      "  Min: 0.6286644951140065\n",
      "  Max: 0.9261672095548317\n",
      "\n",
      "Statistics of Global Accuracy without Client 7:\n",
      "  Mean: 0.8995646270645156\n",
      "  Std Dev: 0.0327687728669729\n",
      "  Min: 0.6992399565689468\n",
      "  Max: 0.9294245385450597\n"
     ]
    }
   ],
   "source": [
    "best_client, worst_client = find_best_worst_clients(client_local_accuracies)\n",
    "mean_with_best, mean_without_best = calculate_global_accuracy(df_results, best_client)\n",
    "mean_with_worst, mean_without_worst = calculate_global_accuracy(df_results, worst_client)"
   ]
  },
  {
   "cell_type": "code",
   "execution_count": 29,
   "metadata": {},
   "outputs": [
    {
     "name": "stdout",
     "output_type": "stream",
     "text": [
      "Best Global Accuracy per Client:\n",
      "    Client  Best Global Accuracy           Best Combination\n",
      "0       1              0.929425           [1, 2, 6, 8, 10]\n",
      "1       2              0.929425           [1, 2, 6, 8, 10]\n",
      "2       3              0.928339           [1, 2, 3, 8, 10]\n",
      "3       4              0.922910        [1, 2, 3, 4, 8, 10]\n",
      "4       5              0.926167                 [1, 5, 10]\n",
      "5       6              0.929425           [1, 2, 6, 8, 10]\n",
      "6       7              0.926167        [1, 2, 3, 7, 8, 10]\n",
      "7       8              0.929425           [1, 2, 6, 8, 10]\n",
      "8       9              0.925081  [1, 2, 3, 5, 6, 8, 9, 10]\n",
      "9      10              0.929425           [1, 2, 6, 8, 10]\n",
      "Worst Global Accuracy per Client:\n",
      "    Client  Worst Global Accuracy   Worst Combination\n",
      "0       1               0.844734  [1, 3, 4, 5, 6, 7]\n",
      "1       2               0.820847  [2, 3, 4, 5, 6, 7]\n",
      "2       3               0.659066              [3, 7]\n",
      "3       4               0.672096              [4, 7]\n",
      "4       5               0.697068              [5, 7]\n",
      "5       6               0.703583        [3, 4, 6, 7]\n",
      "6       7               0.628664                 [7]\n",
      "7       8               0.833876     [3, 4, 5, 7, 8]\n",
      "8       9               0.831705     [3, 4, 5, 7, 9]\n",
      "9      10               0.864278    [3, 4, 5, 7, 10]\n"
     ]
    }
   ],
   "source": [
    "df_best_global_per_client = find_best_global_accuracy_per_client(df_results)\n",
    "df_worst_global_per_client = find_worst_global_accuracy_per_client(df_results)"
   ]
  },
  {
   "cell_type": "code",
   "execution_count": 31,
   "metadata": {},
   "outputs": [
    {
     "name": "stdout",
     "output_type": "stream",
     "text": [
      "Client Contributions:\n",
      "    Client  Frequency\n",
      "0       1         10\n",
      "4      10         10\n",
      "1       2          9\n",
      "3       8          9\n",
      "2       6          6\n",
      "5       3          4\n",
      "7       5          2\n",
      "6       4          1\n",
      "8       7          1\n",
      "9       9          1\n"
     ]
    },
    {
     "data": {
      "image/png": "[encoded data removed]",
      "text/plain": [
       "<Figure size 640x480 with 1 Axes>"
      ]
     },
     "metadata": {},
     "output_type": "display_data"
    },
    {
     "name": "stdout",
     "output_type": "stream",
     "text": [
      "Client Contributions:\n",
      "    Client  Frequency\n",
      "5       7         10\n",
      "1       3          7\n",
      "2       4          7\n",
      "3       5          6\n",
      "4       6          3\n",
      "0       1          1\n",
      "6       2          1\n",
      "7       8          1\n",
      "8       9          1\n",
      "9      10          1\n"
     ]
    },
    {
     "data": {
      "image/png": "[encoded data removed]",
      "text/plain": [
       "<Figure size 640x480 with 1 Axes>"
      ]
     },
     "metadata": {},
     "output_type": "display_data"
    }
   ],
   "source": [
    "visualize_client_contributions(calculate_client_contributions(df_results, best=True), \"Client Contribution to Best Combinations for each clients\")\n",
    "visualize_client_contributions(calculate_client_contributions(df_results, best=False), \"Client Contribution to worst Combinations for each clients\")"
   ]
  },
  {
   "cell_type": "code",
   "execution_count": 32,
   "metadata": {},
   "outputs": [
    {
     "data": {
      "text/html": [
       "<div>\n",
       "<style scoped>\n",
       "    .dataframe tbody tr th:only-of-type {\n",
       "        vertical-align: middle;\n",
       "    }\n",
       "\n",
       "    .dataframe tbody tr th {\n",
       "        vertical-align: top;\n",
       "    }\n",
       "\n",
       "    .dataframe thead th {\n",
       "        text-align: right;\n",
       "    }\n",
       "</style>\n",
       "<table border=\"1\" class=\"dataframe\">\n",
       "  <thead>\n",
       "    <tr style=\"text-align: right;\">\n",
       "      <th></th>\n",
       "      <th>Combination</th>\n",
       "      <th>Clients</th>\n",
       "      <th>Global Accuracy</th>\n",
       "    </tr>\n",
       "  </thead>\n",
       "  <tbody>\n",
       "    <tr>\n",
       "      <th>0</th>\n",
       "      <td>0001000000</td>\n",
       "      <td>[7]</td>\n",
       "      <td>0.628664</td>\n",
       "    </tr>\n",
       "    <tr>\n",
       "      <th>1</th>\n",
       "      <td>0001011100</td>\n",
       "      <td>[3, 4, 5, 7]</td>\n",
       "      <td>0.711183</td>\n",
       "    </tr>\n",
       "  </tbody>\n",
       "</table>\n",
       "</div>"
      ],
      "text/plain": [
       "  Combination       Clients  Global Accuracy\n",
       "0  0001000000           [7]         0.628664\n",
       "1  0001011100  [3, 4, 5, 7]         0.711183"
      ]
     },
     "execution_count": 32,
     "metadata": {},
     "output_type": "execute_result"
    }
   ],
   "source": [
    "nash_df = find_nash_equilibria_v2(df_results)\n",
    "nash_df"
   ]
  },
  {
   "cell_type": "markdown",
   "metadata": {},
   "source": [
    "### Six Clients"
   ]
  },
  {
   "cell_type": "code",
   "execution_count": 33,
   "metadata": {},
   "outputs": [
    {
     "name": "stdout",
     "output_type": "stream",
     "text": [
      "Corrupted client indices: [5 6 4 3 8 7]\n",
      "Results saved to results_with_6_corrupted_clients.csv\n"
     ]
    }
   ],
   "source": [
    "# Call the function\n",
    "df_results, corrupt_client_indices , client_local_accuracies , client_global_accuracies = run_federated_learning(\n",
    "    partitions=partitions,\n",
    "    n_clients=n_clients,\n",
    "    n_corrupt_clients=6,  \n",
    "    random_seed=42,\n",
    "    shuffle=True,\n",
    "    max_iter=10\n",
    ")"
   ]
  },
  {
   "cell_type": "code",
   "execution_count": null,
   "metadata": {},
   "outputs": [],
   "source": [
    "df_top_results = df_results.sort_values(by='Global Accuracy', ascending=False).head(5)\n",
    "df_top_results"
   ]
  },
  {
   "cell_type": "code",
   "execution_count": 34,
   "metadata": {},
   "outputs": [
    {
     "data": {
      "text/html": [
       "<div>\n",
       "<style scoped>\n",
       "    .dataframe tbody tr th:only-of-type {\n",
       "        vertical-align: middle;\n",
       "    }\n",
       "\n",
       "    .dataframe tbody tr th {\n",
       "        vertical-align: top;\n",
       "    }\n",
       "\n",
       "    .dataframe thead th {\n",
       "        text-align: right;\n",
       "    }\n",
       "</style>\n",
       "<table border=\"1\" class=\"dataframe\">\n",
       "  <thead>\n",
       "    <tr style=\"text-align: right;\">\n",
       "      <th></th>\n",
       "      <th>Combination</th>\n",
       "      <th>Clients</th>\n",
       "      <th>Global Accuracy</th>\n",
       "    </tr>\n",
       "  </thead>\n",
       "  <tbody>\n",
       "    <tr>\n",
       "      <th>0</th>\n",
       "      <td>0001000000</td>\n",
       "      <td>[7]</td>\n",
       "      <td>0.685125</td>\n",
       "    </tr>\n",
       "    <tr>\n",
       "      <th>1</th>\n",
       "      <td>0001011000</td>\n",
       "      <td>[4, 5, 7]</td>\n",
       "      <td>0.731813</td>\n",
       "    </tr>\n",
       "  </tbody>\n",
       "</table>\n",
       "</div>"
      ],
      "text/plain": [
       "  Combination    Clients  Global Accuracy\n",
       "0  0001000000        [7]         0.685125\n",
       "1  0001011000  [4, 5, 7]         0.731813"
      ]
     },
     "execution_count": 34,
     "metadata": {},
     "output_type": "execute_result"
    }
   ],
   "source": [
    "nash_df = find_nash_equilibria_v2(df_results)\n",
    "nash_df"
   ]
  },
  {
   "cell_type": "code",
   "execution_count": 35,
   "metadata": {},
   "outputs": [
    {
     "name": "stdout",
     "output_type": "stream",
     "text": [
      "Best Client: 10, Worst Client: 7\n",
      "Statistics of Global Accuracy with Client 10:\n",
      "  Mean: 0.9026703311617806\n",
      "  Std Dev: 0.010633389373301029\n",
      "  Min: 0.8664495114006515\n",
      "  Max: 0.9261672095548317\n",
      "\n",
      "Statistics of Global Accuracy without Client 10:\n",
      "  Mean: 0.8667703572437855\n",
      "  Std Dev: 0.04231672753478505\n",
      "  Min: 0.6851248642779587\n",
      "  Max: 0.9142236699239956\n",
      "Statistics of Global Accuracy with Client 7:\n",
      "  Mean: 0.8794448968512487\n",
      "  Std Dev: 0.037330024545953806\n",
      "  Min: 0.6851248642779587\n",
      "  Max: 0.9196525515743756\n",
      "\n",
      "Statistics of Global Accuracy without Client 7:\n",
      "  Mean: 0.8900412425020876\n",
      "  Std Dev: 0.03313193883371188\n",
      "  Min: 0.7198697068403909\n",
      "  Max: 0.9261672095548317\n"
     ]
    }
   ],
   "source": [
    "best_client, worst_client = find_best_worst_clients(client_local_accuracies)\n",
    "mean_with_best, mean_without_best = calculate_global_accuracy(df_results, best_client)\n",
    "mean_with_worst, mean_without_worst = calculate_global_accuracy(df_results, worst_client)"
   ]
  },
  {
   "cell_type": "code",
   "execution_count": 37,
   "metadata": {},
   "outputs": [
    {
     "name": "stdout",
     "output_type": "stream",
     "text": [
      "      Client  Local Accuracy  Normalized Shapley Value\n",
      "9  Client 10        0.917481                  0.142236\n",
      "0   Client 1        0.903366                  0.134162\n",
      "1   Client 2        0.893594                  0.129080\n",
      "8   Client 9        0.883822                  0.116562\n",
      "2   Client 3        0.800217                  0.091634\n",
      "7   Client 8        0.783931                  0.087645\n",
      "5   Client 6        0.755700                  0.082260\n",
      "3   Client 4        0.725299                  0.076852\n",
      "4   Client 5        0.719870                  0.074332\n",
      "6   Client 7        0.685125                  0.065238\n"
     ]
    },
    {
     "ename": "NameError",
     "evalue": "name 'sns' is not defined",
     "output_type": "error",
     "traceback": [
      "\u001b[0;31m---------------------------------------------------------------------------\u001b[0m",
      "\u001b[0;31mNameError\u001b[0m                                 Traceback (most recent call last)",
      "Cell \u001b[0;32mIn[37], line 1\u001b[0m\n\u001b[0;32m----> 1\u001b[0m result \u001b[38;5;241m=\u001b[39m \u001b[43mcompute_and_visualize_shapley_values\u001b[49m\u001b[43m(\u001b[49m\n\u001b[1;32m      2\u001b[0m \u001b[43m    \u001b[49m\u001b[43mdf_results\u001b[49m\u001b[43m,\u001b[49m\n\u001b[1;32m      3\u001b[0m \u001b[43m    \u001b[49m\u001b[43mclient_global_accuracies\u001b[49m\u001b[43m,\u001b[49m\n\u001b[1;32m      4\u001b[0m \u001b[43m    \u001b[49m\u001b[43mn_clients\u001b[49m\u001b[38;5;241;43m=\u001b[39;49m\u001b[38;5;241;43m10\u001b[39;49m\n\u001b[1;32m      5\u001b[0m \u001b[43m)\u001b[49m\n",
      "File \u001b[0;32m~/Desktop/thesis/Spambase - git/Functions.py:281\u001b[0m, in \u001b[0;36mcompute_and_visualize_shapley_values\u001b[0;34m(df_results, client_local_accuracies, n_clients)\u001b[0m\n\u001b[1;32m    279\u001b[0m \u001b[38;5;66;03m# Visualization\u001b[39;00m\n\u001b[1;32m    280\u001b[0m plt\u001b[38;5;241m.\u001b[39mfigure(figsize\u001b[38;5;241m=\u001b[39m(\u001b[38;5;241m10\u001b[39m, \u001b[38;5;241m6\u001b[39m))\n\u001b[0;32m--> 281\u001b[0m colors \u001b[38;5;241m=\u001b[39m \u001b[43msns\u001b[49m\u001b[38;5;241m.\u001b[39mcolor_palette(\u001b[38;5;124m\"\u001b[39m\u001b[38;5;124mtab10\u001b[39m\u001b[38;5;124m\"\u001b[39m, n_colors\u001b[38;5;241m=\u001b[39m\u001b[38;5;28mlen\u001b[39m(local_vals))\n\u001b[1;32m    283\u001b[0m \u001b[38;5;28;01mfor\u001b[39;00m i, (local_val, shapley_val) \u001b[38;5;129;01min\u001b[39;00m \u001b[38;5;28menumerate\u001b[39m(\u001b[38;5;28mzip\u001b[39m(local_vals, normalized_shapley_values)):\n\u001b[1;32m    284\u001b[0m     plt\u001b[38;5;241m.\u001b[39mscatter(local_val, shapley_val, color\u001b[38;5;241m=\u001b[39mcolors[i], label\u001b[38;5;241m=\u001b[39m\u001b[38;5;124mf\u001b[39m\u001b[38;5;124m\"\u001b[39m\u001b[38;5;124mClient \u001b[39m\u001b[38;5;132;01m{\u001b[39;00mi\u001b[38;5;250m \u001b[39m\u001b[38;5;241m+\u001b[39m\u001b[38;5;250m \u001b[39m\u001b[38;5;241m1\u001b[39m\u001b[38;5;132;01m}\u001b[39;00m\u001b[38;5;124m\"\u001b[39m, s\u001b[38;5;241m=\u001b[39m\u001b[38;5;241m100\u001b[39m)\n",
      "\u001b[0;31mNameError\u001b[0m: name 'sns' is not defined"
     ]
    },
    {
     "data": {
      "text/plain": [
       "<Figure size 1000x600 with 0 Axes>"
      ]
     },
     "metadata": {},
     "output_type": "display_data"
    }
   ],
   "source": [
    "result = compute_and_visualize_shapley_values(\n",
    "    df_results,\n",
    "    client_global_accuracies,\n",
    "    n_clients=10\n",
    ")"
   ]
  },
  {
   "cell_type": "markdown",
   "metadata": {},
   "source": [
    "### Seven Clients"
   ]
  },
  {
   "cell_type": "code",
   "execution_count": 53,
   "metadata": {},
   "outputs": [
    {
     "name": "stdout",
     "output_type": "stream",
     "text": [
      "Corrupted client indices: [ 9  4  3 10  6  7  5]\n",
      "Results saved to results_with_7_corrupted_clients.csv\n"
     ]
    }
   ],
   "source": [
    "# Call the function\n",
    "df_results, corrupt_client_indices , client_local_accuracies , client_global_accuracies = run_federated_learning(\n",
    "    partitions=partitions,\n",
    "    n_clients=n_clients,\n",
    "    n_corrupt_clients=7,  \n",
    "    random_seed=42,\n",
    "    shuffle=True,\n",
    "    max_iter=10\n",
    ")"
   ]
  },
  {
   "cell_type": "code",
   "execution_count": null,
   "metadata": {},
   "outputs": [],
   "source": [
    "df_top_results = df_results.sort_values(by='Global Accuracy', ascending=False).head(5)\n",
    "df_top_results"
   ]
  },
  {
   "cell_type": "code",
   "execution_count": 54,
   "metadata": {},
   "outputs": [
    {
     "data": {
      "text/html": [
       "<div>\n",
       "<style scoped>\n",
       "    .dataframe tbody tr th:only-of-type {\n",
       "        vertical-align: middle;\n",
       "    }\n",
       "\n",
       "    .dataframe tbody tr th {\n",
       "        vertical-align: top;\n",
       "    }\n",
       "\n",
       "    .dataframe thead th {\n",
       "        text-align: right;\n",
       "    }\n",
       "</style>\n",
       "<table border=\"1\" class=\"dataframe\">\n",
       "  <thead>\n",
       "    <tr style=\"text-align: right;\">\n",
       "      <th></th>\n",
       "      <th>Combination</th>\n",
       "      <th>Clients</th>\n",
       "      <th>Global Accuracy</th>\n",
       "    </tr>\n",
       "  </thead>\n",
       "  <tbody>\n",
       "    <tr>\n",
       "      <th>0</th>\n",
       "      <td>1101111000</td>\n",
       "      <td>[4, 5, 6, 7, 9, 10]</td>\n",
       "      <td>0.780673</td>\n",
       "    </tr>\n",
       "  </tbody>\n",
       "</table>\n",
       "</div>"
      ],
      "text/plain": [
       "  Combination              Clients  Global Accuracy\n",
       "0  1101111000  [4, 5, 6, 7, 9, 10]         0.780673"
      ]
     },
     "execution_count": 54,
     "metadata": {},
     "output_type": "execute_result"
    }
   ],
   "source": [
    "nash_df = find_nash_equilibria_v2(df_results)\n",
    "nash_df"
   ]
  },
  {
   "cell_type": "markdown",
   "metadata": {},
   "source": [
    "### Nine Clients"
   ]
  },
  {
   "cell_type": "code",
   "execution_count": 71,
   "metadata": {},
   "outputs": [
    {
     "name": "stdout",
     "output_type": "stream",
     "text": [
      "Corrupted client indices: [ 3  5  9  8  2 10  4  7  6]\n",
      "Results saved to results_with_9_corrupted_clients.csv\n"
     ]
    }
   ],
   "source": [
    "# Call the function\n",
    "df_results, corrupt_client_indices , client_local_accuracies , client_global_accuracies = run_federated_learning(\n",
    "    partitions=partitions,\n",
    "    n_clients=n_clients,\n",
    "    n_corrupt_clients=9,  \n",
    "    random_seed=42,\n",
    "    shuffle=True,\n",
    "    max_iter=10\n",
    ")"
   ]
  },
  {
   "cell_type": "code",
   "execution_count": null,
   "metadata": {},
   "outputs": [],
   "source": [
    "df_top_results = df_results.sort_values(by='Global Accuracy', ascending=False).head(5)\n",
    "df_top_results"
   ]
  },
  {
   "cell_type": "code",
   "execution_count": null,
   "metadata": {},
   "outputs": [],
   "source": [
    "best_client, worst_client = find_best_worst_clients(client_local_accuracies)\n",
    "mean_with_best, mean_without_best = calculate_global_accuracy(df_results, best_client)\n",
    "mean_with_worst, mean_without_worst = calculate_global_accuracy(df_results, worst_client)\n",
    "df_best_global_per_client = find_best_global_accuracy_per_client(df_results)\n",
    "df_worst_global_per_client = find_worst_global_accuracy_per_client(df_results)\n",
    "visualize_client_contributions(best_contributions, \"Client Contribution to Best Combinations for each clients\")\n",
    "visualize_client_contributions(worst_contributions, \"Client Contribution to worst Combinations for each clients\")"
   ]
  },
  {
   "cell_type": "code",
   "execution_count": null,
   "metadata": {},
   "outputs": [],
   "source": []
  },
  {
   "cell_type": "code",
   "execution_count": null,
   "metadata": {},
   "outputs": [],
   "source": []
  },
  {
   "cell_type": "code",
   "execution_count": 72,
   "metadata": {},
   "outputs": [
    {
     "data": {
      "text/html": [
       "<div>\n",
       "<style scoped>\n",
       "    .dataframe tbody tr th:only-of-type {\n",
       "        vertical-align: middle;\n",
       "    }\n",
       "\n",
       "    .dataframe tbody tr th {\n",
       "        vertical-align: top;\n",
       "    }\n",
       "\n",
       "    .dataframe thead th {\n",
       "        text-align: right;\n",
       "    }\n",
       "</style>\n",
       "<table border=\"1\" class=\"dataframe\">\n",
       "  <thead>\n",
       "    <tr style=\"text-align: right;\">\n",
       "      <th></th>\n",
       "      <th>Combination</th>\n",
       "      <th>Clients</th>\n",
       "      <th>Global Accuracy</th>\n",
       "    </tr>\n",
       "  </thead>\n",
       "  <tbody>\n",
       "    <tr>\n",
       "      <th>0</th>\n",
       "      <td>0010010100</td>\n",
       "      <td>[3, 5, 8]</td>\n",
       "      <td>0.723127</td>\n",
       "    </tr>\n",
       "    <tr>\n",
       "      <th>1</th>\n",
       "      <td>0011111110</td>\n",
       "      <td>[2, 3, 4, 5, 6, 7, 8]</td>\n",
       "      <td>0.764387</td>\n",
       "    </tr>\n",
       "  </tbody>\n",
       "</table>\n",
       "</div>"
      ],
      "text/plain": [
       "  Combination                Clients  Global Accuracy\n",
       "0  0010010100              [3, 5, 8]         0.723127\n",
       "1  0011111110  [2, 3, 4, 5, 6, 7, 8]         0.764387"
      ]
     },
     "execution_count": 72,
     "metadata": {},
     "output_type": "execute_result"
    }
   ],
   "source": [
    "nash_df = find_nash_equilibria_v2(df_results)\n",
    "nash_df"
   ]
  }
 ],
 "metadata": {
  "kernelspec": {
   "display_name": "Python 3",
   "language": "python",
   "name": "python3"
  },
  "language_info": {
   "codemirror_mode": {
    "name": "ipython",
    "version": 3
   },
   "file_extension": ".py",
   "mimetype": "text/x-python",
   "name": "python",
   "nbconvert_exporter": "python",
   "pygments_lexer": "ipython3",
   "version": "3.9.6"
  }
 },
 "nbformat": 4,
 "nbformat_minor": 2
}
